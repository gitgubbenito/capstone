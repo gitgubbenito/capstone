{
  "nbformat": 4,
  "nbformat_minor": 0,
  "metadata": {
    "colab": {
      "provenance": [],
      "authorship_tag": "ABX9TyMtYUheJwWA4Bxa7lj1v/n7",
      "include_colab_link": true
    },
    "kernelspec": {
      "name": "python3",
      "display_name": "Python 3"
    },
    "language_info": {
      "name": "python"
    }
  },
  "cells": [
    {
      "cell_type": "markdown",
      "metadata": {
        "id": "view-in-github",
        "colab_type": "text"
      },
      "source": [
        "<a href=\"https://colab.research.google.com/github/gitgubbenito/capstone/blob/main/VAERS.ipynb\" target=\"_parent\"><img src=\"https://colab.research.google.com/assets/colab-badge.svg\" alt=\"Open In Colab\"/></a>"
      ]
    },
    {
      "cell_type": "code",
      "execution_count": null,
      "metadata": {
        "id": "vZRx_93KAKbF"
      },
      "outputs": [],
      "source": [
        "##Capstone Project - Vaccine Adverse Event Reporting System"
      ]
    },
    {
      "cell_type": "code",
      "source": [
        "# Add dependencies\n",
        "import pandas as pd\n",
        "import numpy as np\n",
        "import matplotlib.pyplot as plt"
      ],
      "metadata": {
        "id": "V5aZWklDMd7S"
      },
      "execution_count": 1,
      "outputs": []
    },
    {
      "cell_type": "code",
      "source": [
        "#pip install chardet"
      ],
      "metadata": {
        "id": "VnkB6stflJnj"
      },
      "execution_count": 2,
      "outputs": []
    },
    {
      "cell_type": "code",
      "source": [
        "import chardet\n",
        "with open('2019VAERSDATA.csv', 'rb') as f:\n",
        "    data = f.read()\n",
        "    encoding_result = chardet.detect(data)\n",
        "    encoding = encoding_result['encoding']\n",
        "    print(\"Detected Encoding:\", encoding)"
      ],
      "metadata": {
        "colab": {
          "base_uri": "https://localhost:8080/"
        },
        "id": "JDVyPUo7mdHo",
        "outputId": "7268814b-e037-4449-ea23-b563d7095dfc"
      },
      "execution_count": 3,
      "outputs": [
        {
          "output_type": "stream",
          "name": "stdout",
          "text": [
            "Detected Encoding: Windows-1252\n"
          ]
        }
      ]
    },
    {
      "cell_type": "markdown",
      "source": [
        "#Things to do\n",
        "- Load all 2019 files\n",
        "- Understand Datasets\n",
        "- Merge Datasets\n",
        "- Data Clean-up\n",
        "- Determine the most common sysmtoms by vaccine manu\n",
        "- How many people were disable o die due to the vaccine\n",
        "- Number of VAERS by state\n",
        "- Plot top 20 symtoms\n",
        "# Questions to be answer\n",
        "1.  Do people who experience side effects from the vaccine tend to experience them sooner or later after vaccination?\n",
        "2.  Can factors like age, gender, vaccine brand, and medical conditions help predict how strongly someone might react to the vaccine?\n",
        "3.  Is there a noticeable difference in age between those who have no serious side effects and those who do?\n",
        "\n",
        "\n",
        "\n",
        "\n"
      ],
      "metadata": {
        "id": "EUB_j2BYZPq_"
      }
    },
    {
      "cell_type": "code",
      "source": [
        "# load 2019SYMPTOMS.csv\n",
        "df_symptoms_2019 = pd.read_csv('2019SYMPTOMS.csv')\n",
        "df_vaers_data_2019 = pd.read_csv('2019VAERSDATA.csv',encoding=\"Windows-1252\")\n",
        "df_vaers_vax_2019 = pd.read_csv('2019VAERSVAX.csv')\n",
        "\n",
        "#df_symptoms_2020 = pd.read_csv('2020VAERSSYMPTOMS.csv')\n"
      ],
      "metadata": {
        "id": "igTMmUkr0TMU"
      },
      "execution_count": 4,
      "outputs": []
    },
    {
      "cell_type": "code",
      "source": [
        "# prompt: print shape fo each dataframe\n",
        "\n",
        "print(\"Shape of df_symptoms_2019:\", df_symptoms_2019.shape)\n",
        "print(\"Shape of df_vaers_data_2019:\", df_vaers_data_2019.shape)\n",
        "print(\"Shape of df_vaers_vax_2019:\", df_vaers_vax_2019.shape)\n"
      ],
      "metadata": {
        "id": "FhwX7WueePyH",
        "outputId": "10e81cb5-1428-4b5c-88e6-dba859f7630d",
        "colab": {
          "base_uri": "https://localhost:8080/"
        }
      },
      "execution_count": 5,
      "outputs": [
        {
          "output_type": "stream",
          "name": "stdout",
          "text": [
            "Shape of df_symptoms_2019: (60180, 11)\n",
            "Shape of df_vaers_data_2019: (48438, 35)\n",
            "Shape of df_vaers_vax_2019: (61194, 8)\n"
          ]
        }
      ]
    },
    {
      "cell_type": "code",
      "source": [
        "# prompt: how many null values are there for each DF in percentaje\n",
        "\n",
        "total_null_values = df_symptoms_2019.isnull().sum().sum()\n",
        "total_elements = df_symptoms_2019.size\n",
        "percent_null_values = (total_null_values / total_elements) * 100\n",
        "\n",
        "print(f\"df_symptoms_2019 has {percent_null_values:.2f}% null values\")\n",
        "\n",
        "total_null_values = df_vaers_data_2019.isnull().sum().sum()\n",
        "total_elements = df_vaers_data_2019.size\n",
        "percent_null_values = (total_null_values / total_elements) * 100\n",
        "\n",
        "print(f\"df_vaers_data_2019 has {percent_null_values:.2f}% null values\")\n",
        "\n",
        "total_null_values = df_vaers_vax_2019.isnull().sum().sum()\n",
        "total_elements = df_vaers_vax_2019.size\n",
        "percent_null_values = (total_null_values / total_elements) * 100\n",
        "\n",
        "print(f\"df_vaers_vax_2019 has {percent_null_values:.2f}% null values\")\n"
      ],
      "metadata": {
        "colab": {
          "base_uri": "https://localhost:8080/"
        },
        "id": "l-0WrPd86CxW",
        "outputId": "c3cf32d2-75a6-4be7-ca65-e89895a94471"
      },
      "execution_count": 88,
      "outputs": [
        {
          "output_type": "stream",
          "name": "stdout",
          "text": [
            "Number of null values in df_symptoms_2019:\n",
            "VAERS_ID               0\n",
            "SYMPTOM1               0\n",
            "SYMPTOMVERSION1        0\n",
            "SYMPTOM2           12212\n",
            "SYMPTOMVERSION2    12212\n",
            "SYMPTOM3           27452\n",
            "SYMPTOMVERSION3    27452\n",
            "SYMPTOM4           36661\n",
            "SYMPTOMVERSION4    36661\n",
            "SYMPTOM5           43512\n",
            "SYMPTOMVERSION5    43512\n",
            "dtype: int64\n",
            "Number of null values in df_vaers_data_2019:\n",
            "VAERS_ID            0\n",
            "RECVDATE            0\n",
            "STATE            4303\n",
            "AGE_YRS         11748\n",
            "CAGE_YR         12904\n",
            "CAGE_MO         44822\n",
            "SEX                 0\n",
            "RPT_DATE        46559\n",
            "SYMPTOM_TEXT       13\n",
            "DIED            48256\n",
            "DATEDIED        48343\n",
            "L_THREAT        48121\n",
            "ER_VISIT        48127\n",
            "HOSPITAL        46543\n",
            "HOSPDAYS        47522\n",
            "X_STAY          48401\n",
            "DISABLE         47400\n",
            "RECOVD           3171\n",
            "VAX_DATE         6503\n",
            "ONSET_DATE       9951\n",
            "NUMDAYS         11513\n",
            "LAB_DATA        36868\n",
            "V_ADMINBY           0\n",
            "V_FUNDBY        46497\n",
            "OTHER_MEDS      26342\n",
            "CUR_ILL         32899\n",
            "HISTORY         30041\n",
            "PRIOR_VAX       46183\n",
            "SPLTTYPE        30025\n",
            "FORM_VERS           0\n",
            "TODAYS_DATE      2147\n",
            "BIRTH_DEFECT    48410\n",
            "OFC_VISIT       36342\n",
            "ER_ED_VISIT     44218\n",
            "ALLERGIES       29658\n",
            "dtype: int64\n",
            "Number of null values in df_vaers_vax_2019:\n",
            "VAERS_ID               0\n",
            "VAX_TYPE               0\n",
            "VAX_MANU               0\n",
            "VAX_LOT            22731\n",
            "VAX_DOSE_SERIES     1624\n",
            "VAX_ROUTE          14352\n",
            "VAX_SITE           17563\n",
            "VAX_NAME               0\n",
            "dtype: int64\n"
          ]
        }
      ]
    },
    {
      "cell_type": "code",
      "source": [
        "# prompt: how many rows and columns are there for each df\n",
        "\n",
        "print(\"df_symptoms_2019 has\", df_symptoms_2019.shape[0], \"rows and\", df_symptoms_2019.shape[1], \"columns\")\n",
        "print(\"df_vaers_data_2019 has\", df_vaers_data_2019.shape[0], \"rows and\", df_vaers_data_2019.shape[1], \"columns\")\n",
        "print(\"df_vaers_vax_2019 has\", df_vaers_vax_2019.shape[0], \"rows and\", df_vaers_vax_2019.shape[1], \"columns\")\n"
      ],
      "metadata": {
        "colab": {
          "base_uri": "https://localhost:8080/"
        },
        "id": "YVQMrYA27HFH",
        "outputId": "ccba4033-56b0-4f77-f0b2-ea5b1a6b68f6"
      },
      "execution_count": 87,
      "outputs": [
        {
          "output_type": "stream",
          "name": "stdout",
          "text": [
            "df_symptoms_2019 has 60180 rows and 11 columns\n",
            "df_vaers_data_2019 has 48438 rows and 35 columns\n",
            "df_vaers_vax_2019 has 61194 rows and 8 columns\n"
          ]
        }
      ]
    },
    {
      "cell_type": "code",
      "source": [
        "df_2019_VAERSVAX.isnull().sum()"
      ],
      "metadata": {
        "colab": {
          "base_uri": "https://localhost:8080/"
        },
        "id": "u3pBa-QP6tOI",
        "outputId": "6667ab58-542b-4f17-9aef-6252b717c3ce"
      },
      "execution_count": 83,
      "outputs": [
        {
          "output_type": "execute_result",
          "data": {
            "text/plain": [
              "VAERS_ID               0\n",
              "VAX_TYPE               0\n",
              "VAX_MANU               0\n",
              "VAX_LOT            22731\n",
              "VAX_DOSE_SERIES     1624\n",
              "VAX_ROUTE          14352\n",
              "VAX_SITE           17563\n",
              "VAX_NAME               0\n",
              "dtype: int64"
            ]
          },
          "metadata": {},
          "execution_count": 83
        }
      ]
    },
    {
      "cell_type": "code",
      "source": [
        "df_2019_VAERSVAX.info()"
      ],
      "metadata": {
        "colab": {
          "base_uri": "https://localhost:8080/"
        },
        "id": "gNCle-NrWOgF",
        "outputId": "6dd4a040-42fb-40c1-cf0b-d4633f53f5b3"
      },
      "execution_count": 79,
      "outputs": [
        {
          "output_type": "stream",
          "name": "stdout",
          "text": [
            "<class 'pandas.core.frame.DataFrame'>\n",
            "RangeIndex: 61194 entries, 0 to 61193\n",
            "Data columns (total 8 columns):\n",
            " #   Column           Non-Null Count  Dtype \n",
            "---  ------           --------------  ----- \n",
            " 0   VAERS_ID         61194 non-null  int64 \n",
            " 1   VAX_TYPE         61194 non-null  object\n",
            " 2   VAX_MANU         61194 non-null  object\n",
            " 3   VAX_LOT          38463 non-null  object\n",
            " 4   VAX_DOSE_SERIES  59570 non-null  object\n",
            " 5   VAX_ROUTE        46842 non-null  object\n",
            " 6   VAX_SITE         43631 non-null  object\n",
            " 7   VAX_NAME         61194 non-null  object\n",
            "dtypes: int64(1), object(7)\n",
            "memory usage: 3.7+ MB\n"
          ]
        }
      ]
    },
    {
      "cell_type": "code",
      "source": [
        "df_vaers_data_2019.info()"
      ],
      "metadata": {
        "colab": {
          "base_uri": "https://localhost:8080/"
        },
        "id": "QoaXAptJ5o6n",
        "outputId": "e1f369ef-20c9-4877-beb8-d654c7959cfe"
      },
      "execution_count": 81,
      "outputs": [
        {
          "output_type": "stream",
          "name": "stdout",
          "text": [
            "<class 'pandas.core.frame.DataFrame'>\n",
            "RangeIndex: 48438 entries, 0 to 48437\n",
            "Data columns (total 35 columns):\n",
            " #   Column        Non-Null Count  Dtype  \n",
            "---  ------        --------------  -----  \n",
            " 0   VAERS_ID      48438 non-null  int64  \n",
            " 1   RECVDATE      48438 non-null  object \n",
            " 2   STATE         44135 non-null  object \n",
            " 3   AGE_YRS       36690 non-null  float64\n",
            " 4   CAGE_YR       35534 non-null  float64\n",
            " 5   CAGE_MO       3616 non-null   float64\n",
            " 6   SEX           48438 non-null  object \n",
            " 7   RPT_DATE      1879 non-null   object \n",
            " 8   SYMPTOM_TEXT  48425 non-null  object \n",
            " 9   DIED          182 non-null    object \n",
            " 10  DATEDIED      95 non-null     object \n",
            " 11  L_THREAT      317 non-null    object \n",
            " 12  ER_VISIT      311 non-null    object \n",
            " 13  HOSPITAL      1895 non-null   object \n",
            " 14  HOSPDAYS      916 non-null    float64\n",
            " 15  X_STAY        37 non-null     object \n",
            " 16  DISABLE       1038 non-null   object \n",
            " 17  RECOVD        45267 non-null  object \n",
            " 18  VAX_DATE      41935 non-null  object \n",
            " 19  ONSET_DATE    38487 non-null  object \n",
            " 20  NUMDAYS       36925 non-null  float64\n",
            " 21  LAB_DATA      11570 non-null  object \n",
            " 22  V_ADMINBY     48438 non-null  object \n",
            " 23  V_FUNDBY      1941 non-null   object \n",
            " 24  OTHER_MEDS    22096 non-null  object \n",
            " 25  CUR_ILL       15539 non-null  object \n",
            " 26  HISTORY       18397 non-null  object \n",
            " 27  PRIOR_VAX     2255 non-null   object \n",
            " 28  SPLTTYPE      18413 non-null  object \n",
            " 29  FORM_VERS     48438 non-null  int64  \n",
            " 30  TODAYS_DATE   46291 non-null  object \n",
            " 31  BIRTH_DEFECT  28 non-null     object \n",
            " 32  OFC_VISIT     12096 non-null  object \n",
            " 33  ER_ED_VISIT   4220 non-null   object \n",
            " 34  ALLERGIES     18780 non-null  object \n",
            "dtypes: float64(5), int64(2), object(28)\n",
            "memory usage: 12.9+ MB\n"
          ]
        }
      ]
    },
    {
      "cell_type": "code",
      "source": [
        "df_vaers_vax_2019.info()"
      ],
      "metadata": {
        "id": "ha-wc7JI53UA"
      },
      "execution_count": null,
      "outputs": []
    },
    {
      "cell_type": "code",
      "source": [
        "# prompt: how many vaers are by vacine manu\n",
        "\n",
        "df_vaers_vax_2019['VAX_MANU'].value_counts()\n"
      ],
      "metadata": {
        "colab": {
          "base_uri": "https://localhost:8080/"
        },
        "id": "FvsVIHMMwTFL",
        "outputId": "2d2cb0b3-335f-4f31-f6fb-b5f38b8d65e6"
      },
      "execution_count": 75,
      "outputs": [
        {
          "output_type": "execute_result",
          "data": {
            "text/plain": [
              "VAX_MANU\n",
              "GLAXOSMITHKLINE BIOLOGICALS          23114\n",
              "MERCK & CO. INC.                     16819\n",
              "SANOFI PASTEUR                        9527\n",
              "UNKNOWN MANUFACTURER                  3387\n",
              "PFIZER\\WYETH                          3008\n",
              "SEQIRUS, INC.                         2168\n",
              "NOVARTIS VACCINES AND DIAGNOSTICS     1846\n",
              "PROTEIN SCIENCES CORPORATION           563\n",
              "EMERGENT BIOSOLUTIONS                  263\n",
              "CSL LIMITED                            155\n",
              "DYNAVAX TECHNOLOGIES CORPORATION       107\n",
              "BERNA BIOTECH, LTD.                     65\n",
              "MEDIMMUNE VACCINES, INC.                57\n",
              "INTERCELL AG                            49\n",
              "MASS. PUB HLTH BIOL LAB                 35\n",
              "PAXVAX                                  19\n",
              "TEVA PHARMACEUTICALS                     8\n",
              "SMITHKLINE BEECHAM                       1\n",
              "MICHIGAN DEPT PUB HLTH                   1\n",
              "CONNAUGHT LABORATORIES                   1\n",
              "AVENTIS PASTEUR                          1\n",
              "Name: count, dtype: int64"
            ]
          },
          "metadata": {},
          "execution_count": 75
        }
      ]
    },
    {
      "cell_type": "code",
      "source": [
        "# prompt: join all 3 dataset\n",
        "\n",
        "\n",
        "df_combined_2019 = pd.merge(df_vaers_data_2019, df_vaers_vax_2019, on='VAERS_ID', how='left')\n",
        "df_combined_2019 = pd.merge(df_combined_2019, df_symptoms_2019, on='VAERS_ID', how='left')\n"
      ],
      "metadata": {
        "id": "IRLVZesB1M84"
      },
      "execution_count": 66,
      "outputs": []
    },
    {
      "cell_type": "code",
      "source": [
        "# prompt: merge all tr3 dataset joining by  VAERS_ID\n",
        "\n",
        "import pandas as pd\n",
        "df_combined_2019 = pd.merge(left=df_vaers_data_2019, right=df_vaers_vax_2019, on='VAERS_ID', how='inner')\n",
        "df_combined_2019 = pd.merge(left=df_combined_2019, right=df_symptoms_2019, on='VAERS_ID', how='inner')\n"
      ],
      "metadata": {
        "id": "HFMVPSA0zA7p"
      },
      "execution_count": 68,
      "outputs": []
    },
    {
      "cell_type": "code",
      "source": [
        "# prompt: how many people die by vacine manu order from count\n",
        "\n",
        "df_combined_2019.groupby('VAX_MANU')['DIED'].value_counts().sort_values(ascending=False)\n"
      ],
      "metadata": {
        "colab": {
          "base_uri": "https://localhost:8080/"
        },
        "id": "qusGqSgLxDrp",
        "outputId": "da61ec38-1406-4759-c91d-4e4db71de847"
      },
      "execution_count": 80,
      "outputs": [
        {
          "output_type": "execute_result",
          "data": {
            "text/plain": [
              "VAX_MANU                           DIED\n",
              "MERCK & CO. INC.                   Y       129\n",
              "UNKNOWN MANUFACTURER               Y       119\n",
              "GLAXOSMITHKLINE BIOLOGICALS        Y       104\n",
              "SANOFI PASTEUR                     Y        45\n",
              "PFIZER\\WYETH                       Y        40\n",
              "NOVARTIS VACCINES AND DIAGNOSTICS  Y         8\n",
              "SEQIRUS, INC.                      Y         8\n",
              "PROTEIN SCIENCES CORPORATION       Y         2\n",
              "AVENTIS PASTEUR                    Y         1\n",
              "CSL LIMITED                        Y         1\n",
              "MEDIMMUNE VACCINES, INC.           Y         1\n",
              "Name: count, dtype: int64"
            ]
          },
          "metadata": {},
          "execution_count": 80
        }
      ]
    },
    {
      "cell_type": "code",
      "source": [
        "df_2019_VAERSDATA.info()"
      ],
      "metadata": {
        "colab": {
          "base_uri": "https://localhost:8080/"
        },
        "id": "BaTzRqzHzojd",
        "outputId": "934ac1ec-21b4-4583-a247-7ca29a3afa83"
      },
      "execution_count": 46,
      "outputs": [
        {
          "output_type": "stream",
          "name": "stdout",
          "text": [
            "<class 'pandas.core.frame.DataFrame'>\n",
            "RangeIndex: 48438 entries, 0 to 48437\n",
            "Data columns (total 35 columns):\n",
            " #   Column        Non-Null Count  Dtype  \n",
            "---  ------        --------------  -----  \n",
            " 0   VAERS_ID      48438 non-null  int64  \n",
            " 1   RECVDATE      48438 non-null  object \n",
            " 2   STATE         44135 non-null  object \n",
            " 3   AGE_YRS       36690 non-null  float64\n",
            " 4   CAGE_YR       35534 non-null  float64\n",
            " 5   CAGE_MO       3616 non-null   float64\n",
            " 6   SEX           48438 non-null  object \n",
            " 7   RPT_DATE      1879 non-null   object \n",
            " 8   SYMPTOM_TEXT  48425 non-null  object \n",
            " 9   DIED          182 non-null    object \n",
            " 10  DATEDIED      95 non-null     object \n",
            " 11  L_THREAT      317 non-null    object \n",
            " 12  ER_VISIT      311 non-null    object \n",
            " 13  HOSPITAL      1895 non-null   object \n",
            " 14  HOSPDAYS      916 non-null    float64\n",
            " 15  X_STAY        37 non-null     object \n",
            " 16  DISABLE       1038 non-null   object \n",
            " 17  RECOVD        45267 non-null  object \n",
            " 18  VAX_DATE      41935 non-null  object \n",
            " 19  ONSET_DATE    38487 non-null  object \n",
            " 20  NUMDAYS       36925 non-null  float64\n",
            " 21  LAB_DATA      11570 non-null  object \n",
            " 22  V_ADMINBY     48438 non-null  object \n",
            " 23  V_FUNDBY      1941 non-null   object \n",
            " 24  OTHER_MEDS    22096 non-null  object \n",
            " 25  CUR_ILL       15539 non-null  object \n",
            " 26  HISTORY       18397 non-null  object \n",
            " 27  PRIOR_VAX     2255 non-null   object \n",
            " 28  SPLTTYPE      18413 non-null  object \n",
            " 29  FORM_VERS     48438 non-null  int64  \n",
            " 30  TODAYS_DATE   46291 non-null  object \n",
            " 31  BIRTH_DEFECT  28 non-null     object \n",
            " 32  OFC_VISIT     12096 non-null  object \n",
            " 33  ER_ED_VISIT   4220 non-null   object \n",
            " 34  ALLERGIES     18780 non-null  object \n",
            "dtypes: float64(5), int64(2), object(28)\n",
            "memory usage: 12.9+ MB\n"
          ]
        }
      ]
    },
    {
      "cell_type": "code",
      "source": [
        "df_2019_VAERSDATA.head()"
      ],
      "metadata": {
        "colab": {
          "base_uri": "https://localhost:8080/",
          "height": 550
        },
        "id": "VdBuJ7PKNbtB",
        "outputId": "d281a364-9891-4b88-a5c1-606ac730732d"
      },
      "execution_count": 48,
      "outputs": [
        {
          "output_type": "execute_result",
          "data": {
            "text/plain": [
              "   VAERS_ID  RECVDATE STATE  AGE_YRS  CAGE_YR  CAGE_MO SEX RPT_DATE  \\\n",
              "0    794156  1/1/2019   NaN     69.0     69.0      NaN   F      NaN   \n",
              "1    794157  1/1/2019    IL     68.0     68.0      NaN   F      NaN   \n",
              "2    794158  1/1/2019    MA     62.0     62.0      NaN   F      NaN   \n",
              "3    794159  1/1/2019    UT      5.0      5.0      NaN   M      NaN   \n",
              "4    794160  1/1/2019    TX     79.0     79.0      NaN   F      NaN   \n",
              "\n",
              "                                        SYMPTOM_TEXT DIED  ...  \\\n",
              "0  Severe pain Lt. shoulder area, very localized ...  NaN  ...   \n",
              "1  Much joint pain/aching, lack of energy, listle...  NaN  ...   \n",
              "2  Headache, Fever, Chills, Body Aches, Nausea la...  NaN  ...   \n",
              "3  Site is swollen, red and warm to the touch. Pa...  NaN  ...   \n",
              "4  FLU LIKE: CHILLS ACHE ALL OVER; STRONG PAIN, W...  NaN  ...   \n",
              "\n",
              "                                             CUR_ILL                HISTORY  \\\n",
              "0                                               none                   none   \n",
              "1                                                NaN         Hypothryoidism   \n",
              "2                                                NaN                    NaN   \n",
              "3      Small red spot on his cheek at time of visit.                    NaN   \n",
              "4  SINUSITIS; ATHROSCLEROSIS; DIABETES; HYPERCHOL...  SAME AS ITEM 11 ABOVE   \n",
              "\n",
              "                           PRIOR_VAX SPLTTYPE  FORM_VERS TODAYS_DATE  \\\n",
              "0                                NaN      NaN          2    1/1/2019   \n",
              "1  Arm soreness at site of injection      NaN          2    1/1/2019   \n",
              "2                                NaN      NaN          2    1/1/2019   \n",
              "3                                NaN      NaN          2    1/1/2019   \n",
              "4                                NaN      NaN          2    1/1/2019   \n",
              "\n",
              "  BIRTH_DEFECT OFC_VISIT ER_ED_VISIT       ALLERGIES  \n",
              "0          NaN         Y         NaN    tetracycline  \n",
              "1          NaN       NaN         NaN             NaN  \n",
              "2          NaN       NaN         NaN             NaN  \n",
              "3          NaN       NaN         NaN     Amoxicillin  \n",
              "4          NaN         Y           Y  ACE INHIBITORS  \n",
              "\n",
              "[5 rows x 35 columns]"
            ],
            "text/html": [
              "\n",
              "  <div id=\"df-63f687a4-d989-4484-ada8-5f046f3141d3\" class=\"colab-df-container\">\n",
              "    <div>\n",
              "<style scoped>\n",
              "    .dataframe tbody tr th:only-of-type {\n",
              "        vertical-align: middle;\n",
              "    }\n",
              "\n",
              "    .dataframe tbody tr th {\n",
              "        vertical-align: top;\n",
              "    }\n",
              "\n",
              "    .dataframe thead th {\n",
              "        text-align: right;\n",
              "    }\n",
              "</style>\n",
              "<table border=\"1\" class=\"dataframe\">\n",
              "  <thead>\n",
              "    <tr style=\"text-align: right;\">\n",
              "      <th></th>\n",
              "      <th>VAERS_ID</th>\n",
              "      <th>RECVDATE</th>\n",
              "      <th>STATE</th>\n",
              "      <th>AGE_YRS</th>\n",
              "      <th>CAGE_YR</th>\n",
              "      <th>CAGE_MO</th>\n",
              "      <th>SEX</th>\n",
              "      <th>RPT_DATE</th>\n",
              "      <th>SYMPTOM_TEXT</th>\n",
              "      <th>DIED</th>\n",
              "      <th>...</th>\n",
              "      <th>CUR_ILL</th>\n",
              "      <th>HISTORY</th>\n",
              "      <th>PRIOR_VAX</th>\n",
              "      <th>SPLTTYPE</th>\n",
              "      <th>FORM_VERS</th>\n",
              "      <th>TODAYS_DATE</th>\n",
              "      <th>BIRTH_DEFECT</th>\n",
              "      <th>OFC_VISIT</th>\n",
              "      <th>ER_ED_VISIT</th>\n",
              "      <th>ALLERGIES</th>\n",
              "    </tr>\n",
              "  </thead>\n",
              "  <tbody>\n",
              "    <tr>\n",
              "      <th>0</th>\n",
              "      <td>794156</td>\n",
              "      <td>1/1/2019</td>\n",
              "      <td>NaN</td>\n",
              "      <td>69.0</td>\n",
              "      <td>69.0</td>\n",
              "      <td>NaN</td>\n",
              "      <td>F</td>\n",
              "      <td>NaN</td>\n",
              "      <td>Severe pain Lt. shoulder area, very localized ...</td>\n",
              "      <td>NaN</td>\n",
              "      <td>...</td>\n",
              "      <td>none</td>\n",
              "      <td>none</td>\n",
              "      <td>NaN</td>\n",
              "      <td>NaN</td>\n",
              "      <td>2</td>\n",
              "      <td>1/1/2019</td>\n",
              "      <td>NaN</td>\n",
              "      <td>Y</td>\n",
              "      <td>NaN</td>\n",
              "      <td>tetracycline</td>\n",
              "    </tr>\n",
              "    <tr>\n",
              "      <th>1</th>\n",
              "      <td>794157</td>\n",
              "      <td>1/1/2019</td>\n",
              "      <td>IL</td>\n",
              "      <td>68.0</td>\n",
              "      <td>68.0</td>\n",
              "      <td>NaN</td>\n",
              "      <td>F</td>\n",
              "      <td>NaN</td>\n",
              "      <td>Much joint pain/aching, lack of energy, listle...</td>\n",
              "      <td>NaN</td>\n",
              "      <td>...</td>\n",
              "      <td>NaN</td>\n",
              "      <td>Hypothryoidism</td>\n",
              "      <td>Arm soreness at site of injection</td>\n",
              "      <td>NaN</td>\n",
              "      <td>2</td>\n",
              "      <td>1/1/2019</td>\n",
              "      <td>NaN</td>\n",
              "      <td>NaN</td>\n",
              "      <td>NaN</td>\n",
              "      <td>NaN</td>\n",
              "    </tr>\n",
              "    <tr>\n",
              "      <th>2</th>\n",
              "      <td>794158</td>\n",
              "      <td>1/1/2019</td>\n",
              "      <td>MA</td>\n",
              "      <td>62.0</td>\n",
              "      <td>62.0</td>\n",
              "      <td>NaN</td>\n",
              "      <td>F</td>\n",
              "      <td>NaN</td>\n",
              "      <td>Headache, Fever, Chills, Body Aches, Nausea la...</td>\n",
              "      <td>NaN</td>\n",
              "      <td>...</td>\n",
              "      <td>NaN</td>\n",
              "      <td>NaN</td>\n",
              "      <td>NaN</td>\n",
              "      <td>NaN</td>\n",
              "      <td>2</td>\n",
              "      <td>1/1/2019</td>\n",
              "      <td>NaN</td>\n",
              "      <td>NaN</td>\n",
              "      <td>NaN</td>\n",
              "      <td>NaN</td>\n",
              "    </tr>\n",
              "    <tr>\n",
              "      <th>3</th>\n",
              "      <td>794159</td>\n",
              "      <td>1/1/2019</td>\n",
              "      <td>UT</td>\n",
              "      <td>5.0</td>\n",
              "      <td>5.0</td>\n",
              "      <td>NaN</td>\n",
              "      <td>M</td>\n",
              "      <td>NaN</td>\n",
              "      <td>Site is swollen, red and warm to the touch. Pa...</td>\n",
              "      <td>NaN</td>\n",
              "      <td>...</td>\n",
              "      <td>Small red spot on his cheek at time of visit.</td>\n",
              "      <td>NaN</td>\n",
              "      <td>NaN</td>\n",
              "      <td>NaN</td>\n",
              "      <td>2</td>\n",
              "      <td>1/1/2019</td>\n",
              "      <td>NaN</td>\n",
              "      <td>NaN</td>\n",
              "      <td>NaN</td>\n",
              "      <td>Amoxicillin</td>\n",
              "    </tr>\n",
              "    <tr>\n",
              "      <th>4</th>\n",
              "      <td>794160</td>\n",
              "      <td>1/1/2019</td>\n",
              "      <td>TX</td>\n",
              "      <td>79.0</td>\n",
              "      <td>79.0</td>\n",
              "      <td>NaN</td>\n",
              "      <td>F</td>\n",
              "      <td>NaN</td>\n",
              "      <td>FLU LIKE: CHILLS ACHE ALL OVER; STRONG PAIN, W...</td>\n",
              "      <td>NaN</td>\n",
              "      <td>...</td>\n",
              "      <td>SINUSITIS; ATHROSCLEROSIS; DIABETES; HYPERCHOL...</td>\n",
              "      <td>SAME AS ITEM 11 ABOVE</td>\n",
              "      <td>NaN</td>\n",
              "      <td>NaN</td>\n",
              "      <td>2</td>\n",
              "      <td>1/1/2019</td>\n",
              "      <td>NaN</td>\n",
              "      <td>Y</td>\n",
              "      <td>Y</td>\n",
              "      <td>ACE INHIBITORS</td>\n",
              "    </tr>\n",
              "  </tbody>\n",
              "</table>\n",
              "<p>5 rows × 35 columns</p>\n",
              "</div>\n",
              "    <div class=\"colab-df-buttons\">\n",
              "\n",
              "  <div class=\"colab-df-container\">\n",
              "    <button class=\"colab-df-convert\" onclick=\"convertToInteractive('df-63f687a4-d989-4484-ada8-5f046f3141d3')\"\n",
              "            title=\"Convert this dataframe to an interactive table.\"\n",
              "            style=\"display:none;\">\n",
              "\n",
              "  <svg xmlns=\"http://www.w3.org/2000/svg\" height=\"24px\" viewBox=\"0 -960 960 960\">\n",
              "    <path d=\"M120-120v-720h720v720H120Zm60-500h600v-160H180v160Zm220 220h160v-160H400v160Zm0 220h160v-160H400v160ZM180-400h160v-160H180v160Zm440 0h160v-160H620v160ZM180-180h160v-160H180v160Zm440 0h160v-160H620v160Z\"/>\n",
              "  </svg>\n",
              "    </button>\n",
              "\n",
              "  <style>\n",
              "    .colab-df-container {\n",
              "      display:flex;\n",
              "      gap: 12px;\n",
              "    }\n",
              "\n",
              "    .colab-df-convert {\n",
              "      background-color: #E8F0FE;\n",
              "      border: none;\n",
              "      border-radius: 50%;\n",
              "      cursor: pointer;\n",
              "      display: none;\n",
              "      fill: #1967D2;\n",
              "      height: 32px;\n",
              "      padding: 0 0 0 0;\n",
              "      width: 32px;\n",
              "    }\n",
              "\n",
              "    .colab-df-convert:hover {\n",
              "      background-color: #E2EBFA;\n",
              "      box-shadow: 0px 1px 2px rgba(60, 64, 67, 0.3), 0px 1px 3px 1px rgba(60, 64, 67, 0.15);\n",
              "      fill: #174EA6;\n",
              "    }\n",
              "\n",
              "    .colab-df-buttons div {\n",
              "      margin-bottom: 4px;\n",
              "    }\n",
              "\n",
              "    [theme=dark] .colab-df-convert {\n",
              "      background-color: #3B4455;\n",
              "      fill: #D2E3FC;\n",
              "    }\n",
              "\n",
              "    [theme=dark] .colab-df-convert:hover {\n",
              "      background-color: #434B5C;\n",
              "      box-shadow: 0px 1px 3px 1px rgba(0, 0, 0, 0.15);\n",
              "      filter: drop-shadow(0px 1px 2px rgba(0, 0, 0, 0.3));\n",
              "      fill: #FFFFFF;\n",
              "    }\n",
              "  </style>\n",
              "\n",
              "    <script>\n",
              "      const buttonEl =\n",
              "        document.querySelector('#df-63f687a4-d989-4484-ada8-5f046f3141d3 button.colab-df-convert');\n",
              "      buttonEl.style.display =\n",
              "        google.colab.kernel.accessAllowed ? 'block' : 'none';\n",
              "\n",
              "      async function convertToInteractive(key) {\n",
              "        const element = document.querySelector('#df-63f687a4-d989-4484-ada8-5f046f3141d3');\n",
              "        const dataTable =\n",
              "          await google.colab.kernel.invokeFunction('convertToInteractive',\n",
              "                                                    [key], {});\n",
              "        if (!dataTable) return;\n",
              "\n",
              "        const docLinkHtml = 'Like what you see? Visit the ' +\n",
              "          '<a target=\"_blank\" href=https://colab.research.google.com/notebooks/data_table.ipynb>data table notebook</a>'\n",
              "          + ' to learn more about interactive tables.';\n",
              "        element.innerHTML = '';\n",
              "        dataTable['output_type'] = 'display_data';\n",
              "        await google.colab.output.renderOutput(dataTable, element);\n",
              "        const docLink = document.createElement('div');\n",
              "        docLink.innerHTML = docLinkHtml;\n",
              "        element.appendChild(docLink);\n",
              "      }\n",
              "    </script>\n",
              "  </div>\n",
              "\n",
              "\n",
              "<div id=\"df-f1d93561-4d22-4e31-b915-51e83c1824fb\">\n",
              "  <button class=\"colab-df-quickchart\" onclick=\"quickchart('df-f1d93561-4d22-4e31-b915-51e83c1824fb')\"\n",
              "            title=\"Suggest charts\"\n",
              "            style=\"display:none;\">\n",
              "\n",
              "<svg xmlns=\"http://www.w3.org/2000/svg\" height=\"24px\"viewBox=\"0 0 24 24\"\n",
              "     width=\"24px\">\n",
              "    <g>\n",
              "        <path d=\"M19 3H5c-1.1 0-2 .9-2 2v14c0 1.1.9 2 2 2h14c1.1 0 2-.9 2-2V5c0-1.1-.9-2-2-2zM9 17H7v-7h2v7zm4 0h-2V7h2v10zm4 0h-2v-4h2v4z\"/>\n",
              "    </g>\n",
              "</svg>\n",
              "  </button>\n",
              "\n",
              "<style>\n",
              "  .colab-df-quickchart {\n",
              "      --bg-color: #E8F0FE;\n",
              "      --fill-color: #1967D2;\n",
              "      --hover-bg-color: #E2EBFA;\n",
              "      --hover-fill-color: #174EA6;\n",
              "      --disabled-fill-color: #AAA;\n",
              "      --disabled-bg-color: #DDD;\n",
              "  }\n",
              "\n",
              "  [theme=dark] .colab-df-quickchart {\n",
              "      --bg-color: #3B4455;\n",
              "      --fill-color: #D2E3FC;\n",
              "      --hover-bg-color: #434B5C;\n",
              "      --hover-fill-color: #FFFFFF;\n",
              "      --disabled-bg-color: #3B4455;\n",
              "      --disabled-fill-color: #666;\n",
              "  }\n",
              "\n",
              "  .colab-df-quickchart {\n",
              "    background-color: var(--bg-color);\n",
              "    border: none;\n",
              "    border-radius: 50%;\n",
              "    cursor: pointer;\n",
              "    display: none;\n",
              "    fill: var(--fill-color);\n",
              "    height: 32px;\n",
              "    padding: 0;\n",
              "    width: 32px;\n",
              "  }\n",
              "\n",
              "  .colab-df-quickchart:hover {\n",
              "    background-color: var(--hover-bg-color);\n",
              "    box-shadow: 0 1px 2px rgba(60, 64, 67, 0.3), 0 1px 3px 1px rgba(60, 64, 67, 0.15);\n",
              "    fill: var(--button-hover-fill-color);\n",
              "  }\n",
              "\n",
              "  .colab-df-quickchart-complete:disabled,\n",
              "  .colab-df-quickchart-complete:disabled:hover {\n",
              "    background-color: var(--disabled-bg-color);\n",
              "    fill: var(--disabled-fill-color);\n",
              "    box-shadow: none;\n",
              "  }\n",
              "\n",
              "  .colab-df-spinner {\n",
              "    border: 2px solid var(--fill-color);\n",
              "    border-color: transparent;\n",
              "    border-bottom-color: var(--fill-color);\n",
              "    animation:\n",
              "      spin 1s steps(1) infinite;\n",
              "  }\n",
              "\n",
              "  @keyframes spin {\n",
              "    0% {\n",
              "      border-color: transparent;\n",
              "      border-bottom-color: var(--fill-color);\n",
              "      border-left-color: var(--fill-color);\n",
              "    }\n",
              "    20% {\n",
              "      border-color: transparent;\n",
              "      border-left-color: var(--fill-color);\n",
              "      border-top-color: var(--fill-color);\n",
              "    }\n",
              "    30% {\n",
              "      border-color: transparent;\n",
              "      border-left-color: var(--fill-color);\n",
              "      border-top-color: var(--fill-color);\n",
              "      border-right-color: var(--fill-color);\n",
              "    }\n",
              "    40% {\n",
              "      border-color: transparent;\n",
              "      border-right-color: var(--fill-color);\n",
              "      border-top-color: var(--fill-color);\n",
              "    }\n",
              "    60% {\n",
              "      border-color: transparent;\n",
              "      border-right-color: var(--fill-color);\n",
              "    }\n",
              "    80% {\n",
              "      border-color: transparent;\n",
              "      border-right-color: var(--fill-color);\n",
              "      border-bottom-color: var(--fill-color);\n",
              "    }\n",
              "    90% {\n",
              "      border-color: transparent;\n",
              "      border-bottom-color: var(--fill-color);\n",
              "    }\n",
              "  }\n",
              "</style>\n",
              "\n",
              "  <script>\n",
              "    async function quickchart(key) {\n",
              "      const quickchartButtonEl =\n",
              "        document.querySelector('#' + key + ' button');\n",
              "      quickchartButtonEl.disabled = true;  // To prevent multiple clicks.\n",
              "      quickchartButtonEl.classList.add('colab-df-spinner');\n",
              "      try {\n",
              "        const charts = await google.colab.kernel.invokeFunction(\n",
              "            'suggestCharts', [key], {});\n",
              "      } catch (error) {\n",
              "        console.error('Error during call to suggestCharts:', error);\n",
              "      }\n",
              "      quickchartButtonEl.classList.remove('colab-df-spinner');\n",
              "      quickchartButtonEl.classList.add('colab-df-quickchart-complete');\n",
              "    }\n",
              "    (() => {\n",
              "      let quickchartButtonEl =\n",
              "        document.querySelector('#df-f1d93561-4d22-4e31-b915-51e83c1824fb button');\n",
              "      quickchartButtonEl.style.display =\n",
              "        google.colab.kernel.accessAllowed ? 'block' : 'none';\n",
              "    })();\n",
              "  </script>\n",
              "</div>\n",
              "\n",
              "    </div>\n",
              "  </div>\n"
            ],
            "application/vnd.google.colaboratory.intrinsic+json": {
              "type": "dataframe",
              "variable_name": "df_2019_VAERSDATA"
            }
          },
          "metadata": {},
          "execution_count": 48
        }
      ]
    },
    {
      "cell_type": "code",
      "source": [
        "df_combined_2019.info()\n"
      ],
      "metadata": {
        "colab": {
          "base_uri": "https://localhost:8080/"
        },
        "id": "r_2UE1sk45YA",
        "outputId": "8d1dcc6e-52db-44d5-8d97-647c44aa0b8e"
      },
      "execution_count": 57,
      "outputs": [
        {
          "output_type": "stream",
          "name": "stdout",
          "text": [
            "<class 'pandas.core.frame.DataFrame'>\n",
            "RangeIndex: 76746 entries, 0 to 76745\n",
            "Data columns (total 52 columns):\n",
            " #   Column           Non-Null Count  Dtype  \n",
            "---  ------           --------------  -----  \n",
            " 0   VAERS_ID         76746 non-null  int64  \n",
            " 1   RECVDATE         76746 non-null  object \n",
            " 2   STATE            70762 non-null  object \n",
            " 3   AGE_YRS          61989 non-null  float64\n",
            " 4   CAGE_YR          60219 non-null  float64\n",
            " 5   CAGE_MO          10015 non-null  float64\n",
            " 6   SEX              76746 non-null  object \n",
            " 7   RPT_DATE         2883 non-null   object \n",
            " 8   SYMPTOM_TEXT     76721 non-null  object \n",
            " 9   DIED             458 non-null    object \n",
            " 10  DATEDIED         300 non-null    object \n",
            " 11  L_THREAT         1279 non-null   object \n",
            " 12  ER_VISIT         634 non-null    object \n",
            " 13  HOSPITAL         5604 non-null   object \n",
            " 14  HOSPDAYS         3597 non-null   float64\n",
            " 15  X_STAY           85 non-null     object \n",
            " 16  DISABLE          2627 non-null   object \n",
            " 17  RECOVD           71987 non-null  object \n",
            " 18  VAX_DATE         68507 non-null  object \n",
            " 19  ONSET_DATE       63974 non-null  object \n",
            " 20  NUMDAYS          61822 non-null  float64\n",
            " 21  LAB_DATA         24854 non-null  object \n",
            " 22  V_ADMINBY        76746 non-null  object \n",
            " 23  V_FUNDBY         2983 non-null   object \n",
            " 24  OTHER_MEDS       37997 non-null  object \n",
            " 25  CUR_ILL          28671 non-null  object \n",
            " 26  HISTORY          33666 non-null  object \n",
            " 27  PRIOR_VAX        4261 non-null   object \n",
            " 28  SPLTTYPE         23900 non-null  object \n",
            " 29  FORM_VERS        76746 non-null  int64  \n",
            " 30  TODAYS_DATE      73395 non-null  object \n",
            " 31  BIRTH_DEFECT     74 non-null     object \n",
            " 32  OFC_VISIT        22286 non-null  object \n",
            " 33  ER_ED_VISIT      10362 non-null  object \n",
            " 34  ALLERGIES        33709 non-null  object \n",
            " 35  VAX_TYPE         76746 non-null  object \n",
            " 36  VAX_MANU         76746 non-null  object \n",
            " 37  VAX_LOT          47214 non-null  object \n",
            " 38  VAX_DOSE_SERIES  74661 non-null  object \n",
            " 39  VAX_ROUTE        59617 non-null  object \n",
            " 40  VAX_SITE         56258 non-null  object \n",
            " 41  VAX_NAME         76746 non-null  object \n",
            " 42  SYMPTOM1         76742 non-null  object \n",
            " 43  SYMPTOMVERSION1  76742 non-null  float64\n",
            " 44  SYMPTOM2         61517 non-null  object \n",
            " 45  SYMPTOMVERSION2  61517 non-null  float64\n",
            " 46  SYMPTOM3         42330 non-null  object \n",
            " 47  SYMPTOMVERSION3  42330 non-null  float64\n",
            " 48  SYMPTOM4         30441 non-null  object \n",
            " 49  SYMPTOMVERSION4  30441 non-null  float64\n",
            " 50  SYMPTOM5         21792 non-null  object \n",
            " 51  SYMPTOMVERSION5  21792 non-null  float64\n",
            "dtypes: float64(10), int64(2), object(40)\n",
            "memory usage: 30.4+ MB\n"
          ]
        }
      ]
    },
    {
      "cell_type": "code",
      "source": [
        "# prompt: how many people die by vacine manu\n",
        "\n",
        "df_combined_2019.groupby('VAX_MANU')['DIED'].sum()\n"
      ],
      "metadata": {
        "colab": {
          "base_uri": "https://localhost:8080/"
        },
        "id": "s705b1zFtEyk",
        "outputId": "21599c04-db98-417f-b39d-60d7eed24519"
      },
      "execution_count": 58,
      "outputs": [
        {
          "output_type": "execute_result",
          "data": {
            "text/plain": [
              "VAX_MANU\n",
              "AVENTIS PASTEUR                                                                      Y\n",
              "BERNA BIOTECH, LTD.                                                                  0\n",
              "CONNAUGHT LABORATORIES                                                               0\n",
              "CSL LIMITED                                                                          Y\n",
              "DYNAVAX TECHNOLOGIES CORPORATION                                                     0\n",
              "EMERGENT BIOSOLUTIONS                                                                0\n",
              "GLAXOSMITHKLINE BIOLOGICALS          YYYYYYYYYYYYYYYYYYYYYYYYYYYYYYYYYYYYYYYYYYYYYY...\n",
              "INTERCELL AG                                                                         0\n",
              "MASS. PUB HLTH BIOL LAB                                                              0\n",
              "MEDIMMUNE VACCINES, INC.                                                             Y\n",
              "MERCK & CO. INC.                     YYYYYYYYYYYYYYYYYYYYYYYYYYYYYYYYYYYYYYYYYYYYYY...\n",
              "MICHIGAN DEPT PUB HLTH                                                               0\n",
              "NOVARTIS VACCINES AND DIAGNOSTICS                                             YYYYYYYY\n",
              "PAXVAX                                                                               0\n",
              "PFIZER\\WYETH                                  YYYYYYYYYYYYYYYYYYYYYYYYYYYYYYYYYYYYYYYY\n",
              "PROTEIN SCIENCES CORPORATION                                                        YY\n",
              "SANOFI PASTEUR                           YYYYYYYYYYYYYYYYYYYYYYYYYYYYYYYYYYYYYYYYYYYYY\n",
              "SEQIRUS, INC.                                                                 YYYYYYYY\n",
              "SMITHKLINE BEECHAM                                                                   0\n",
              "TEVA PHARMACEUTICALS                                                                 0\n",
              "UNKNOWN MANUFACTURER                 YYYYYYYYYYYYYYYYYYYYYYYYYYYYYYYYYYYYYYYYYYYYYY...\n",
              "Name: DIED, dtype: object"
            ]
          },
          "metadata": {},
          "execution_count": 58
        }
      ]
    },
    {
      "cell_type": "code",
      "source": [],
      "metadata": {
        "id": "XI016CK0u0pf"
      },
      "execution_count": null,
      "outputs": []
    },
    {
      "cell_type": "code",
      "source": [
        "# prompt: drop all columns with 'SYMPTOMVERSION1, SYMPTOMVERSION2,SYMPTOMVERSION3.SYMPTOMVERSION4,SYMPTOMVERSION5\n",
        "\n",
        "df_symptoms = df_symptoms.drop(['SYMPTOMVERSION1', 'SYMPTOMVERSION2','SYMPTOMVERSION3','SYMPTOMVERSION4','SYMPTOMVERSION5'], axis=1)\n"
      ],
      "metadata": {
        "colab": {
          "base_uri": "https://localhost:8080/",
          "height": 402
        },
        "id": "gyUnr96vAiEN",
        "outputId": "ad7b98ec-78ce-456a-b569-c87cbe937e19"
      },
      "execution_count": 39,
      "outputs": [
        {
          "output_type": "error",
          "ename": "KeyError",
          "evalue": "\"['SYMPTOMVERSION1', 'SYMPTOMVERSION2', 'SYMPTOMVERSION3', 'SYMPTOMVERSION4', 'SYMPTOMVERSION5'] not found in axis\"",
          "traceback": [
            "\u001b[0;31m---------------------------------------------------------------------------\u001b[0m",
            "\u001b[0;31mKeyError\u001b[0m                                  Traceback (most recent call last)",
            "\u001b[0;32m<ipython-input-39-d1e6c0d6249b>\u001b[0m in \u001b[0;36m<cell line: 3>\u001b[0;34m()\u001b[0m\n\u001b[1;32m      1\u001b[0m \u001b[0;31m# prompt: drop all columns with 'SYMPTOMVERSION1, SYMPTOMVERSION2,SYMPTOMVERSION3.SYMPTOMVERSION4,SYMPTOMVERSION5\u001b[0m\u001b[0;34m\u001b[0m\u001b[0;34m\u001b[0m\u001b[0m\n\u001b[1;32m      2\u001b[0m \u001b[0;34m\u001b[0m\u001b[0m\n\u001b[0;32m----> 3\u001b[0;31m \u001b[0mdf_symptoms\u001b[0m \u001b[0;34m=\u001b[0m \u001b[0mdf_symptoms\u001b[0m\u001b[0;34m.\u001b[0m\u001b[0mdrop\u001b[0m\u001b[0;34m(\u001b[0m\u001b[0;34m[\u001b[0m\u001b[0;34m'SYMPTOMVERSION1'\u001b[0m\u001b[0;34m,\u001b[0m \u001b[0;34m'SYMPTOMVERSION2'\u001b[0m\u001b[0;34m,\u001b[0m\u001b[0;34m'SYMPTOMVERSION3'\u001b[0m\u001b[0;34m,\u001b[0m\u001b[0;34m'SYMPTOMVERSION4'\u001b[0m\u001b[0;34m,\u001b[0m\u001b[0;34m'SYMPTOMVERSION5'\u001b[0m\u001b[0;34m]\u001b[0m\u001b[0;34m,\u001b[0m \u001b[0maxis\u001b[0m\u001b[0;34m=\u001b[0m\u001b[0;36m1\u001b[0m\u001b[0;34m)\u001b[0m\u001b[0;34m\u001b[0m\u001b[0;34m\u001b[0m\u001b[0m\n\u001b[0m",
            "\u001b[0;32m/usr/local/lib/python3.10/dist-packages/pandas/core/frame.py\u001b[0m in \u001b[0;36mdrop\u001b[0;34m(self, labels, axis, index, columns, level, inplace, errors)\u001b[0m\n\u001b[1;32m   5256\u001b[0m                 \u001b[0mweight\u001b[0m  \u001b[0;36m1.0\u001b[0m     \u001b[0;36m0.8\u001b[0m\u001b[0;34m\u001b[0m\u001b[0;34m\u001b[0m\u001b[0m\n\u001b[1;32m   5257\u001b[0m         \"\"\"\n\u001b[0;32m-> 5258\u001b[0;31m         return super().drop(\n\u001b[0m\u001b[1;32m   5259\u001b[0m             \u001b[0mlabels\u001b[0m\u001b[0;34m=\u001b[0m\u001b[0mlabels\u001b[0m\u001b[0;34m,\u001b[0m\u001b[0;34m\u001b[0m\u001b[0;34m\u001b[0m\u001b[0m\n\u001b[1;32m   5260\u001b[0m             \u001b[0maxis\u001b[0m\u001b[0;34m=\u001b[0m\u001b[0maxis\u001b[0m\u001b[0;34m,\u001b[0m\u001b[0;34m\u001b[0m\u001b[0;34m\u001b[0m\u001b[0m\n",
            "\u001b[0;32m/usr/local/lib/python3.10/dist-packages/pandas/core/generic.py\u001b[0m in \u001b[0;36mdrop\u001b[0;34m(self, labels, axis, index, columns, level, inplace, errors)\u001b[0m\n\u001b[1;32m   4547\u001b[0m         \u001b[0;32mfor\u001b[0m \u001b[0maxis\u001b[0m\u001b[0;34m,\u001b[0m \u001b[0mlabels\u001b[0m \u001b[0;32min\u001b[0m \u001b[0maxes\u001b[0m\u001b[0;34m.\u001b[0m\u001b[0mitems\u001b[0m\u001b[0;34m(\u001b[0m\u001b[0;34m)\u001b[0m\u001b[0;34m:\u001b[0m\u001b[0;34m\u001b[0m\u001b[0;34m\u001b[0m\u001b[0m\n\u001b[1;32m   4548\u001b[0m             \u001b[0;32mif\u001b[0m \u001b[0mlabels\u001b[0m \u001b[0;32mis\u001b[0m \u001b[0;32mnot\u001b[0m \u001b[0;32mNone\u001b[0m\u001b[0;34m:\u001b[0m\u001b[0;34m\u001b[0m\u001b[0;34m\u001b[0m\u001b[0m\n\u001b[0;32m-> 4549\u001b[0;31m                 \u001b[0mobj\u001b[0m \u001b[0;34m=\u001b[0m \u001b[0mobj\u001b[0m\u001b[0;34m.\u001b[0m\u001b[0m_drop_axis\u001b[0m\u001b[0;34m(\u001b[0m\u001b[0mlabels\u001b[0m\u001b[0;34m,\u001b[0m \u001b[0maxis\u001b[0m\u001b[0;34m,\u001b[0m \u001b[0mlevel\u001b[0m\u001b[0;34m=\u001b[0m\u001b[0mlevel\u001b[0m\u001b[0;34m,\u001b[0m \u001b[0merrors\u001b[0m\u001b[0;34m=\u001b[0m\u001b[0merrors\u001b[0m\u001b[0;34m)\u001b[0m\u001b[0;34m\u001b[0m\u001b[0;34m\u001b[0m\u001b[0m\n\u001b[0m\u001b[1;32m   4550\u001b[0m \u001b[0;34m\u001b[0m\u001b[0m\n\u001b[1;32m   4551\u001b[0m         \u001b[0;32mif\u001b[0m \u001b[0minplace\u001b[0m\u001b[0;34m:\u001b[0m\u001b[0;34m\u001b[0m\u001b[0;34m\u001b[0m\u001b[0m\n",
            "\u001b[0;32m/usr/local/lib/python3.10/dist-packages/pandas/core/generic.py\u001b[0m in \u001b[0;36m_drop_axis\u001b[0;34m(self, labels, axis, level, errors, only_slice)\u001b[0m\n\u001b[1;32m   4589\u001b[0m                 \u001b[0mnew_axis\u001b[0m \u001b[0;34m=\u001b[0m \u001b[0maxis\u001b[0m\u001b[0;34m.\u001b[0m\u001b[0mdrop\u001b[0m\u001b[0;34m(\u001b[0m\u001b[0mlabels\u001b[0m\u001b[0;34m,\u001b[0m \u001b[0mlevel\u001b[0m\u001b[0;34m=\u001b[0m\u001b[0mlevel\u001b[0m\u001b[0;34m,\u001b[0m \u001b[0merrors\u001b[0m\u001b[0;34m=\u001b[0m\u001b[0merrors\u001b[0m\u001b[0;34m)\u001b[0m\u001b[0;34m\u001b[0m\u001b[0;34m\u001b[0m\u001b[0m\n\u001b[1;32m   4590\u001b[0m             \u001b[0;32melse\u001b[0m\u001b[0;34m:\u001b[0m\u001b[0;34m\u001b[0m\u001b[0;34m\u001b[0m\u001b[0m\n\u001b[0;32m-> 4591\u001b[0;31m                 \u001b[0mnew_axis\u001b[0m \u001b[0;34m=\u001b[0m \u001b[0maxis\u001b[0m\u001b[0;34m.\u001b[0m\u001b[0mdrop\u001b[0m\u001b[0;34m(\u001b[0m\u001b[0mlabels\u001b[0m\u001b[0;34m,\u001b[0m \u001b[0merrors\u001b[0m\u001b[0;34m=\u001b[0m\u001b[0merrors\u001b[0m\u001b[0;34m)\u001b[0m\u001b[0;34m\u001b[0m\u001b[0;34m\u001b[0m\u001b[0m\n\u001b[0m\u001b[1;32m   4592\u001b[0m             \u001b[0mindexer\u001b[0m \u001b[0;34m=\u001b[0m \u001b[0maxis\u001b[0m\u001b[0;34m.\u001b[0m\u001b[0mget_indexer\u001b[0m\u001b[0;34m(\u001b[0m\u001b[0mnew_axis\u001b[0m\u001b[0;34m)\u001b[0m\u001b[0;34m\u001b[0m\u001b[0;34m\u001b[0m\u001b[0m\n\u001b[1;32m   4593\u001b[0m \u001b[0;34m\u001b[0m\u001b[0m\n",
            "\u001b[0;32m/usr/local/lib/python3.10/dist-packages/pandas/core/indexes/base.py\u001b[0m in \u001b[0;36mdrop\u001b[0;34m(self, labels, errors)\u001b[0m\n\u001b[1;32m   6697\u001b[0m         \u001b[0;32mif\u001b[0m \u001b[0mmask\u001b[0m\u001b[0;34m.\u001b[0m\u001b[0many\u001b[0m\u001b[0;34m(\u001b[0m\u001b[0;34m)\u001b[0m\u001b[0;34m:\u001b[0m\u001b[0;34m\u001b[0m\u001b[0;34m\u001b[0m\u001b[0m\n\u001b[1;32m   6698\u001b[0m             \u001b[0;32mif\u001b[0m \u001b[0merrors\u001b[0m \u001b[0;34m!=\u001b[0m \u001b[0;34m\"ignore\"\u001b[0m\u001b[0;34m:\u001b[0m\u001b[0;34m\u001b[0m\u001b[0;34m\u001b[0m\u001b[0m\n\u001b[0;32m-> 6699\u001b[0;31m                 \u001b[0;32mraise\u001b[0m \u001b[0mKeyError\u001b[0m\u001b[0;34m(\u001b[0m\u001b[0;34mf\"{list(labels[mask])} not found in axis\"\u001b[0m\u001b[0;34m)\u001b[0m\u001b[0;34m\u001b[0m\u001b[0;34m\u001b[0m\u001b[0m\n\u001b[0m\u001b[1;32m   6700\u001b[0m             \u001b[0mindexer\u001b[0m \u001b[0;34m=\u001b[0m \u001b[0mindexer\u001b[0m\u001b[0;34m[\u001b[0m\u001b[0;34m~\u001b[0m\u001b[0mmask\u001b[0m\u001b[0;34m]\u001b[0m\u001b[0;34m\u001b[0m\u001b[0;34m\u001b[0m\u001b[0m\n\u001b[1;32m   6701\u001b[0m         \u001b[0;32mreturn\u001b[0m \u001b[0mself\u001b[0m\u001b[0;34m.\u001b[0m\u001b[0mdelete\u001b[0m\u001b[0;34m(\u001b[0m\u001b[0mindexer\u001b[0m\u001b[0;34m)\u001b[0m\u001b[0;34m\u001b[0m\u001b[0;34m\u001b[0m\u001b[0m\n",
            "\u001b[0;31mKeyError\u001b[0m: \"['SYMPTOMVERSION1', 'SYMPTOMVERSION2', 'SYMPTOMVERSION3', 'SYMPTOMVERSION4', 'SYMPTOMVERSION5'] not found in axis\""
          ]
        }
      ]
    },
    {
      "cell_type": "code",
      "source": [
        "# prompt: set the index as VAERS_ID\n",
        "\n",
        "df_symptoms = df_symptoms.set_index('VAERS_ID')\n"
      ],
      "metadata": {
        "colab": {
          "base_uri": "https://localhost:8080/",
          "height": 324
        },
        "id": "ujZ7fczVBufq",
        "outputId": "1d9b17a3-0bb4-478c-85ec-0cfe0cfde433"
      },
      "execution_count": 31,
      "outputs": [
        {
          "output_type": "error",
          "ename": "KeyError",
          "evalue": "\"None of ['VAERS_ID'] are in the columns\"",
          "traceback": [
            "\u001b[0;31m---------------------------------------------------------------------------\u001b[0m",
            "\u001b[0;31mKeyError\u001b[0m                                  Traceback (most recent call last)",
            "\u001b[0;32m<ipython-input-31-ad184fdf26ed>\u001b[0m in \u001b[0;36m<cell line: 3>\u001b[0;34m()\u001b[0m\n\u001b[1;32m      1\u001b[0m \u001b[0;31m# prompt: set the index as VAERS_ID\u001b[0m\u001b[0;34m\u001b[0m\u001b[0;34m\u001b[0m\u001b[0m\n\u001b[1;32m      2\u001b[0m \u001b[0;34m\u001b[0m\u001b[0m\n\u001b[0;32m----> 3\u001b[0;31m \u001b[0mdf_symptoms\u001b[0m \u001b[0;34m=\u001b[0m \u001b[0mdf_symptoms\u001b[0m\u001b[0;34m.\u001b[0m\u001b[0mset_index\u001b[0m\u001b[0;34m(\u001b[0m\u001b[0;34m'VAERS_ID'\u001b[0m\u001b[0;34m)\u001b[0m\u001b[0;34m\u001b[0m\u001b[0;34m\u001b[0m\u001b[0m\n\u001b[0m",
            "\u001b[0;32m/usr/local/lib/python3.10/dist-packages/pandas/core/frame.py\u001b[0m in \u001b[0;36mset_index\u001b[0;34m(self, keys, drop, append, inplace, verify_integrity)\u001b[0m\n\u001b[1;32m   5857\u001b[0m \u001b[0;34m\u001b[0m\u001b[0m\n\u001b[1;32m   5858\u001b[0m         \u001b[0;32mif\u001b[0m \u001b[0mmissing\u001b[0m\u001b[0;34m:\u001b[0m\u001b[0;34m\u001b[0m\u001b[0;34m\u001b[0m\u001b[0m\n\u001b[0;32m-> 5859\u001b[0;31m             \u001b[0;32mraise\u001b[0m \u001b[0mKeyError\u001b[0m\u001b[0;34m(\u001b[0m\u001b[0;34mf\"None of {missing} are in the columns\"\u001b[0m\u001b[0;34m)\u001b[0m\u001b[0;34m\u001b[0m\u001b[0;34m\u001b[0m\u001b[0m\n\u001b[0m\u001b[1;32m   5860\u001b[0m \u001b[0;34m\u001b[0m\u001b[0m\n\u001b[1;32m   5861\u001b[0m         \u001b[0;32mif\u001b[0m \u001b[0minplace\u001b[0m\u001b[0;34m:\u001b[0m\u001b[0;34m\u001b[0m\u001b[0;34m\u001b[0m\u001b[0m\n",
            "\u001b[0;31mKeyError\u001b[0m: \"None of ['VAERS_ID'] are in the columns\""
          ]
        }
      ]
    },
    {
      "cell_type": "code",
      "source": [
        "# prompt: drop Unnamed\n",
        "\n",
        "df_symptoms = df_symptoms.drop('Unnamed: 0', axis=1)\n"
      ],
      "metadata": {
        "colab": {
          "base_uri": "https://localhost:8080/",
          "height": 348
        },
        "id": "elo5Emt0CEpZ",
        "outputId": "f95f5ff9-dee5-4556-c829-cce8d5d18baa"
      },
      "execution_count": 29,
      "outputs": [
        {
          "output_type": "error",
          "ename": "KeyError",
          "evalue": "\"['Unnamed: 0'] not found in axis\"",
          "traceback": [
            "\u001b[0;31m---------------------------------------------------------------------------\u001b[0m",
            "\u001b[0;31mKeyError\u001b[0m                                  Traceback (most recent call last)",
            "\u001b[0;32m<ipython-input-29-2fecf952c96f>\u001b[0m in \u001b[0;36m<cell line: 3>\u001b[0;34m()\u001b[0m\n\u001b[1;32m      1\u001b[0m \u001b[0;31m# prompt: drop Unnamed\u001b[0m\u001b[0;34m\u001b[0m\u001b[0;34m\u001b[0m\u001b[0m\n\u001b[1;32m      2\u001b[0m \u001b[0;34m\u001b[0m\u001b[0m\n\u001b[0;32m----> 3\u001b[0;31m \u001b[0mdf_symptoms\u001b[0m \u001b[0;34m=\u001b[0m \u001b[0mdf_symptoms\u001b[0m\u001b[0;34m.\u001b[0m\u001b[0mdrop\u001b[0m\u001b[0;34m(\u001b[0m\u001b[0;34m'Unnamed: 0'\u001b[0m\u001b[0;34m,\u001b[0m \u001b[0maxis\u001b[0m\u001b[0;34m=\u001b[0m\u001b[0;36m1\u001b[0m\u001b[0;34m)\u001b[0m\u001b[0;34m\u001b[0m\u001b[0;34m\u001b[0m\u001b[0m\n\u001b[0m",
            "\u001b[0;32m/usr/local/lib/python3.10/dist-packages/pandas/core/frame.py\u001b[0m in \u001b[0;36mdrop\u001b[0;34m(self, labels, axis, index, columns, level, inplace, errors)\u001b[0m\n\u001b[1;32m   5256\u001b[0m                 \u001b[0mweight\u001b[0m  \u001b[0;36m1.0\u001b[0m     \u001b[0;36m0.8\u001b[0m\u001b[0;34m\u001b[0m\u001b[0;34m\u001b[0m\u001b[0m\n\u001b[1;32m   5257\u001b[0m         \"\"\"\n\u001b[0;32m-> 5258\u001b[0;31m         return super().drop(\n\u001b[0m\u001b[1;32m   5259\u001b[0m             \u001b[0mlabels\u001b[0m\u001b[0;34m=\u001b[0m\u001b[0mlabels\u001b[0m\u001b[0;34m,\u001b[0m\u001b[0;34m\u001b[0m\u001b[0;34m\u001b[0m\u001b[0m\n\u001b[1;32m   5260\u001b[0m             \u001b[0maxis\u001b[0m\u001b[0;34m=\u001b[0m\u001b[0maxis\u001b[0m\u001b[0;34m,\u001b[0m\u001b[0;34m\u001b[0m\u001b[0;34m\u001b[0m\u001b[0m\n",
            "\u001b[0;32m/usr/local/lib/python3.10/dist-packages/pandas/core/generic.py\u001b[0m in \u001b[0;36mdrop\u001b[0;34m(self, labels, axis, index, columns, level, inplace, errors)\u001b[0m\n\u001b[1;32m   4547\u001b[0m         \u001b[0;32mfor\u001b[0m \u001b[0maxis\u001b[0m\u001b[0;34m,\u001b[0m \u001b[0mlabels\u001b[0m \u001b[0;32min\u001b[0m \u001b[0maxes\u001b[0m\u001b[0;34m.\u001b[0m\u001b[0mitems\u001b[0m\u001b[0;34m(\u001b[0m\u001b[0;34m)\u001b[0m\u001b[0;34m:\u001b[0m\u001b[0;34m\u001b[0m\u001b[0;34m\u001b[0m\u001b[0m\n\u001b[1;32m   4548\u001b[0m             \u001b[0;32mif\u001b[0m \u001b[0mlabels\u001b[0m \u001b[0;32mis\u001b[0m \u001b[0;32mnot\u001b[0m \u001b[0;32mNone\u001b[0m\u001b[0;34m:\u001b[0m\u001b[0;34m\u001b[0m\u001b[0;34m\u001b[0m\u001b[0m\n\u001b[0;32m-> 4549\u001b[0;31m                 \u001b[0mobj\u001b[0m \u001b[0;34m=\u001b[0m \u001b[0mobj\u001b[0m\u001b[0;34m.\u001b[0m\u001b[0m_drop_axis\u001b[0m\u001b[0;34m(\u001b[0m\u001b[0mlabels\u001b[0m\u001b[0;34m,\u001b[0m \u001b[0maxis\u001b[0m\u001b[0;34m,\u001b[0m \u001b[0mlevel\u001b[0m\u001b[0;34m=\u001b[0m\u001b[0mlevel\u001b[0m\u001b[0;34m,\u001b[0m \u001b[0merrors\u001b[0m\u001b[0;34m=\u001b[0m\u001b[0merrors\u001b[0m\u001b[0;34m)\u001b[0m\u001b[0;34m\u001b[0m\u001b[0;34m\u001b[0m\u001b[0m\n\u001b[0m\u001b[1;32m   4550\u001b[0m \u001b[0;34m\u001b[0m\u001b[0m\n\u001b[1;32m   4551\u001b[0m         \u001b[0;32mif\u001b[0m \u001b[0minplace\u001b[0m\u001b[0;34m:\u001b[0m\u001b[0;34m\u001b[0m\u001b[0;34m\u001b[0m\u001b[0m\n",
            "\u001b[0;32m/usr/local/lib/python3.10/dist-packages/pandas/core/generic.py\u001b[0m in \u001b[0;36m_drop_axis\u001b[0;34m(self, labels, axis, level, errors, only_slice)\u001b[0m\n\u001b[1;32m   4589\u001b[0m                 \u001b[0mnew_axis\u001b[0m \u001b[0;34m=\u001b[0m \u001b[0maxis\u001b[0m\u001b[0;34m.\u001b[0m\u001b[0mdrop\u001b[0m\u001b[0;34m(\u001b[0m\u001b[0mlabels\u001b[0m\u001b[0;34m,\u001b[0m \u001b[0mlevel\u001b[0m\u001b[0;34m=\u001b[0m\u001b[0mlevel\u001b[0m\u001b[0;34m,\u001b[0m \u001b[0merrors\u001b[0m\u001b[0;34m=\u001b[0m\u001b[0merrors\u001b[0m\u001b[0;34m)\u001b[0m\u001b[0;34m\u001b[0m\u001b[0;34m\u001b[0m\u001b[0m\n\u001b[1;32m   4590\u001b[0m             \u001b[0;32melse\u001b[0m\u001b[0;34m:\u001b[0m\u001b[0;34m\u001b[0m\u001b[0;34m\u001b[0m\u001b[0m\n\u001b[0;32m-> 4591\u001b[0;31m                 \u001b[0mnew_axis\u001b[0m \u001b[0;34m=\u001b[0m \u001b[0maxis\u001b[0m\u001b[0;34m.\u001b[0m\u001b[0mdrop\u001b[0m\u001b[0;34m(\u001b[0m\u001b[0mlabels\u001b[0m\u001b[0;34m,\u001b[0m \u001b[0merrors\u001b[0m\u001b[0;34m=\u001b[0m\u001b[0merrors\u001b[0m\u001b[0;34m)\u001b[0m\u001b[0;34m\u001b[0m\u001b[0;34m\u001b[0m\u001b[0m\n\u001b[0m\u001b[1;32m   4592\u001b[0m             \u001b[0mindexer\u001b[0m \u001b[0;34m=\u001b[0m \u001b[0maxis\u001b[0m\u001b[0;34m.\u001b[0m\u001b[0mget_indexer\u001b[0m\u001b[0;34m(\u001b[0m\u001b[0mnew_axis\u001b[0m\u001b[0;34m)\u001b[0m\u001b[0;34m\u001b[0m\u001b[0;34m\u001b[0m\u001b[0m\n\u001b[1;32m   4593\u001b[0m \u001b[0;34m\u001b[0m\u001b[0m\n",
            "\u001b[0;32m/usr/local/lib/python3.10/dist-packages/pandas/core/indexes/base.py\u001b[0m in \u001b[0;36mdrop\u001b[0;34m(self, labels, errors)\u001b[0m\n\u001b[1;32m   6697\u001b[0m         \u001b[0;32mif\u001b[0m \u001b[0mmask\u001b[0m\u001b[0;34m.\u001b[0m\u001b[0many\u001b[0m\u001b[0;34m(\u001b[0m\u001b[0;34m)\u001b[0m\u001b[0;34m:\u001b[0m\u001b[0;34m\u001b[0m\u001b[0;34m\u001b[0m\u001b[0m\n\u001b[1;32m   6698\u001b[0m             \u001b[0;32mif\u001b[0m \u001b[0merrors\u001b[0m \u001b[0;34m!=\u001b[0m \u001b[0;34m\"ignore\"\u001b[0m\u001b[0;34m:\u001b[0m\u001b[0;34m\u001b[0m\u001b[0;34m\u001b[0m\u001b[0m\n\u001b[0;32m-> 6699\u001b[0;31m                 \u001b[0;32mraise\u001b[0m \u001b[0mKeyError\u001b[0m\u001b[0;34m(\u001b[0m\u001b[0;34mf\"{list(labels[mask])} not found in axis\"\u001b[0m\u001b[0;34m)\u001b[0m\u001b[0;34m\u001b[0m\u001b[0;34m\u001b[0m\u001b[0m\n\u001b[0m\u001b[1;32m   6700\u001b[0m             \u001b[0mindexer\u001b[0m \u001b[0;34m=\u001b[0m \u001b[0mindexer\u001b[0m\u001b[0;34m[\u001b[0m\u001b[0;34m~\u001b[0m\u001b[0mmask\u001b[0m\u001b[0;34m]\u001b[0m\u001b[0;34m\u001b[0m\u001b[0;34m\u001b[0m\u001b[0m\n\u001b[1;32m   6701\u001b[0m         \u001b[0;32mreturn\u001b[0m \u001b[0mself\u001b[0m\u001b[0;34m.\u001b[0m\u001b[0mdelete\u001b[0m\u001b[0;34m(\u001b[0m\u001b[0mindexer\u001b[0m\u001b[0;34m)\u001b[0m\u001b[0;34m\u001b[0m\u001b[0;34m\u001b[0m\u001b[0m\n",
            "\u001b[0;31mKeyError\u001b[0m: \"['Unnamed: 0'] not found in axis\""
          ]
        }
      ]
    },
    {
      "cell_type": "code",
      "source": [
        "df_symptoms.head(10)"
      ],
      "metadata": {
        "colab": {
          "base_uri": "https://localhost:8080/",
          "height": 498
        },
        "id": "7FkwYHjc57Kg",
        "outputId": "8f6adf23-c121-474a-fb5e-e369e3b3a629"
      },
      "execution_count": 163,
      "outputs": [
        {
          "output_type": "execute_result",
          "data": {
            "text/plain": [
              "                                  SYMPTOM1                   SYMPTOM2  \\\n",
              "VAERS_ID                                                                \n",
              "794156    Injected limb mobility decreased  Injection site joint pain   \n",
              "794157                              Apathy                 Arthralgia   \n",
              "794157             Injection site pruritus    Injection site swelling   \n",
              "794158                              Chills                   Headache   \n",
              "794159             Injection site erythema    Injection site swelling   \n",
              "794160                            Asthenia                     Chills   \n",
              "794160             Injection site swelling                Lip blister   \n",
              "794161                             Pyrexia                        NaN   \n",
              "794162             Injection site erythema        Injection site rash   \n",
              "794163                      Abdominal pain                 Arthralgia   \n",
              "\n",
              "                         SYMPTOM3                 SYMPTOM4  \\\n",
              "VAERS_ID                                                     \n",
              "794156                        NaN                      NaN   \n",
              "794157                   Asthenia  Injection site erythema   \n",
              "794157      Injection site warmth                 Listless   \n",
              "794158                     Nausea                     Pain   \n",
              "794159      Injection site warmth                     Pain   \n",
              "794160                    Fatigue   Influenza like illness   \n",
              "794160               Lip swelling                     Pain   \n",
              "794161                        NaN                      NaN   \n",
              "794162    Injection site swelling                   Macule   \n",
              "794163                  Dizziness                  Fatigue   \n",
              "\n",
              "                         SYMPTOM5  \n",
              "VAERS_ID                           \n",
              "794156                        NaN  \n",
              "794157        Injection site pain  \n",
              "794157               Night sweats  \n",
              "794158                    Pyrexia  \n",
              "794159                        NaN  \n",
              "794160    Injection site erythema  \n",
              "794160                        NaN  \n",
              "794161                        NaN  \n",
              "794162               Rash papular  \n",
              "794163                   Headache  "
            ],
            "text/html": [
              "\n",
              "  <div id=\"df-5a7c1247-cab5-4f60-bd29-0a96ab34d90e\" class=\"colab-df-container\">\n",
              "    <div>\n",
              "<style scoped>\n",
              "    .dataframe tbody tr th:only-of-type {\n",
              "        vertical-align: middle;\n",
              "    }\n",
              "\n",
              "    .dataframe tbody tr th {\n",
              "        vertical-align: top;\n",
              "    }\n",
              "\n",
              "    .dataframe thead th {\n",
              "        text-align: right;\n",
              "    }\n",
              "</style>\n",
              "<table border=\"1\" class=\"dataframe\">\n",
              "  <thead>\n",
              "    <tr style=\"text-align: right;\">\n",
              "      <th></th>\n",
              "      <th>SYMPTOM1</th>\n",
              "      <th>SYMPTOM2</th>\n",
              "      <th>SYMPTOM3</th>\n",
              "      <th>SYMPTOM4</th>\n",
              "      <th>SYMPTOM5</th>\n",
              "    </tr>\n",
              "    <tr>\n",
              "      <th>VAERS_ID</th>\n",
              "      <th></th>\n",
              "      <th></th>\n",
              "      <th></th>\n",
              "      <th></th>\n",
              "      <th></th>\n",
              "    </tr>\n",
              "  </thead>\n",
              "  <tbody>\n",
              "    <tr>\n",
              "      <th>794156</th>\n",
              "      <td>Injected limb mobility decreased</td>\n",
              "      <td>Injection site joint pain</td>\n",
              "      <td>NaN</td>\n",
              "      <td>NaN</td>\n",
              "      <td>NaN</td>\n",
              "    </tr>\n",
              "    <tr>\n",
              "      <th>794157</th>\n",
              "      <td>Apathy</td>\n",
              "      <td>Arthralgia</td>\n",
              "      <td>Asthenia</td>\n",
              "      <td>Injection site erythema</td>\n",
              "      <td>Injection site pain</td>\n",
              "    </tr>\n",
              "    <tr>\n",
              "      <th>794157</th>\n",
              "      <td>Injection site pruritus</td>\n",
              "      <td>Injection site swelling</td>\n",
              "      <td>Injection site warmth</td>\n",
              "      <td>Listless</td>\n",
              "      <td>Night sweats</td>\n",
              "    </tr>\n",
              "    <tr>\n",
              "      <th>794158</th>\n",
              "      <td>Chills</td>\n",
              "      <td>Headache</td>\n",
              "      <td>Nausea</td>\n",
              "      <td>Pain</td>\n",
              "      <td>Pyrexia</td>\n",
              "    </tr>\n",
              "    <tr>\n",
              "      <th>794159</th>\n",
              "      <td>Injection site erythema</td>\n",
              "      <td>Injection site swelling</td>\n",
              "      <td>Injection site warmth</td>\n",
              "      <td>Pain</td>\n",
              "      <td>NaN</td>\n",
              "    </tr>\n",
              "    <tr>\n",
              "      <th>794160</th>\n",
              "      <td>Asthenia</td>\n",
              "      <td>Chills</td>\n",
              "      <td>Fatigue</td>\n",
              "      <td>Influenza like illness</td>\n",
              "      <td>Injection site erythema</td>\n",
              "    </tr>\n",
              "    <tr>\n",
              "      <th>794160</th>\n",
              "      <td>Injection site swelling</td>\n",
              "      <td>Lip blister</td>\n",
              "      <td>Lip swelling</td>\n",
              "      <td>Pain</td>\n",
              "      <td>NaN</td>\n",
              "    </tr>\n",
              "    <tr>\n",
              "      <th>794161</th>\n",
              "      <td>Pyrexia</td>\n",
              "      <td>NaN</td>\n",
              "      <td>NaN</td>\n",
              "      <td>NaN</td>\n",
              "      <td>NaN</td>\n",
              "    </tr>\n",
              "    <tr>\n",
              "      <th>794162</th>\n",
              "      <td>Injection site erythema</td>\n",
              "      <td>Injection site rash</td>\n",
              "      <td>Injection site swelling</td>\n",
              "      <td>Macule</td>\n",
              "      <td>Rash papular</td>\n",
              "    </tr>\n",
              "    <tr>\n",
              "      <th>794163</th>\n",
              "      <td>Abdominal pain</td>\n",
              "      <td>Arthralgia</td>\n",
              "      <td>Dizziness</td>\n",
              "      <td>Fatigue</td>\n",
              "      <td>Headache</td>\n",
              "    </tr>\n",
              "  </tbody>\n",
              "</table>\n",
              "</div>\n",
              "    <div class=\"colab-df-buttons\">\n",
              "\n",
              "  <div class=\"colab-df-container\">\n",
              "    <button class=\"colab-df-convert\" onclick=\"convertToInteractive('df-5a7c1247-cab5-4f60-bd29-0a96ab34d90e')\"\n",
              "            title=\"Convert this dataframe to an interactive table.\"\n",
              "            style=\"display:none;\">\n",
              "\n",
              "  <svg xmlns=\"http://www.w3.org/2000/svg\" height=\"24px\" viewBox=\"0 -960 960 960\">\n",
              "    <path d=\"M120-120v-720h720v720H120Zm60-500h600v-160H180v160Zm220 220h160v-160H400v160Zm0 220h160v-160H400v160ZM180-400h160v-160H180v160Zm440 0h160v-160H620v160ZM180-180h160v-160H180v160Zm440 0h160v-160H620v160Z\"/>\n",
              "  </svg>\n",
              "    </button>\n",
              "\n",
              "  <style>\n",
              "    .colab-df-container {\n",
              "      display:flex;\n",
              "      gap: 12px;\n",
              "    }\n",
              "\n",
              "    .colab-df-convert {\n",
              "      background-color: #E8F0FE;\n",
              "      border: none;\n",
              "      border-radius: 50%;\n",
              "      cursor: pointer;\n",
              "      display: none;\n",
              "      fill: #1967D2;\n",
              "      height: 32px;\n",
              "      padding: 0 0 0 0;\n",
              "      width: 32px;\n",
              "    }\n",
              "\n",
              "    .colab-df-convert:hover {\n",
              "      background-color: #E2EBFA;\n",
              "      box-shadow: 0px 1px 2px rgba(60, 64, 67, 0.3), 0px 1px 3px 1px rgba(60, 64, 67, 0.15);\n",
              "      fill: #174EA6;\n",
              "    }\n",
              "\n",
              "    .colab-df-buttons div {\n",
              "      margin-bottom: 4px;\n",
              "    }\n",
              "\n",
              "    [theme=dark] .colab-df-convert {\n",
              "      background-color: #3B4455;\n",
              "      fill: #D2E3FC;\n",
              "    }\n",
              "\n",
              "    [theme=dark] .colab-df-convert:hover {\n",
              "      background-color: #434B5C;\n",
              "      box-shadow: 0px 1px 3px 1px rgba(0, 0, 0, 0.15);\n",
              "      filter: drop-shadow(0px 1px 2px rgba(0, 0, 0, 0.3));\n",
              "      fill: #FFFFFF;\n",
              "    }\n",
              "  </style>\n",
              "\n",
              "    <script>\n",
              "      const buttonEl =\n",
              "        document.querySelector('#df-5a7c1247-cab5-4f60-bd29-0a96ab34d90e button.colab-df-convert');\n",
              "      buttonEl.style.display =\n",
              "        google.colab.kernel.accessAllowed ? 'block' : 'none';\n",
              "\n",
              "      async function convertToInteractive(key) {\n",
              "        const element = document.querySelector('#df-5a7c1247-cab5-4f60-bd29-0a96ab34d90e');\n",
              "        const dataTable =\n",
              "          await google.colab.kernel.invokeFunction('convertToInteractive',\n",
              "                                                    [key], {});\n",
              "        if (!dataTable) return;\n",
              "\n",
              "        const docLinkHtml = 'Like what you see? Visit the ' +\n",
              "          '<a target=\"_blank\" href=https://colab.research.google.com/notebooks/data_table.ipynb>data table notebook</a>'\n",
              "          + ' to learn more about interactive tables.';\n",
              "        element.innerHTML = '';\n",
              "        dataTable['output_type'] = 'display_data';\n",
              "        await google.colab.output.renderOutput(dataTable, element);\n",
              "        const docLink = document.createElement('div');\n",
              "        docLink.innerHTML = docLinkHtml;\n",
              "        element.appendChild(docLink);\n",
              "      }\n",
              "    </script>\n",
              "  </div>\n",
              "\n",
              "\n",
              "<div id=\"df-89182308-bbc4-4428-85c2-4ad26a82db21\">\n",
              "  <button class=\"colab-df-quickchart\" onclick=\"quickchart('df-89182308-bbc4-4428-85c2-4ad26a82db21')\"\n",
              "            title=\"Suggest charts\"\n",
              "            style=\"display:none;\">\n",
              "\n",
              "<svg xmlns=\"http://www.w3.org/2000/svg\" height=\"24px\"viewBox=\"0 0 24 24\"\n",
              "     width=\"24px\">\n",
              "    <g>\n",
              "        <path d=\"M19 3H5c-1.1 0-2 .9-2 2v14c0 1.1.9 2 2 2h14c1.1 0 2-.9 2-2V5c0-1.1-.9-2-2-2zM9 17H7v-7h2v7zm4 0h-2V7h2v10zm4 0h-2v-4h2v4z\"/>\n",
              "    </g>\n",
              "</svg>\n",
              "  </button>\n",
              "\n",
              "<style>\n",
              "  .colab-df-quickchart {\n",
              "      --bg-color: #E8F0FE;\n",
              "      --fill-color: #1967D2;\n",
              "      --hover-bg-color: #E2EBFA;\n",
              "      --hover-fill-color: #174EA6;\n",
              "      --disabled-fill-color: #AAA;\n",
              "      --disabled-bg-color: #DDD;\n",
              "  }\n",
              "\n",
              "  [theme=dark] .colab-df-quickchart {\n",
              "      --bg-color: #3B4455;\n",
              "      --fill-color: #D2E3FC;\n",
              "      --hover-bg-color: #434B5C;\n",
              "      --hover-fill-color: #FFFFFF;\n",
              "      --disabled-bg-color: #3B4455;\n",
              "      --disabled-fill-color: #666;\n",
              "  }\n",
              "\n",
              "  .colab-df-quickchart {\n",
              "    background-color: var(--bg-color);\n",
              "    border: none;\n",
              "    border-radius: 50%;\n",
              "    cursor: pointer;\n",
              "    display: none;\n",
              "    fill: var(--fill-color);\n",
              "    height: 32px;\n",
              "    padding: 0;\n",
              "    width: 32px;\n",
              "  }\n",
              "\n",
              "  .colab-df-quickchart:hover {\n",
              "    background-color: var(--hover-bg-color);\n",
              "    box-shadow: 0 1px 2px rgba(60, 64, 67, 0.3), 0 1px 3px 1px rgba(60, 64, 67, 0.15);\n",
              "    fill: var(--button-hover-fill-color);\n",
              "  }\n",
              "\n",
              "  .colab-df-quickchart-complete:disabled,\n",
              "  .colab-df-quickchart-complete:disabled:hover {\n",
              "    background-color: var(--disabled-bg-color);\n",
              "    fill: var(--disabled-fill-color);\n",
              "    box-shadow: none;\n",
              "  }\n",
              "\n",
              "  .colab-df-spinner {\n",
              "    border: 2px solid var(--fill-color);\n",
              "    border-color: transparent;\n",
              "    border-bottom-color: var(--fill-color);\n",
              "    animation:\n",
              "      spin 1s steps(1) infinite;\n",
              "  }\n",
              "\n",
              "  @keyframes spin {\n",
              "    0% {\n",
              "      border-color: transparent;\n",
              "      border-bottom-color: var(--fill-color);\n",
              "      border-left-color: var(--fill-color);\n",
              "    }\n",
              "    20% {\n",
              "      border-color: transparent;\n",
              "      border-left-color: var(--fill-color);\n",
              "      border-top-color: var(--fill-color);\n",
              "    }\n",
              "    30% {\n",
              "      border-color: transparent;\n",
              "      border-left-color: var(--fill-color);\n",
              "      border-top-color: var(--fill-color);\n",
              "      border-right-color: var(--fill-color);\n",
              "    }\n",
              "    40% {\n",
              "      border-color: transparent;\n",
              "      border-right-color: var(--fill-color);\n",
              "      border-top-color: var(--fill-color);\n",
              "    }\n",
              "    60% {\n",
              "      border-color: transparent;\n",
              "      border-right-color: var(--fill-color);\n",
              "    }\n",
              "    80% {\n",
              "      border-color: transparent;\n",
              "      border-right-color: var(--fill-color);\n",
              "      border-bottom-color: var(--fill-color);\n",
              "    }\n",
              "    90% {\n",
              "      border-color: transparent;\n",
              "      border-bottom-color: var(--fill-color);\n",
              "    }\n",
              "  }\n",
              "</style>\n",
              "\n",
              "  <script>\n",
              "    async function quickchart(key) {\n",
              "      const quickchartButtonEl =\n",
              "        document.querySelector('#' + key + ' button');\n",
              "      quickchartButtonEl.disabled = true;  // To prevent multiple clicks.\n",
              "      quickchartButtonEl.classList.add('colab-df-spinner');\n",
              "      try {\n",
              "        const charts = await google.colab.kernel.invokeFunction(\n",
              "            'suggestCharts', [key], {});\n",
              "      } catch (error) {\n",
              "        console.error('Error during call to suggestCharts:', error);\n",
              "      }\n",
              "      quickchartButtonEl.classList.remove('colab-df-spinner');\n",
              "      quickchartButtonEl.classList.add('colab-df-quickchart-complete');\n",
              "    }\n",
              "    (() => {\n",
              "      let quickchartButtonEl =\n",
              "        document.querySelector('#df-89182308-bbc4-4428-85c2-4ad26a82db21 button');\n",
              "      quickchartButtonEl.style.display =\n",
              "        google.colab.kernel.accessAllowed ? 'block' : 'none';\n",
              "    })();\n",
              "  </script>\n",
              "</div>\n",
              "\n",
              "    </div>\n",
              "  </div>\n"
            ],
            "application/vnd.google.colaboratory.intrinsic+json": {
              "type": "dataframe",
              "variable_name": "df_symptoms"
            }
          },
          "metadata": {},
          "execution_count": 163
        }
      ]
    },
    {
      "cell_type": "code",
      "source": [
        "# prompt: top 12 value counts\n",
        "\n",
        "df_symptoms['SYMPTOM1'].value_counts().head(12)\n"
      ],
      "metadata": {
        "colab": {
          "base_uri": "https://localhost:8080/"
        },
        "id": "yRVV4Q8iCib2",
        "outputId": "67fada31-0e90-4f38-efed-889399a24556"
      },
      "execution_count": 172,
      "outputs": [
        {
          "output_type": "execute_result",
          "data": {
            "text/plain": [
              "SYMPTOM1\n",
              "No adverse event           7112\n",
              "Chills                     6241\n",
              "Injection site erythema    5161\n",
              "Erythema                   4447\n",
              "Arthralgia                 3266\n",
              "Herpes zoster              3026\n",
              "Dizziness                  2620\n",
              "Pyrexia                    2616\n",
              "Injection site pain        2581\n",
              "Fatigue                    2418\n",
              "Asthenia                   2300\n",
              "Headache                   2239\n",
              "Name: count, dtype: int64"
            ]
          },
          "metadata": {},
          "execution_count": 172
        }
      ]
    },
    {
      "cell_type": "code",
      "source": [
        "df_symptoms['SYMPTOM1'].value_counts().head(12)"
      ],
      "metadata": {
        "colab": {
          "base_uri": "https://localhost:8080/"
        },
        "id": "_adgYFx60Wfs",
        "outputId": "f5b909ca-2ae4-4419-c63c-655e3423f3c0"
      },
      "execution_count": 174,
      "outputs": [
        {
          "output_type": "execute_result",
          "data": {
            "text/plain": [
              "SYMPTOM1\n",
              "No adverse event           7112\n",
              "Chills                     6241\n",
              "Injection site erythema    5161\n",
              "Erythema                   4447\n",
              "Arthralgia                 3266\n",
              "Herpes zoster              3026\n",
              "Dizziness                  2620\n",
              "Pyrexia                    2616\n",
              "Injection site pain        2581\n",
              "Fatigue                    2418\n",
              "Asthenia                   2300\n",
              "Headache                   2239\n",
              "Name: count, dtype: int64"
            ]
          },
          "metadata": {},
          "execution_count": 174
        }
      ]
    },
    {
      "cell_type": "code",
      "source": [
        "# prompt: WHAT ARE TOP 10 MOST COMMON VALUE IN SYMPTOM1\n",
        "\n",
        "df_symptoms['SYMPTOM2'].value_counts().head(12)\n"
      ],
      "metadata": {
        "colab": {
          "base_uri": "https://localhost:8080/"
        },
        "id": "GXtWi6QX0zgG",
        "outputId": "c08826d3-c074-4076-a196-2b2b7a43b46d"
      },
      "execution_count": 175,
      "outputs": [
        {
          "output_type": "execute_result",
          "data": {
            "text/plain": [
              "SYMPTOM2\n",
              "Product storage error      4849\n",
              "Injection site pain        3723\n",
              "Headache                   3505\n",
              "No adverse event           3231\n",
              "Fatigue                    3102\n",
              "Pain                       2966\n",
              "Pyrexia                    2656\n",
              "Pain in extremity          2617\n",
              "Chills                     2539\n",
              "Injection site erythema    2241\n",
              "Injection site swelling    2006\n",
              "Rash                       1809\n",
              "Name: count, dtype: int64"
            ]
          },
          "metadata": {},
          "execution_count": 175
        }
      ]
    },
    {
      "cell_type": "code",
      "source": [
        "# prompt: drop SYMPTOMVERSION1 ,SYMPTOMVERSION2. SYMPTOMVERSION3, SYMPTOMVERSION4. SYMPTOMVERSION5\n",
        "\n",
        "df_symptoms = df_symptoms.drop(['SYMPTOMVERSION1', 'SYMPTOMVERSION2','SYMPTOMVERSION3','SYMPTOMVERSION4','SYMPTOMVERSION5'], axis=1)\n"
      ],
      "metadata": {
        "colab": {
          "base_uri": "https://localhost:8080/",
          "height": 402
        },
        "id": "a9URYXd9fCq1",
        "outputId": "45011107-907a-4502-9866-c213ae5a8da4"
      },
      "execution_count": 155,
      "outputs": [
        {
          "output_type": "error",
          "ename": "KeyError",
          "evalue": "\"['SYMPTOMVERSION1', 'SYMPTOMVERSION2', 'SYMPTOMVERSION3', 'SYMPTOMVERSION4', 'SYMPTOMVERSION5'] not found in axis\"",
          "traceback": [
            "\u001b[0;31m---------------------------------------------------------------------------\u001b[0m",
            "\u001b[0;31mKeyError\u001b[0m                                  Traceback (most recent call last)",
            "\u001b[0;32m<ipython-input-155-e5bc652c00d2>\u001b[0m in \u001b[0;36m<cell line: 3>\u001b[0;34m()\u001b[0m\n\u001b[1;32m      1\u001b[0m \u001b[0;31m# prompt: drop SYMPTOMVERSION1 ,SYMPTOMVERSION2. SYMPTOMVERSION3, SYMPTOMVERSION4. SYMPTOMVERSION5\u001b[0m\u001b[0;34m\u001b[0m\u001b[0;34m\u001b[0m\u001b[0m\n\u001b[1;32m      2\u001b[0m \u001b[0;34m\u001b[0m\u001b[0m\n\u001b[0;32m----> 3\u001b[0;31m \u001b[0mdf_symptoms\u001b[0m \u001b[0;34m=\u001b[0m \u001b[0mdf_symptoms\u001b[0m\u001b[0;34m.\u001b[0m\u001b[0mdrop\u001b[0m\u001b[0;34m(\u001b[0m\u001b[0;34m[\u001b[0m\u001b[0;34m'SYMPTOMVERSION1'\u001b[0m\u001b[0;34m,\u001b[0m \u001b[0;34m'SYMPTOMVERSION2'\u001b[0m\u001b[0;34m,\u001b[0m\u001b[0;34m'SYMPTOMVERSION3'\u001b[0m\u001b[0;34m,\u001b[0m\u001b[0;34m'SYMPTOMVERSION4'\u001b[0m\u001b[0;34m,\u001b[0m\u001b[0;34m'SYMPTOMVERSION5'\u001b[0m\u001b[0;34m]\u001b[0m\u001b[0;34m,\u001b[0m \u001b[0maxis\u001b[0m\u001b[0;34m=\u001b[0m\u001b[0;36m1\u001b[0m\u001b[0;34m)\u001b[0m\u001b[0;34m\u001b[0m\u001b[0;34m\u001b[0m\u001b[0m\n\u001b[0m",
            "\u001b[0;32m/usr/local/lib/python3.10/dist-packages/pandas/core/frame.py\u001b[0m in \u001b[0;36mdrop\u001b[0;34m(self, labels, axis, index, columns, level, inplace, errors)\u001b[0m\n\u001b[1;32m   5256\u001b[0m                 \u001b[0mweight\u001b[0m  \u001b[0;36m1.0\u001b[0m     \u001b[0;36m0.8\u001b[0m\u001b[0;34m\u001b[0m\u001b[0;34m\u001b[0m\u001b[0m\n\u001b[1;32m   5257\u001b[0m         \"\"\"\n\u001b[0;32m-> 5258\u001b[0;31m         return super().drop(\n\u001b[0m\u001b[1;32m   5259\u001b[0m             \u001b[0mlabels\u001b[0m\u001b[0;34m=\u001b[0m\u001b[0mlabels\u001b[0m\u001b[0;34m,\u001b[0m\u001b[0;34m\u001b[0m\u001b[0;34m\u001b[0m\u001b[0m\n\u001b[1;32m   5260\u001b[0m             \u001b[0maxis\u001b[0m\u001b[0;34m=\u001b[0m\u001b[0maxis\u001b[0m\u001b[0;34m,\u001b[0m\u001b[0;34m\u001b[0m\u001b[0;34m\u001b[0m\u001b[0m\n",
            "\u001b[0;32m/usr/local/lib/python3.10/dist-packages/pandas/core/generic.py\u001b[0m in \u001b[0;36mdrop\u001b[0;34m(self, labels, axis, index, columns, level, inplace, errors)\u001b[0m\n\u001b[1;32m   4547\u001b[0m         \u001b[0;32mfor\u001b[0m \u001b[0maxis\u001b[0m\u001b[0;34m,\u001b[0m \u001b[0mlabels\u001b[0m \u001b[0;32min\u001b[0m \u001b[0maxes\u001b[0m\u001b[0;34m.\u001b[0m\u001b[0mitems\u001b[0m\u001b[0;34m(\u001b[0m\u001b[0;34m)\u001b[0m\u001b[0;34m:\u001b[0m\u001b[0;34m\u001b[0m\u001b[0;34m\u001b[0m\u001b[0m\n\u001b[1;32m   4548\u001b[0m             \u001b[0;32mif\u001b[0m \u001b[0mlabels\u001b[0m \u001b[0;32mis\u001b[0m \u001b[0;32mnot\u001b[0m \u001b[0;32mNone\u001b[0m\u001b[0;34m:\u001b[0m\u001b[0;34m\u001b[0m\u001b[0;34m\u001b[0m\u001b[0m\n\u001b[0;32m-> 4549\u001b[0;31m                 \u001b[0mobj\u001b[0m \u001b[0;34m=\u001b[0m \u001b[0mobj\u001b[0m\u001b[0;34m.\u001b[0m\u001b[0m_drop_axis\u001b[0m\u001b[0;34m(\u001b[0m\u001b[0mlabels\u001b[0m\u001b[0;34m,\u001b[0m \u001b[0maxis\u001b[0m\u001b[0;34m,\u001b[0m \u001b[0mlevel\u001b[0m\u001b[0;34m=\u001b[0m\u001b[0mlevel\u001b[0m\u001b[0;34m,\u001b[0m \u001b[0merrors\u001b[0m\u001b[0;34m=\u001b[0m\u001b[0merrors\u001b[0m\u001b[0;34m)\u001b[0m\u001b[0;34m\u001b[0m\u001b[0;34m\u001b[0m\u001b[0m\n\u001b[0m\u001b[1;32m   4550\u001b[0m \u001b[0;34m\u001b[0m\u001b[0m\n\u001b[1;32m   4551\u001b[0m         \u001b[0;32mif\u001b[0m \u001b[0minplace\u001b[0m\u001b[0;34m:\u001b[0m\u001b[0;34m\u001b[0m\u001b[0;34m\u001b[0m\u001b[0m\n",
            "\u001b[0;32m/usr/local/lib/python3.10/dist-packages/pandas/core/generic.py\u001b[0m in \u001b[0;36m_drop_axis\u001b[0;34m(self, labels, axis, level, errors, only_slice)\u001b[0m\n\u001b[1;32m   4589\u001b[0m                 \u001b[0mnew_axis\u001b[0m \u001b[0;34m=\u001b[0m \u001b[0maxis\u001b[0m\u001b[0;34m.\u001b[0m\u001b[0mdrop\u001b[0m\u001b[0;34m(\u001b[0m\u001b[0mlabels\u001b[0m\u001b[0;34m,\u001b[0m \u001b[0mlevel\u001b[0m\u001b[0;34m=\u001b[0m\u001b[0mlevel\u001b[0m\u001b[0;34m,\u001b[0m \u001b[0merrors\u001b[0m\u001b[0;34m=\u001b[0m\u001b[0merrors\u001b[0m\u001b[0;34m)\u001b[0m\u001b[0;34m\u001b[0m\u001b[0;34m\u001b[0m\u001b[0m\n\u001b[1;32m   4590\u001b[0m             \u001b[0;32melse\u001b[0m\u001b[0;34m:\u001b[0m\u001b[0;34m\u001b[0m\u001b[0;34m\u001b[0m\u001b[0m\n\u001b[0;32m-> 4591\u001b[0;31m                 \u001b[0mnew_axis\u001b[0m \u001b[0;34m=\u001b[0m \u001b[0maxis\u001b[0m\u001b[0;34m.\u001b[0m\u001b[0mdrop\u001b[0m\u001b[0;34m(\u001b[0m\u001b[0mlabels\u001b[0m\u001b[0;34m,\u001b[0m \u001b[0merrors\u001b[0m\u001b[0;34m=\u001b[0m\u001b[0merrors\u001b[0m\u001b[0;34m)\u001b[0m\u001b[0;34m\u001b[0m\u001b[0;34m\u001b[0m\u001b[0m\n\u001b[0m\u001b[1;32m   4592\u001b[0m             \u001b[0mindexer\u001b[0m \u001b[0;34m=\u001b[0m \u001b[0maxis\u001b[0m\u001b[0;34m.\u001b[0m\u001b[0mget_indexer\u001b[0m\u001b[0;34m(\u001b[0m\u001b[0mnew_axis\u001b[0m\u001b[0;34m)\u001b[0m\u001b[0;34m\u001b[0m\u001b[0;34m\u001b[0m\u001b[0m\n\u001b[1;32m   4593\u001b[0m \u001b[0;34m\u001b[0m\u001b[0m\n",
            "\u001b[0;32m/usr/local/lib/python3.10/dist-packages/pandas/core/indexes/base.py\u001b[0m in \u001b[0;36mdrop\u001b[0;34m(self, labels, errors)\u001b[0m\n\u001b[1;32m   6697\u001b[0m         \u001b[0;32mif\u001b[0m \u001b[0mmask\u001b[0m\u001b[0;34m.\u001b[0m\u001b[0many\u001b[0m\u001b[0;34m(\u001b[0m\u001b[0;34m)\u001b[0m\u001b[0;34m:\u001b[0m\u001b[0;34m\u001b[0m\u001b[0;34m\u001b[0m\u001b[0m\n\u001b[1;32m   6698\u001b[0m             \u001b[0;32mif\u001b[0m \u001b[0merrors\u001b[0m \u001b[0;34m!=\u001b[0m \u001b[0;34m\"ignore\"\u001b[0m\u001b[0;34m:\u001b[0m\u001b[0;34m\u001b[0m\u001b[0;34m\u001b[0m\u001b[0m\n\u001b[0;32m-> 6699\u001b[0;31m                 \u001b[0;32mraise\u001b[0m \u001b[0mKeyError\u001b[0m\u001b[0;34m(\u001b[0m\u001b[0;34mf\"{list(labels[mask])} not found in axis\"\u001b[0m\u001b[0;34m)\u001b[0m\u001b[0;34m\u001b[0m\u001b[0;34m\u001b[0m\u001b[0m\n\u001b[0m\u001b[1;32m   6700\u001b[0m             \u001b[0mindexer\u001b[0m \u001b[0;34m=\u001b[0m \u001b[0mindexer\u001b[0m\u001b[0;34m[\u001b[0m\u001b[0;34m~\u001b[0m\u001b[0mmask\u001b[0m\u001b[0;34m]\u001b[0m\u001b[0;34m\u001b[0m\u001b[0;34m\u001b[0m\u001b[0m\n\u001b[1;32m   6701\u001b[0m         \u001b[0;32mreturn\u001b[0m \u001b[0mself\u001b[0m\u001b[0;34m.\u001b[0m\u001b[0mdelete\u001b[0m\u001b[0;34m(\u001b[0m\u001b[0mindexer\u001b[0m\u001b[0;34m)\u001b[0m\u001b[0;34m\u001b[0m\u001b[0;34m\u001b[0m\u001b[0m\n",
            "\u001b[0;31mKeyError\u001b[0m: \"['SYMPTOMVERSION1', 'SYMPTOMVERSION2', 'SYMPTOMVERSION3', 'SYMPTOMVERSION4', 'SYMPTOMVERSION5'] not found in axis\""
          ]
        }
      ]
    },
    {
      "cell_type": "code",
      "source": [
        "df_symptoms.columns"
      ],
      "metadata": {
        "id": "VJW7ufXs9vtS",
        "outputId": "f369aa30-5ae7-4286-80b6-45eec1bcee48",
        "colab": {
          "base_uri": "https://localhost:8080/"
        }
      },
      "execution_count": 98,
      "outputs": [
        {
          "output_type": "execute_result",
          "data": {
            "text/plain": [
              "Index(['VAERS_ID', 'SYMPTOM1', 'SYMPTOM2', 'SYMPTOM3', 'SYMPTOM4', 'SYMPTOM5'], dtype='object')"
            ]
          },
          "metadata": {},
          "execution_count": 98
        }
      ]
    },
    {
      "cell_type": "code",
      "source": [
        "print(df_symptoms.head())\n",
        "\n"
      ],
      "metadata": {
        "id": "xrCAZ9qwhuON",
        "outputId": "4de74afd-2ff3-4ec4-c6ba-caa8e39d3d19",
        "colab": {
          "base_uri": "https://localhost:8080/"
        }
      },
      "execution_count": 91,
      "outputs": [
        {
          "output_type": "stream",
          "name": "stdout",
          "text": [
            "   VAERS_ID                          SYMPTOM1                   SYMPTOM2  \\\n",
            "0    794156  Injected limb mobility decreased  Injection site joint pain   \n",
            "1    794157                            Apathy                 Arthralgia   \n",
            "2    794157           Injection site pruritus    Injection site swelling   \n",
            "3    794158                            Chills                   Headache   \n",
            "4    794159           Injection site erythema    Injection site swelling   \n",
            "\n",
            "                SYMPTOM3                 SYMPTOM4             SYMPTOM5  \n",
            "0                    NaN                      NaN                  NaN  \n",
            "1               Asthenia  Injection site erythema  Injection site pain  \n",
            "2  Injection site warmth                 Listless         Night sweats  \n",
            "3                 Nausea                     Pain              Pyrexia  \n",
            "4  Injection site warmth                     Pain                  NaN  \n"
          ]
        }
      ]
    },
    {
      "cell_type": "code",
      "source": [
        "df_symptoms.info()\n"
      ],
      "metadata": {
        "id": "GQvSndpPecqv",
        "outputId": "8de87f3d-f73c-4b06-8c4d-d3b429b9a75e",
        "colab": {
          "base_uri": "https://localhost:8080/"
        }
      },
      "execution_count": 105,
      "outputs": [
        {
          "output_type": "stream",
          "name": "stdout",
          "text": [
            "<class 'pandas.core.frame.DataFrame'>\n",
            "Index: 120973 entries, 0 to 60792\n",
            "Data columns (total 11 columns):\n",
            " #   Column           Non-Null Count   Dtype  \n",
            "---  ------           --------------   -----  \n",
            " 0   VAERS_ID         120973 non-null  int64  \n",
            " 1   SYMPTOM1         120973 non-null  object \n",
            " 2   SYMPTOMVERSION1  120973 non-null  float64\n",
            " 3   SYMPTOM2         94362 non-null   object \n",
            " 4   SYMPTOMVERSION2  94362 non-null   float64\n",
            " 5   SYMPTOM3         64990 non-null   object \n",
            " 6   SYMPTOMVERSION3  64990 non-null   float64\n",
            " 7   SYMPTOM4         46492 non-null   object \n",
            " 8   SYMPTOMVERSION4  46492 non-null   float64\n",
            " 9   SYMPTOM5         32728 non-null   object \n",
            " 10  SYMPTOMVERSION5  32728 non-null   float64\n",
            "dtypes: float64(5), int64(1), object(5)\n",
            "memory usage: 11.1+ MB\n"
          ]
        }
      ]
    },
    {
      "cell_type": "code",
      "source": [],
      "metadata": {
        "id": "RgmjQ0LypYBH"
      },
      "execution_count": null,
      "outputs": []
    },
    {
      "cell_type": "code",
      "source": [],
      "metadata": {
        "id": "bzkVCk_qpYEw"
      },
      "execution_count": null,
      "outputs": []
    },
    {
      "cell_type": "code",
      "source": [],
      "metadata": {
        "id": "5hZfd_ywpYI4"
      },
      "execution_count": null,
      "outputs": []
    },
    {
      "cell_type": "code",
      "source": [],
      "metadata": {
        "id": "rR_SvDKlpYMi"
      },
      "execution_count": null,
      "outputs": []
    },
    {
      "cell_type": "code",
      "source": [],
      "metadata": {
        "id": "0LEL-atbpYQL"
      },
      "execution_count": null,
      "outputs": []
    },
    {
      "cell_type": "code",
      "source": [],
      "metadata": {
        "id": "5WtmwVhppYT0"
      },
      "execution_count": null,
      "outputs": []
    },
    {
      "cell_type": "code",
      "source": [
        "# prompt: create a dataframe of values for SYMPTOM1\n",
        "\n",
        "import pandas as pd\n",
        "df_symptom1 = pd.DataFrame(df_symptoms['SYMPTOM1'].unique(), columns=['SYMPTOM1'])\n"
      ],
      "metadata": {
        "id": "5rtYlzLyM5Zx",
        "outputId": "69f3c5b8-7841-421e-a981-af4995ab47e9",
        "colab": {
          "base_uri": "https://localhost:8080/",
          "height": 487
        }
      },
      "execution_count": null,
      "outputs": [
        {
          "output_type": "error",
          "ename": "KeyError",
          "evalue": "'SYMPTOM1'",
          "traceback": [
            "\u001b[0;31m---------------------------------------------------------------------------\u001b[0m",
            "\u001b[0;31mKeyError\u001b[0m                                  Traceback (most recent call last)",
            "\u001b[0;32m/usr/local/lib/python3.10/dist-packages/pandas/core/indexes/base.py\u001b[0m in \u001b[0;36mget_loc\u001b[0;34m(self, key)\u001b[0m\n\u001b[1;32m   3652\u001b[0m         \u001b[0;32mtry\u001b[0m\u001b[0;34m:\u001b[0m\u001b[0;34m\u001b[0m\u001b[0;34m\u001b[0m\u001b[0m\n\u001b[0;32m-> 3653\u001b[0;31m             \u001b[0;32mreturn\u001b[0m \u001b[0mself\u001b[0m\u001b[0;34m.\u001b[0m\u001b[0m_engine\u001b[0m\u001b[0;34m.\u001b[0m\u001b[0mget_loc\u001b[0m\u001b[0;34m(\u001b[0m\u001b[0mcasted_key\u001b[0m\u001b[0;34m)\u001b[0m\u001b[0;34m\u001b[0m\u001b[0;34m\u001b[0m\u001b[0m\n\u001b[0m\u001b[1;32m   3654\u001b[0m         \u001b[0;32mexcept\u001b[0m \u001b[0mKeyError\u001b[0m \u001b[0;32mas\u001b[0m \u001b[0merr\u001b[0m\u001b[0;34m:\u001b[0m\u001b[0;34m\u001b[0m\u001b[0;34m\u001b[0m\u001b[0m\n",
            "\u001b[0;32m/usr/local/lib/python3.10/dist-packages/pandas/_libs/index.pyx\u001b[0m in \u001b[0;36mpandas._libs.index.IndexEngine.get_loc\u001b[0;34m()\u001b[0m\n",
            "\u001b[0;32m/usr/local/lib/python3.10/dist-packages/pandas/_libs/index.pyx\u001b[0m in \u001b[0;36mpandas._libs.index.IndexEngine.get_loc\u001b[0;34m()\u001b[0m\n",
            "\u001b[0;32mpandas/_libs/hashtable_class_helper.pxi\u001b[0m in \u001b[0;36mpandas._libs.hashtable.PyObjectHashTable.get_item\u001b[0;34m()\u001b[0m\n",
            "\u001b[0;32mpandas/_libs/hashtable_class_helper.pxi\u001b[0m in \u001b[0;36mpandas._libs.hashtable.PyObjectHashTable.get_item\u001b[0;34m()\u001b[0m\n",
            "\u001b[0;31mKeyError\u001b[0m: 'SYMPTOM1'",
            "\nThe above exception was the direct cause of the following exception:\n",
            "\u001b[0;31mKeyError\u001b[0m                                  Traceback (most recent call last)",
            "\u001b[0;32m<ipython-input-73-f4cf180a4dcf>\u001b[0m in \u001b[0;36m<cell line: 4>\u001b[0;34m()\u001b[0m\n\u001b[1;32m      2\u001b[0m \u001b[0;34m\u001b[0m\u001b[0m\n\u001b[1;32m      3\u001b[0m \u001b[0;32mimport\u001b[0m \u001b[0mpandas\u001b[0m \u001b[0;32mas\u001b[0m \u001b[0mpd\u001b[0m\u001b[0;34m\u001b[0m\u001b[0;34m\u001b[0m\u001b[0m\n\u001b[0;32m----> 4\u001b[0;31m \u001b[0mdf_symptom1\u001b[0m \u001b[0;34m=\u001b[0m \u001b[0mpd\u001b[0m\u001b[0;34m.\u001b[0m\u001b[0mDataFrame\u001b[0m\u001b[0;34m(\u001b[0m\u001b[0mdf_symptoms\u001b[0m\u001b[0;34m[\u001b[0m\u001b[0;34m'SYMPTOM1'\u001b[0m\u001b[0;34m]\u001b[0m\u001b[0;34m.\u001b[0m\u001b[0munique\u001b[0m\u001b[0;34m(\u001b[0m\u001b[0;34m)\u001b[0m\u001b[0;34m,\u001b[0m \u001b[0mcolumns\u001b[0m\u001b[0;34m=\u001b[0m\u001b[0;34m[\u001b[0m\u001b[0;34m'SYMPTOM1'\u001b[0m\u001b[0;34m]\u001b[0m\u001b[0;34m)\u001b[0m\u001b[0;34m\u001b[0m\u001b[0;34m\u001b[0m\u001b[0m\n\u001b[0m",
            "\u001b[0;32m/usr/local/lib/python3.10/dist-packages/pandas/core/frame.py\u001b[0m in \u001b[0;36m__getitem__\u001b[0;34m(self, key)\u001b[0m\n\u001b[1;32m   3759\u001b[0m             \u001b[0;32mif\u001b[0m \u001b[0mself\u001b[0m\u001b[0;34m.\u001b[0m\u001b[0mcolumns\u001b[0m\u001b[0;34m.\u001b[0m\u001b[0mnlevels\u001b[0m \u001b[0;34m>\u001b[0m \u001b[0;36m1\u001b[0m\u001b[0;34m:\u001b[0m\u001b[0;34m\u001b[0m\u001b[0;34m\u001b[0m\u001b[0m\n\u001b[1;32m   3760\u001b[0m                 \u001b[0;32mreturn\u001b[0m \u001b[0mself\u001b[0m\u001b[0;34m.\u001b[0m\u001b[0m_getitem_multilevel\u001b[0m\u001b[0;34m(\u001b[0m\u001b[0mkey\u001b[0m\u001b[0;34m)\u001b[0m\u001b[0;34m\u001b[0m\u001b[0;34m\u001b[0m\u001b[0m\n\u001b[0;32m-> 3761\u001b[0;31m             \u001b[0mindexer\u001b[0m \u001b[0;34m=\u001b[0m \u001b[0mself\u001b[0m\u001b[0;34m.\u001b[0m\u001b[0mcolumns\u001b[0m\u001b[0;34m.\u001b[0m\u001b[0mget_loc\u001b[0m\u001b[0;34m(\u001b[0m\u001b[0mkey\u001b[0m\u001b[0;34m)\u001b[0m\u001b[0;34m\u001b[0m\u001b[0;34m\u001b[0m\u001b[0m\n\u001b[0m\u001b[1;32m   3762\u001b[0m             \u001b[0;32mif\u001b[0m \u001b[0mis_integer\u001b[0m\u001b[0;34m(\u001b[0m\u001b[0mindexer\u001b[0m\u001b[0;34m)\u001b[0m\u001b[0;34m:\u001b[0m\u001b[0;34m\u001b[0m\u001b[0;34m\u001b[0m\u001b[0m\n\u001b[1;32m   3763\u001b[0m                 \u001b[0mindexer\u001b[0m \u001b[0;34m=\u001b[0m \u001b[0;34m[\u001b[0m\u001b[0mindexer\u001b[0m\u001b[0;34m]\u001b[0m\u001b[0;34m\u001b[0m\u001b[0;34m\u001b[0m\u001b[0m\n",
            "\u001b[0;32m/usr/local/lib/python3.10/dist-packages/pandas/core/indexes/base.py\u001b[0m in \u001b[0;36mget_loc\u001b[0;34m(self, key)\u001b[0m\n\u001b[1;32m   3653\u001b[0m             \u001b[0;32mreturn\u001b[0m \u001b[0mself\u001b[0m\u001b[0;34m.\u001b[0m\u001b[0m_engine\u001b[0m\u001b[0;34m.\u001b[0m\u001b[0mget_loc\u001b[0m\u001b[0;34m(\u001b[0m\u001b[0mcasted_key\u001b[0m\u001b[0;34m)\u001b[0m\u001b[0;34m\u001b[0m\u001b[0;34m\u001b[0m\u001b[0m\n\u001b[1;32m   3654\u001b[0m         \u001b[0;32mexcept\u001b[0m \u001b[0mKeyError\u001b[0m \u001b[0;32mas\u001b[0m \u001b[0merr\u001b[0m\u001b[0;34m:\u001b[0m\u001b[0;34m\u001b[0m\u001b[0;34m\u001b[0m\u001b[0m\n\u001b[0;32m-> 3655\u001b[0;31m             \u001b[0;32mraise\u001b[0m \u001b[0mKeyError\u001b[0m\u001b[0;34m(\u001b[0m\u001b[0mkey\u001b[0m\u001b[0;34m)\u001b[0m \u001b[0;32mfrom\u001b[0m \u001b[0merr\u001b[0m\u001b[0;34m\u001b[0m\u001b[0;34m\u001b[0m\u001b[0m\n\u001b[0m\u001b[1;32m   3656\u001b[0m         \u001b[0;32mexcept\u001b[0m \u001b[0mTypeError\u001b[0m\u001b[0;34m:\u001b[0m\u001b[0;34m\u001b[0m\u001b[0;34m\u001b[0m\u001b[0m\n\u001b[1;32m   3657\u001b[0m             \u001b[0;31m# If we have a listlike key, _check_indexing_error will raise\u001b[0m\u001b[0;34m\u001b[0m\u001b[0;34m\u001b[0m\u001b[0m\n",
            "\u001b[0;31mKeyError\u001b[0m: 'SYMPTOM1'"
          ]
        }
      ]
    },
    {
      "cell_type": "code",
      "source": [
        "df_symptoms_2019['SYMPTOM1'].unique()"
      ],
      "metadata": {
        "id": "h3yvXrpfivGJ",
        "outputId": "789fc4a7-370d-41d0-8c65-20acd7e04e3c",
        "colab": {
          "base_uri": "https://localhost:8080/"
        }
      },
      "execution_count": 106,
      "outputs": [
        {
          "output_type": "execute_result",
          "data": {
            "text/plain": [
              "array(['Injected limb mobility decreased', 'Apathy',\n",
              "       'Injection site pruritus', ..., 'Generalised anxiety disorder',\n",
              "       'Spirometry normal', 'Language disorder'], dtype=object)"
            ]
          },
          "metadata": {},
          "execution_count": 106
        }
      ]
    },
    {
      "cell_type": "code",
      "source": [
        "# prompt: get unique values for SYMPTOM1 using df_symptoms\n",
        "\n",
        "unique_symptoms_2019 = df_symptoms['SYMPTOM1'].unique()\n",
        "print(unique_symptoms_2019)\n"
      ],
      "metadata": {
        "id": "HIdEzCTYQSHB",
        "outputId": "a38a5271-7b35-41ae-a13a-3f328c4212d5",
        "colab": {
          "base_uri": "https://localhost:8080/",
          "height": 487
        }
      },
      "execution_count": null,
      "outputs": [
        {
          "output_type": "error",
          "ename": "KeyError",
          "evalue": "'SYMPTOM1'",
          "traceback": [
            "\u001b[0;31m---------------------------------------------------------------------------\u001b[0m",
            "\u001b[0;31mKeyError\u001b[0m                                  Traceback (most recent call last)",
            "\u001b[0;32m/usr/local/lib/python3.10/dist-packages/pandas/core/indexes/base.py\u001b[0m in \u001b[0;36mget_loc\u001b[0;34m(self, key)\u001b[0m\n\u001b[1;32m   3652\u001b[0m         \u001b[0;32mtry\u001b[0m\u001b[0;34m:\u001b[0m\u001b[0;34m\u001b[0m\u001b[0;34m\u001b[0m\u001b[0m\n\u001b[0;32m-> 3653\u001b[0;31m             \u001b[0;32mreturn\u001b[0m \u001b[0mself\u001b[0m\u001b[0;34m.\u001b[0m\u001b[0m_engine\u001b[0m\u001b[0;34m.\u001b[0m\u001b[0mget_loc\u001b[0m\u001b[0;34m(\u001b[0m\u001b[0mcasted_key\u001b[0m\u001b[0;34m)\u001b[0m\u001b[0;34m\u001b[0m\u001b[0;34m\u001b[0m\u001b[0m\n\u001b[0m\u001b[1;32m   3654\u001b[0m         \u001b[0;32mexcept\u001b[0m \u001b[0mKeyError\u001b[0m \u001b[0;32mas\u001b[0m \u001b[0merr\u001b[0m\u001b[0;34m:\u001b[0m\u001b[0;34m\u001b[0m\u001b[0;34m\u001b[0m\u001b[0m\n",
            "\u001b[0;32m/usr/local/lib/python3.10/dist-packages/pandas/_libs/index.pyx\u001b[0m in \u001b[0;36mpandas._libs.index.IndexEngine.get_loc\u001b[0;34m()\u001b[0m\n",
            "\u001b[0;32m/usr/local/lib/python3.10/dist-packages/pandas/_libs/index.pyx\u001b[0m in \u001b[0;36mpandas._libs.index.IndexEngine.get_loc\u001b[0;34m()\u001b[0m\n",
            "\u001b[0;32mpandas/_libs/hashtable_class_helper.pxi\u001b[0m in \u001b[0;36mpandas._libs.hashtable.PyObjectHashTable.get_item\u001b[0;34m()\u001b[0m\n",
            "\u001b[0;32mpandas/_libs/hashtable_class_helper.pxi\u001b[0m in \u001b[0;36mpandas._libs.hashtable.PyObjectHashTable.get_item\u001b[0;34m()\u001b[0m\n",
            "\u001b[0;31mKeyError\u001b[0m: 'SYMPTOM1'",
            "\nThe above exception was the direct cause of the following exception:\n",
            "\u001b[0;31mKeyError\u001b[0m                                  Traceback (most recent call last)",
            "\u001b[0;32m<ipython-input-65-d12fdedb5cb6>\u001b[0m in \u001b[0;36m<cell line: 3>\u001b[0;34m()\u001b[0m\n\u001b[1;32m      1\u001b[0m \u001b[0;31m# prompt: get unique values for SYMPTOM1 using df_symptoms\u001b[0m\u001b[0;34m\u001b[0m\u001b[0;34m\u001b[0m\u001b[0m\n\u001b[1;32m      2\u001b[0m \u001b[0;34m\u001b[0m\u001b[0m\n\u001b[0;32m----> 3\u001b[0;31m \u001b[0munique_symptoms_2019\u001b[0m \u001b[0;34m=\u001b[0m \u001b[0mdf_symptoms\u001b[0m\u001b[0;34m[\u001b[0m\u001b[0;34m'SYMPTOM1'\u001b[0m\u001b[0;34m]\u001b[0m\u001b[0;34m.\u001b[0m\u001b[0munique\u001b[0m\u001b[0;34m(\u001b[0m\u001b[0;34m)\u001b[0m\u001b[0;34m\u001b[0m\u001b[0;34m\u001b[0m\u001b[0m\n\u001b[0m\u001b[1;32m      4\u001b[0m \u001b[0mprint\u001b[0m\u001b[0;34m(\u001b[0m\u001b[0munique_symptoms_2019\u001b[0m\u001b[0;34m)\u001b[0m\u001b[0;34m\u001b[0m\u001b[0;34m\u001b[0m\u001b[0m\n",
            "\u001b[0;32m/usr/local/lib/python3.10/dist-packages/pandas/core/frame.py\u001b[0m in \u001b[0;36m__getitem__\u001b[0;34m(self, key)\u001b[0m\n\u001b[1;32m   3759\u001b[0m             \u001b[0;32mif\u001b[0m \u001b[0mself\u001b[0m\u001b[0;34m.\u001b[0m\u001b[0mcolumns\u001b[0m\u001b[0;34m.\u001b[0m\u001b[0mnlevels\u001b[0m \u001b[0;34m>\u001b[0m \u001b[0;36m1\u001b[0m\u001b[0;34m:\u001b[0m\u001b[0;34m\u001b[0m\u001b[0;34m\u001b[0m\u001b[0m\n\u001b[1;32m   3760\u001b[0m                 \u001b[0;32mreturn\u001b[0m \u001b[0mself\u001b[0m\u001b[0;34m.\u001b[0m\u001b[0m_getitem_multilevel\u001b[0m\u001b[0;34m(\u001b[0m\u001b[0mkey\u001b[0m\u001b[0;34m)\u001b[0m\u001b[0;34m\u001b[0m\u001b[0;34m\u001b[0m\u001b[0m\n\u001b[0;32m-> 3761\u001b[0;31m             \u001b[0mindexer\u001b[0m \u001b[0;34m=\u001b[0m \u001b[0mself\u001b[0m\u001b[0;34m.\u001b[0m\u001b[0mcolumns\u001b[0m\u001b[0;34m.\u001b[0m\u001b[0mget_loc\u001b[0m\u001b[0;34m(\u001b[0m\u001b[0mkey\u001b[0m\u001b[0;34m)\u001b[0m\u001b[0;34m\u001b[0m\u001b[0;34m\u001b[0m\u001b[0m\n\u001b[0m\u001b[1;32m   3762\u001b[0m             \u001b[0;32mif\u001b[0m \u001b[0mis_integer\u001b[0m\u001b[0;34m(\u001b[0m\u001b[0mindexer\u001b[0m\u001b[0;34m)\u001b[0m\u001b[0;34m:\u001b[0m\u001b[0;34m\u001b[0m\u001b[0;34m\u001b[0m\u001b[0m\n\u001b[1;32m   3763\u001b[0m                 \u001b[0mindexer\u001b[0m \u001b[0;34m=\u001b[0m \u001b[0;34m[\u001b[0m\u001b[0mindexer\u001b[0m\u001b[0;34m]\u001b[0m\u001b[0;34m\u001b[0m\u001b[0;34m\u001b[0m\u001b[0m\n",
            "\u001b[0;32m/usr/local/lib/python3.10/dist-packages/pandas/core/indexes/base.py\u001b[0m in \u001b[0;36mget_loc\u001b[0;34m(self, key)\u001b[0m\n\u001b[1;32m   3653\u001b[0m             \u001b[0;32mreturn\u001b[0m \u001b[0mself\u001b[0m\u001b[0;34m.\u001b[0m\u001b[0m_engine\u001b[0m\u001b[0;34m.\u001b[0m\u001b[0mget_loc\u001b[0m\u001b[0;34m(\u001b[0m\u001b[0mcasted_key\u001b[0m\u001b[0;34m)\u001b[0m\u001b[0;34m\u001b[0m\u001b[0;34m\u001b[0m\u001b[0m\n\u001b[1;32m   3654\u001b[0m         \u001b[0;32mexcept\u001b[0m \u001b[0mKeyError\u001b[0m \u001b[0;32mas\u001b[0m \u001b[0merr\u001b[0m\u001b[0;34m:\u001b[0m\u001b[0;34m\u001b[0m\u001b[0;34m\u001b[0m\u001b[0m\n\u001b[0;32m-> 3655\u001b[0;31m             \u001b[0;32mraise\u001b[0m \u001b[0mKeyError\u001b[0m\u001b[0;34m(\u001b[0m\u001b[0mkey\u001b[0m\u001b[0;34m)\u001b[0m \u001b[0;32mfrom\u001b[0m \u001b[0merr\u001b[0m\u001b[0;34m\u001b[0m\u001b[0;34m\u001b[0m\u001b[0m\n\u001b[0m\u001b[1;32m   3656\u001b[0m         \u001b[0;32mexcept\u001b[0m \u001b[0mTypeError\u001b[0m\u001b[0;34m:\u001b[0m\u001b[0;34m\u001b[0m\u001b[0;34m\u001b[0m\u001b[0m\n\u001b[1;32m   3657\u001b[0m             \u001b[0;31m# If we have a listlike key, _check_indexing_error will raise\u001b[0m\u001b[0;34m\u001b[0m\u001b[0;34m\u001b[0m\u001b[0m\n",
            "\u001b[0;31mKeyError\u001b[0m: 'SYMPTOM1'"
          ]
        }
      ]
    },
    {
      "cell_type": "code",
      "source": [
        "# prompt: print the unique_symptoms as rows\n",
        "\n",
        "import pandas as pd\n",
        "print(pd.DataFrame(unique_symptoms, columns=['SYMPTOM1']))\n"
      ],
      "metadata": {
        "id": "_MGRMAbrLg2n",
        "outputId": "94cb08cd-f4a8-40a9-d45a-224f3504b144",
        "colab": {
          "base_uri": "https://localhost:8080/"
        }
      },
      "execution_count": null,
      "outputs": [
        {
          "output_type": "stream",
          "name": "stdout",
          "text": [
            "                                               SYMPTOM1\n",
            "0                      Injected limb mobility decreased\n",
            "1                                                Apathy\n",
            "2                               Injection site pruritus\n",
            "3                                                Chills\n",
            "4                               Injection site erythema\n",
            "...                                                 ...\n",
            "3222                     Cardiac assistance device user\n",
            "3223  Left ventricular end-diastolic pressure increased\n",
            "3224                                 COVID-19 pneumonia\n",
            "3225                                        Base excess\n",
            "3226                         Herpes zoster disseminated\n",
            "\n",
            "[3227 rows x 1 columns]\n"
          ]
        }
      ]
    },
    {
      "cell_type": "code",
      "source": [
        "# prompt: concolidate SYMPTOM1,  SYMPTOM2\n",
        "\n",
        "df_symptoms['SYMPTOM'] = df_symptoms[['SYMPTOM1', 'SYMPTOM2']].apply(lambda x: ' '.join(x.dropna().astype(str)), axis=1)\n",
        "df_symptoms.drop(['SYMPTOM1', 'SYMPTOM2'], axis=1, inplace=True)\n"
      ],
      "metadata": {
        "id": "JuVp_39H9-_F",
        "outputId": "4cdc4404-9f98-4a03-c41e-cc45e51ef48a",
        "colab": {
          "base_uri": "https://localhost:8080/",
          "height": 345
        }
      },
      "execution_count": null,
      "outputs": [
        {
          "output_type": "error",
          "ename": "KeyError",
          "evalue": "\"None of [Index(['SYMPTOM1', 'SYMPTOM2'], dtype='object')] are in the [columns]\"",
          "traceback": [
            "\u001b[0;31m---------------------------------------------------------------------------\u001b[0m",
            "\u001b[0;31mKeyError\u001b[0m                                  Traceback (most recent call last)",
            "\u001b[0;32m<ipython-input-63-c608f145cf41>\u001b[0m in \u001b[0;36m<cell line: 3>\u001b[0;34m()\u001b[0m\n\u001b[1;32m      1\u001b[0m \u001b[0;31m# prompt: concolidate SYMPTOM1,  SYMPTOM2\u001b[0m\u001b[0;34m\u001b[0m\u001b[0;34m\u001b[0m\u001b[0m\n\u001b[1;32m      2\u001b[0m \u001b[0;34m\u001b[0m\u001b[0m\n\u001b[0;32m----> 3\u001b[0;31m \u001b[0mdf_symptoms\u001b[0m\u001b[0;34m[\u001b[0m\u001b[0;34m'SYMPTOM'\u001b[0m\u001b[0;34m]\u001b[0m \u001b[0;34m=\u001b[0m \u001b[0mdf_symptoms\u001b[0m\u001b[0;34m[\u001b[0m\u001b[0;34m[\u001b[0m\u001b[0;34m'SYMPTOM1'\u001b[0m\u001b[0;34m,\u001b[0m \u001b[0;34m'SYMPTOM2'\u001b[0m\u001b[0;34m]\u001b[0m\u001b[0;34m]\u001b[0m\u001b[0;34m.\u001b[0m\u001b[0mapply\u001b[0m\u001b[0;34m(\u001b[0m\u001b[0;32mlambda\u001b[0m \u001b[0mx\u001b[0m\u001b[0;34m:\u001b[0m \u001b[0;34m' '\u001b[0m\u001b[0;34m.\u001b[0m\u001b[0mjoin\u001b[0m\u001b[0;34m(\u001b[0m\u001b[0mx\u001b[0m\u001b[0;34m.\u001b[0m\u001b[0mdropna\u001b[0m\u001b[0;34m(\u001b[0m\u001b[0;34m)\u001b[0m\u001b[0;34m.\u001b[0m\u001b[0mastype\u001b[0m\u001b[0;34m(\u001b[0m\u001b[0mstr\u001b[0m\u001b[0;34m)\u001b[0m\u001b[0;34m)\u001b[0m\u001b[0;34m,\u001b[0m \u001b[0maxis\u001b[0m\u001b[0;34m=\u001b[0m\u001b[0;36m1\u001b[0m\u001b[0;34m)\u001b[0m\u001b[0;34m\u001b[0m\u001b[0;34m\u001b[0m\u001b[0m\n\u001b[0m\u001b[1;32m      4\u001b[0m \u001b[0mdf_symptoms\u001b[0m\u001b[0;34m.\u001b[0m\u001b[0mdrop\u001b[0m\u001b[0;34m(\u001b[0m\u001b[0;34m[\u001b[0m\u001b[0;34m'SYMPTOM1'\u001b[0m\u001b[0;34m,\u001b[0m \u001b[0;34m'SYMPTOM2'\u001b[0m\u001b[0;34m]\u001b[0m\u001b[0;34m,\u001b[0m \u001b[0maxis\u001b[0m\u001b[0;34m=\u001b[0m\u001b[0;36m1\u001b[0m\u001b[0;34m,\u001b[0m \u001b[0minplace\u001b[0m\u001b[0;34m=\u001b[0m\u001b[0;32mTrue\u001b[0m\u001b[0;34m)\u001b[0m\u001b[0;34m\u001b[0m\u001b[0;34m\u001b[0m\u001b[0m\n",
            "\u001b[0;32m/usr/local/lib/python3.10/dist-packages/pandas/core/frame.py\u001b[0m in \u001b[0;36m__getitem__\u001b[0;34m(self, key)\u001b[0m\n\u001b[1;32m   3765\u001b[0m             \u001b[0;32mif\u001b[0m \u001b[0mis_iterator\u001b[0m\u001b[0;34m(\u001b[0m\u001b[0mkey\u001b[0m\u001b[0;34m)\u001b[0m\u001b[0;34m:\u001b[0m\u001b[0;34m\u001b[0m\u001b[0;34m\u001b[0m\u001b[0m\n\u001b[1;32m   3766\u001b[0m                 \u001b[0mkey\u001b[0m \u001b[0;34m=\u001b[0m \u001b[0mlist\u001b[0m\u001b[0;34m(\u001b[0m\u001b[0mkey\u001b[0m\u001b[0;34m)\u001b[0m\u001b[0;34m\u001b[0m\u001b[0;34m\u001b[0m\u001b[0m\n\u001b[0;32m-> 3767\u001b[0;31m             \u001b[0mindexer\u001b[0m \u001b[0;34m=\u001b[0m \u001b[0mself\u001b[0m\u001b[0;34m.\u001b[0m\u001b[0mcolumns\u001b[0m\u001b[0;34m.\u001b[0m\u001b[0m_get_indexer_strict\u001b[0m\u001b[0;34m(\u001b[0m\u001b[0mkey\u001b[0m\u001b[0;34m,\u001b[0m \u001b[0;34m\"columns\"\u001b[0m\u001b[0;34m)\u001b[0m\u001b[0;34m[\u001b[0m\u001b[0;36m1\u001b[0m\u001b[0;34m]\u001b[0m\u001b[0;34m\u001b[0m\u001b[0;34m\u001b[0m\u001b[0m\n\u001b[0m\u001b[1;32m   3768\u001b[0m \u001b[0;34m\u001b[0m\u001b[0m\n\u001b[1;32m   3769\u001b[0m         \u001b[0;31m# take() does not accept boolean indexers\u001b[0m\u001b[0;34m\u001b[0m\u001b[0;34m\u001b[0m\u001b[0m\n",
            "\u001b[0;32m/usr/local/lib/python3.10/dist-packages/pandas/core/indexes/base.py\u001b[0m in \u001b[0;36m_get_indexer_strict\u001b[0;34m(self, key, axis_name)\u001b[0m\n\u001b[1;32m   5875\u001b[0m             \u001b[0mkeyarr\u001b[0m\u001b[0;34m,\u001b[0m \u001b[0mindexer\u001b[0m\u001b[0;34m,\u001b[0m \u001b[0mnew_indexer\u001b[0m \u001b[0;34m=\u001b[0m \u001b[0mself\u001b[0m\u001b[0;34m.\u001b[0m\u001b[0m_reindex_non_unique\u001b[0m\u001b[0;34m(\u001b[0m\u001b[0mkeyarr\u001b[0m\u001b[0;34m)\u001b[0m\u001b[0;34m\u001b[0m\u001b[0;34m\u001b[0m\u001b[0m\n\u001b[1;32m   5876\u001b[0m \u001b[0;34m\u001b[0m\u001b[0m\n\u001b[0;32m-> 5877\u001b[0;31m         \u001b[0mself\u001b[0m\u001b[0;34m.\u001b[0m\u001b[0m_raise_if_missing\u001b[0m\u001b[0;34m(\u001b[0m\u001b[0mkeyarr\u001b[0m\u001b[0;34m,\u001b[0m \u001b[0mindexer\u001b[0m\u001b[0;34m,\u001b[0m \u001b[0maxis_name\u001b[0m\u001b[0;34m)\u001b[0m\u001b[0;34m\u001b[0m\u001b[0;34m\u001b[0m\u001b[0m\n\u001b[0m\u001b[1;32m   5878\u001b[0m \u001b[0;34m\u001b[0m\u001b[0m\n\u001b[1;32m   5879\u001b[0m         \u001b[0mkeyarr\u001b[0m \u001b[0;34m=\u001b[0m \u001b[0mself\u001b[0m\u001b[0;34m.\u001b[0m\u001b[0mtake\u001b[0m\u001b[0;34m(\u001b[0m\u001b[0mindexer\u001b[0m\u001b[0;34m)\u001b[0m\u001b[0;34m\u001b[0m\u001b[0;34m\u001b[0m\u001b[0m\n",
            "\u001b[0;32m/usr/local/lib/python3.10/dist-packages/pandas/core/indexes/base.py\u001b[0m in \u001b[0;36m_raise_if_missing\u001b[0;34m(self, key, indexer, axis_name)\u001b[0m\n\u001b[1;32m   5936\u001b[0m                 \u001b[0;32mif\u001b[0m \u001b[0muse_interval_msg\u001b[0m\u001b[0;34m:\u001b[0m\u001b[0;34m\u001b[0m\u001b[0;34m\u001b[0m\u001b[0m\n\u001b[1;32m   5937\u001b[0m                     \u001b[0mkey\u001b[0m \u001b[0;34m=\u001b[0m \u001b[0mlist\u001b[0m\u001b[0;34m(\u001b[0m\u001b[0mkey\u001b[0m\u001b[0;34m)\u001b[0m\u001b[0;34m\u001b[0m\u001b[0;34m\u001b[0m\u001b[0m\n\u001b[0;32m-> 5938\u001b[0;31m                 \u001b[0;32mraise\u001b[0m \u001b[0mKeyError\u001b[0m\u001b[0;34m(\u001b[0m\u001b[0;34mf\"None of [{key}] are in the [{axis_name}]\"\u001b[0m\u001b[0;34m)\u001b[0m\u001b[0;34m\u001b[0m\u001b[0;34m\u001b[0m\u001b[0m\n\u001b[0m\u001b[1;32m   5939\u001b[0m \u001b[0;34m\u001b[0m\u001b[0m\n\u001b[1;32m   5940\u001b[0m             \u001b[0mnot_found\u001b[0m \u001b[0;34m=\u001b[0m \u001b[0mlist\u001b[0m\u001b[0;34m(\u001b[0m\u001b[0mensure_index\u001b[0m\u001b[0;34m(\u001b[0m\u001b[0mkey\u001b[0m\u001b[0;34m)\u001b[0m\u001b[0;34m[\u001b[0m\u001b[0mmissing_mask\u001b[0m\u001b[0;34m.\u001b[0m\u001b[0mnonzero\u001b[0m\u001b[0;34m(\u001b[0m\u001b[0;34m)\u001b[0m\u001b[0;34m[\u001b[0m\u001b[0;36m0\u001b[0m\u001b[0;34m]\u001b[0m\u001b[0;34m]\u001b[0m\u001b[0;34m.\u001b[0m\u001b[0munique\u001b[0m\u001b[0;34m(\u001b[0m\u001b[0;34m)\u001b[0m\u001b[0;34m)\u001b[0m\u001b[0;34m\u001b[0m\u001b[0;34m\u001b[0m\u001b[0m\n",
            "\u001b[0;31mKeyError\u001b[0m: \"None of [Index(['SYMPTOM1', 'SYMPTOM2'], dtype='object')] are in the [columns]\""
          ]
        }
      ]
    },
    {
      "cell_type": "code",
      "source": [
        "df_symptoms.head()"
      ],
      "metadata": {
        "id": "vcZVYmq8PLQf",
        "outputId": "e1fe2e18-ac05-4b8c-8aa2-7bfae0fe1b95",
        "colab": {
          "base_uri": "https://localhost:8080/",
          "height": 275
        }
      },
      "execution_count": null,
      "outputs": [
        {
          "output_type": "execute_result",
          "data": {
            "text/plain": [
              "   VAERS_ID  SYMPTOMVERSION1  SYMPTOMVERSION2               SYMPTOM3  \\\n",
              "0    794156             21.1             21.1                    NaN   \n",
              "1    794157             21.1             21.1               Asthenia   \n",
              "2    794157             21.1             21.1  Injection site warmth   \n",
              "3    794158             21.1             21.1                 Nausea   \n",
              "4    794159             21.1             21.1  Injection site warmth   \n",
              "\n",
              "   SYMPTOMVERSION3                 SYMPTOM4  SYMPTOMVERSION4  \\\n",
              "0              NaN                      NaN              NaN   \n",
              "1             21.1  Injection site erythema             21.1   \n",
              "2             21.1                 Listless             21.1   \n",
              "3             21.1                     Pain             21.1   \n",
              "4             21.1                     Pain             21.1   \n",
              "\n",
              "              SYMPTOM5  SYMPTOMVERSION5  \\\n",
              "0                  NaN              NaN   \n",
              "1  Injection site pain             21.1   \n",
              "2         Night sweats             21.1   \n",
              "3              Pyrexia             21.1   \n",
              "4                  NaN              NaN   \n",
              "\n",
              "                                             SYMPTOM  \n",
              "0  Injected limb mobility decreased Injection sit...  \n",
              "1                                  Apathy Arthralgia  \n",
              "2    Injection site pruritus Injection site swelling  \n",
              "3                                    Chills Headache  \n",
              "4    Injection site erythema Injection site swelling  "
            ],
            "text/html": [
              "\n",
              "  <div id=\"df-9a1f5514-3e75-43b0-9fb7-a69bd234dd2a\" class=\"colab-df-container\">\n",
              "    <div>\n",
              "<style scoped>\n",
              "    .dataframe tbody tr th:only-of-type {\n",
              "        vertical-align: middle;\n",
              "    }\n",
              "\n",
              "    .dataframe tbody tr th {\n",
              "        vertical-align: top;\n",
              "    }\n",
              "\n",
              "    .dataframe thead th {\n",
              "        text-align: right;\n",
              "    }\n",
              "</style>\n",
              "<table border=\"1\" class=\"dataframe\">\n",
              "  <thead>\n",
              "    <tr style=\"text-align: right;\">\n",
              "      <th></th>\n",
              "      <th>VAERS_ID</th>\n",
              "      <th>SYMPTOMVERSION1</th>\n",
              "      <th>SYMPTOMVERSION2</th>\n",
              "      <th>SYMPTOM3</th>\n",
              "      <th>SYMPTOMVERSION3</th>\n",
              "      <th>SYMPTOM4</th>\n",
              "      <th>SYMPTOMVERSION4</th>\n",
              "      <th>SYMPTOM5</th>\n",
              "      <th>SYMPTOMVERSION5</th>\n",
              "      <th>SYMPTOM</th>\n",
              "    </tr>\n",
              "  </thead>\n",
              "  <tbody>\n",
              "    <tr>\n",
              "      <th>0</th>\n",
              "      <td>794156</td>\n",
              "      <td>21.1</td>\n",
              "      <td>21.1</td>\n",
              "      <td>NaN</td>\n",
              "      <td>NaN</td>\n",
              "      <td>NaN</td>\n",
              "      <td>NaN</td>\n",
              "      <td>NaN</td>\n",
              "      <td>NaN</td>\n",
              "      <td>Injected limb mobility decreased Injection sit...</td>\n",
              "    </tr>\n",
              "    <tr>\n",
              "      <th>1</th>\n",
              "      <td>794157</td>\n",
              "      <td>21.1</td>\n",
              "      <td>21.1</td>\n",
              "      <td>Asthenia</td>\n",
              "      <td>21.1</td>\n",
              "      <td>Injection site erythema</td>\n",
              "      <td>21.1</td>\n",
              "      <td>Injection site pain</td>\n",
              "      <td>21.1</td>\n",
              "      <td>Apathy Arthralgia</td>\n",
              "    </tr>\n",
              "    <tr>\n",
              "      <th>2</th>\n",
              "      <td>794157</td>\n",
              "      <td>21.1</td>\n",
              "      <td>21.1</td>\n",
              "      <td>Injection site warmth</td>\n",
              "      <td>21.1</td>\n",
              "      <td>Listless</td>\n",
              "      <td>21.1</td>\n",
              "      <td>Night sweats</td>\n",
              "      <td>21.1</td>\n",
              "      <td>Injection site pruritus Injection site swelling</td>\n",
              "    </tr>\n",
              "    <tr>\n",
              "      <th>3</th>\n",
              "      <td>794158</td>\n",
              "      <td>21.1</td>\n",
              "      <td>21.1</td>\n",
              "      <td>Nausea</td>\n",
              "      <td>21.1</td>\n",
              "      <td>Pain</td>\n",
              "      <td>21.1</td>\n",
              "      <td>Pyrexia</td>\n",
              "      <td>21.1</td>\n",
              "      <td>Chills Headache</td>\n",
              "    </tr>\n",
              "    <tr>\n",
              "      <th>4</th>\n",
              "      <td>794159</td>\n",
              "      <td>21.1</td>\n",
              "      <td>21.1</td>\n",
              "      <td>Injection site warmth</td>\n",
              "      <td>21.1</td>\n",
              "      <td>Pain</td>\n",
              "      <td>21.1</td>\n",
              "      <td>NaN</td>\n",
              "      <td>NaN</td>\n",
              "      <td>Injection site erythema Injection site swelling</td>\n",
              "    </tr>\n",
              "  </tbody>\n",
              "</table>\n",
              "</div>\n",
              "    <div class=\"colab-df-buttons\">\n",
              "\n",
              "  <div class=\"colab-df-container\">\n",
              "    <button class=\"colab-df-convert\" onclick=\"convertToInteractive('df-9a1f5514-3e75-43b0-9fb7-a69bd234dd2a')\"\n",
              "            title=\"Convert this dataframe to an interactive table.\"\n",
              "            style=\"display:none;\">\n",
              "\n",
              "  <svg xmlns=\"http://www.w3.org/2000/svg\" height=\"24px\" viewBox=\"0 -960 960 960\">\n",
              "    <path d=\"M120-120v-720h720v720H120Zm60-500h600v-160H180v160Zm220 220h160v-160H400v160Zm0 220h160v-160H400v160ZM180-400h160v-160H180v160Zm440 0h160v-160H620v160ZM180-180h160v-160H180v160Zm440 0h160v-160H620v160Z\"/>\n",
              "  </svg>\n",
              "    </button>\n",
              "\n",
              "  <style>\n",
              "    .colab-df-container {\n",
              "      display:flex;\n",
              "      gap: 12px;\n",
              "    }\n",
              "\n",
              "    .colab-df-convert {\n",
              "      background-color: #E8F0FE;\n",
              "      border: none;\n",
              "      border-radius: 50%;\n",
              "      cursor: pointer;\n",
              "      display: none;\n",
              "      fill: #1967D2;\n",
              "      height: 32px;\n",
              "      padding: 0 0 0 0;\n",
              "      width: 32px;\n",
              "    }\n",
              "\n",
              "    .colab-df-convert:hover {\n",
              "      background-color: #E2EBFA;\n",
              "      box-shadow: 0px 1px 2px rgba(60, 64, 67, 0.3), 0px 1px 3px 1px rgba(60, 64, 67, 0.15);\n",
              "      fill: #174EA6;\n",
              "    }\n",
              "\n",
              "    .colab-df-buttons div {\n",
              "      margin-bottom: 4px;\n",
              "    }\n",
              "\n",
              "    [theme=dark] .colab-df-convert {\n",
              "      background-color: #3B4455;\n",
              "      fill: #D2E3FC;\n",
              "    }\n",
              "\n",
              "    [theme=dark] .colab-df-convert:hover {\n",
              "      background-color: #434B5C;\n",
              "      box-shadow: 0px 1px 3px 1px rgba(0, 0, 0, 0.15);\n",
              "      filter: drop-shadow(0px 1px 2px rgba(0, 0, 0, 0.3));\n",
              "      fill: #FFFFFF;\n",
              "    }\n",
              "  </style>\n",
              "\n",
              "    <script>\n",
              "      const buttonEl =\n",
              "        document.querySelector('#df-9a1f5514-3e75-43b0-9fb7-a69bd234dd2a button.colab-df-convert');\n",
              "      buttonEl.style.display =\n",
              "        google.colab.kernel.accessAllowed ? 'block' : 'none';\n",
              "\n",
              "      async function convertToInteractive(key) {\n",
              "        const element = document.querySelector('#df-9a1f5514-3e75-43b0-9fb7-a69bd234dd2a');\n",
              "        const dataTable =\n",
              "          await google.colab.kernel.invokeFunction('convertToInteractive',\n",
              "                                                    [key], {});\n",
              "        if (!dataTable) return;\n",
              "\n",
              "        const docLinkHtml = 'Like what you see? Visit the ' +\n",
              "          '<a target=\"_blank\" href=https://colab.research.google.com/notebooks/data_table.ipynb>data table notebook</a>'\n",
              "          + ' to learn more about interactive tables.';\n",
              "        element.innerHTML = '';\n",
              "        dataTable['output_type'] = 'display_data';\n",
              "        await google.colab.output.renderOutput(dataTable, element);\n",
              "        const docLink = document.createElement('div');\n",
              "        docLink.innerHTML = docLinkHtml;\n",
              "        element.appendChild(docLink);\n",
              "      }\n",
              "    </script>\n",
              "  </div>\n",
              "\n",
              "\n",
              "<div id=\"df-4f13659a-7984-40f1-9762-c2f0502c1ac6\">\n",
              "  <button class=\"colab-df-quickchart\" onclick=\"quickchart('df-4f13659a-7984-40f1-9762-c2f0502c1ac6')\"\n",
              "            title=\"Suggest charts\"\n",
              "            style=\"display:none;\">\n",
              "\n",
              "<svg xmlns=\"http://www.w3.org/2000/svg\" height=\"24px\"viewBox=\"0 0 24 24\"\n",
              "     width=\"24px\">\n",
              "    <g>\n",
              "        <path d=\"M19 3H5c-1.1 0-2 .9-2 2v14c0 1.1.9 2 2 2h14c1.1 0 2-.9 2-2V5c0-1.1-.9-2-2-2zM9 17H7v-7h2v7zm4 0h-2V7h2v10zm4 0h-2v-4h2v4z\"/>\n",
              "    </g>\n",
              "</svg>\n",
              "  </button>\n",
              "\n",
              "<style>\n",
              "  .colab-df-quickchart {\n",
              "      --bg-color: #E8F0FE;\n",
              "      --fill-color: #1967D2;\n",
              "      --hover-bg-color: #E2EBFA;\n",
              "      --hover-fill-color: #174EA6;\n",
              "      --disabled-fill-color: #AAA;\n",
              "      --disabled-bg-color: #DDD;\n",
              "  }\n",
              "\n",
              "  [theme=dark] .colab-df-quickchart {\n",
              "      --bg-color: #3B4455;\n",
              "      --fill-color: #D2E3FC;\n",
              "      --hover-bg-color: #434B5C;\n",
              "      --hover-fill-color: #FFFFFF;\n",
              "      --disabled-bg-color: #3B4455;\n",
              "      --disabled-fill-color: #666;\n",
              "  }\n",
              "\n",
              "  .colab-df-quickchart {\n",
              "    background-color: var(--bg-color);\n",
              "    border: none;\n",
              "    border-radius: 50%;\n",
              "    cursor: pointer;\n",
              "    display: none;\n",
              "    fill: var(--fill-color);\n",
              "    height: 32px;\n",
              "    padding: 0;\n",
              "    width: 32px;\n",
              "  }\n",
              "\n",
              "  .colab-df-quickchart:hover {\n",
              "    background-color: var(--hover-bg-color);\n",
              "    box-shadow: 0 1px 2px rgba(60, 64, 67, 0.3), 0 1px 3px 1px rgba(60, 64, 67, 0.15);\n",
              "    fill: var(--button-hover-fill-color);\n",
              "  }\n",
              "\n",
              "  .colab-df-quickchart-complete:disabled,\n",
              "  .colab-df-quickchart-complete:disabled:hover {\n",
              "    background-color: var(--disabled-bg-color);\n",
              "    fill: var(--disabled-fill-color);\n",
              "    box-shadow: none;\n",
              "  }\n",
              "\n",
              "  .colab-df-spinner {\n",
              "    border: 2px solid var(--fill-color);\n",
              "    border-color: transparent;\n",
              "    border-bottom-color: var(--fill-color);\n",
              "    animation:\n",
              "      spin 1s steps(1) infinite;\n",
              "  }\n",
              "\n",
              "  @keyframes spin {\n",
              "    0% {\n",
              "      border-color: transparent;\n",
              "      border-bottom-color: var(--fill-color);\n",
              "      border-left-color: var(--fill-color);\n",
              "    }\n",
              "    20% {\n",
              "      border-color: transparent;\n",
              "      border-left-color: var(--fill-color);\n",
              "      border-top-color: var(--fill-color);\n",
              "    }\n",
              "    30% {\n",
              "      border-color: transparent;\n",
              "      border-left-color: var(--fill-color);\n",
              "      border-top-color: var(--fill-color);\n",
              "      border-right-color: var(--fill-color);\n",
              "    }\n",
              "    40% {\n",
              "      border-color: transparent;\n",
              "      border-right-color: var(--fill-color);\n",
              "      border-top-color: var(--fill-color);\n",
              "    }\n",
              "    60% {\n",
              "      border-color: transparent;\n",
              "      border-right-color: var(--fill-color);\n",
              "    }\n",
              "    80% {\n",
              "      border-color: transparent;\n",
              "      border-right-color: var(--fill-color);\n",
              "      border-bottom-color: var(--fill-color);\n",
              "    }\n",
              "    90% {\n",
              "      border-color: transparent;\n",
              "      border-bottom-color: var(--fill-color);\n",
              "    }\n",
              "  }\n",
              "</style>\n",
              "\n",
              "  <script>\n",
              "    async function quickchart(key) {\n",
              "      const quickchartButtonEl =\n",
              "        document.querySelector('#' + key + ' button');\n",
              "      quickchartButtonEl.disabled = true;  // To prevent multiple clicks.\n",
              "      quickchartButtonEl.classList.add('colab-df-spinner');\n",
              "      try {\n",
              "        const charts = await google.colab.kernel.invokeFunction(\n",
              "            'suggestCharts', [key], {});\n",
              "      } catch (error) {\n",
              "        console.error('Error during call to suggestCharts:', error);\n",
              "      }\n",
              "      quickchartButtonEl.classList.remove('colab-df-spinner');\n",
              "      quickchartButtonEl.classList.add('colab-df-quickchart-complete');\n",
              "    }\n",
              "    (() => {\n",
              "      let quickchartButtonEl =\n",
              "        document.querySelector('#df-4f13659a-7984-40f1-9762-c2f0502c1ac6 button');\n",
              "      quickchartButtonEl.style.display =\n",
              "        google.colab.kernel.accessAllowed ? 'block' : 'none';\n",
              "    })();\n",
              "  </script>\n",
              "</div>\n",
              "\n",
              "    </div>\n",
              "  </div>\n"
            ],
            "application/vnd.google.colaboratory.intrinsic+json": {
              "type": "dataframe",
              "variable_name": "df_symptoms",
              "summary": "{\n  \"name\": \"df_symptoms\",\n  \"rows\": 60180,\n  \"fields\": [\n    {\n      \"column\": \"VAERS_ID\",\n      \"properties\": {\n        \"dtype\": \"number\",\n        \"std\": 20242,\n        \"min\": 794156,\n        \"max\": 2760385,\n        \"num_unique_values\": 48437,\n        \"samples\": [\n          834831,\n          817087,\n          831757\n        ],\n        \"semantic_type\": \"\",\n        \"description\": \"\"\n      }\n    },\n    {\n      \"column\": \"SYMPTOMVERSION1\",\n      \"properties\": {\n        \"dtype\": \"number\",\n        \"std\": 0.22491650802782986,\n        \"min\": 21.1,\n        \"max\": 27.0,\n        \"num_unique_values\": 7,\n        \"samples\": [\n          21.1,\n          22.0,\n          25.1\n        ],\n        \"semantic_type\": \"\",\n        \"description\": \"\"\n      }\n    },\n    {\n      \"column\": \"SYMPTOMVERSION2\",\n      \"properties\": {\n        \"dtype\": \"number\",\n        \"std\": 0.2233396834766756,\n        \"min\": 21.1,\n        \"max\": 25.1,\n        \"num_unique_values\": 6,\n        \"samples\": [\n          21.1,\n          22.0,\n          25.1\n        ],\n        \"semantic_type\": \"\",\n        \"description\": \"\"\n      }\n    },\n    {\n      \"column\": \"SYMPTOM3\",\n      \"properties\": {\n        \"dtype\": \"category\",\n        \"num_unique_values\": 2076,\n        \"samples\": [\n          \"Haemoglobin normal\",\n          \"Memory impairment\",\n          \"Expanded disability status scale score decreased\"\n        ],\n        \"semantic_type\": \"\",\n        \"description\": \"\"\n      }\n    },\n    {\n      \"column\": \"SYMPTOMVERSION3\",\n      \"properties\": {\n        \"dtype\": \"number\",\n        \"std\": 0.22107687785853009,\n        \"min\": 21.1,\n        \"max\": 23.0,\n        \"num_unique_values\": 4,\n        \"samples\": [\n          22.0,\n          23.0,\n          21.1\n        ],\n        \"semantic_type\": \"\",\n        \"description\": \"\"\n      }\n    },\n    {\n      \"column\": \"SYMPTOM4\",\n      \"properties\": {\n        \"dtype\": \"category\",\n        \"num_unique_values\": 1823,\n        \"samples\": [\n          \"Red blood cell sedimentation rate normal\",\n          \"Infarction\",\n          \"Vomiting projectile\"\n        ],\n        \"semantic_type\": \"\",\n        \"description\": \"\"\n      }\n    },\n    {\n      \"column\": \"SYMPTOMVERSION4\",\n      \"properties\": {\n        \"dtype\": \"number\",\n        \"std\": 0.22440051334477157,\n        \"min\": 21.1,\n        \"max\": 23.0,\n        \"num_unique_values\": 4,\n        \"samples\": [\n          22.0,\n          23.0,\n          21.1\n        ],\n        \"semantic_type\": \"\",\n        \"description\": \"\"\n      }\n    },\n    {\n      \"column\": \"SYMPTOM5\",\n      \"properties\": {\n        \"dtype\": \"category\",\n        \"num_unique_values\": 1642,\n        \"samples\": [\n          \"Burning sensation\",\n          \"Ear injury\",\n          \"Measles antibody positive\"\n        ],\n        \"semantic_type\": \"\",\n        \"description\": \"\"\n      }\n    },\n    {\n      \"column\": \"SYMPTOMVERSION5\",\n      \"properties\": {\n        \"dtype\": \"number\",\n        \"std\": 0.23042219059035376,\n        \"min\": 21.1,\n        \"max\": 23.0,\n        \"num_unique_values\": 4,\n        \"samples\": [\n          22.0,\n          23.0,\n          21.1\n        ],\n        \"semantic_type\": \"\",\n        \"description\": \"\"\n      }\n    },\n    {\n      \"column\": \"SYMPTOM\",\n      \"properties\": {\n        \"dtype\": \"category\",\n        \"num_unique_values\": 14491,\n        \"samples\": [\n          \"Eye swelling Fatigue\",\n          \"Blindness Cyanosis\",\n          \"Pain in extremity Parasite stool test negative\"\n        ],\n        \"semantic_type\": \"\",\n        \"description\": \"\"\n      }\n    }\n  ]\n}"
            }
          },
          "metadata": {},
          "execution_count": 7
        }
      ]
    }
  ]
}