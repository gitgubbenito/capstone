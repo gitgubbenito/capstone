{
  "nbformat": 4,
  "nbformat_minor": 0,
  "metadata": {
    "colab": {
      "provenance": [],
      "mount_file_id": "https://github.com/gitgubbenito/capstone/blob/main/VAERS-v2.5.ipynb",
      "authorship_tag": "ABX9TyOeRlWb4VtxHaXxvsgCpaOe",
      "include_colab_link": true
    },
    "kernelspec": {
      "name": "python3",
      "display_name": "Python 3"
    },
    "language_info": {
      "name": "python"
    }
  },
  "cells": [
    {
      "cell_type": "markdown",
      "metadata": {
        "id": "view-in-github",
        "colab_type": "text"
      },
      "source": [
        "<a href=\"https://colab.research.google.com/github/gitgubbenito/capstone/blob/main/VAERS-v2.5.ipynb\" target=\"_parent\"><img src=\"https://colab.research.google.com/assets/colab-badge.svg\" alt=\"Open In Colab\"/></a>"
      ]
    },
    {
      "cell_type": "code",
      "execution_count": null,
      "metadata": {
        "id": "vZRx_93KAKbF"
      },
      "outputs": [],
      "source": [
        "##Capstone Project - Vaccine Adverse Event Reporting System"
      ]
    },
    {
      "cell_type": "code",
      "source": [
        "%reset -f"
      ],
      "metadata": {
        "id": "fd6bUe9vu5FU"
      },
      "execution_count": 5,
      "outputs": []
    },
    {
      "cell_type": "markdown",
      "source": [
        "Data files can be found at the following location:\n",
        "https://vaers.hhs.gov/data/datasets.html\n",
        "\n",
        "Datasets were to big to be uploaded to github\n",
        "\n",
        "I focus on 2021 datasets"
      ],
      "metadata": {
        "id": "xjcEGqy_nbJ1"
      }
    },
    {
      "cell_type": "code",
      "source": [
        "from datetime import date\n",
        "\n",
        "import random\n",
        "import statistics\n",
        "from scipy import stats\n",
        "from statsmodels.stats import weightstats as stests\n",
        "from scipy.stats import shapiro\n",
        "from statsmodels.stats import power\n",
        "from category_encoders import TargetEncoder, OneHotEncoder\n",
        "\n",
        "from sklearn.linear_model import LogisticRegression\n",
        "from sklearn import metrics\n",
        "from sklearn.metrics import log_loss, confusion_matrix, classification_report, cohen_kappa_score, accuracy_score, f1_score, roc_curve, roc_auc_score\n",
        "\n",
        "from sklearn.neighbors import KNeighborsClassifier\n",
        "from sklearn.naive_bayes import GaussianNB, MultinomialNB\n",
        "\n",
        "from sklearn.tree import DecisionTreeClassifier\n",
        "from sklearn import tree\n",
        "import pydotplus\n",
        "\n",
        "from sklearn.ensemble import RandomForestClassifier, GradientBoostingClassifier, AdaBoostClassifier, StackingClassifier\n",
        "from xgboost import XGBClassifier\n",
        "\n",
        "from sklearn.feature_selection import RFE\n",
        "\n",
        "from sklearn.preprocessing import StandardScaler, MinMaxScaler\n",
        "from sklearn.model_selection import GridSearchCV, train_test_split, KFold, StratifiedKFold, cross_val_score\n",
        "\n",
        "# to suppress warnings\n",
        "from warnings import filterwarnings\n",
        "filterwarnings('ignore')\n",
        "\n",
        "# display all columns of the dataframe\n",
        "pd.options.display.max_columns = None\n",
        "\n",
        "# display all rows of the dataframe\n",
        "pd.options.display.max_rows = None\n",
        "\n",
        "# to display the float values upto 6 decimal places\n",
        "pd.options.display.float_format = '{:.6f}'.format\n",
        "\n",
        "from sklearn.utils import resample\n",
        "\n",
        "from wordcloud import WordCloud\n",
        "from wordcloud import STOPWORDS\n",
        "\n",
        "import nltk\n",
        "import re\n",
        "from sklearn.feature_extraction.text import TfidfTransformer\n",
        "from sklearn.feature_extraction.text import TfidfVectorizer\n",
        "from sklearn.feature_extraction.text import CountVectorizer\n",
        "from sklearn.manifold import TSNE\n",
        "from nltk.stem.porter import PorterStemmer"
      ],
      "metadata": {
        "id": "V5aZWklDMd7S",
        "colab": {
          "base_uri": "https://localhost:8080/",
          "height": 214
        },
        "outputId": "91ab3979-09a9-40be-8f19-b4f7b17ce296"
      },
      "execution_count": 6,
      "outputs": [
        {
          "output_type": "error",
          "ename": "NameError",
          "evalue": "name 'pd' is not defined",
          "traceback": [
            "\u001b[0;31m---------------------------------------------------------------------------\u001b[0m",
            "\u001b[0;31mNameError\u001b[0m                                 Traceback (most recent call last)",
            "\u001b[0;32m<ipython-input-6-dd43c5900f0b>\u001b[0m in \u001b[0;36m<cell line: 35>\u001b[0;34m()\u001b[0m\n\u001b[1;32m     33\u001b[0m \u001b[0;34m\u001b[0m\u001b[0m\n\u001b[1;32m     34\u001b[0m \u001b[0;31m# display all columns of the dataframe\u001b[0m\u001b[0;34m\u001b[0m\u001b[0;34m\u001b[0m\u001b[0m\n\u001b[0;32m---> 35\u001b[0;31m \u001b[0mpd\u001b[0m\u001b[0;34m.\u001b[0m\u001b[0moptions\u001b[0m\u001b[0;34m.\u001b[0m\u001b[0mdisplay\u001b[0m\u001b[0;34m.\u001b[0m\u001b[0mmax_columns\u001b[0m \u001b[0;34m=\u001b[0m \u001b[0;32mNone\u001b[0m\u001b[0;34m\u001b[0m\u001b[0;34m\u001b[0m\u001b[0m\n\u001b[0m\u001b[1;32m     36\u001b[0m \u001b[0;34m\u001b[0m\u001b[0m\n\u001b[1;32m     37\u001b[0m \u001b[0;31m# display all rows of the dataframe\u001b[0m\u001b[0;34m\u001b[0m\u001b[0;34m\u001b[0m\u001b[0m\n",
            "\u001b[0;31mNameError\u001b[0m: name 'pd' is not defined"
          ]
        }
      ]
    },
    {
      "cell_type": "code",
      "source": [
        "#!pip install chardet\n",
        "#!pip install category_encoders"
      ],
      "metadata": {
        "id": "VnkB6stflJnj",
        "colab": {
          "base_uri": "https://localhost:8080/"
        },
        "outputId": "0710d75b-9f70-46df-e06c-ae5f3ff779d8"
      },
      "execution_count": 7,
      "outputs": [
        {
          "output_type": "stream",
          "name": "stdout",
          "text": [
            "Collecting category_encoders\n",
            "  Downloading category_encoders-2.6.3-py2.py3-none-any.whl (81 kB)\n",
            "\u001b[?25l     \u001b[90m━━━━━━━━━━━━━━━━━━━━━━━━━━━━━━━━━━━━━━━━\u001b[0m \u001b[32m0.0/81.9 kB\u001b[0m \u001b[31m?\u001b[0m eta \u001b[36m-:--:--\u001b[0m\r\u001b[2K     \u001b[91m━━━━━━━━━━━━━━━\u001b[0m\u001b[90m╺\u001b[0m\u001b[90m━━━━━━━━━━━━━━━━━━━━━━━━\u001b[0m \u001b[32m30.7/81.9 kB\u001b[0m \u001b[31m640.4 kB/s\u001b[0m eta \u001b[36m0:00:01\u001b[0m\r\u001b[2K     \u001b[91m━━━━━━━━━━━━━━━━━━━━\u001b[0m\u001b[90m╺\u001b[0m\u001b[90m━━━━━━━━━━━━━━━━━━━\u001b[0m \u001b[32m41.0/81.9 kB\u001b[0m \u001b[31m763.8 kB/s\u001b[0m eta \u001b[36m0:00:01\u001b[0m\r\u001b[2K     \u001b[90m━━━━━━━━━━━━━━━━━━━━━━━━━━━━━━━━━━━━━━━━\u001b[0m \u001b[32m81.9/81.9 kB\u001b[0m \u001b[31m867.9 kB/s\u001b[0m eta \u001b[36m0:00:00\u001b[0m\n",
            "\u001b[?25hRequirement already satisfied: numpy>=1.14.0 in /usr/local/lib/python3.10/dist-packages (from category_encoders) (1.25.2)\n",
            "Requirement already satisfied: scikit-learn>=0.20.0 in /usr/local/lib/python3.10/dist-packages (from category_encoders) (1.2.2)\n",
            "Requirement already satisfied: scipy>=1.0.0 in /usr/local/lib/python3.10/dist-packages (from category_encoders) (1.11.4)\n",
            "Requirement already satisfied: statsmodels>=0.9.0 in /usr/local/lib/python3.10/dist-packages (from category_encoders) (0.14.2)\n",
            "Requirement already satisfied: pandas>=1.0.5 in /usr/local/lib/python3.10/dist-packages (from category_encoders) (2.0.3)\n",
            "Requirement already satisfied: patsy>=0.5.1 in /usr/local/lib/python3.10/dist-packages (from category_encoders) (0.5.6)\n",
            "Requirement already satisfied: python-dateutil>=2.8.2 in /usr/local/lib/python3.10/dist-packages (from pandas>=1.0.5->category_encoders) (2.8.2)\n",
            "Requirement already satisfied: pytz>=2020.1 in /usr/local/lib/python3.10/dist-packages (from pandas>=1.0.5->category_encoders) (2023.4)\n",
            "Requirement already satisfied: tzdata>=2022.1 in /usr/local/lib/python3.10/dist-packages (from pandas>=1.0.5->category_encoders) (2024.1)\n",
            "Requirement already satisfied: six in /usr/local/lib/python3.10/dist-packages (from patsy>=0.5.1->category_encoders) (1.16.0)\n",
            "Requirement already satisfied: joblib>=1.1.1 in /usr/local/lib/python3.10/dist-packages (from scikit-learn>=0.20.0->category_encoders) (1.4.2)\n",
            "Requirement already satisfied: threadpoolctl>=2.0.0 in /usr/local/lib/python3.10/dist-packages (from scikit-learn>=0.20.0->category_encoders) (3.5.0)\n",
            "Requirement already satisfied: packaging>=21.3 in /usr/local/lib/python3.10/dist-packages (from statsmodels>=0.9.0->category_encoders) (24.1)\n",
            "Installing collected packages: category_encoders\n",
            "Successfully installed category_encoders-2.6.3\n"
          ]
        }
      ]
    },
    {
      "cell_type": "code",
      "source": [
        "import chardet\n",
        "with open('/content/drive/MyDrive/capstone/2021VAERSSYMPTOMS.csv', 'rb') as f:\n",
        "    data = f.read()\n",
        "    encoding_result = chardet.detect(data)\n",
        "    encoding = encoding_result['encoding']\n",
        "    print(\"Detected Encoding:\", encoding)"
      ],
      "metadata": {
        "colab": {
          "base_uri": "https://localhost:8080/"
        },
        "id": "JDVyPUo7mdHo",
        "outputId": "65712e87-eca2-4ae0-f725-818e00aa47ba"
      },
      "execution_count": null,
      "outputs": [
        {
          "output_type": "stream",
          "name": "stdout",
          "text": [
            "Detected Encoding: ascii\n"
          ]
        }
      ]
    },
    {
      "cell_type": "markdown",
      "source": [],
      "metadata": {
        "id": "IC-rk9Dk0aTU"
      }
    },
    {
      "cell_type": "markdown",
      "source": [
        "\n",
        "#Things to do\n",
        "- Load all 2021 files - done\n",
        "- Explore Datasets - done\n",
        "- Merge Datasets - done\n",
        "- Data Clean-up - done\n",
        "- Determine the most common sysmtoms by vaccine manu - Done\n",
        "- How many people were disable o die due to the vaccine - Done\n",
        "- Number of VAERS by state - Done\n",
        "- Plot top 20 symtoms - Done\n",
        "# Questions to be answer\n",
        "1.  Do people who experience side effects from the vaccine tend to experience them sooner or later after vaccination?\n",
        "2.  Can factors like age, gender, vaccine brand, and medical conditions help predict how strongly someone might react to the vaccine?\n",
        "3.  Is there a noticeable difference in age between those who have no serious side effects and those who do?\n",
        "4. What are the most common VAERS presented on pacients with COVID-19 vaccine\n",
        "\n",
        "#ML Model to explore\n",
        "Clasification models\n",
        "* K-nearse neibort\n",
        "* Decision trees\n",
        "* Logistic regresation\n",
        "* Support Factor Machine\n",
        "\n",
        "\n",
        "\n",
        "\n"
      ],
      "metadata": {
        "id": "EUB_j2BYZPq_"
      }
    },
    {
      "cell_type": "markdown",
      "source": [],
      "metadata": {
        "id": "mRea4_GS8dRi"
      }
    },
    {
      "cell_type": "code",
      "source": [
        "#Load all 2021 files\n",
        "df_symptoms_2021 =pd.read_csv('/content/drive/MyDrive/capstone/2021VAERSSYMPTOMS.csv')\n",
        "df_vaers_data_2021 = pd.read_csv('/content/drive/MyDrive/capstone/2021VAERSDATA.csv',encoding=\"Windows-1252\")\n",
        "df_vaers_vax_2021 = pd.read_csv('/content/drive/MyDrive/capstone/2021VAERSVAX.csv',encoding=\"Windows-1252\")\n"
      ],
      "metadata": {
        "id": "igTMmUkr0TMU",
        "colab": {
          "base_uri": "https://localhost:8080/",
          "height": 197
        },
        "outputId": "46d982de-f549-447e-e127-95db5eca616d"
      },
      "execution_count": 4,
      "outputs": [
        {
          "output_type": "error",
          "ename": "NameError",
          "evalue": "name 'pd' is not defined",
          "traceback": [
            "\u001b[0;31m---------------------------------------------------------------------------\u001b[0m",
            "\u001b[0;31mNameError\u001b[0m                                 Traceback (most recent call last)",
            "\u001b[0;32m<ipython-input-4-8b19012f9fec>\u001b[0m in \u001b[0;36m<cell line: 2>\u001b[0;34m()\u001b[0m\n\u001b[1;32m      1\u001b[0m \u001b[0;31m#Load all 2021 files\u001b[0m\u001b[0;34m\u001b[0m\u001b[0;34m\u001b[0m\u001b[0m\n\u001b[0;32m----> 2\u001b[0;31m \u001b[0mdf_symptoms_2021\u001b[0m \u001b[0;34m=\u001b[0m\u001b[0mpd\u001b[0m\u001b[0;34m.\u001b[0m\u001b[0mread_csv\u001b[0m\u001b[0;34m(\u001b[0m\u001b[0;34m'/content/drive/MyDrive/capstone/2021VAERSSYMPTOMS.csv'\u001b[0m\u001b[0;34m)\u001b[0m\u001b[0;34m\u001b[0m\u001b[0;34m\u001b[0m\u001b[0m\n\u001b[0m\u001b[1;32m      3\u001b[0m \u001b[0mdf_vaers_data_2021\u001b[0m \u001b[0;34m=\u001b[0m \u001b[0mpd\u001b[0m\u001b[0;34m.\u001b[0m\u001b[0mread_csv\u001b[0m\u001b[0;34m(\u001b[0m\u001b[0;34m'/content/drive/MyDrive/capstone/2021VAERSDATA.csv'\u001b[0m\u001b[0;34m,\u001b[0m\u001b[0mencoding\u001b[0m\u001b[0;34m=\u001b[0m\u001b[0;34m\"Windows-1252\"\u001b[0m\u001b[0;34m)\u001b[0m\u001b[0;34m\u001b[0m\u001b[0;34m\u001b[0m\u001b[0m\n\u001b[1;32m      4\u001b[0m \u001b[0mdf_vaers_vax_2021\u001b[0m \u001b[0;34m=\u001b[0m \u001b[0mpd\u001b[0m\u001b[0;34m.\u001b[0m\u001b[0mread_csv\u001b[0m\u001b[0;34m(\u001b[0m\u001b[0;34m'/content/drive/MyDrive/capstone/2021VAERSVAX.csv'\u001b[0m\u001b[0;34m,\u001b[0m\u001b[0mencoding\u001b[0m\u001b[0;34m=\u001b[0m\u001b[0;34m\"Windows-1252\"\u001b[0m\u001b[0;34m)\u001b[0m\u001b[0;34m\u001b[0m\u001b[0;34m\u001b[0m\u001b[0m\n",
            "\u001b[0;31mNameError\u001b[0m: name 'pd' is not defined"
          ]
        }
      ]
    },
    {
      "cell_type": "code",
      "source": [
        "print(df_symptoms_2021.head())"
      ],
      "metadata": {
        "id": "S-IIQ0BMDuAM",
        "outputId": "0d5b2b3a-b608-4bf6-d825-e7eea2d3f0f2",
        "colab": {
          "base_uri": "https://localhost:8080/"
        }
      },
      "execution_count": 12,
      "outputs": [
        {
          "output_type": "stream",
          "name": "stdout",
          "text": [
            "   VAERS_ID          SYMPTOM1  SYMPTOMVERSION1              SYMPTOM2  \\\n",
            "0    910642          Dyspnoea        25.000000  Heart rate increased   \n",
            "1    916600         Dysphagia        23.100000          Epiglottitis   \n",
            "2    916601           Anxiety        23.100000              Dyspnoea   \n",
            "3    916602  Chest discomfort        23.100000             Dysphagia   \n",
            "4    916603         Dizziness        23.100000               Fatigue   \n",
            "\n",
            "   SYMPTOMVERSION2                  SYMPTOM3  SYMPTOMVERSION3  \\\n",
            "0        25.000000  SARS-CoV-2 test negative        25.000000   \n",
            "1        23.100000                       NaN              NaN   \n",
            "2        23.100000                       NaN              NaN   \n",
            "3        23.100000         Pain in extremity        23.100000   \n",
            "4        23.100000        Mobility decreased        23.100000   \n",
            "\n",
            "            SYMPTOM4  SYMPTOMVERSION4 SYMPTOM5  SYMPTOMVERSION5  \n",
            "0                NaN              NaN      NaN              NaN  \n",
            "1                NaN              NaN      NaN              NaN  \n",
            "2                NaN              NaN      NaN              NaN  \n",
            "3  Visual impairment        23.100000      NaN              NaN  \n",
            "4                NaN              NaN      NaN              NaN  \n"
          ]
        }
      ]
    },
    {
      "cell_type": "code",
      "source": [
        "# Concatenate all columns SYMPTOM1, SYMPTOM4, SYMPTOM2,SYMPTOM3, SYMPTOM4, SYMPTOM5\n",
        "\n",
        "df_symptoms_2021['ALL_SYMPTOMS'] = df_symptoms_2021[['SYMPTOM1', 'SYMPTOM4', 'SYMPTOM2', 'SYMPTOM3', 'SYMPTOM4', 'SYMPTOM5']].apply(lambda x: ' '.join(x.dropna().astype(str)), axis=1)\n"
      ],
      "metadata": {
        "id": "JS2tUc9OJJCe"
      },
      "execution_count": 13,
      "outputs": []
    },
    {
      "cell_type": "code",
      "source": [
        "# Explore Datasets\n",
        "print(\"Shape of df_symptoms_2021:\", df_symptoms_2021.shape)\n",
        "print(\"Shape of df_vaers_data_2021:\", df_vaers_data_2021.shape)\n",
        "print(\"Shape of df_vaers_vax_2021:\", df_vaers_vax_2021.shape)\n"
      ],
      "metadata": {
        "id": "FhwX7WueePyH",
        "outputId": "5ab82dfd-9d79-42ee-831d-819239e3caca",
        "colab": {
          "base_uri": "https://localhost:8080/"
        }
      },
      "execution_count": 14,
      "outputs": [
        {
          "output_type": "stream",
          "name": "stdout",
          "text": [
            "Shape of df_symptoms_2021: (1003896, 12)\n",
            "Shape of df_vaers_data_2021: (753006, 35)\n",
            "Shape of df_vaers_vax_2021: (797081, 8)\n"
          ]
        }
      ]
    },
    {
      "cell_type": "code",
      "source": [
        "df_symptoms_2021.head(3)"
      ],
      "metadata": {
        "id": "DB8tCaimOxvf",
        "outputId": "6cc78b9c-ba8c-4da8-fd3a-525c85e12c12",
        "colab": {
          "base_uri": "https://localhost:8080/",
          "height": 267
        }
      },
      "execution_count": 15,
      "outputs": [
        {
          "output_type": "execute_result",
          "data": {
            "text/plain": [
              "   VAERS_ID   SYMPTOM1  SYMPTOMVERSION1              SYMPTOM2  \\\n",
              "0    910642   Dyspnoea        25.000000  Heart rate increased   \n",
              "1    916600  Dysphagia        23.100000          Epiglottitis   \n",
              "2    916601    Anxiety        23.100000              Dyspnoea   \n",
              "\n",
              "   SYMPTOMVERSION2                  SYMPTOM3  SYMPTOMVERSION3 SYMPTOM4  \\\n",
              "0        25.000000  SARS-CoV-2 test negative        25.000000      NaN   \n",
              "1        23.100000                       NaN              NaN      NaN   \n",
              "2        23.100000                       NaN              NaN      NaN   \n",
              "\n",
              "   SYMPTOMVERSION4 SYMPTOM5  SYMPTOMVERSION5  \\\n",
              "0              NaN      NaN              NaN   \n",
              "1              NaN      NaN              NaN   \n",
              "2              NaN      NaN              NaN   \n",
              "\n",
              "                                        ALL_SYMPTOMS  \n",
              "0  Dyspnoea Heart rate increased SARS-CoV-2 test ...  \n",
              "1                             Dysphagia Epiglottitis  \n",
              "2                                   Anxiety Dyspnoea  "
            ],
            "text/html": [
              "\n",
              "  <div id=\"df-bb1aed3d-21bd-4480-bc12-0a04733728e2\" class=\"colab-df-container\">\n",
              "    <div>\n",
              "<style scoped>\n",
              "    .dataframe tbody tr th:only-of-type {\n",
              "        vertical-align: middle;\n",
              "    }\n",
              "\n",
              "    .dataframe tbody tr th {\n",
              "        vertical-align: top;\n",
              "    }\n",
              "\n",
              "    .dataframe thead th {\n",
              "        text-align: right;\n",
              "    }\n",
              "</style>\n",
              "<table border=\"1\" class=\"dataframe\">\n",
              "  <thead>\n",
              "    <tr style=\"text-align: right;\">\n",
              "      <th></th>\n",
              "      <th>VAERS_ID</th>\n",
              "      <th>SYMPTOM1</th>\n",
              "      <th>SYMPTOMVERSION1</th>\n",
              "      <th>SYMPTOM2</th>\n",
              "      <th>SYMPTOMVERSION2</th>\n",
              "      <th>SYMPTOM3</th>\n",
              "      <th>SYMPTOMVERSION3</th>\n",
              "      <th>SYMPTOM4</th>\n",
              "      <th>SYMPTOMVERSION4</th>\n",
              "      <th>SYMPTOM5</th>\n",
              "      <th>SYMPTOMVERSION5</th>\n",
              "      <th>ALL_SYMPTOMS</th>\n",
              "    </tr>\n",
              "  </thead>\n",
              "  <tbody>\n",
              "    <tr>\n",
              "      <th>0</th>\n",
              "      <td>910642</td>\n",
              "      <td>Dyspnoea</td>\n",
              "      <td>25.000000</td>\n",
              "      <td>Heart rate increased</td>\n",
              "      <td>25.000000</td>\n",
              "      <td>SARS-CoV-2 test negative</td>\n",
              "      <td>25.000000</td>\n",
              "      <td>NaN</td>\n",
              "      <td>NaN</td>\n",
              "      <td>NaN</td>\n",
              "      <td>NaN</td>\n",
              "      <td>Dyspnoea Heart rate increased SARS-CoV-2 test ...</td>\n",
              "    </tr>\n",
              "    <tr>\n",
              "      <th>1</th>\n",
              "      <td>916600</td>\n",
              "      <td>Dysphagia</td>\n",
              "      <td>23.100000</td>\n",
              "      <td>Epiglottitis</td>\n",
              "      <td>23.100000</td>\n",
              "      <td>NaN</td>\n",
              "      <td>NaN</td>\n",
              "      <td>NaN</td>\n",
              "      <td>NaN</td>\n",
              "      <td>NaN</td>\n",
              "      <td>NaN</td>\n",
              "      <td>Dysphagia Epiglottitis</td>\n",
              "    </tr>\n",
              "    <tr>\n",
              "      <th>2</th>\n",
              "      <td>916601</td>\n",
              "      <td>Anxiety</td>\n",
              "      <td>23.100000</td>\n",
              "      <td>Dyspnoea</td>\n",
              "      <td>23.100000</td>\n",
              "      <td>NaN</td>\n",
              "      <td>NaN</td>\n",
              "      <td>NaN</td>\n",
              "      <td>NaN</td>\n",
              "      <td>NaN</td>\n",
              "      <td>NaN</td>\n",
              "      <td>Anxiety Dyspnoea</td>\n",
              "    </tr>\n",
              "  </tbody>\n",
              "</table>\n",
              "</div>\n",
              "    <div class=\"colab-df-buttons\">\n",
              "\n",
              "  <div class=\"colab-df-container\">\n",
              "    <button class=\"colab-df-convert\" onclick=\"convertToInteractive('df-bb1aed3d-21bd-4480-bc12-0a04733728e2')\"\n",
              "            title=\"Convert this dataframe to an interactive table.\"\n",
              "            style=\"display:none;\">\n",
              "\n",
              "  <svg xmlns=\"http://www.w3.org/2000/svg\" height=\"24px\" viewBox=\"0 -960 960 960\">\n",
              "    <path d=\"M120-120v-720h720v720H120Zm60-500h600v-160H180v160Zm220 220h160v-160H400v160Zm0 220h160v-160H400v160ZM180-400h160v-160H180v160Zm440 0h160v-160H620v160ZM180-180h160v-160H180v160Zm440 0h160v-160H620v160Z\"/>\n",
              "  </svg>\n",
              "    </button>\n",
              "\n",
              "  <style>\n",
              "    .colab-df-container {\n",
              "      display:flex;\n",
              "      gap: 12px;\n",
              "    }\n",
              "\n",
              "    .colab-df-convert {\n",
              "      background-color: #E8F0FE;\n",
              "      border: none;\n",
              "      border-radius: 50%;\n",
              "      cursor: pointer;\n",
              "      display: none;\n",
              "      fill: #1967D2;\n",
              "      height: 32px;\n",
              "      padding: 0 0 0 0;\n",
              "      width: 32px;\n",
              "    }\n",
              "\n",
              "    .colab-df-convert:hover {\n",
              "      background-color: #E2EBFA;\n",
              "      box-shadow: 0px 1px 2px rgba(60, 64, 67, 0.3), 0px 1px 3px 1px rgba(60, 64, 67, 0.15);\n",
              "      fill: #174EA6;\n",
              "    }\n",
              "\n",
              "    .colab-df-buttons div {\n",
              "      margin-bottom: 4px;\n",
              "    }\n",
              "\n",
              "    [theme=dark] .colab-df-convert {\n",
              "      background-color: #3B4455;\n",
              "      fill: #D2E3FC;\n",
              "    }\n",
              "\n",
              "    [theme=dark] .colab-df-convert:hover {\n",
              "      background-color: #434B5C;\n",
              "      box-shadow: 0px 1px 3px 1px rgba(0, 0, 0, 0.15);\n",
              "      filter: drop-shadow(0px 1px 2px rgba(0, 0, 0, 0.3));\n",
              "      fill: #FFFFFF;\n",
              "    }\n",
              "  </style>\n",
              "\n",
              "    <script>\n",
              "      const buttonEl =\n",
              "        document.querySelector('#df-bb1aed3d-21bd-4480-bc12-0a04733728e2 button.colab-df-convert');\n",
              "      buttonEl.style.display =\n",
              "        google.colab.kernel.accessAllowed ? 'block' : 'none';\n",
              "\n",
              "      async function convertToInteractive(key) {\n",
              "        const element = document.querySelector('#df-bb1aed3d-21bd-4480-bc12-0a04733728e2');\n",
              "        const dataTable =\n",
              "          await google.colab.kernel.invokeFunction('convertToInteractive',\n",
              "                                                    [key], {});\n",
              "        if (!dataTable) return;\n",
              "\n",
              "        const docLinkHtml = 'Like what you see? Visit the ' +\n",
              "          '<a target=\"_blank\" href=https://colab.research.google.com/notebooks/data_table.ipynb>data table notebook</a>'\n",
              "          + ' to learn more about interactive tables.';\n",
              "        element.innerHTML = '';\n",
              "        dataTable['output_type'] = 'display_data';\n",
              "        await google.colab.output.renderOutput(dataTable, element);\n",
              "        const docLink = document.createElement('div');\n",
              "        docLink.innerHTML = docLinkHtml;\n",
              "        element.appendChild(docLink);\n",
              "      }\n",
              "    </script>\n",
              "  </div>\n",
              "\n",
              "\n",
              "<div id=\"df-e418dcc9-7862-4890-83e6-34131048b266\">\n",
              "  <button class=\"colab-df-quickchart\" onclick=\"quickchart('df-e418dcc9-7862-4890-83e6-34131048b266')\"\n",
              "            title=\"Suggest charts\"\n",
              "            style=\"display:none;\">\n",
              "\n",
              "<svg xmlns=\"http://www.w3.org/2000/svg\" height=\"24px\"viewBox=\"0 0 24 24\"\n",
              "     width=\"24px\">\n",
              "    <g>\n",
              "        <path d=\"M19 3H5c-1.1 0-2 .9-2 2v14c0 1.1.9 2 2 2h14c1.1 0 2-.9 2-2V5c0-1.1-.9-2-2-2zM9 17H7v-7h2v7zm4 0h-2V7h2v10zm4 0h-2v-4h2v4z\"/>\n",
              "    </g>\n",
              "</svg>\n",
              "  </button>\n",
              "\n",
              "<style>\n",
              "  .colab-df-quickchart {\n",
              "      --bg-color: #E8F0FE;\n",
              "      --fill-color: #1967D2;\n",
              "      --hover-bg-color: #E2EBFA;\n",
              "      --hover-fill-color: #174EA6;\n",
              "      --disabled-fill-color: #AAA;\n",
              "      --disabled-bg-color: #DDD;\n",
              "  }\n",
              "\n",
              "  [theme=dark] .colab-df-quickchart {\n",
              "      --bg-color: #3B4455;\n",
              "      --fill-color: #D2E3FC;\n",
              "      --hover-bg-color: #434B5C;\n",
              "      --hover-fill-color: #FFFFFF;\n",
              "      --disabled-bg-color: #3B4455;\n",
              "      --disabled-fill-color: #666;\n",
              "  }\n",
              "\n",
              "  .colab-df-quickchart {\n",
              "    background-color: var(--bg-color);\n",
              "    border: none;\n",
              "    border-radius: 50%;\n",
              "    cursor: pointer;\n",
              "    display: none;\n",
              "    fill: var(--fill-color);\n",
              "    height: 32px;\n",
              "    padding: 0;\n",
              "    width: 32px;\n",
              "  }\n",
              "\n",
              "  .colab-df-quickchart:hover {\n",
              "    background-color: var(--hover-bg-color);\n",
              "    box-shadow: 0 1px 2px rgba(60, 64, 67, 0.3), 0 1px 3px 1px rgba(60, 64, 67, 0.15);\n",
              "    fill: var(--button-hover-fill-color);\n",
              "  }\n",
              "\n",
              "  .colab-df-quickchart-complete:disabled,\n",
              "  .colab-df-quickchart-complete:disabled:hover {\n",
              "    background-color: var(--disabled-bg-color);\n",
              "    fill: var(--disabled-fill-color);\n",
              "    box-shadow: none;\n",
              "  }\n",
              "\n",
              "  .colab-df-spinner {\n",
              "    border: 2px solid var(--fill-color);\n",
              "    border-color: transparent;\n",
              "    border-bottom-color: var(--fill-color);\n",
              "    animation:\n",
              "      spin 1s steps(1) infinite;\n",
              "  }\n",
              "\n",
              "  @keyframes spin {\n",
              "    0% {\n",
              "      border-color: transparent;\n",
              "      border-bottom-color: var(--fill-color);\n",
              "      border-left-color: var(--fill-color);\n",
              "    }\n",
              "    20% {\n",
              "      border-color: transparent;\n",
              "      border-left-color: var(--fill-color);\n",
              "      border-top-color: var(--fill-color);\n",
              "    }\n",
              "    30% {\n",
              "      border-color: transparent;\n",
              "      border-left-color: var(--fill-color);\n",
              "      border-top-color: var(--fill-color);\n",
              "      border-right-color: var(--fill-color);\n",
              "    }\n",
              "    40% {\n",
              "      border-color: transparent;\n",
              "      border-right-color: var(--fill-color);\n",
              "      border-top-color: var(--fill-color);\n",
              "    }\n",
              "    60% {\n",
              "      border-color: transparent;\n",
              "      border-right-color: var(--fill-color);\n",
              "    }\n",
              "    80% {\n",
              "      border-color: transparent;\n",
              "      border-right-color: var(--fill-color);\n",
              "      border-bottom-color: var(--fill-color);\n",
              "    }\n",
              "    90% {\n",
              "      border-color: transparent;\n",
              "      border-bottom-color: var(--fill-color);\n",
              "    }\n",
              "  }\n",
              "</style>\n",
              "\n",
              "  <script>\n",
              "    async function quickchart(key) {\n",
              "      const quickchartButtonEl =\n",
              "        document.querySelector('#' + key + ' button');\n",
              "      quickchartButtonEl.disabled = true;  // To prevent multiple clicks.\n",
              "      quickchartButtonEl.classList.add('colab-df-spinner');\n",
              "      try {\n",
              "        const charts = await google.colab.kernel.invokeFunction(\n",
              "            'suggestCharts', [key], {});\n",
              "      } catch (error) {\n",
              "        console.error('Error during call to suggestCharts:', error);\n",
              "      }\n",
              "      quickchartButtonEl.classList.remove('colab-df-spinner');\n",
              "      quickchartButtonEl.classList.add('colab-df-quickchart-complete');\n",
              "    }\n",
              "    (() => {\n",
              "      let quickchartButtonEl =\n",
              "        document.querySelector('#df-e418dcc9-7862-4890-83e6-34131048b266 button');\n",
              "      quickchartButtonEl.style.display =\n",
              "        google.colab.kernel.accessAllowed ? 'block' : 'none';\n",
              "    })();\n",
              "  </script>\n",
              "</div>\n",
              "\n",
              "    </div>\n",
              "  </div>\n"
            ],
            "application/vnd.google.colaboratory.intrinsic+json": {
              "type": "dataframe",
              "variable_name": "df_symptoms_2021"
            }
          },
          "metadata": {},
          "execution_count": 15
        }
      ]
    },
    {
      "cell_type": "code",
      "source": [
        "# prompt: drop FORM_VERS , SYMPTOMVERSION3,SYMPTOMVERSION4,SYMPTOMVERSION1, SYMPTOMVERSION2 , ignore errors\n",
        "\n",
        "df_symptoms_2021.drop(columns=['FORM_VERS', 'SYMPTOMVERSION3', 'SYMPTOMVERSION4', 'SYMPTOMVERSION1', 'SYMPTOMVERSION2','SYMPTOMVERSION5' ], errors='ignore', inplace=True)\n",
        "\n"
      ],
      "metadata": {
        "id": "bj1LwnMnHTqL"
      },
      "execution_count": 16,
      "outputs": []
    },
    {
      "cell_type": "code",
      "source": [
        "# prompt: df_symptoms_2021 head\n",
        "\n",
        "print(df_symptoms_2021.head())\n"
      ],
      "metadata": {
        "id": "IWoS-CAkQGcJ",
        "outputId": "851aac8c-cebe-45cd-c159-38d39e1f38d4",
        "colab": {
          "base_uri": "https://localhost:8080/"
        }
      },
      "execution_count": 14,
      "outputs": [
        {
          "output_type": "stream",
          "name": "stdout",
          "text": [
            "   VAERS_ID          SYMPTOM1              SYMPTOM2                  SYMPTOM3  \\\n",
            "0    910642          Dyspnoea  Heart rate increased  SARS-CoV-2 test negative   \n",
            "1    916600         Dysphagia          Epiglottitis                       NaN   \n",
            "2    916601           Anxiety              Dyspnoea                       NaN   \n",
            "3    916602  Chest discomfort             Dysphagia         Pain in extremity   \n",
            "4    916603         Dizziness               Fatigue        Mobility decreased   \n",
            "\n",
            "            SYMPTOM4 SYMPTOM5  \\\n",
            "0                NaN      NaN   \n",
            "1                NaN      NaN   \n",
            "2                NaN      NaN   \n",
            "3  Visual impairment      NaN   \n",
            "4                NaN      NaN   \n",
            "\n",
            "                                        ALL_SYMPTOMS  \n",
            "0  Dyspnoea Heart rate increased SARS-CoV-2 test ...  \n",
            "1                             Dysphagia Epiglottitis  \n",
            "2                                   Anxiety Dyspnoea  \n",
            "3  Chest discomfort Visual impairment Dysphagia P...  \n",
            "4               Dizziness Fatigue Mobility decreased  \n"
          ]
        }
      ]
    },
    {
      "cell_type": "code",
      "source": [
        "# prompt: count unique  SYMPTOMS\n",
        "\n",
        "num_unique_symptoms = df_symptoms_2021['SYMPTOM1'].nunique()\n",
        "print(f\"Number of unique symptoms: {num_unique_symptoms}\")\n",
        "\n",
        "\n"
      ],
      "metadata": {
        "id": "cQTcD0GOQfbj",
        "outputId": "4e136a87-b792-4a0e-872b-b63807ab6bf6",
        "colab": {
          "base_uri": "https://localhost:8080/"
        }
      },
      "execution_count": 15,
      "outputs": [
        {
          "output_type": "stream",
          "name": "stdout",
          "text": [
            "Number of unique symptoms: 7654\n"
          ]
        }
      ]
    },
    {
      "cell_type": "code",
      "source": [
        "# Explore Datasets\n",
        "df_symptoms_2021.isnull().sum()"
      ],
      "metadata": {
        "colab": {
          "base_uri": "https://localhost:8080/"
        },
        "id": "u3pBa-QP6tOI",
        "outputId": "cf09e458-6ad8-450d-8efd-53423d326908"
      },
      "execution_count": 19,
      "outputs": [
        {
          "output_type": "execute_result",
          "data": {
            "text/plain": [
              "VAERS_ID             0\n",
              "SYMPTOM1             0\n",
              "SYMPTOM2        225538\n",
              "SYMPTOM3        408255\n",
              "SYMPTOM4        551438\n",
              "SYMPTOM5        665894\n",
              "ALL_SYMPTOMS         0\n",
              "dtype: int64"
            ]
          },
          "metadata": {},
          "execution_count": 19
        }
      ]
    },
    {
      "cell_type": "code",
      "source": [
        "# prompt: drop VAX_LOT ,  VAX_DOSE_SERIES, VAX_ROUTE , VAX_SITE,\n",
        "\n",
        "df_vaers_vax_2021.drop(columns=['VAX_LOT', 'VAX_ROUTE', 'VAX_SITE', 'VAX_NAME', 'SYMPTOMVERSION1', 'SYMPTOMVERSION2', 'SYMPTOMVERSION3', 'SYMPTOMVERSION4', 'SYMPTOMVERSION5', 'RECVDATE', 'RPT_DATE', 'LAB_DATA', 'V_FUNDBY', 'SPLTTYPE', 'FORM_VERS', 'CAGE_MO', 'DATEDIED', 'HOSPDAYS', 'TODAYS_DATE', 'OTHER_MEDS'], errors='ignore',inplace=True)\n",
        "\n",
        "\n"
      ],
      "metadata": {
        "id": "lPXPjNg-99RZ"
      },
      "execution_count": 22,
      "outputs": []
    },
    {
      "cell_type": "code",
      "source": [
        "df_vaers_vax_2021.head()"
      ],
      "metadata": {
        "colab": {
          "base_uri": "https://localhost:8080/",
          "height": 206
        },
        "id": "oGNru7TB-n1_",
        "outputId": "4c9165be-39d2-497f-964c-50988b2ff659"
      },
      "execution_count": 23,
      "outputs": [
        {
          "output_type": "execute_result",
          "data": {
            "text/plain": [
              "   VAERS_ID VAX_TYPE         VAX_MANU VAX_DOSE_SERIES\n",
              "0    910642  COVID19  PFIZER\\BIONTECH               1\n",
              "1    916600  COVID19          MODERNA               1\n",
              "2    916601  COVID19          MODERNA               1\n",
              "3    916602  COVID19  PFIZER\\BIONTECH               1\n",
              "4    916603  COVID19          MODERNA             UNK"
            ],
            "text/html": [
              "\n",
              "  <div id=\"df-2fc8a23f-76f4-4648-a1b5-64af786305ea\" class=\"colab-df-container\">\n",
              "    <div>\n",
              "<style scoped>\n",
              "    .dataframe tbody tr th:only-of-type {\n",
              "        vertical-align: middle;\n",
              "    }\n",
              "\n",
              "    .dataframe tbody tr th {\n",
              "        vertical-align: top;\n",
              "    }\n",
              "\n",
              "    .dataframe thead th {\n",
              "        text-align: right;\n",
              "    }\n",
              "</style>\n",
              "<table border=\"1\" class=\"dataframe\">\n",
              "  <thead>\n",
              "    <tr style=\"text-align: right;\">\n",
              "      <th></th>\n",
              "      <th>VAERS_ID</th>\n",
              "      <th>VAX_TYPE</th>\n",
              "      <th>VAX_MANU</th>\n",
              "      <th>VAX_DOSE_SERIES</th>\n",
              "    </tr>\n",
              "  </thead>\n",
              "  <tbody>\n",
              "    <tr>\n",
              "      <th>0</th>\n",
              "      <td>910642</td>\n",
              "      <td>COVID19</td>\n",
              "      <td>PFIZER\\BIONTECH</td>\n",
              "      <td>1</td>\n",
              "    </tr>\n",
              "    <tr>\n",
              "      <th>1</th>\n",
              "      <td>916600</td>\n",
              "      <td>COVID19</td>\n",
              "      <td>MODERNA</td>\n",
              "      <td>1</td>\n",
              "    </tr>\n",
              "    <tr>\n",
              "      <th>2</th>\n",
              "      <td>916601</td>\n",
              "      <td>COVID19</td>\n",
              "      <td>MODERNA</td>\n",
              "      <td>1</td>\n",
              "    </tr>\n",
              "    <tr>\n",
              "      <th>3</th>\n",
              "      <td>916602</td>\n",
              "      <td>COVID19</td>\n",
              "      <td>PFIZER\\BIONTECH</td>\n",
              "      <td>1</td>\n",
              "    </tr>\n",
              "    <tr>\n",
              "      <th>4</th>\n",
              "      <td>916603</td>\n",
              "      <td>COVID19</td>\n",
              "      <td>MODERNA</td>\n",
              "      <td>UNK</td>\n",
              "    </tr>\n",
              "  </tbody>\n",
              "</table>\n",
              "</div>\n",
              "    <div class=\"colab-df-buttons\">\n",
              "\n",
              "  <div class=\"colab-df-container\">\n",
              "    <button class=\"colab-df-convert\" onclick=\"convertToInteractive('df-2fc8a23f-76f4-4648-a1b5-64af786305ea')\"\n",
              "            title=\"Convert this dataframe to an interactive table.\"\n",
              "            style=\"display:none;\">\n",
              "\n",
              "  <svg xmlns=\"http://www.w3.org/2000/svg\" height=\"24px\" viewBox=\"0 -960 960 960\">\n",
              "    <path d=\"M120-120v-720h720v720H120Zm60-500h600v-160H180v160Zm220 220h160v-160H400v160Zm0 220h160v-160H400v160ZM180-400h160v-160H180v160Zm440 0h160v-160H620v160ZM180-180h160v-160H180v160Zm440 0h160v-160H620v160Z\"/>\n",
              "  </svg>\n",
              "    </button>\n",
              "\n",
              "  <style>\n",
              "    .colab-df-container {\n",
              "      display:flex;\n",
              "      gap: 12px;\n",
              "    }\n",
              "\n",
              "    .colab-df-convert {\n",
              "      background-color: #E8F0FE;\n",
              "      border: none;\n",
              "      border-radius: 50%;\n",
              "      cursor: pointer;\n",
              "      display: none;\n",
              "      fill: #1967D2;\n",
              "      height: 32px;\n",
              "      padding: 0 0 0 0;\n",
              "      width: 32px;\n",
              "    }\n",
              "\n",
              "    .colab-df-convert:hover {\n",
              "      background-color: #E2EBFA;\n",
              "      box-shadow: 0px 1px 2px rgba(60, 64, 67, 0.3), 0px 1px 3px 1px rgba(60, 64, 67, 0.15);\n",
              "      fill: #174EA6;\n",
              "    }\n",
              "\n",
              "    .colab-df-buttons div {\n",
              "      margin-bottom: 4px;\n",
              "    }\n",
              "\n",
              "    [theme=dark] .colab-df-convert {\n",
              "      background-color: #3B4455;\n",
              "      fill: #D2E3FC;\n",
              "    }\n",
              "\n",
              "    [theme=dark] .colab-df-convert:hover {\n",
              "      background-color: #434B5C;\n",
              "      box-shadow: 0px 1px 3px 1px rgba(0, 0, 0, 0.15);\n",
              "      filter: drop-shadow(0px 1px 2px rgba(0, 0, 0, 0.3));\n",
              "      fill: #FFFFFF;\n",
              "    }\n",
              "  </style>\n",
              "\n",
              "    <script>\n",
              "      const buttonEl =\n",
              "        document.querySelector('#df-2fc8a23f-76f4-4648-a1b5-64af786305ea button.colab-df-convert');\n",
              "      buttonEl.style.display =\n",
              "        google.colab.kernel.accessAllowed ? 'block' : 'none';\n",
              "\n",
              "      async function convertToInteractive(key) {\n",
              "        const element = document.querySelector('#df-2fc8a23f-76f4-4648-a1b5-64af786305ea');\n",
              "        const dataTable =\n",
              "          await google.colab.kernel.invokeFunction('convertToInteractive',\n",
              "                                                    [key], {});\n",
              "        if (!dataTable) return;\n",
              "\n",
              "        const docLinkHtml = 'Like what you see? Visit the ' +\n",
              "          '<a target=\"_blank\" href=https://colab.research.google.com/notebooks/data_table.ipynb>data table notebook</a>'\n",
              "          + ' to learn more about interactive tables.';\n",
              "        element.innerHTML = '';\n",
              "        dataTable['output_type'] = 'display_data';\n",
              "        await google.colab.output.renderOutput(dataTable, element);\n",
              "        const docLink = document.createElement('div');\n",
              "        docLink.innerHTML = docLinkHtml;\n",
              "        element.appendChild(docLink);\n",
              "      }\n",
              "    </script>\n",
              "  </div>\n",
              "\n",
              "\n",
              "<div id=\"df-15068c9b-76f8-44be-88f5-bfb0d32ddc7a\">\n",
              "  <button class=\"colab-df-quickchart\" onclick=\"quickchart('df-15068c9b-76f8-44be-88f5-bfb0d32ddc7a')\"\n",
              "            title=\"Suggest charts\"\n",
              "            style=\"display:none;\">\n",
              "\n",
              "<svg xmlns=\"http://www.w3.org/2000/svg\" height=\"24px\"viewBox=\"0 0 24 24\"\n",
              "     width=\"24px\">\n",
              "    <g>\n",
              "        <path d=\"M19 3H5c-1.1 0-2 .9-2 2v14c0 1.1.9 2 2 2h14c1.1 0 2-.9 2-2V5c0-1.1-.9-2-2-2zM9 17H7v-7h2v7zm4 0h-2V7h2v10zm4 0h-2v-4h2v4z\"/>\n",
              "    </g>\n",
              "</svg>\n",
              "  </button>\n",
              "\n",
              "<style>\n",
              "  .colab-df-quickchart {\n",
              "      --bg-color: #E8F0FE;\n",
              "      --fill-color: #1967D2;\n",
              "      --hover-bg-color: #E2EBFA;\n",
              "      --hover-fill-color: #174EA6;\n",
              "      --disabled-fill-color: #AAA;\n",
              "      --disabled-bg-color: #DDD;\n",
              "  }\n",
              "\n",
              "  [theme=dark] .colab-df-quickchart {\n",
              "      --bg-color: #3B4455;\n",
              "      --fill-color: #D2E3FC;\n",
              "      --hover-bg-color: #434B5C;\n",
              "      --hover-fill-color: #FFFFFF;\n",
              "      --disabled-bg-color: #3B4455;\n",
              "      --disabled-fill-color: #666;\n",
              "  }\n",
              "\n",
              "  .colab-df-quickchart {\n",
              "    background-color: var(--bg-color);\n",
              "    border: none;\n",
              "    border-radius: 50%;\n",
              "    cursor: pointer;\n",
              "    display: none;\n",
              "    fill: var(--fill-color);\n",
              "    height: 32px;\n",
              "    padding: 0;\n",
              "    width: 32px;\n",
              "  }\n",
              "\n",
              "  .colab-df-quickchart:hover {\n",
              "    background-color: var(--hover-bg-color);\n",
              "    box-shadow: 0 1px 2px rgba(60, 64, 67, 0.3), 0 1px 3px 1px rgba(60, 64, 67, 0.15);\n",
              "    fill: var(--button-hover-fill-color);\n",
              "  }\n",
              "\n",
              "  .colab-df-quickchart-complete:disabled,\n",
              "  .colab-df-quickchart-complete:disabled:hover {\n",
              "    background-color: var(--disabled-bg-color);\n",
              "    fill: var(--disabled-fill-color);\n",
              "    box-shadow: none;\n",
              "  }\n",
              "\n",
              "  .colab-df-spinner {\n",
              "    border: 2px solid var(--fill-color);\n",
              "    border-color: transparent;\n",
              "    border-bottom-color: var(--fill-color);\n",
              "    animation:\n",
              "      spin 1s steps(1) infinite;\n",
              "  }\n",
              "\n",
              "  @keyframes spin {\n",
              "    0% {\n",
              "      border-color: transparent;\n",
              "      border-bottom-color: var(--fill-color);\n",
              "      border-left-color: var(--fill-color);\n",
              "    }\n",
              "    20% {\n",
              "      border-color: transparent;\n",
              "      border-left-color: var(--fill-color);\n",
              "      border-top-color: var(--fill-color);\n",
              "    }\n",
              "    30% {\n",
              "      border-color: transparent;\n",
              "      border-left-color: var(--fill-color);\n",
              "      border-top-color: var(--fill-color);\n",
              "      border-right-color: var(--fill-color);\n",
              "    }\n",
              "    40% {\n",
              "      border-color: transparent;\n",
              "      border-right-color: var(--fill-color);\n",
              "      border-top-color: var(--fill-color);\n",
              "    }\n",
              "    60% {\n",
              "      border-color: transparent;\n",
              "      border-right-color: var(--fill-color);\n",
              "    }\n",
              "    80% {\n",
              "      border-color: transparent;\n",
              "      border-right-color: var(--fill-color);\n",
              "      border-bottom-color: var(--fill-color);\n",
              "    }\n",
              "    90% {\n",
              "      border-color: transparent;\n",
              "      border-bottom-color: var(--fill-color);\n",
              "    }\n",
              "  }\n",
              "</style>\n",
              "\n",
              "  <script>\n",
              "    async function quickchart(key) {\n",
              "      const quickchartButtonEl =\n",
              "        document.querySelector('#' + key + ' button');\n",
              "      quickchartButtonEl.disabled = true;  // To prevent multiple clicks.\n",
              "      quickchartButtonEl.classList.add('colab-df-spinner');\n",
              "      try {\n",
              "        const charts = await google.colab.kernel.invokeFunction(\n",
              "            'suggestCharts', [key], {});\n",
              "      } catch (error) {\n",
              "        console.error('Error during call to suggestCharts:', error);\n",
              "      }\n",
              "      quickchartButtonEl.classList.remove('colab-df-spinner');\n",
              "      quickchartButtonEl.classList.add('colab-df-quickchart-complete');\n",
              "    }\n",
              "    (() => {\n",
              "      let quickchartButtonEl =\n",
              "        document.querySelector('#df-15068c9b-76f8-44be-88f5-bfb0d32ddc7a button');\n",
              "      quickchartButtonEl.style.display =\n",
              "        google.colab.kernel.accessAllowed ? 'block' : 'none';\n",
              "    })();\n",
              "  </script>\n",
              "</div>\n",
              "\n",
              "    </div>\n",
              "  </div>\n"
            ],
            "application/vnd.google.colaboratory.intrinsic+json": {
              "type": "dataframe",
              "variable_name": "df_vaers_vax_2021"
            }
          },
          "metadata": {},
          "execution_count": 23
        }
      ]
    },
    {
      "cell_type": "code",
      "source": [
        "# prompt: drop V_FUNDBY, V_ADMINBY, OTHER_MEDS\n",
        "\n",
        "df_vaers_data_2021.drop(columns=['V_FUNDBY', 'V_ADMINBY', 'OTHER_MEDS'], inplace=True, errors='ignore')\n"
      ],
      "metadata": {
        "id": "-FvaaxCTFa1E"
      },
      "execution_count": 24,
      "outputs": []
    },
    {
      "cell_type": "code",
      "source": [
        "# prompt: drop PRIOR_VAX, TODAYS_DATE, PRIOR_VAX ,CUR_ILL , LAB_DATA\n",
        "\n",
        "df_vaers_data_2021.drop(columns=['PRIOR_VAX', 'TODAYS_DATE', 'PRIOR_VAX' ,'CUR_ILL' , 'LAB_DATA'], inplace=True, errors='ignore')\n"
      ],
      "metadata": {
        "id": "0Y3UjFgeGI_h"
      },
      "execution_count": 25,
      "outputs": []
    },
    {
      "cell_type": "code",
      "source": [
        "# Explore Datasets\n",
        "df_vaers_data_2021.isnull().sum()/len(df_vaers_data_2021) * 100"
      ],
      "metadata": {
        "colab": {
          "base_uri": "https://localhost:8080/"
        },
        "id": "ZqQG3ZMGvf10",
        "outputId": "90f2c180-2e67-470b-8646-5fe137e2586d"
      },
      "execution_count": 27,
      "outputs": [
        {
          "output_type": "execute_result",
          "data": {
            "text/plain": [
              "VAERS_ID        0.000000\n",
              "RECVDATE        0.000000\n",
              "STATE          15.389917\n",
              "AGE_YRS        10.757816\n",
              "CAGE_YR        19.741410\n",
              "CAGE_MO        99.428823\n",
              "SEX             0.000000\n",
              "RPT_DATE       99.876761\n",
              "SYMPTOM_TEXT    0.076626\n",
              "DIED           98.598949\n",
              "DATEDIED       98.754459\n",
              "L_THREAT       98.523916\n",
              "ER_VISIT       99.983134\n",
              "HOSPITAL       93.696066\n",
              "HOSPDAYS       95.856740\n",
              "X_STAY         99.949801\n",
              "DISABLE        98.409973\n",
              "RECOVD          9.751715\n",
              "VAX_DATE        7.402995\n",
              "ONSET_DATE      8.740302\n",
              "NUMDAYS        12.553552\n",
              "HISTORY        50.213013\n",
              "SPLTTYPE       70.795053\n",
              "FORM_VERS       0.000000\n",
              "BIRTH_DEFECT   99.939044\n",
              "OFC_VISIT      80.806527\n",
              "ER_ED_VISIT    88.007665\n",
              "ALLERGIES      60.352906\n",
              "dtype: float64"
            ]
          },
          "metadata": {},
          "execution_count": 27
        }
      ]
    },
    {
      "cell_type": "code",
      "source": [
        "df_vaers_data_2021.head(12)"
      ],
      "metadata": {
        "colab": {
          "base_uri": "https://localhost:8080/",
          "height": 1000
        },
        "id": "L9vJ1yCgHydM",
        "outputId": "7db95e04-759e-4203-b64a-1e5076739ead"
      },
      "execution_count": 25,
      "outputs": [
        {
          "output_type": "execute_result",
          "data": {
            "text/plain": [
              "    VAERS_ID    RECVDATE STATE  AGE_YRS  CAGE_YR  CAGE_MO SEX RPT_DATE  \\\n",
              "0     916600  01/01/2021    TX     33.0     33.0      NaN   F      NaN   \n",
              "1     916601  01/01/2021    CA     73.0     73.0      NaN   F      NaN   \n",
              "2     916602  01/01/2021    WA     23.0     23.0      NaN   F      NaN   \n",
              "3     916603  01/01/2021    WA     58.0     58.0      NaN   F      NaN   \n",
              "4     916604  01/01/2021    TX     47.0     47.0      NaN   F      NaN   \n",
              "5     916605  01/01/2021    TX     40.0     40.0      NaN   M      NaN   \n",
              "6     916606  01/01/2021    NV     44.0     44.0      NaN   F      NaN   \n",
              "7     916607  01/01/2021    KS     50.0     50.0      NaN   M      NaN   \n",
              "8     916608  01/01/2021    OH     33.0     33.0      NaN   M      NaN   \n",
              "9     916609  01/01/2021    TN     71.0     71.0      NaN   F      NaN   \n",
              "10    916610  01/01/2021    VA     18.0     18.0      NaN   F      NaN   \n",
              "11    916611  01/01/2021    NC     33.0     33.0      NaN   F      NaN   \n",
              "\n",
              "                                         SYMPTOM_TEXT DIED  ...    VAX_DATE  \\\n",
              "0   Right side of epiglottis swelled up and hinder...  NaN  ...  12/28/2020   \n",
              "1   Approximately 30 min post vaccination administ...  NaN  ...  12/31/2020   \n",
              "2   About 15 minutes after receiving the vaccine, ...  NaN  ...  12/31/2020   \n",
              "3   extreme fatigue, dizziness,. could not lift my...  NaN  ...  12/23/2020   \n",
              "4   Injection site swelling, redness, warm to the ...  NaN  ...  12/22/2020   \n",
              "5   Adverse Events: Inflammation in the eye, confu...  NaN  ...  09/25/2020   \n",
              "6   patient called back the next day and stated he...  NaN  ...  12/29/2020   \n",
              "7   SEVERE chills approximately 13-14 hours after ...  NaN  ...  12/28/2020   \n",
              "8                       Nasal congestion and diarrhea  NaN  ...  12/29/2020   \n",
              "9   On day 9 following the vaccination I noticed a...  NaN  ...  12/23/2020   \n",
              "10  hives and rash all over body that has not gone...  NaN  ...  12/29/2020   \n",
              "11  12pm Received shot 1 pm Sore arm at injection ...  NaN  ...  12/29/2020   \n",
              "\n",
              "    ONSET_DATE NUMDAYS                                            HISTORY  \\\n",
              "0   12/30/2020     2.0                                                NaN   \n",
              "1   12/31/2020     0.0  Patient residing at nursing facility. See pati...   \n",
              "2   12/31/2020     0.0                                                NaN   \n",
              "3   12/23/2020     0.0  diverticulitis, mitral valve prolapse, osteoar...   \n",
              "4   12/29/2020     7.0                                                NaN   \n",
              "5   09/26/2020     1.0                                                NaN   \n",
              "6   12/29/2020     0.0                                                NaN   \n",
              "7   12/29/2020     1.0  High blood pressure, high cholesterol, sleep a...   \n",
              "8   12/31/2020     2.0                                                NaN   \n",
              "9   12/31/2020     8.0  Hashimoto's thyroiditis, Hypertension, depression   \n",
              "10  12/30/2020     1.0                                                NaN   \n",
              "11  12/29/2020     0.0                                    Obesity Anxiety   \n",
              "\n",
              "    SPLTTYPE FORM_VERS BIRTH_DEFECT OFC_VISIT ER_ED_VISIT  \\\n",
              "0        NaN         2          NaN         Y         NaN   \n",
              "1        NaN         2          NaN         Y         NaN   \n",
              "2        NaN         2          NaN       NaN           Y   \n",
              "3        NaN         2          NaN       NaN         NaN   \n",
              "4        NaN         2          NaN       NaN         NaN   \n",
              "5        NaN         2          NaN         Y         NaN   \n",
              "6        NaN         2          NaN       NaN         NaN   \n",
              "7        NaN         2          NaN       NaN         NaN   \n",
              "8        NaN         2          NaN       NaN         NaN   \n",
              "9        NaN         2          NaN       NaN         NaN   \n",
              "10       NaN         2          NaN       NaN         NaN   \n",
              "11       NaN         2          NaN         Y         NaN   \n",
              "\n",
              "                                            ALLERGIES  \n",
              "0                                   Pcn and bee venom  \n",
              "1                                             \"Dairy\"  \n",
              "2                                           Shellfish  \n",
              "3   Diclofenac, novacaine, lidocaine, pickles, tom...  \n",
              "4                                                  Na  \n",
              "5                                                 NaN  \n",
              "6                       iodine (shellfish) has epipen  \n",
              "7                                          Penicillin  \n",
              "8                                                 NaN  \n",
              "9   Sulfa antibiotics, azithromycin,  adhesive in ...  \n",
              "10                                          jackfruit  \n",
              "11             Dust mites  Zoloft  Wellbutrin  Buspar  \n",
              "\n",
              "[12 rows x 28 columns]"
            ],
            "text/html": [
              "\n",
              "  <div id=\"df-1979763a-d231-4c8e-85c1-a6992ae1ff5a\" class=\"colab-df-container\">\n",
              "    <div>\n",
              "<style scoped>\n",
              "    .dataframe tbody tr th:only-of-type {\n",
              "        vertical-align: middle;\n",
              "    }\n",
              "\n",
              "    .dataframe tbody tr th {\n",
              "        vertical-align: top;\n",
              "    }\n",
              "\n",
              "    .dataframe thead th {\n",
              "        text-align: right;\n",
              "    }\n",
              "</style>\n",
              "<table border=\"1\" class=\"dataframe\">\n",
              "  <thead>\n",
              "    <tr style=\"text-align: right;\">\n",
              "      <th></th>\n",
              "      <th>VAERS_ID</th>\n",
              "      <th>RECVDATE</th>\n",
              "      <th>STATE</th>\n",
              "      <th>AGE_YRS</th>\n",
              "      <th>CAGE_YR</th>\n",
              "      <th>CAGE_MO</th>\n",
              "      <th>SEX</th>\n",
              "      <th>RPT_DATE</th>\n",
              "      <th>SYMPTOM_TEXT</th>\n",
              "      <th>DIED</th>\n",
              "      <th>...</th>\n",
              "      <th>VAX_DATE</th>\n",
              "      <th>ONSET_DATE</th>\n",
              "      <th>NUMDAYS</th>\n",
              "      <th>HISTORY</th>\n",
              "      <th>SPLTTYPE</th>\n",
              "      <th>FORM_VERS</th>\n",
              "      <th>BIRTH_DEFECT</th>\n",
              "      <th>OFC_VISIT</th>\n",
              "      <th>ER_ED_VISIT</th>\n",
              "      <th>ALLERGIES</th>\n",
              "    </tr>\n",
              "  </thead>\n",
              "  <tbody>\n",
              "    <tr>\n",
              "      <th>0</th>\n",
              "      <td>916600</td>\n",
              "      <td>01/01/2021</td>\n",
              "      <td>TX</td>\n",
              "      <td>33.0</td>\n",
              "      <td>33.0</td>\n",
              "      <td>NaN</td>\n",
              "      <td>F</td>\n",
              "      <td>NaN</td>\n",
              "      <td>Right side of epiglottis swelled up and hinder...</td>\n",
              "      <td>NaN</td>\n",
              "      <td>...</td>\n",
              "      <td>12/28/2020</td>\n",
              "      <td>12/30/2020</td>\n",
              "      <td>2.0</td>\n",
              "      <td>NaN</td>\n",
              "      <td>NaN</td>\n",
              "      <td>2</td>\n",
              "      <td>NaN</td>\n",
              "      <td>Y</td>\n",
              "      <td>NaN</td>\n",
              "      <td>Pcn and bee venom</td>\n",
              "    </tr>\n",
              "    <tr>\n",
              "      <th>1</th>\n",
              "      <td>916601</td>\n",
              "      <td>01/01/2021</td>\n",
              "      <td>CA</td>\n",
              "      <td>73.0</td>\n",
              "      <td>73.0</td>\n",
              "      <td>NaN</td>\n",
              "      <td>F</td>\n",
              "      <td>NaN</td>\n",
              "      <td>Approximately 30 min post vaccination administ...</td>\n",
              "      <td>NaN</td>\n",
              "      <td>...</td>\n",
              "      <td>12/31/2020</td>\n",
              "      <td>12/31/2020</td>\n",
              "      <td>0.0</td>\n",
              "      <td>Patient residing at nursing facility. See pati...</td>\n",
              "      <td>NaN</td>\n",
              "      <td>2</td>\n",
              "      <td>NaN</td>\n",
              "      <td>Y</td>\n",
              "      <td>NaN</td>\n",
              "      <td>\"Dairy\"</td>\n",
              "    </tr>\n",
              "    <tr>\n",
              "      <th>2</th>\n",
              "      <td>916602</td>\n",
              "      <td>01/01/2021</td>\n",
              "      <td>WA</td>\n",
              "      <td>23.0</td>\n",
              "      <td>23.0</td>\n",
              "      <td>NaN</td>\n",
              "      <td>F</td>\n",
              "      <td>NaN</td>\n",
              "      <td>About 15 minutes after receiving the vaccine, ...</td>\n",
              "      <td>NaN</td>\n",
              "      <td>...</td>\n",
              "      <td>12/31/2020</td>\n",
              "      <td>12/31/2020</td>\n",
              "      <td>0.0</td>\n",
              "      <td>NaN</td>\n",
              "      <td>NaN</td>\n",
              "      <td>2</td>\n",
              "      <td>NaN</td>\n",
              "      <td>NaN</td>\n",
              "      <td>Y</td>\n",
              "      <td>Shellfish</td>\n",
              "    </tr>\n",
              "    <tr>\n",
              "      <th>3</th>\n",
              "      <td>916603</td>\n",
              "      <td>01/01/2021</td>\n",
              "      <td>WA</td>\n",
              "      <td>58.0</td>\n",
              "      <td>58.0</td>\n",
              "      <td>NaN</td>\n",
              "      <td>F</td>\n",
              "      <td>NaN</td>\n",
              "      <td>extreme fatigue, dizziness,. could not lift my...</td>\n",
              "      <td>NaN</td>\n",
              "      <td>...</td>\n",
              "      <td>12/23/2020</td>\n",
              "      <td>12/23/2020</td>\n",
              "      <td>0.0</td>\n",
              "      <td>diverticulitis, mitral valve prolapse, osteoar...</td>\n",
              "      <td>NaN</td>\n",
              "      <td>2</td>\n",
              "      <td>NaN</td>\n",
              "      <td>NaN</td>\n",
              "      <td>NaN</td>\n",
              "      <td>Diclofenac, novacaine, lidocaine, pickles, tom...</td>\n",
              "    </tr>\n",
              "    <tr>\n",
              "      <th>4</th>\n",
              "      <td>916604</td>\n",
              "      <td>01/01/2021</td>\n",
              "      <td>TX</td>\n",
              "      <td>47.0</td>\n",
              "      <td>47.0</td>\n",
              "      <td>NaN</td>\n",
              "      <td>F</td>\n",
              "      <td>NaN</td>\n",
              "      <td>Injection site swelling, redness, warm to the ...</td>\n",
              "      <td>NaN</td>\n",
              "      <td>...</td>\n",
              "      <td>12/22/2020</td>\n",
              "      <td>12/29/2020</td>\n",
              "      <td>7.0</td>\n",
              "      <td>NaN</td>\n",
              "      <td>NaN</td>\n",
              "      <td>2</td>\n",
              "      <td>NaN</td>\n",
              "      <td>NaN</td>\n",
              "      <td>NaN</td>\n",
              "      <td>Na</td>\n",
              "    </tr>\n",
              "    <tr>\n",
              "      <th>5</th>\n",
              "      <td>916605</td>\n",
              "      <td>01/01/2021</td>\n",
              "      <td>TX</td>\n",
              "      <td>40.0</td>\n",
              "      <td>40.0</td>\n",
              "      <td>NaN</td>\n",
              "      <td>M</td>\n",
              "      <td>NaN</td>\n",
              "      <td>Adverse Events: Inflammation in the eye, confu...</td>\n",
              "      <td>NaN</td>\n",
              "      <td>...</td>\n",
              "      <td>09/25/2020</td>\n",
              "      <td>09/26/2020</td>\n",
              "      <td>1.0</td>\n",
              "      <td>NaN</td>\n",
              "      <td>NaN</td>\n",
              "      <td>2</td>\n",
              "      <td>NaN</td>\n",
              "      <td>Y</td>\n",
              "      <td>NaN</td>\n",
              "      <td>NaN</td>\n",
              "    </tr>\n",
              "    <tr>\n",
              "      <th>6</th>\n",
              "      <td>916606</td>\n",
              "      <td>01/01/2021</td>\n",
              "      <td>NV</td>\n",
              "      <td>44.0</td>\n",
              "      <td>44.0</td>\n",
              "      <td>NaN</td>\n",
              "      <td>F</td>\n",
              "      <td>NaN</td>\n",
              "      <td>patient called back the next day and stated he...</td>\n",
              "      <td>NaN</td>\n",
              "      <td>...</td>\n",
              "      <td>12/29/2020</td>\n",
              "      <td>12/29/2020</td>\n",
              "      <td>0.0</td>\n",
              "      <td>NaN</td>\n",
              "      <td>NaN</td>\n",
              "      <td>2</td>\n",
              "      <td>NaN</td>\n",
              "      <td>NaN</td>\n",
              "      <td>NaN</td>\n",
              "      <td>iodine (shellfish) has epipen</td>\n",
              "    </tr>\n",
              "    <tr>\n",
              "      <th>7</th>\n",
              "      <td>916607</td>\n",
              "      <td>01/01/2021</td>\n",
              "      <td>KS</td>\n",
              "      <td>50.0</td>\n",
              "      <td>50.0</td>\n",
              "      <td>NaN</td>\n",
              "      <td>M</td>\n",
              "      <td>NaN</td>\n",
              "      <td>SEVERE chills approximately 13-14 hours after ...</td>\n",
              "      <td>NaN</td>\n",
              "      <td>...</td>\n",
              "      <td>12/28/2020</td>\n",
              "      <td>12/29/2020</td>\n",
              "      <td>1.0</td>\n",
              "      <td>High blood pressure, high cholesterol, sleep a...</td>\n",
              "      <td>NaN</td>\n",
              "      <td>2</td>\n",
              "      <td>NaN</td>\n",
              "      <td>NaN</td>\n",
              "      <td>NaN</td>\n",
              "      <td>Penicillin</td>\n",
              "    </tr>\n",
              "    <tr>\n",
              "      <th>8</th>\n",
              "      <td>916608</td>\n",
              "      <td>01/01/2021</td>\n",
              "      <td>OH</td>\n",
              "      <td>33.0</td>\n",
              "      <td>33.0</td>\n",
              "      <td>NaN</td>\n",
              "      <td>M</td>\n",
              "      <td>NaN</td>\n",
              "      <td>Nasal congestion and diarrhea</td>\n",
              "      <td>NaN</td>\n",
              "      <td>...</td>\n",
              "      <td>12/29/2020</td>\n",
              "      <td>12/31/2020</td>\n",
              "      <td>2.0</td>\n",
              "      <td>NaN</td>\n",
              "      <td>NaN</td>\n",
              "      <td>2</td>\n",
              "      <td>NaN</td>\n",
              "      <td>NaN</td>\n",
              "      <td>NaN</td>\n",
              "      <td>NaN</td>\n",
              "    </tr>\n",
              "    <tr>\n",
              "      <th>9</th>\n",
              "      <td>916609</td>\n",
              "      <td>01/01/2021</td>\n",
              "      <td>TN</td>\n",
              "      <td>71.0</td>\n",
              "      <td>71.0</td>\n",
              "      <td>NaN</td>\n",
              "      <td>F</td>\n",
              "      <td>NaN</td>\n",
              "      <td>On day 9 following the vaccination I noticed a...</td>\n",
              "      <td>NaN</td>\n",
              "      <td>...</td>\n",
              "      <td>12/23/2020</td>\n",
              "      <td>12/31/2020</td>\n",
              "      <td>8.0</td>\n",
              "      <td>Hashimoto's thyroiditis, Hypertension, depression</td>\n",
              "      <td>NaN</td>\n",
              "      <td>2</td>\n",
              "      <td>NaN</td>\n",
              "      <td>NaN</td>\n",
              "      <td>NaN</td>\n",
              "      <td>Sulfa antibiotics, azithromycin,  adhesive in ...</td>\n",
              "    </tr>\n",
              "    <tr>\n",
              "      <th>10</th>\n",
              "      <td>916610</td>\n",
              "      <td>01/01/2021</td>\n",
              "      <td>VA</td>\n",
              "      <td>18.0</td>\n",
              "      <td>18.0</td>\n",
              "      <td>NaN</td>\n",
              "      <td>F</td>\n",
              "      <td>NaN</td>\n",
              "      <td>hives and rash all over body that has not gone...</td>\n",
              "      <td>NaN</td>\n",
              "      <td>...</td>\n",
              "      <td>12/29/2020</td>\n",
              "      <td>12/30/2020</td>\n",
              "      <td>1.0</td>\n",
              "      <td>NaN</td>\n",
              "      <td>NaN</td>\n",
              "      <td>2</td>\n",
              "      <td>NaN</td>\n",
              "      <td>NaN</td>\n",
              "      <td>NaN</td>\n",
              "      <td>jackfruit</td>\n",
              "    </tr>\n",
              "    <tr>\n",
              "      <th>11</th>\n",
              "      <td>916611</td>\n",
              "      <td>01/01/2021</td>\n",
              "      <td>NC</td>\n",
              "      <td>33.0</td>\n",
              "      <td>33.0</td>\n",
              "      <td>NaN</td>\n",
              "      <td>F</td>\n",
              "      <td>NaN</td>\n",
              "      <td>12pm Received shot 1 pm Sore arm at injection ...</td>\n",
              "      <td>NaN</td>\n",
              "      <td>...</td>\n",
              "      <td>12/29/2020</td>\n",
              "      <td>12/29/2020</td>\n",
              "      <td>0.0</td>\n",
              "      <td>Obesity Anxiety</td>\n",
              "      <td>NaN</td>\n",
              "      <td>2</td>\n",
              "      <td>NaN</td>\n",
              "      <td>Y</td>\n",
              "      <td>NaN</td>\n",
              "      <td>Dust mites  Zoloft  Wellbutrin  Buspar</td>\n",
              "    </tr>\n",
              "  </tbody>\n",
              "</table>\n",
              "<p>12 rows × 28 columns</p>\n",
              "</div>\n",
              "    <div class=\"colab-df-buttons\">\n",
              "\n",
              "  <div class=\"colab-df-container\">\n",
              "    <button class=\"colab-df-convert\" onclick=\"convertToInteractive('df-1979763a-d231-4c8e-85c1-a6992ae1ff5a')\"\n",
              "            title=\"Convert this dataframe to an interactive table.\"\n",
              "            style=\"display:none;\">\n",
              "\n",
              "  <svg xmlns=\"http://www.w3.org/2000/svg\" height=\"24px\" viewBox=\"0 -960 960 960\">\n",
              "    <path d=\"M120-120v-720h720v720H120Zm60-500h600v-160H180v160Zm220 220h160v-160H400v160Zm0 220h160v-160H400v160ZM180-400h160v-160H180v160Zm440 0h160v-160H620v160ZM180-180h160v-160H180v160Zm440 0h160v-160H620v160Z\"/>\n",
              "  </svg>\n",
              "    </button>\n",
              "\n",
              "  <style>\n",
              "    .colab-df-container {\n",
              "      display:flex;\n",
              "      gap: 12px;\n",
              "    }\n",
              "\n",
              "    .colab-df-convert {\n",
              "      background-color: #E8F0FE;\n",
              "      border: none;\n",
              "      border-radius: 50%;\n",
              "      cursor: pointer;\n",
              "      display: none;\n",
              "      fill: #1967D2;\n",
              "      height: 32px;\n",
              "      padding: 0 0 0 0;\n",
              "      width: 32px;\n",
              "    }\n",
              "\n",
              "    .colab-df-convert:hover {\n",
              "      background-color: #E2EBFA;\n",
              "      box-shadow: 0px 1px 2px rgba(60, 64, 67, 0.3), 0px 1px 3px 1px rgba(60, 64, 67, 0.15);\n",
              "      fill: #174EA6;\n",
              "    }\n",
              "\n",
              "    .colab-df-buttons div {\n",
              "      margin-bottom: 4px;\n",
              "    }\n",
              "\n",
              "    [theme=dark] .colab-df-convert {\n",
              "      background-color: #3B4455;\n",
              "      fill: #D2E3FC;\n",
              "    }\n",
              "\n",
              "    [theme=dark] .colab-df-convert:hover {\n",
              "      background-color: #434B5C;\n",
              "      box-shadow: 0px 1px 3px 1px rgba(0, 0, 0, 0.15);\n",
              "      filter: drop-shadow(0px 1px 2px rgba(0, 0, 0, 0.3));\n",
              "      fill: #FFFFFF;\n",
              "    }\n",
              "  </style>\n",
              "\n",
              "    <script>\n",
              "      const buttonEl =\n",
              "        document.querySelector('#df-1979763a-d231-4c8e-85c1-a6992ae1ff5a button.colab-df-convert');\n",
              "      buttonEl.style.display =\n",
              "        google.colab.kernel.accessAllowed ? 'block' : 'none';\n",
              "\n",
              "      async function convertToInteractive(key) {\n",
              "        const element = document.querySelector('#df-1979763a-d231-4c8e-85c1-a6992ae1ff5a');\n",
              "        const dataTable =\n",
              "          await google.colab.kernel.invokeFunction('convertToInteractive',\n",
              "                                                    [key], {});\n",
              "        if (!dataTable) return;\n",
              "\n",
              "        const docLinkHtml = 'Like what you see? Visit the ' +\n",
              "          '<a target=\"_blank\" href=https://colab.research.google.com/notebooks/data_table.ipynb>data table notebook</a>'\n",
              "          + ' to learn more about interactive tables.';\n",
              "        element.innerHTML = '';\n",
              "        dataTable['output_type'] = 'display_data';\n",
              "        await google.colab.output.renderOutput(dataTable, element);\n",
              "        const docLink = document.createElement('div');\n",
              "        docLink.innerHTML = docLinkHtml;\n",
              "        element.appendChild(docLink);\n",
              "      }\n",
              "    </script>\n",
              "  </div>\n",
              "\n",
              "\n",
              "<div id=\"df-11f4767a-a68d-419b-887b-f6022b4651a2\">\n",
              "  <button class=\"colab-df-quickchart\" onclick=\"quickchart('df-11f4767a-a68d-419b-887b-f6022b4651a2')\"\n",
              "            title=\"Suggest charts\"\n",
              "            style=\"display:none;\">\n",
              "\n",
              "<svg xmlns=\"http://www.w3.org/2000/svg\" height=\"24px\"viewBox=\"0 0 24 24\"\n",
              "     width=\"24px\">\n",
              "    <g>\n",
              "        <path d=\"M19 3H5c-1.1 0-2 .9-2 2v14c0 1.1.9 2 2 2h14c1.1 0 2-.9 2-2V5c0-1.1-.9-2-2-2zM9 17H7v-7h2v7zm4 0h-2V7h2v10zm4 0h-2v-4h2v4z\"/>\n",
              "    </g>\n",
              "</svg>\n",
              "  </button>\n",
              "\n",
              "<style>\n",
              "  .colab-df-quickchart {\n",
              "      --bg-color: #E8F0FE;\n",
              "      --fill-color: #1967D2;\n",
              "      --hover-bg-color: #E2EBFA;\n",
              "      --hover-fill-color: #174EA6;\n",
              "      --disabled-fill-color: #AAA;\n",
              "      --disabled-bg-color: #DDD;\n",
              "  }\n",
              "\n",
              "  [theme=dark] .colab-df-quickchart {\n",
              "      --bg-color: #3B4455;\n",
              "      --fill-color: #D2E3FC;\n",
              "      --hover-bg-color: #434B5C;\n",
              "      --hover-fill-color: #FFFFFF;\n",
              "      --disabled-bg-color: #3B4455;\n",
              "      --disabled-fill-color: #666;\n",
              "  }\n",
              "\n",
              "  .colab-df-quickchart {\n",
              "    background-color: var(--bg-color);\n",
              "    border: none;\n",
              "    border-radius: 50%;\n",
              "    cursor: pointer;\n",
              "    display: none;\n",
              "    fill: var(--fill-color);\n",
              "    height: 32px;\n",
              "    padding: 0;\n",
              "    width: 32px;\n",
              "  }\n",
              "\n",
              "  .colab-df-quickchart:hover {\n",
              "    background-color: var(--hover-bg-color);\n",
              "    box-shadow: 0 1px 2px rgba(60, 64, 67, 0.3), 0 1px 3px 1px rgba(60, 64, 67, 0.15);\n",
              "    fill: var(--button-hover-fill-color);\n",
              "  }\n",
              "\n",
              "  .colab-df-quickchart-complete:disabled,\n",
              "  .colab-df-quickchart-complete:disabled:hover {\n",
              "    background-color: var(--disabled-bg-color);\n",
              "    fill: var(--disabled-fill-color);\n",
              "    box-shadow: none;\n",
              "  }\n",
              "\n",
              "  .colab-df-spinner {\n",
              "    border: 2px solid var(--fill-color);\n",
              "    border-color: transparent;\n",
              "    border-bottom-color: var(--fill-color);\n",
              "    animation:\n",
              "      spin 1s steps(1) infinite;\n",
              "  }\n",
              "\n",
              "  @keyframes spin {\n",
              "    0% {\n",
              "      border-color: transparent;\n",
              "      border-bottom-color: var(--fill-color);\n",
              "      border-left-color: var(--fill-color);\n",
              "    }\n",
              "    20% {\n",
              "      border-color: transparent;\n",
              "      border-left-color: var(--fill-color);\n",
              "      border-top-color: var(--fill-color);\n",
              "    }\n",
              "    30% {\n",
              "      border-color: transparent;\n",
              "      border-left-color: var(--fill-color);\n",
              "      border-top-color: var(--fill-color);\n",
              "      border-right-color: var(--fill-color);\n",
              "    }\n",
              "    40% {\n",
              "      border-color: transparent;\n",
              "      border-right-color: var(--fill-color);\n",
              "      border-top-color: var(--fill-color);\n",
              "    }\n",
              "    60% {\n",
              "      border-color: transparent;\n",
              "      border-right-color: var(--fill-color);\n",
              "    }\n",
              "    80% {\n",
              "      border-color: transparent;\n",
              "      border-right-color: var(--fill-color);\n",
              "      border-bottom-color: var(--fill-color);\n",
              "    }\n",
              "    90% {\n",
              "      border-color: transparent;\n",
              "      border-bottom-color: var(--fill-color);\n",
              "    }\n",
              "  }\n",
              "</style>\n",
              "\n",
              "  <script>\n",
              "    async function quickchart(key) {\n",
              "      const quickchartButtonEl =\n",
              "        document.querySelector('#' + key + ' button');\n",
              "      quickchartButtonEl.disabled = true;  // To prevent multiple clicks.\n",
              "      quickchartButtonEl.classList.add('colab-df-spinner');\n",
              "      try {\n",
              "        const charts = await google.colab.kernel.invokeFunction(\n",
              "            'suggestCharts', [key], {});\n",
              "      } catch (error) {\n",
              "        console.error('Error during call to suggestCharts:', error);\n",
              "      }\n",
              "      quickchartButtonEl.classList.remove('colab-df-spinner');\n",
              "      quickchartButtonEl.classList.add('colab-df-quickchart-complete');\n",
              "    }\n",
              "    (() => {\n",
              "      let quickchartButtonEl =\n",
              "        document.querySelector('#df-11f4767a-a68d-419b-887b-f6022b4651a2 button');\n",
              "      quickchartButtonEl.style.display =\n",
              "        google.colab.kernel.accessAllowed ? 'block' : 'none';\n",
              "    })();\n",
              "  </script>\n",
              "</div>\n",
              "\n",
              "    </div>\n",
              "  </div>\n"
            ],
            "application/vnd.google.colaboratory.intrinsic+json": {
              "type": "dataframe",
              "variable_name": "df_vaers_data_2021"
            }
          },
          "metadata": {},
          "execution_count": 25
        }
      ]
    },
    {
      "cell_type": "code",
      "source": [
        "# prompt: set all DIED rows that are not equal to Y to N\n",
        "\n",
        "df_vaers_data_2021['DIED'] = df_vaers_data_2021['DIED'].apply(lambda x: 'N' if x != 'Y' else x)\n"
      ],
      "metadata": {
        "id": "rXFpqyIDeefu"
      },
      "execution_count": 28,
      "outputs": []
    },
    {
      "cell_type": "code",
      "source": [
        "# prompt: Give me a DIED column count\n",
        "\n",
        "died_count = df_vaers_data_2021['DIED'].value_counts()\n",
        "print(died_count)\n",
        "\n",
        "\n"
      ],
      "metadata": {
        "id": "kw00-Hj6hEPw",
        "outputId": "5e40e0ac-b7f6-48bd-cf86-a7d7997b0a95",
        "colab": {
          "base_uri": "https://localhost:8080/"
        }
      },
      "execution_count": 29,
      "outputs": [
        {
          "output_type": "stream",
          "name": "stdout",
          "text": [
            "DIED\n",
            "N    742456\n",
            "Y     10550\n",
            "Name: count, dtype: int64\n"
          ]
        }
      ]
    },
    {
      "cell_type": "code",
      "source": [
        "# Explore Datasets\n",
        "df_symptoms_2021.isnull().sum()"
      ],
      "metadata": {
        "colab": {
          "base_uri": "https://localhost:8080/"
        },
        "id": "DGf-L0DTwaxK",
        "outputId": "cc0f5213-8982-4269-9c7e-dca484608fb9"
      },
      "execution_count": 30,
      "outputs": [
        {
          "output_type": "execute_result",
          "data": {
            "text/plain": [
              "VAERS_ID             0\n",
              "SYMPTOM1             0\n",
              "SYMPTOM2        225538\n",
              "SYMPTOM3        408255\n",
              "SYMPTOM4        551438\n",
              "SYMPTOM5        665894\n",
              "ALL_SYMPTOMS         0\n",
              "dtype: int64"
            ]
          },
          "metadata": {},
          "execution_count": 30
        }
      ]
    },
    {
      "cell_type": "code",
      "source": [
        "# Drop  Columns\n",
        "df_vaers_data_2021 = df_vaers_data_2021.drop(columns =['CAGE_YR', 'CAGE_MO', 'RPT_DATE', 'ONSET_DATE','NUMDAYS', 'LAB_DATA', 'SYMPTOM_TEXT',\n",
        "                                                   'V_ADMINBY', 'DATEDIED', 'V_FUNDBY', 'OTHER_MEDS', 'CUR_ILL', 'PRIOR_VAX','VAX_DATE',\n",
        "                                                   'SPLTTYPE', 'FORM_VERS', 'TODAYS_DATE', 'OFC_VISIT', 'HISTORY', 'ER_ED_VISIT', 'ALLERGIES',\n",
        "                                                   'RECVDATE','STATE','HOSPDAYS','X_STAY','RECOVD'],errors='ignore')"
      ],
      "metadata": {
        "id": "gjl5n70oeJ-C"
      },
      "execution_count": 30,
      "outputs": []
    },
    {
      "cell_type": "code",
      "source": [
        "df_vaers_data_2021.columns"
      ],
      "metadata": {
        "colab": {
          "base_uri": "https://localhost:8080/"
        },
        "id": "Qn4YRGYoehOu",
        "outputId": "1c9a0f93-ba3f-4e35-bec1-b2ae6c612d88"
      },
      "execution_count": 31,
      "outputs": [
        {
          "output_type": "execute_result",
          "data": {
            "text/plain": [
              "Index(['VAERS_ID', 'AGE_YRS', 'SEX', 'DIED', 'L_THREAT', 'ER_VISIT',\n",
              "       'HOSPITAL', 'DISABLE', 'BIRTH_DEFECT'],\n",
              "      dtype='object')"
            ]
          },
          "metadata": {},
          "execution_count": 31
        }
      ]
    },
    {
      "cell_type": "markdown",
      "source": [
        "**Note:** I will focus in column: SYMPTOM1"
      ],
      "metadata": {
        "id": "DEvKJANMxB_n"
      }
    },
    {
      "cell_type": "code",
      "source": [
        "df_vaers_data_2021.info()"
      ],
      "metadata": {
        "colab": {
          "base_uri": "https://localhost:8080/"
        },
        "id": "gNCle-NrWOgF",
        "outputId": "ed8826ec-c765-4e81-9264-10fdf1e9f574"
      },
      "execution_count": 31,
      "outputs": [
        {
          "output_type": "stream",
          "name": "stdout",
          "text": [
            "<class 'pandas.core.frame.DataFrame'>\n",
            "RangeIndex: 753006 entries, 0 to 753005\n",
            "Data columns (total 28 columns):\n",
            " #   Column        Non-Null Count   Dtype  \n",
            "---  ------        --------------   -----  \n",
            " 0   VAERS_ID      753006 non-null  int64  \n",
            " 1   RECVDATE      753006 non-null  object \n",
            " 2   STATE         637119 non-null  object \n",
            " 3   AGE_YRS       671999 non-null  float64\n",
            " 4   CAGE_YR       604352 non-null  float64\n",
            " 5   CAGE_MO       4301 non-null    float64\n",
            " 6   SEX           753006 non-null  object \n",
            " 7   RPT_DATE      928 non-null     object \n",
            " 8   SYMPTOM_TEXT  752429 non-null  object \n",
            " 9   DIED          753006 non-null  object \n",
            " 10  DATEDIED      9379 non-null    object \n",
            " 11  L_THREAT      11115 non-null   object \n",
            " 12  ER_VISIT      127 non-null     object \n",
            " 13  HOSPITAL      47469 non-null   object \n",
            " 14  HOSPDAYS      31199 non-null   float64\n",
            " 15  X_STAY        378 non-null     object \n",
            " 16  DISABLE       11973 non-null   object \n",
            " 17  RECOVD        679575 non-null  object \n",
            " 18  VAX_DATE      697261 non-null  object \n",
            " 19  ONSET_DATE    687191 non-null  object \n",
            " 20  NUMDAYS       658477 non-null  float64\n",
            " 21  HISTORY       374899 non-null  object \n",
            " 22  SPLTTYPE      219915 non-null  object \n",
            " 23  FORM_VERS     753006 non-null  int64  \n",
            " 24  BIRTH_DEFECT  459 non-null     object \n",
            " 25  OFC_VISIT     144528 non-null  object \n",
            " 26  ER_ED_VISIT   90303 non-null   object \n",
            " 27  ALLERGIES     298545 non-null  object \n",
            "dtypes: float64(5), int64(2), object(21)\n",
            "memory usage: 160.9+ MB\n"
          ]
        }
      ]
    },
    {
      "cell_type": "code",
      "source": [
        "df_symptoms_2021.info()"
      ],
      "metadata": {
        "colab": {
          "base_uri": "https://localhost:8080/"
        },
        "id": "lNm7n5W7v3IZ",
        "outputId": "9914c7f3-68ef-46f1-bdfa-5dcf98568df3"
      },
      "execution_count": 33,
      "outputs": [
        {
          "output_type": "stream",
          "name": "stdout",
          "text": [
            "<class 'pandas.core.frame.DataFrame'>\n",
            "RangeIndex: 1003896 entries, 0 to 1003895\n",
            "Data columns (total 7 columns):\n",
            " #   Column        Non-Null Count    Dtype \n",
            "---  ------        --------------    ----- \n",
            " 0   VAERS_ID      1003896 non-null  int64 \n",
            " 1   SYMPTOM1      1003896 non-null  object\n",
            " 2   SYMPTOM2      778358 non-null   object\n",
            " 3   SYMPTOM3      595641 non-null   object\n",
            " 4   SYMPTOM4      452458 non-null   object\n",
            " 5   SYMPTOM5      338002 non-null   object\n",
            " 6   ALL_SYMPTOMS  1003896 non-null  object\n",
            "dtypes: int64(1), object(6)\n",
            "memory usage: 53.6+ MB\n"
          ]
        }
      ]
    },
    {
      "cell_type": "code",
      "source": [
        "# prompt: drop SYMPTOMVERSION1. SYMPTOMVERSION2 , SYMPTOMVERSION3, SYMPTOMVERSION4, SYMPTOMVERSION5\n",
        "\n",
        "df_symptoms_2021.drop(['SYMPTOMVERSION1', 'SYMPTOMVERSION2', 'SYMPTOMVERSION3', 'SYMPTOMVERSION4', 'SYMPTOMVERSION5'], axis=1, inplace=True,errors='ignore')\n"
      ],
      "metadata": {
        "id": "wCbs4A_Uv9Qx"
      },
      "execution_count": 32,
      "outputs": []
    },
    {
      "cell_type": "code",
      "source": [
        "# prompt: how many vaers are by vacine manu\n",
        "\n",
        "#df_vaers_vax_2021['VAX_MANU'].value_counts()\n",
        "df_vaers_vax_2021['VAX_TYPE'].value_counts(normalize= True) * 100\n"
      ],
      "metadata": {
        "colab": {
          "base_uri": "https://localhost:8080/"
        },
        "id": "FvsVIHMMwTFL",
        "outputId": "da2ce2c4-94b9-4382-a71e-3b6c30f3b379"
      },
      "execution_count": 36,
      "outputs": [
        {
          "output_type": "execute_result",
          "data": {
            "text/plain": [
              "VAX_TYPE\n",
              "COVID19    93.103587\n",
              "VARZOS      1.800193\n",
              "UNK         1.187960\n",
              "FLU4        0.681361\n",
              "HPV9        0.228835\n",
              "             ...    \n",
              "PER         0.000125\n",
              "DTOX        0.000125\n",
              "DTPHEP      0.000125\n",
              "MNQHIB      0.000125\n",
              "TDAPIPV     0.000125\n",
              "Name: proportion, Length: 70, dtype: float64"
            ]
          },
          "metadata": {},
          "execution_count": 36
        }
      ]
    },
    {
      "cell_type": "code",
      "source": [
        "# prompt: merge all 3 data frame\n",
        "\n",
        "df_combine_2021 = pd.merge(df_vaers_data_2021, df_vaers_vax_2021, on='VAERS_ID', how='inner')\n",
        "df_combine_2021 = pd.merge(df_combine_2021, df_symptoms_2021, on='VAERS_ID', how='inner')\n"
      ],
      "metadata": {
        "id": "h22Y70aDBrax",
        "colab": {
          "base_uri": "https://localhost:8080/",
          "height": 197
        },
        "outputId": "560d4f89-cdb3-46ec-8cbf-798b1079c405"
      },
      "execution_count": 3,
      "outputs": [
        {
          "output_type": "error",
          "ename": "NameError",
          "evalue": "name 'pd' is not defined",
          "traceback": [
            "\u001b[0;31m---------------------------------------------------------------------------\u001b[0m",
            "\u001b[0;31mNameError\u001b[0m                                 Traceback (most recent call last)",
            "\u001b[0;32m<ipython-input-3-6e40256d508a>\u001b[0m in \u001b[0;36m<cell line: 3>\u001b[0;34m()\u001b[0m\n\u001b[1;32m      1\u001b[0m \u001b[0;31m# prompt: merge all 3 data frame\u001b[0m\u001b[0;34m\u001b[0m\u001b[0;34m\u001b[0m\u001b[0m\n\u001b[1;32m      2\u001b[0m \u001b[0;34m\u001b[0m\u001b[0m\n\u001b[0;32m----> 3\u001b[0;31m \u001b[0mdf_combine_2021\u001b[0m \u001b[0;34m=\u001b[0m \u001b[0mpd\u001b[0m\u001b[0;34m.\u001b[0m\u001b[0mmerge\u001b[0m\u001b[0;34m(\u001b[0m\u001b[0mdf_vaers_data_2021\u001b[0m\u001b[0;34m,\u001b[0m \u001b[0mdf_vaers_vax_2021\u001b[0m\u001b[0;34m,\u001b[0m \u001b[0mon\u001b[0m\u001b[0;34m=\u001b[0m\u001b[0;34m'VAERS_ID'\u001b[0m\u001b[0;34m,\u001b[0m \u001b[0mhow\u001b[0m\u001b[0;34m=\u001b[0m\u001b[0;34m'inner'\u001b[0m\u001b[0;34m)\u001b[0m\u001b[0;34m\u001b[0m\u001b[0;34m\u001b[0m\u001b[0m\n\u001b[0m\u001b[1;32m      4\u001b[0m \u001b[0mdf_combine_2021\u001b[0m \u001b[0;34m=\u001b[0m \u001b[0mpd\u001b[0m\u001b[0;34m.\u001b[0m\u001b[0mmerge\u001b[0m\u001b[0;34m(\u001b[0m\u001b[0mdf_combine_2021\u001b[0m\u001b[0;34m,\u001b[0m \u001b[0mdf_symptoms_2021\u001b[0m\u001b[0;34m,\u001b[0m \u001b[0mon\u001b[0m\u001b[0;34m=\u001b[0m\u001b[0;34m'VAERS_ID'\u001b[0m\u001b[0;34m,\u001b[0m \u001b[0mhow\u001b[0m\u001b[0;34m=\u001b[0m\u001b[0;34m'inner'\u001b[0m\u001b[0;34m)\u001b[0m\u001b[0;34m\u001b[0m\u001b[0;34m\u001b[0m\u001b[0m\n",
            "\u001b[0;31mNameError\u001b[0m: name 'pd' is not defined"
          ]
        }
      ]
    },
    {
      "cell_type": "code",
      "source": [
        "len(df_combine_2021[df_combine_2021.duplicated(subset= ['VAERS_ID'])== True])\n",
        "df_combine_2021 = df_combine_2021.drop_duplicates(subset= ['VAERS_ID'], keep= 'first')\n",
        "# Checking dimension of data after dropping duplicates:\n",
        "df_combine_2021.shape"
      ],
      "metadata": {
        "colab": {
          "base_uri": "https://localhost:8080/"
        },
        "id": "3K07VFSu5m4b",
        "outputId": "fd21ea45-3678-4443-d930-9454f6e96ecf"
      },
      "execution_count": 38,
      "outputs": [
        {
          "output_type": "execute_result",
          "data": {
            "text/plain": [
              "(753003, 18)"
            ]
          },
          "metadata": {},
          "execution_count": 38
        }
      ]
    },
    {
      "cell_type": "code",
      "source": [
        "df_combine_2021.info()"
      ],
      "metadata": {
        "id": "E_GZRLFVEJLG",
        "outputId": "dd8277a9-c6eb-4093-9d48-b2c33b42f695",
        "colab": {
          "base_uri": "https://localhost:8080/"
        }
      },
      "execution_count": 39,
      "outputs": [
        {
          "output_type": "stream",
          "name": "stdout",
          "text": [
            "<class 'pandas.core.frame.DataFrame'>\n",
            "Index: 753003 entries, 0 to 1070233\n",
            "Data columns (total 18 columns):\n",
            " #   Column           Non-Null Count   Dtype  \n",
            "---  ------           --------------   -----  \n",
            " 0   VAERS_ID         753003 non-null  int64  \n",
            " 1   AGE_YRS          671996 non-null  float64\n",
            " 2   SEX              753003 non-null  object \n",
            " 3   DIED             753003 non-null  object \n",
            " 4   L_THREAT         11113 non-null   object \n",
            " 5   ER_VISIT         127 non-null     object \n",
            " 6   HOSPITAL         47468 non-null   object \n",
            " 7   DISABLE          11973 non-null   object \n",
            " 8   BIRTH_DEFECT     459 non-null     object \n",
            " 9   VAX_TYPE         753003 non-null  object \n",
            " 10  VAX_MANU         753003 non-null  object \n",
            " 11  VAX_DOSE_SERIES  749278 non-null  object \n",
            " 12  SYMPTOM1         753003 non-null  object \n",
            " 13  SYMPTOM2         590865 non-null  object \n",
            " 14  SYMPTOM3         453978 non-null  object \n",
            " 15  SYMPTOM4         344175 non-null  object \n",
            " 16  SYMPTOM5         253853 non-null  object \n",
            " 17  ALL_SYMPTOMS     753003 non-null  object \n",
            "dtypes: float64(1), int64(1), object(16)\n",
            "memory usage: 109.2+ MB\n"
          ]
        }
      ]
    },
    {
      "cell_type": "code",
      "source": [
        "df_combine_2021.columns"
      ],
      "metadata": {
        "id": "xd6uLKpGETkD",
        "outputId": "a563907b-6cd3-4c68-f99b-d6a468005548",
        "colab": {
          "base_uri": "https://localhost:8080/"
        }
      },
      "execution_count": 34,
      "outputs": [
        {
          "output_type": "execute_result",
          "data": {
            "text/plain": [
              "Index(['VAERS_ID', 'RECVDATE', 'STATE', 'AGE_YRS', 'CAGE_YR', 'CAGE_MO', 'SEX',\n",
              "       'RPT_DATE', 'SYMPTOM_TEXT', 'DIED', 'DATEDIED', 'L_THREAT', 'ER_VISIT',\n",
              "       'HOSPITAL', 'HOSPDAYS', 'X_STAY', 'DISABLE', 'RECOVD', 'VAX_DATE',\n",
              "       'ONSET_DATE', 'NUMDAYS', 'HISTORY', 'SPLTTYPE', 'FORM_VERS',\n",
              "       'BIRTH_DEFECT', 'OFC_VISIT', 'ER_ED_VISIT', 'ALLERGIES', 'VAX_TYPE',\n",
              "       'VAX_MANU', 'VAX_DOSE_SERIES', 'SYMPTOM1', 'SYMPTOM2', 'SYMPTOM3',\n",
              "       'SYMPTOM4', 'SYMPTOM5', 'ALL_SYMPTOMS'],\n",
              "      dtype='object')"
            ]
          },
          "metadata": {},
          "execution_count": 34
        }
      ]
    },
    {
      "cell_type": "code",
      "source": [
        "len(df_combine_2021[df_combine_2021.duplicated(subset= ['VAERS_ID'])== True])\n",
        "# Dropping duplicate records keeping the first record:\n",
        "df_combine_2021.shape\n",
        "print(df_combine_2021.shape)\n",
        "df_combine_2021 = df_combine_2021.drop_duplicates(subset= ['VAERS_ID'], keep= 'first')\n",
        "\n",
        "# Checking dimension of data after dropping duplicates:\n",
        "print(df_combine_2021.shape)\n",
        "df_combine_2021.shape\n",
        "\n"
      ],
      "metadata": {
        "id": "fLPq8clDyC-T",
        "outputId": "07661fc9-308f-4e58-be8b-b12de1e24c13",
        "colab": {
          "base_uri": "https://localhost:8080/",
          "height": 214
        }
      },
      "execution_count": 2,
      "outputs": [
        {
          "output_type": "error",
          "ename": "NameError",
          "evalue": "name 'df_combine_2021' is not defined",
          "traceback": [
            "\u001b[0;31m---------------------------------------------------------------------------\u001b[0m",
            "\u001b[0;31mNameError\u001b[0m                                 Traceback (most recent call last)",
            "\u001b[0;32m<ipython-input-2-0929b0367301>\u001b[0m in \u001b[0;36m<cell line: 1>\u001b[0;34m()\u001b[0m\n\u001b[0;32m----> 1\u001b[0;31m \u001b[0mlen\u001b[0m\u001b[0;34m(\u001b[0m\u001b[0mdf_combine_2021\u001b[0m\u001b[0;34m[\u001b[0m\u001b[0mdf_combine_2021\u001b[0m\u001b[0;34m.\u001b[0m\u001b[0mduplicated\u001b[0m\u001b[0;34m(\u001b[0m\u001b[0msubset\u001b[0m\u001b[0;34m=\u001b[0m \u001b[0;34m[\u001b[0m\u001b[0;34m'VAERS_ID'\u001b[0m\u001b[0;34m]\u001b[0m\u001b[0;34m)\u001b[0m\u001b[0;34m==\u001b[0m \u001b[0;32mTrue\u001b[0m\u001b[0;34m]\u001b[0m\u001b[0;34m)\u001b[0m\u001b[0;34m\u001b[0m\u001b[0;34m\u001b[0m\u001b[0m\n\u001b[0m\u001b[1;32m      2\u001b[0m \u001b[0;31m# Dropping duplicate records keeping the first record:\u001b[0m\u001b[0;34m\u001b[0m\u001b[0;34m\u001b[0m\u001b[0m\n\u001b[1;32m      3\u001b[0m \u001b[0mdf_combine_2021\u001b[0m\u001b[0;34m.\u001b[0m\u001b[0mshape\u001b[0m\u001b[0;34m\u001b[0m\u001b[0;34m\u001b[0m\u001b[0m\n\u001b[1;32m      4\u001b[0m \u001b[0mprint\u001b[0m\u001b[0;34m(\u001b[0m\u001b[0mdf_combine_2021\u001b[0m\u001b[0;34m.\u001b[0m\u001b[0mshape\u001b[0m\u001b[0;34m)\u001b[0m\u001b[0;34m\u001b[0m\u001b[0;34m\u001b[0m\u001b[0m\n\u001b[1;32m      5\u001b[0m \u001b[0mdf_combine_2021\u001b[0m \u001b[0;34m=\u001b[0m \u001b[0mdf_combine_2021\u001b[0m\u001b[0;34m.\u001b[0m\u001b[0mdrop_duplicates\u001b[0m\u001b[0;34m(\u001b[0m\u001b[0msubset\u001b[0m\u001b[0;34m=\u001b[0m \u001b[0;34m[\u001b[0m\u001b[0;34m'VAERS_ID'\u001b[0m\u001b[0;34m]\u001b[0m\u001b[0;34m,\u001b[0m \u001b[0mkeep\u001b[0m\u001b[0;34m=\u001b[0m \u001b[0;34m'first'\u001b[0m\u001b[0;34m)\u001b[0m\u001b[0;34m\u001b[0m\u001b[0;34m\u001b[0m\u001b[0m\n",
            "\u001b[0;31mNameError\u001b[0m: name 'df_combine_2021' is not defined"
          ]
        }
      ]
    },
    {
      "cell_type": "code",
      "source": [
        "print(df_combine_2021.info)"
      ],
      "metadata": {
        "id": "ZhlaT-U3z7Px",
        "outputId": "918e8aa4-e2e4-42f5-faf8-f0d82638d769",
        "colab": {
          "base_uri": "https://localhost:8080/",
          "height": 143
        }
      },
      "execution_count": 1,
      "outputs": [
        {
          "output_type": "error",
          "ename": "NameError",
          "evalue": "name 'df_combine_2021' is not defined",
          "traceback": [
            "\u001b[0;31m---------------------------------------------------------------------------\u001b[0m",
            "\u001b[0;31mNameError\u001b[0m                                 Traceback (most recent call last)",
            "\u001b[0;32m<ipython-input-1-426f8e0faa00>\u001b[0m in \u001b[0;36m<cell line: 1>\u001b[0;34m()\u001b[0m\n\u001b[0;32m----> 1\u001b[0;31m \u001b[0mprint\u001b[0m\u001b[0;34m(\u001b[0m\u001b[0mdf_combine_2021\u001b[0m\u001b[0;34m.\u001b[0m\u001b[0minfo\u001b[0m\u001b[0;34m)\u001b[0m\u001b[0;34m\u001b[0m\u001b[0;34m\u001b[0m\u001b[0m\n\u001b[0m",
            "\u001b[0;31mNameError\u001b[0m: name 'df_combine_2021' is not defined"
          ]
        }
      ]
    },
    {
      "cell_type": "code",
      "source": [
        "# prompt: how many people died by sex\n",
        "\n",
        "died_by_sex = df_combine_2021.groupby('SEX')['DIED'].value_counts()\n",
        "\n",
        "print(died_by_sex)\n"
      ],
      "metadata": {
        "id": "sq7IgsJTuroZ",
        "outputId": "e7665bf5-d2be-456c-b9c0-a05205904096",
        "colab": {
          "base_uri": "https://localhost:8080/"
        }
      },
      "execution_count": 36,
      "outputs": [
        {
          "output_type": "stream",
          "name": "stdout",
          "text": [
            "SEX  DIED\n",
            "F    N       704793\n",
            "     Y         8105\n",
            "M    N       305622\n",
            "     Y        11743\n",
            "U    N        39427\n",
            "     Y          544\n",
            "Name: count, dtype: int64\n"
          ]
        }
      ]
    },
    {
      "cell_type": "code",
      "source": [
        "df_combine_2021.head()"
      ],
      "metadata": {
        "id": "nlcEISKgTuDR",
        "outputId": "d46cc0ac-580f-4a82-dad5-ff214269e42b",
        "colab": {
          "base_uri": "https://localhost:8080/",
          "height": 434
        }
      },
      "execution_count": 42,
      "outputs": [
        {
          "output_type": "execute_result",
          "data": {
            "text/plain": [
              "   VAERS_ID  AGE_YRS SEX DIED L_THREAT ER_VISIT HOSPITAL DISABLE BIRTH_DEFECT  \\\n",
              "0    916600     33.0   F    N      NaN      NaN      NaN     NaN          NaN   \n",
              "1    916601     73.0   F    N      NaN      NaN      NaN     NaN          NaN   \n",
              "2    916602     23.0   F    N      NaN      NaN      NaN     NaN          NaN   \n",
              "3    916603     58.0   F    N      NaN      NaN      NaN     NaN          NaN   \n",
              "4    916604     47.0   F    N      NaN      NaN      NaN     NaN          NaN   \n",
              "\n",
              "  VAX_TYPE         VAX_MANU VAX_DOSE_SERIES                 SYMPTOM1  \\\n",
              "0  COVID19          MODERNA               1                Dysphagia   \n",
              "1  COVID19          MODERNA               1                  Anxiety   \n",
              "2  COVID19  PFIZER\\BIONTECH               1         Chest discomfort   \n",
              "3  COVID19          MODERNA             UNK                Dizziness   \n",
              "4  COVID19          MODERNA               1  Injection site erythema   \n",
              "\n",
              "                  SYMPTOM2                 SYMPTOM3               SYMPTOM4  \\\n",
              "0             Epiglottitis                      NaN                    NaN   \n",
              "1                 Dyspnoea                      NaN                    NaN   \n",
              "2                Dysphagia        Pain in extremity      Visual impairment   \n",
              "3                  Fatigue       Mobility decreased                    NaN   \n",
              "4  Injection site pruritus  Injection site swelling  Injection site warmth   \n",
              "\n",
              "  SYMPTOM5                                       ALL_SYMPTOMS  \n",
              "0      NaN                             Dysphagia Epiglottitis  \n",
              "1      NaN                                   Anxiety Dyspnoea  \n",
              "2      NaN  Chest discomfort Visual impairment Dysphagia P...  \n",
              "3      NaN               Dizziness Fatigue Mobility decreased  \n",
              "4      NaN  Injection site erythema Injection site warmth ...  "
            ],
            "text/html": [
              "\n",
              "  <div id=\"df-24f84471-f4bc-48f9-b12d-ebe834b5ffaa\" class=\"colab-df-container\">\n",
              "    <div>\n",
              "<style scoped>\n",
              "    .dataframe tbody tr th:only-of-type {\n",
              "        vertical-align: middle;\n",
              "    }\n",
              "\n",
              "    .dataframe tbody tr th {\n",
              "        vertical-align: top;\n",
              "    }\n",
              "\n",
              "    .dataframe thead th {\n",
              "        text-align: right;\n",
              "    }\n",
              "</style>\n",
              "<table border=\"1\" class=\"dataframe\">\n",
              "  <thead>\n",
              "    <tr style=\"text-align: right;\">\n",
              "      <th></th>\n",
              "      <th>VAERS_ID</th>\n",
              "      <th>AGE_YRS</th>\n",
              "      <th>SEX</th>\n",
              "      <th>DIED</th>\n",
              "      <th>L_THREAT</th>\n",
              "      <th>ER_VISIT</th>\n",
              "      <th>HOSPITAL</th>\n",
              "      <th>DISABLE</th>\n",
              "      <th>BIRTH_DEFECT</th>\n",
              "      <th>VAX_TYPE</th>\n",
              "      <th>VAX_MANU</th>\n",
              "      <th>VAX_DOSE_SERIES</th>\n",
              "      <th>SYMPTOM1</th>\n",
              "      <th>SYMPTOM2</th>\n",
              "      <th>SYMPTOM3</th>\n",
              "      <th>SYMPTOM4</th>\n",
              "      <th>SYMPTOM5</th>\n",
              "      <th>ALL_SYMPTOMS</th>\n",
              "    </tr>\n",
              "  </thead>\n",
              "  <tbody>\n",
              "    <tr>\n",
              "      <th>0</th>\n",
              "      <td>916600</td>\n",
              "      <td>33.0</td>\n",
              "      <td>F</td>\n",
              "      <td>N</td>\n",
              "      <td>NaN</td>\n",
              "      <td>NaN</td>\n",
              "      <td>NaN</td>\n",
              "      <td>NaN</td>\n",
              "      <td>NaN</td>\n",
              "      <td>COVID19</td>\n",
              "      <td>MODERNA</td>\n",
              "      <td>1</td>\n",
              "      <td>Dysphagia</td>\n",
              "      <td>Epiglottitis</td>\n",
              "      <td>NaN</td>\n",
              "      <td>NaN</td>\n",
              "      <td>NaN</td>\n",
              "      <td>Dysphagia Epiglottitis</td>\n",
              "    </tr>\n",
              "    <tr>\n",
              "      <th>1</th>\n",
              "      <td>916601</td>\n",
              "      <td>73.0</td>\n",
              "      <td>F</td>\n",
              "      <td>N</td>\n",
              "      <td>NaN</td>\n",
              "      <td>NaN</td>\n",
              "      <td>NaN</td>\n",
              "      <td>NaN</td>\n",
              "      <td>NaN</td>\n",
              "      <td>COVID19</td>\n",
              "      <td>MODERNA</td>\n",
              "      <td>1</td>\n",
              "      <td>Anxiety</td>\n",
              "      <td>Dyspnoea</td>\n",
              "      <td>NaN</td>\n",
              "      <td>NaN</td>\n",
              "      <td>NaN</td>\n",
              "      <td>Anxiety Dyspnoea</td>\n",
              "    </tr>\n",
              "    <tr>\n",
              "      <th>2</th>\n",
              "      <td>916602</td>\n",
              "      <td>23.0</td>\n",
              "      <td>F</td>\n",
              "      <td>N</td>\n",
              "      <td>NaN</td>\n",
              "      <td>NaN</td>\n",
              "      <td>NaN</td>\n",
              "      <td>NaN</td>\n",
              "      <td>NaN</td>\n",
              "      <td>COVID19</td>\n",
              "      <td>PFIZER\\BIONTECH</td>\n",
              "      <td>1</td>\n",
              "      <td>Chest discomfort</td>\n",
              "      <td>Dysphagia</td>\n",
              "      <td>Pain in extremity</td>\n",
              "      <td>Visual impairment</td>\n",
              "      <td>NaN</td>\n",
              "      <td>Chest discomfort Visual impairment Dysphagia P...</td>\n",
              "    </tr>\n",
              "    <tr>\n",
              "      <th>3</th>\n",
              "      <td>916603</td>\n",
              "      <td>58.0</td>\n",
              "      <td>F</td>\n",
              "      <td>N</td>\n",
              "      <td>NaN</td>\n",
              "      <td>NaN</td>\n",
              "      <td>NaN</td>\n",
              "      <td>NaN</td>\n",
              "      <td>NaN</td>\n",
              "      <td>COVID19</td>\n",
              "      <td>MODERNA</td>\n",
              "      <td>UNK</td>\n",
              "      <td>Dizziness</td>\n",
              "      <td>Fatigue</td>\n",
              "      <td>Mobility decreased</td>\n",
              "      <td>NaN</td>\n",
              "      <td>NaN</td>\n",
              "      <td>Dizziness Fatigue Mobility decreased</td>\n",
              "    </tr>\n",
              "    <tr>\n",
              "      <th>4</th>\n",
              "      <td>916604</td>\n",
              "      <td>47.0</td>\n",
              "      <td>F</td>\n",
              "      <td>N</td>\n",
              "      <td>NaN</td>\n",
              "      <td>NaN</td>\n",
              "      <td>NaN</td>\n",
              "      <td>NaN</td>\n",
              "      <td>NaN</td>\n",
              "      <td>COVID19</td>\n",
              "      <td>MODERNA</td>\n",
              "      <td>1</td>\n",
              "      <td>Injection site erythema</td>\n",
              "      <td>Injection site pruritus</td>\n",
              "      <td>Injection site swelling</td>\n",
              "      <td>Injection site warmth</td>\n",
              "      <td>NaN</td>\n",
              "      <td>Injection site erythema Injection site warmth ...</td>\n",
              "    </tr>\n",
              "  </tbody>\n",
              "</table>\n",
              "</div>\n",
              "    <div class=\"colab-df-buttons\">\n",
              "\n",
              "  <div class=\"colab-df-container\">\n",
              "    <button class=\"colab-df-convert\" onclick=\"convertToInteractive('df-24f84471-f4bc-48f9-b12d-ebe834b5ffaa')\"\n",
              "            title=\"Convert this dataframe to an interactive table.\"\n",
              "            style=\"display:none;\">\n",
              "\n",
              "  <svg xmlns=\"http://www.w3.org/2000/svg\" height=\"24px\" viewBox=\"0 -960 960 960\">\n",
              "    <path d=\"M120-120v-720h720v720H120Zm60-500h600v-160H180v160Zm220 220h160v-160H400v160Zm0 220h160v-160H400v160ZM180-400h160v-160H180v160Zm440 0h160v-160H620v160ZM180-180h160v-160H180v160Zm440 0h160v-160H620v160Z\"/>\n",
              "  </svg>\n",
              "    </button>\n",
              "\n",
              "  <style>\n",
              "    .colab-df-container {\n",
              "      display:flex;\n",
              "      gap: 12px;\n",
              "    }\n",
              "\n",
              "    .colab-df-convert {\n",
              "      background-color: #E8F0FE;\n",
              "      border: none;\n",
              "      border-radius: 50%;\n",
              "      cursor: pointer;\n",
              "      display: none;\n",
              "      fill: #1967D2;\n",
              "      height: 32px;\n",
              "      padding: 0 0 0 0;\n",
              "      width: 32px;\n",
              "    }\n",
              "\n",
              "    .colab-df-convert:hover {\n",
              "      background-color: #E2EBFA;\n",
              "      box-shadow: 0px 1px 2px rgba(60, 64, 67, 0.3), 0px 1px 3px 1px rgba(60, 64, 67, 0.15);\n",
              "      fill: #174EA6;\n",
              "    }\n",
              "\n",
              "    .colab-df-buttons div {\n",
              "      margin-bottom: 4px;\n",
              "    }\n",
              "\n",
              "    [theme=dark] .colab-df-convert {\n",
              "      background-color: #3B4455;\n",
              "      fill: #D2E3FC;\n",
              "    }\n",
              "\n",
              "    [theme=dark] .colab-df-convert:hover {\n",
              "      background-color: #434B5C;\n",
              "      box-shadow: 0px 1px 3px 1px rgba(0, 0, 0, 0.15);\n",
              "      filter: drop-shadow(0px 1px 2px rgba(0, 0, 0, 0.3));\n",
              "      fill: #FFFFFF;\n",
              "    }\n",
              "  </style>\n",
              "\n",
              "    <script>\n",
              "      const buttonEl =\n",
              "        document.querySelector('#df-24f84471-f4bc-48f9-b12d-ebe834b5ffaa button.colab-df-convert');\n",
              "      buttonEl.style.display =\n",
              "        google.colab.kernel.accessAllowed ? 'block' : 'none';\n",
              "\n",
              "      async function convertToInteractive(key) {\n",
              "        const element = document.querySelector('#df-24f84471-f4bc-48f9-b12d-ebe834b5ffaa');\n",
              "        const dataTable =\n",
              "          await google.colab.kernel.invokeFunction('convertToInteractive',\n",
              "                                                    [key], {});\n",
              "        if (!dataTable) return;\n",
              "\n",
              "        const docLinkHtml = 'Like what you see? Visit the ' +\n",
              "          '<a target=\"_blank\" href=https://colab.research.google.com/notebooks/data_table.ipynb>data table notebook</a>'\n",
              "          + ' to learn more about interactive tables.';\n",
              "        element.innerHTML = '';\n",
              "        dataTable['output_type'] = 'display_data';\n",
              "        await google.colab.output.renderOutput(dataTable, element);\n",
              "        const docLink = document.createElement('div');\n",
              "        docLink.innerHTML = docLinkHtml;\n",
              "        element.appendChild(docLink);\n",
              "      }\n",
              "    </script>\n",
              "  </div>\n",
              "\n",
              "\n",
              "<div id=\"df-5b2c307d-117c-43f6-8808-b20bbc213492\">\n",
              "  <button class=\"colab-df-quickchart\" onclick=\"quickchart('df-5b2c307d-117c-43f6-8808-b20bbc213492')\"\n",
              "            title=\"Suggest charts\"\n",
              "            style=\"display:none;\">\n",
              "\n",
              "<svg xmlns=\"http://www.w3.org/2000/svg\" height=\"24px\"viewBox=\"0 0 24 24\"\n",
              "     width=\"24px\">\n",
              "    <g>\n",
              "        <path d=\"M19 3H5c-1.1 0-2 .9-2 2v14c0 1.1.9 2 2 2h14c1.1 0 2-.9 2-2V5c0-1.1-.9-2-2-2zM9 17H7v-7h2v7zm4 0h-2V7h2v10zm4 0h-2v-4h2v4z\"/>\n",
              "    </g>\n",
              "</svg>\n",
              "  </button>\n",
              "\n",
              "<style>\n",
              "  .colab-df-quickchart {\n",
              "      --bg-color: #E8F0FE;\n",
              "      --fill-color: #1967D2;\n",
              "      --hover-bg-color: #E2EBFA;\n",
              "      --hover-fill-color: #174EA6;\n",
              "      --disabled-fill-color: #AAA;\n",
              "      --disabled-bg-color: #DDD;\n",
              "  }\n",
              "\n",
              "  [theme=dark] .colab-df-quickchart {\n",
              "      --bg-color: #3B4455;\n",
              "      --fill-color: #D2E3FC;\n",
              "      --hover-bg-color: #434B5C;\n",
              "      --hover-fill-color: #FFFFFF;\n",
              "      --disabled-bg-color: #3B4455;\n",
              "      --disabled-fill-color: #666;\n",
              "  }\n",
              "\n",
              "  .colab-df-quickchart {\n",
              "    background-color: var(--bg-color);\n",
              "    border: none;\n",
              "    border-radius: 50%;\n",
              "    cursor: pointer;\n",
              "    display: none;\n",
              "    fill: var(--fill-color);\n",
              "    height: 32px;\n",
              "    padding: 0;\n",
              "    width: 32px;\n",
              "  }\n",
              "\n",
              "  .colab-df-quickchart:hover {\n",
              "    background-color: var(--hover-bg-color);\n",
              "    box-shadow: 0 1px 2px rgba(60, 64, 67, 0.3), 0 1px 3px 1px rgba(60, 64, 67, 0.15);\n",
              "    fill: var(--button-hover-fill-color);\n",
              "  }\n",
              "\n",
              "  .colab-df-quickchart-complete:disabled,\n",
              "  .colab-df-quickchart-complete:disabled:hover {\n",
              "    background-color: var(--disabled-bg-color);\n",
              "    fill: var(--disabled-fill-color);\n",
              "    box-shadow: none;\n",
              "  }\n",
              "\n",
              "  .colab-df-spinner {\n",
              "    border: 2px solid var(--fill-color);\n",
              "    border-color: transparent;\n",
              "    border-bottom-color: var(--fill-color);\n",
              "    animation:\n",
              "      spin 1s steps(1) infinite;\n",
              "  }\n",
              "\n",
              "  @keyframes spin {\n",
              "    0% {\n",
              "      border-color: transparent;\n",
              "      border-bottom-color: var(--fill-color);\n",
              "      border-left-color: var(--fill-color);\n",
              "    }\n",
              "    20% {\n",
              "      border-color: transparent;\n",
              "      border-left-color: var(--fill-color);\n",
              "      border-top-color: var(--fill-color);\n",
              "    }\n",
              "    30% {\n",
              "      border-color: transparent;\n",
              "      border-left-color: var(--fill-color);\n",
              "      border-top-color: var(--fill-color);\n",
              "      border-right-color: var(--fill-color);\n",
              "    }\n",
              "    40% {\n",
              "      border-color: transparent;\n",
              "      border-right-color: var(--fill-color);\n",
              "      border-top-color: var(--fill-color);\n",
              "    }\n",
              "    60% {\n",
              "      border-color: transparent;\n",
              "      border-right-color: var(--fill-color);\n",
              "    }\n",
              "    80% {\n",
              "      border-color: transparent;\n",
              "      border-right-color: var(--fill-color);\n",
              "      border-bottom-color: var(--fill-color);\n",
              "    }\n",
              "    90% {\n",
              "      border-color: transparent;\n",
              "      border-bottom-color: var(--fill-color);\n",
              "    }\n",
              "  }\n",
              "</style>\n",
              "\n",
              "  <script>\n",
              "    async function quickchart(key) {\n",
              "      const quickchartButtonEl =\n",
              "        document.querySelector('#' + key + ' button');\n",
              "      quickchartButtonEl.disabled = true;  // To prevent multiple clicks.\n",
              "      quickchartButtonEl.classList.add('colab-df-spinner');\n",
              "      try {\n",
              "        const charts = await google.colab.kernel.invokeFunction(\n",
              "            'suggestCharts', [key], {});\n",
              "      } catch (error) {\n",
              "        console.error('Error during call to suggestCharts:', error);\n",
              "      }\n",
              "      quickchartButtonEl.classList.remove('colab-df-spinner');\n",
              "      quickchartButtonEl.classList.add('colab-df-quickchart-complete');\n",
              "    }\n",
              "    (() => {\n",
              "      let quickchartButtonEl =\n",
              "        document.querySelector('#df-5b2c307d-117c-43f6-8808-b20bbc213492 button');\n",
              "      quickchartButtonEl.style.display =\n",
              "        google.colab.kernel.accessAllowed ? 'block' : 'none';\n",
              "    })();\n",
              "  </script>\n",
              "</div>\n",
              "\n",
              "    </div>\n",
              "  </div>\n"
            ],
            "application/vnd.google.colaboratory.intrinsic+json": {
              "type": "dataframe",
              "variable_name": "df_combine_2021"
            }
          },
          "metadata": {},
          "execution_count": 42
        }
      ]
    },
    {
      "cell_type": "code",
      "source": [
        "# prompt: how many rows and columns are there for each df\n",
        "\n",
        "print(\"df_symptoms_2021 has\", df_symptoms_2021.shape[0], \"rows and\", df_symptoms_2021.shape[1], \"columns\")\n",
        "print(\"df_vaers_data_2021 has\", df_vaers_data_2021.shape[0], \"rows and\", df_vaers_data_2021.shape[1], \"columns\")\n",
        "print(\"df_vaers_vax_2021 has\", df_vaers_vax_2021.shape[0], \"rows and\", df_vaers_vax_2021.shape[1], \"columns\")\n",
        "print(\"df_combine_2021 has\", df_combine_2021.shape[0], \"rows and\", df_combine_2021.shape[1], \"columns\")\n"
      ],
      "metadata": {
        "colab": {
          "base_uri": "https://localhost:8080/"
        },
        "id": "YVQMrYA27HFH",
        "outputId": "183528c9-07f0-44f7-e0ef-992aed4a0514"
      },
      "execution_count": 43,
      "outputs": [
        {
          "output_type": "stream",
          "name": "stdout",
          "text": [
            "df_symptoms_2021 has 1003896 rows and 7 columns\n",
            "df_vaers_data_2021 has 753006 rows and 9 columns\n",
            "df_vaers_vax_2021 has 797081 rows and 4 columns\n",
            "df_combine_2021 has 753003 rows and 18 columns\n"
          ]
        }
      ]
    },
    {
      "cell_type": "code",
      "source": [
        "df_combine_2021.info()"
      ],
      "metadata": {
        "colab": {
          "base_uri": "https://localhost:8080/"
        },
        "id": "BaTzRqzHzojd",
        "outputId": "889402ba-bd96-43d3-93fd-e0a393b2c275"
      },
      "execution_count": 44,
      "outputs": [
        {
          "output_type": "stream",
          "name": "stdout",
          "text": [
            "<class 'pandas.core.frame.DataFrame'>\n",
            "Index: 753003 entries, 0 to 1070233\n",
            "Data columns (total 18 columns):\n",
            " #   Column           Non-Null Count   Dtype  \n",
            "---  ------           --------------   -----  \n",
            " 0   VAERS_ID         753003 non-null  int64  \n",
            " 1   AGE_YRS          671996 non-null  float64\n",
            " 2   SEX              753003 non-null  object \n",
            " 3   DIED             753003 non-null  object \n",
            " 4   L_THREAT         11113 non-null   object \n",
            " 5   ER_VISIT         127 non-null     object \n",
            " 6   HOSPITAL         47468 non-null   object \n",
            " 7   DISABLE          11973 non-null   object \n",
            " 8   BIRTH_DEFECT     459 non-null     object \n",
            " 9   VAX_TYPE         753003 non-null  object \n",
            " 10  VAX_MANU         753003 non-null  object \n",
            " 11  VAX_DOSE_SERIES  749278 non-null  object \n",
            " 12  SYMPTOM1         753003 non-null  object \n",
            " 13  SYMPTOM2         590865 non-null  object \n",
            " 14  SYMPTOM3         453978 non-null  object \n",
            " 15  SYMPTOM4         344175 non-null  object \n",
            " 16  SYMPTOM5         253853 non-null  object \n",
            " 17  ALL_SYMPTOMS     753003 non-null  object \n",
            "dtypes: float64(1), int64(1), object(16)\n",
            "memory usage: 109.2+ MB\n"
          ]
        }
      ]
    },
    {
      "cell_type": "code",
      "source": [
        "# prompt: Determine the top 12 most common sysmtoms by vaccine manu\n",
        "\n",
        "top_12_symptoms = df_combine_2021.groupby('VAX_MANU')['SYMPTOM1'].value_counts().sort_values(ascending=False).head(12)\n",
        "print(top_12_symptoms)\n"
      ],
      "metadata": {
        "colab": {
          "base_uri": "https://localhost:8080/"
        },
        "id": "ZvGf6cY4RXuM",
        "outputId": "c1655889-f731-4f97-84f6-848253e55c82"
      },
      "execution_count": 45,
      "outputs": [
        {
          "output_type": "stream",
          "name": "stdout",
          "text": [
            "VAX_MANU         SYMPTOM1               \n",
            "MODERNA          Chills                     27873\n",
            "                 Arthralgia                 19522\n",
            "PFIZER\\BIONTECH  Chills                     18298\n",
            "                 Arthralgia                 16877\n",
            "                 Dizziness                  15245\n",
            "MODERNA          Injection site erythema    14281\n",
            "PFIZER\\BIONTECH  COVID-19                   13841\n",
            "MODERNA          Fatigue                    11811\n",
            "                 Dizziness                  11130\n",
            "                 Asthenia                    9787\n",
            "PFIZER\\BIONTECH  Fatigue                     9495\n",
            "MODERNA          Erythema                    9357\n",
            "Name: count, dtype: int64\n"
          ]
        }
      ]
    },
    {
      "cell_type": "code",
      "source": [
        "# prompt: systoms for people who die value counts\n",
        "\n",
        "df_combine_2021.groupby('DIED')['SYMPTOM1'].value_counts()\n"
      ],
      "metadata": {
        "id": "tLGFG9W6xbYo",
        "outputId": "1ebb3572-2246-4a5e-f9be-aa2624bffa5b",
        "colab": {
          "base_uri": "https://localhost:8080/"
        }
      },
      "execution_count": 46,
      "outputs": [
        {
          "output_type": "execute_result",
          "data": {
            "text/plain": [
              "DIED  SYMPTOM1                  \n",
              "N     Chills                        54649\n",
              "      Arthralgia                    41162\n",
              "      Dizziness                     30579\n",
              "      Fatigue                       24258\n",
              "      COVID-19                      22445\n",
              "                                    ...  \n",
              "Y     Brain stem syndrome               1\n",
              "      Hepatic encephalopathy            1\n",
              "      Breast feeding                    1\n",
              "      Breast cancer metastatic          1\n",
              "      Wrong product administered        1\n",
              "Name: count, Length: 5866, dtype: int64"
            ]
          },
          "metadata": {},
          "execution_count": 46
        }
      ]
    },
    {
      "cell_type": "code",
      "source": [
        "# prompt: plot the most common systom1 who DIED top 20\n",
        "\n",
        "import matplotlib.pyplot as plt\n",
        "\n",
        "# Group the data by SYMPTOM1 and DIED\n",
        "grouped_data = df_combine_2021.groupby(['SYMPTOM1', 'DIED'])['VAERS_ID'].count().unstack()\n",
        "\n",
        "# Sort the data by the number of deaths\n",
        "grouped_data = grouped_data.sort_values(by='Y', ascending=False)\n",
        "\n",
        "# Select the top 20 symptoms\n",
        "top_20_symptoms = grouped_data.head(20)\n",
        "\n",
        "# Plot the data as a bar chart\n",
        "top_20_symptoms.plot(kind='bar', stacked=True)\n",
        "plt.xlabel('Symptom')\n",
        "plt.ylabel('Number of Deaths')\n",
        "plt.title('Top 20 Symptoms Associated with Death')\n",
        "plt.show()\n"
      ],
      "metadata": {
        "colab": {
          "base_uri": "https://localhost:8080/",
          "height": 743
        },
        "id": "_educ7XxSC40",
        "outputId": "9b1842e2-1eb7-41b2-adda-538cec444b51"
      },
      "execution_count": 47,
      "outputs": [
        {
          "output_type": "display_data",
          "data": {
            "text/plain": [
              "<Figure size 640x480 with 1 Axes>"
            ],
            "image/png": "[encoded data removed]"
          },
          "metadata": {}
        }
      ]
    },
    {
      "cell_type": "code",
      "source": [
        "# prompt: plot the most common systom1 and plot it\n",
        "\n",
        "import matplotlib.pyplot as plt\n",
        "\n",
        "# Get the top 12 symptoms\n",
        "top_12_symptoms = df_combine_2021.groupby('SYMPTOM1')['VAERS_ID'].count().sort_values(ascending=False).head(12)\n",
        "\n",
        "# Create a bar chart\n",
        "plt.figure(figsize=(10, 6))\n",
        "top_12_symptoms.plot(kind='bar')\n",
        "\n",
        "# Add title and labels\n",
        "plt.title('Most Common Symptoms Reported in VAERS for 2021')\n",
        "plt.xlabel('Symptom')\n",
        "plt.ylabel('Number of Reports')\n",
        "\n",
        "# Rotate x-axis labels for readability\n",
        "plt.xticks(rotation=45)\n",
        "\n",
        "# Show the plot\n",
        "plt.show()\n"
      ],
      "metadata": {
        "id": "4ysk743l7a9L",
        "outputId": "d64fddd3-00e1-4437-cbbd-cbd1785c85cb",
        "colab": {
          "base_uri": "https://localhost:8080/",
          "height": 729
        }
      },
      "execution_count": 48,
      "outputs": [
        {
          "output_type": "display_data",
          "data": {
            "text/plain": [
              "<Figure size 1000x600 with 1 Axes>"
            ],
            "image/png": "[encoded data removed]"
          },
          "metadata": {}
        }
      ]
    },
    {
      "cell_type": "code",
      "source": [
        "# prompt: how many people die by vacine manu\n",
        "\n",
        "#df_combine_2021.groupby('VAX_MANU')['DIED'].sum()\n",
        "df_combine_2021.groupby('VAX_MANU')['DIED'].value_counts()\n"
      ],
      "metadata": {
        "colab": {
          "base_uri": "https://localhost:8080/"
        },
        "id": "s705b1zFtEyk",
        "outputId": "8cbd2f6d-d82a-41f2-85fa-617a29b5e378"
      },
      "execution_count": 49,
      "outputs": [
        {
          "output_type": "execute_result",
          "data": {
            "text/plain": [
              "VAX_MANU                           DIED\n",
              "BERNA BIOTECH, LTD.                N           96\n",
              "CSL LIMITED                        N            8\n",
              "DYNAVAX TECHNOLOGIES CORPORATION   N          237\n",
              "                                   Y            1\n",
              "EMERGENT BIOSOLUTIONS              N          127\n",
              "GLAXOSMITHKLINE BIOLOGICALS        N        13843\n",
              "                                   Y           34\n",
              "INTERCELL AG                       N            8\n",
              "JANSSEN                            N        61071\n",
              "                                   Y         1094\n",
              "MASS. PUB HLTH BIOL LAB            N           21\n",
              "MEDIMMUNE VACCINES, INC.           N           63\n",
              "MERCK & CO. INC.                   N         7545\n",
              "                                   Y           23\n",
              "MODERNA                            N       331701\n",
              "                                   Y         4459\n",
              "MSP VACCINE COMPANY                N           21\n",
              "NOVARTIS VACCINES AND DIAGNOSTICS  N         1153\n",
              "                                   Y            2\n",
              "PASTEUR MERIEUX CONNAUGHT          N            1\n",
              "PAXVAX                             N           24\n",
              "                                   Y            1\n",
              "PFIZER\\BIONTECH                    N       306174\n",
              "                                   Y         4646\n",
              "PFIZER\\WYETH                       N          508\n",
              "                                   Y            5\n",
              "PROTEIN SCIENCES CORPORATION       N          457\n",
              "                                   Y            1\n",
              "SANOFI PASTEUR                     N         5071\n",
              "                                   Y           37\n",
              "SEQIRUS, INC.                      N         1688\n",
              "                                   Y            5\n",
              "SMITHKLINE BEECHAM                 N            6\n",
              "TEVA PHARMACEUTICALS               N           43\n",
              "UNKNOWN MANUFACTURER               N        12587\n",
              "                                   Y          242\n",
              "Name: count, dtype: int64"
            ]
          },
          "metadata": {},
          "execution_count": 49
        }
      ]
    },
    {
      "cell_type": "code",
      "source": [
        "df_combine_2021.head(10)"
      ],
      "metadata": {
        "colab": {
          "base_uri": "https://localhost:8080/",
          "height": 799
        },
        "id": "7FkwYHjc57Kg",
        "outputId": "863ba0a8-4024-4d11-cf0a-1ce49ad29c1d"
      },
      "execution_count": 50,
      "outputs": [
        {
          "output_type": "execute_result",
          "data": {
            "text/plain": [
              "    VAERS_ID  AGE_YRS SEX DIED L_THREAT ER_VISIT HOSPITAL DISABLE  \\\n",
              "0     916600     33.0   F    N      NaN      NaN      NaN     NaN   \n",
              "1     916601     73.0   F    N      NaN      NaN      NaN     NaN   \n",
              "2     916602     23.0   F    N      NaN      NaN      NaN     NaN   \n",
              "3     916603     58.0   F    N      NaN      NaN      NaN     NaN   \n",
              "4     916604     47.0   F    N      NaN      NaN      NaN     NaN   \n",
              "5     916605     40.0   M    N      NaN      NaN      NaN     NaN   \n",
              "7     916606     44.0   F    N      NaN      NaN      NaN     NaN   \n",
              "8     916607     50.0   M    N      NaN      NaN      NaN     NaN   \n",
              "9     916608     33.0   M    N      NaN      NaN      NaN     NaN   \n",
              "10    916609     71.0   F    N      NaN      NaN      NaN     NaN   \n",
              "\n",
              "   BIRTH_DEFECT VAX_TYPE         VAX_MANU VAX_DOSE_SERIES  \\\n",
              "0           NaN  COVID19          MODERNA               1   \n",
              "1           NaN  COVID19          MODERNA               1   \n",
              "2           NaN  COVID19  PFIZER\\BIONTECH               1   \n",
              "3           NaN  COVID19          MODERNA             UNK   \n",
              "4           NaN  COVID19          MODERNA               1   \n",
              "5           NaN    FLUC4    SEQIRUS, INC.               1   \n",
              "7           NaN  COVID19          MODERNA               1   \n",
              "8           NaN  COVID19          MODERNA             UNK   \n",
              "9           NaN  COVID19          MODERNA               1   \n",
              "10          NaN  COVID19          MODERNA               1   \n",
              "\n",
              "                     SYMPTOM1                   SYMPTOM2  \\\n",
              "0                   Dysphagia               Epiglottitis   \n",
              "1                     Anxiety                   Dyspnoea   \n",
              "2            Chest discomfort                  Dysphagia   \n",
              "3                   Dizziness                    Fatigue   \n",
              "4     Injection site erythema    Injection site pruritus   \n",
              "5                      Chills          Confusional state   \n",
              "7         Pharyngeal swelling                        NaN   \n",
              "8              Abdominal pain                     Chills   \n",
              "9                   Diarrhoea           Nasal congestion   \n",
              "10  Vaccination site erythema  Vaccination site pruritus   \n",
              "\n",
              "                     SYMPTOM3               SYMPTOM4         SYMPTOM5  \\\n",
              "0                         NaN                    NaN              NaN   \n",
              "1                         NaN                    NaN              NaN   \n",
              "2           Pain in extremity      Visual impairment              NaN   \n",
              "3          Mobility decreased                    NaN              NaN   \n",
              "4     Injection site swelling  Injection site warmth              NaN   \n",
              "5            Eye inflammation               Headache  Laboratory test   \n",
              "7                         NaN                    NaN              NaN   \n",
              "8              Sleep disorder                    NaN              NaN   \n",
              "9                         NaN                    NaN              NaN   \n",
              "10  Vaccination site swelling                    NaN              NaN   \n",
              "\n",
              "                                         ALL_SYMPTOMS  \n",
              "0                              Dysphagia Epiglottitis  \n",
              "1                                    Anxiety Dyspnoea  \n",
              "2   Chest discomfort Visual impairment Dysphagia P...  \n",
              "3                Dizziness Fatigue Mobility decreased  \n",
              "4   Injection site erythema Injection site warmth ...  \n",
              "5   Chills Headache Confusional state Eye inflamma...  \n",
              "7                                 Pharyngeal swelling  \n",
              "8                Abdominal pain Chills Sleep disorder  \n",
              "9                          Diarrhoea Nasal congestion  \n",
              "10  Vaccination site erythema Vaccination site pru...  "
            ],
            "text/html": [
              "\n",
              "  <div id=\"df-930cfe15-9ac1-4271-a5aa-4ac573ea1617\" class=\"colab-df-container\">\n",
              "    <div>\n",
              "<style scoped>\n",
              "    .dataframe tbody tr th:only-of-type {\n",
              "        vertical-align: middle;\n",
              "    }\n",
              "\n",
              "    .dataframe tbody tr th {\n",
              "        vertical-align: top;\n",
              "    }\n",
              "\n",
              "    .dataframe thead th {\n",
              "        text-align: right;\n",
              "    }\n",
              "</style>\n",
              "<table border=\"1\" class=\"dataframe\">\n",
              "  <thead>\n",
              "    <tr style=\"text-align: right;\">\n",
              "      <th></th>\n",
              "      <th>VAERS_ID</th>\n",
              "      <th>AGE_YRS</th>\n",
              "      <th>SEX</th>\n",
              "      <th>DIED</th>\n",
              "      <th>L_THREAT</th>\n",
              "      <th>ER_VISIT</th>\n",
              "      <th>HOSPITAL</th>\n",
              "      <th>DISABLE</th>\n",
              "      <th>BIRTH_DEFECT</th>\n",
              "      <th>VAX_TYPE</th>\n",
              "      <th>VAX_MANU</th>\n",
              "      <th>VAX_DOSE_SERIES</th>\n",
              "      <th>SYMPTOM1</th>\n",
              "      <th>SYMPTOM2</th>\n",
              "      <th>SYMPTOM3</th>\n",
              "      <th>SYMPTOM4</th>\n",
              "      <th>SYMPTOM5</th>\n",
              "      <th>ALL_SYMPTOMS</th>\n",
              "    </tr>\n",
              "  </thead>\n",
              "  <tbody>\n",
              "    <tr>\n",
              "      <th>0</th>\n",
              "      <td>916600</td>\n",
              "      <td>33.0</td>\n",
              "      <td>F</td>\n",
              "      <td>N</td>\n",
              "      <td>NaN</td>\n",
              "      <td>NaN</td>\n",
              "      <td>NaN</td>\n",
              "      <td>NaN</td>\n",
              "      <td>NaN</td>\n",
              "      <td>COVID19</td>\n",
              "      <td>MODERNA</td>\n",
              "      <td>1</td>\n",
              "      <td>Dysphagia</td>\n",
              "      <td>Epiglottitis</td>\n",
              "      <td>NaN</td>\n",
              "      <td>NaN</td>\n",
              "      <td>NaN</td>\n",
              "      <td>Dysphagia Epiglottitis</td>\n",
              "    </tr>\n",
              "    <tr>\n",
              "      <th>1</th>\n",
              "      <td>916601</td>\n",
              "      <td>73.0</td>\n",
              "      <td>F</td>\n",
              "      <td>N</td>\n",
              "      <td>NaN</td>\n",
              "      <td>NaN</td>\n",
              "      <td>NaN</td>\n",
              "      <td>NaN</td>\n",
              "      <td>NaN</td>\n",
              "      <td>COVID19</td>\n",
              "      <td>MODERNA</td>\n",
              "      <td>1</td>\n",
              "      <td>Anxiety</td>\n",
              "      <td>Dyspnoea</td>\n",
              "      <td>NaN</td>\n",
              "      <td>NaN</td>\n",
              "      <td>NaN</td>\n",
              "      <td>Anxiety Dyspnoea</td>\n",
              "    </tr>\n",
              "    <tr>\n",
              "      <th>2</th>\n",
              "      <td>916602</td>\n",
              "      <td>23.0</td>\n",
              "      <td>F</td>\n",
              "      <td>N</td>\n",
              "      <td>NaN</td>\n",
              "      <td>NaN</td>\n",
              "      <td>NaN</td>\n",
              "      <td>NaN</td>\n",
              "      <td>NaN</td>\n",
              "      <td>COVID19</td>\n",
              "      <td>PFIZER\\BIONTECH</td>\n",
              "      <td>1</td>\n",
              "      <td>Chest discomfort</td>\n",
              "      <td>Dysphagia</td>\n",
              "      <td>Pain in extremity</td>\n",
              "      <td>Visual impairment</td>\n",
              "      <td>NaN</td>\n",
              "      <td>Chest discomfort Visual impairment Dysphagia P...</td>\n",
              "    </tr>\n",
              "    <tr>\n",
              "      <th>3</th>\n",
              "      <td>916603</td>\n",
              "      <td>58.0</td>\n",
              "      <td>F</td>\n",
              "      <td>N</td>\n",
              "      <td>NaN</td>\n",
              "      <td>NaN</td>\n",
              "      <td>NaN</td>\n",
              "      <td>NaN</td>\n",
              "      <td>NaN</td>\n",
              "      <td>COVID19</td>\n",
              "      <td>MODERNA</td>\n",
              "      <td>UNK</td>\n",
              "      <td>Dizziness</td>\n",
              "      <td>Fatigue</td>\n",
              "      <td>Mobility decreased</td>\n",
              "      <td>NaN</td>\n",
              "      <td>NaN</td>\n",
              "      <td>Dizziness Fatigue Mobility decreased</td>\n",
              "    </tr>\n",
              "    <tr>\n",
              "      <th>4</th>\n",
              "      <td>916604</td>\n",
              "      <td>47.0</td>\n",
              "      <td>F</td>\n",
              "      <td>N</td>\n",
              "      <td>NaN</td>\n",
              "      <td>NaN</td>\n",
              "      <td>NaN</td>\n",
              "      <td>NaN</td>\n",
              "      <td>NaN</td>\n",
              "      <td>COVID19</td>\n",
              "      <td>MODERNA</td>\n",
              "      <td>1</td>\n",
              "      <td>Injection site erythema</td>\n",
              "      <td>Injection site pruritus</td>\n",
              "      <td>Injection site swelling</td>\n",
              "      <td>Injection site warmth</td>\n",
              "      <td>NaN</td>\n",
              "      <td>Injection site erythema Injection site warmth ...</td>\n",
              "    </tr>\n",
              "    <tr>\n",
              "      <th>5</th>\n",
              "      <td>916605</td>\n",
              "      <td>40.0</td>\n",
              "      <td>M</td>\n",
              "      <td>N</td>\n",
              "      <td>NaN</td>\n",
              "      <td>NaN</td>\n",
              "      <td>NaN</td>\n",
              "      <td>NaN</td>\n",
              "      <td>NaN</td>\n",
              "      <td>FLUC4</td>\n",
              "      <td>SEQIRUS, INC.</td>\n",
              "      <td>1</td>\n",
              "      <td>Chills</td>\n",
              "      <td>Confusional state</td>\n",
              "      <td>Eye inflammation</td>\n",
              "      <td>Headache</td>\n",
              "      <td>Laboratory test</td>\n",
              "      <td>Chills Headache Confusional state Eye inflamma...</td>\n",
              "    </tr>\n",
              "    <tr>\n",
              "      <th>7</th>\n",
              "      <td>916606</td>\n",
              "      <td>44.0</td>\n",
              "      <td>F</td>\n",
              "      <td>N</td>\n",
              "      <td>NaN</td>\n",
              "      <td>NaN</td>\n",
              "      <td>NaN</td>\n",
              "      <td>NaN</td>\n",
              "      <td>NaN</td>\n",
              "      <td>COVID19</td>\n",
              "      <td>MODERNA</td>\n",
              "      <td>1</td>\n",
              "      <td>Pharyngeal swelling</td>\n",
              "      <td>NaN</td>\n",
              "      <td>NaN</td>\n",
              "      <td>NaN</td>\n",
              "      <td>NaN</td>\n",
              "      <td>Pharyngeal swelling</td>\n",
              "    </tr>\n",
              "    <tr>\n",
              "      <th>8</th>\n",
              "      <td>916607</td>\n",
              "      <td>50.0</td>\n",
              "      <td>M</td>\n",
              "      <td>N</td>\n",
              "      <td>NaN</td>\n",
              "      <td>NaN</td>\n",
              "      <td>NaN</td>\n",
              "      <td>NaN</td>\n",
              "      <td>NaN</td>\n",
              "      <td>COVID19</td>\n",
              "      <td>MODERNA</td>\n",
              "      <td>UNK</td>\n",
              "      <td>Abdominal pain</td>\n",
              "      <td>Chills</td>\n",
              "      <td>Sleep disorder</td>\n",
              "      <td>NaN</td>\n",
              "      <td>NaN</td>\n",
              "      <td>Abdominal pain Chills Sleep disorder</td>\n",
              "    </tr>\n",
              "    <tr>\n",
              "      <th>9</th>\n",
              "      <td>916608</td>\n",
              "      <td>33.0</td>\n",
              "      <td>M</td>\n",
              "      <td>N</td>\n",
              "      <td>NaN</td>\n",
              "      <td>NaN</td>\n",
              "      <td>NaN</td>\n",
              "      <td>NaN</td>\n",
              "      <td>NaN</td>\n",
              "      <td>COVID19</td>\n",
              "      <td>MODERNA</td>\n",
              "      <td>1</td>\n",
              "      <td>Diarrhoea</td>\n",
              "      <td>Nasal congestion</td>\n",
              "      <td>NaN</td>\n",
              "      <td>NaN</td>\n",
              "      <td>NaN</td>\n",
              "      <td>Diarrhoea Nasal congestion</td>\n",
              "    </tr>\n",
              "    <tr>\n",
              "      <th>10</th>\n",
              "      <td>916609</td>\n",
              "      <td>71.0</td>\n",
              "      <td>F</td>\n",
              "      <td>N</td>\n",
              "      <td>NaN</td>\n",
              "      <td>NaN</td>\n",
              "      <td>NaN</td>\n",
              "      <td>NaN</td>\n",
              "      <td>NaN</td>\n",
              "      <td>COVID19</td>\n",
              "      <td>MODERNA</td>\n",
              "      <td>1</td>\n",
              "      <td>Vaccination site erythema</td>\n",
              "      <td>Vaccination site pruritus</td>\n",
              "      <td>Vaccination site swelling</td>\n",
              "      <td>NaN</td>\n",
              "      <td>NaN</td>\n",
              "      <td>Vaccination site erythema Vaccination site pru...</td>\n",
              "    </tr>\n",
              "  </tbody>\n",
              "</table>\n",
              "</div>\n",
              "    <div class=\"colab-df-buttons\">\n",
              "\n",
              "  <div class=\"colab-df-container\">\n",
              "    <button class=\"colab-df-convert\" onclick=\"convertToInteractive('df-930cfe15-9ac1-4271-a5aa-4ac573ea1617')\"\n",
              "            title=\"Convert this dataframe to an interactive table.\"\n",
              "            style=\"display:none;\">\n",
              "\n",
              "  <svg xmlns=\"http://www.w3.org/2000/svg\" height=\"24px\" viewBox=\"0 -960 960 960\">\n",
              "    <path d=\"M120-120v-720h720v720H120Zm60-500h600v-160H180v160Zm220 220h160v-160H400v160Zm0 220h160v-160H400v160ZM180-400h160v-160H180v160Zm440 0h160v-160H620v160ZM180-180h160v-160H180v160Zm440 0h160v-160H620v160Z\"/>\n",
              "  </svg>\n",
              "    </button>\n",
              "\n",
              "  <style>\n",
              "    .colab-df-container {\n",
              "      display:flex;\n",
              "      gap: 12px;\n",
              "    }\n",
              "\n",
              "    .colab-df-convert {\n",
              "      background-color: #E8F0FE;\n",
              "      border: none;\n",
              "      border-radius: 50%;\n",
              "      cursor: pointer;\n",
              "      display: none;\n",
              "      fill: #1967D2;\n",
              "      height: 32px;\n",
              "      padding: 0 0 0 0;\n",
              "      width: 32px;\n",
              "    }\n",
              "\n",
              "    .colab-df-convert:hover {\n",
              "      background-color: #E2EBFA;\n",
              "      box-shadow: 0px 1px 2px rgba(60, 64, 67, 0.3), 0px 1px 3px 1px rgba(60, 64, 67, 0.15);\n",
              "      fill: #174EA6;\n",
              "    }\n",
              "\n",
              "    .colab-df-buttons div {\n",
              "      margin-bottom: 4px;\n",
              "    }\n",
              "\n",
              "    [theme=dark] .colab-df-convert {\n",
              "      background-color: #3B4455;\n",
              "      fill: #D2E3FC;\n",
              "    }\n",
              "\n",
              "    [theme=dark] .colab-df-convert:hover {\n",
              "      background-color: #434B5C;\n",
              "      box-shadow: 0px 1px 3px 1px rgba(0, 0, 0, 0.15);\n",
              "      filter: drop-shadow(0px 1px 2px rgba(0, 0, 0, 0.3));\n",
              "      fill: #FFFFFF;\n",
              "    }\n",
              "  </style>\n",
              "\n",
              "    <script>\n",
              "      const buttonEl =\n",
              "        document.querySelector('#df-930cfe15-9ac1-4271-a5aa-4ac573ea1617 button.colab-df-convert');\n",
              "      buttonEl.style.display =\n",
              "        google.colab.kernel.accessAllowed ? 'block' : 'none';\n",
              "\n",
              "      async function convertToInteractive(key) {\n",
              "        const element = document.querySelector('#df-930cfe15-9ac1-4271-a5aa-4ac573ea1617');\n",
              "        const dataTable =\n",
              "          await google.colab.kernel.invokeFunction('convertToInteractive',\n",
              "                                                    [key], {});\n",
              "        if (!dataTable) return;\n",
              "\n",
              "        const docLinkHtml = 'Like what you see? Visit the ' +\n",
              "          '<a target=\"_blank\" href=https://colab.research.google.com/notebooks/data_table.ipynb>data table notebook</a>'\n",
              "          + ' to learn more about interactive tables.';\n",
              "        element.innerHTML = '';\n",
              "        dataTable['output_type'] = 'display_data';\n",
              "        await google.colab.output.renderOutput(dataTable, element);\n",
              "        const docLink = document.createElement('div');\n",
              "        docLink.innerHTML = docLinkHtml;\n",
              "        element.appendChild(docLink);\n",
              "      }\n",
              "    </script>\n",
              "  </div>\n",
              "\n",
              "\n",
              "<div id=\"df-856ef535-a455-4198-8ec5-50d320183d6c\">\n",
              "  <button class=\"colab-df-quickchart\" onclick=\"quickchart('df-856ef535-a455-4198-8ec5-50d320183d6c')\"\n",
              "            title=\"Suggest charts\"\n",
              "            style=\"display:none;\">\n",
              "\n",
              "<svg xmlns=\"http://www.w3.org/2000/svg\" height=\"24px\"viewBox=\"0 0 24 24\"\n",
              "     width=\"24px\">\n",
              "    <g>\n",
              "        <path d=\"M19 3H5c-1.1 0-2 .9-2 2v14c0 1.1.9 2 2 2h14c1.1 0 2-.9 2-2V5c0-1.1-.9-2-2-2zM9 17H7v-7h2v7zm4 0h-2V7h2v10zm4 0h-2v-4h2v4z\"/>\n",
              "    </g>\n",
              "</svg>\n",
              "  </button>\n",
              "\n",
              "<style>\n",
              "  .colab-df-quickchart {\n",
              "      --bg-color: #E8F0FE;\n",
              "      --fill-color: #1967D2;\n",
              "      --hover-bg-color: #E2EBFA;\n",
              "      --hover-fill-color: #174EA6;\n",
              "      --disabled-fill-color: #AAA;\n",
              "      --disabled-bg-color: #DDD;\n",
              "  }\n",
              "\n",
              "  [theme=dark] .colab-df-quickchart {\n",
              "      --bg-color: #3B4455;\n",
              "      --fill-color: #D2E3FC;\n",
              "      --hover-bg-color: #434B5C;\n",
              "      --hover-fill-color: #FFFFFF;\n",
              "      --disabled-bg-color: #3B4455;\n",
              "      --disabled-fill-color: #666;\n",
              "  }\n",
              "\n",
              "  .colab-df-quickchart {\n",
              "    background-color: var(--bg-color);\n",
              "    border: none;\n",
              "    border-radius: 50%;\n",
              "    cursor: pointer;\n",
              "    display: none;\n",
              "    fill: var(--fill-color);\n",
              "    height: 32px;\n",
              "    padding: 0;\n",
              "    width: 32px;\n",
              "  }\n",
              "\n",
              "  .colab-df-quickchart:hover {\n",
              "    background-color: var(--hover-bg-color);\n",
              "    box-shadow: 0 1px 2px rgba(60, 64, 67, 0.3), 0 1px 3px 1px rgba(60, 64, 67, 0.15);\n",
              "    fill: var(--button-hover-fill-color);\n",
              "  }\n",
              "\n",
              "  .colab-df-quickchart-complete:disabled,\n",
              "  .colab-df-quickchart-complete:disabled:hover {\n",
              "    background-color: var(--disabled-bg-color);\n",
              "    fill: var(--disabled-fill-color);\n",
              "    box-shadow: none;\n",
              "  }\n",
              "\n",
              "  .colab-df-spinner {\n",
              "    border: 2px solid var(--fill-color);\n",
              "    border-color: transparent;\n",
              "    border-bottom-color: var(--fill-color);\n",
              "    animation:\n",
              "      spin 1s steps(1) infinite;\n",
              "  }\n",
              "\n",
              "  @keyframes spin {\n",
              "    0% {\n",
              "      border-color: transparent;\n",
              "      border-bottom-color: var(--fill-color);\n",
              "      border-left-color: var(--fill-color);\n",
              "    }\n",
              "    20% {\n",
              "      border-color: transparent;\n",
              "      border-left-color: var(--fill-color);\n",
              "      border-top-color: var(--fill-color);\n",
              "    }\n",
              "    30% {\n",
              "      border-color: transparent;\n",
              "      border-left-color: var(--fill-color);\n",
              "      border-top-color: var(--fill-color);\n",
              "      border-right-color: var(--fill-color);\n",
              "    }\n",
              "    40% {\n",
              "      border-color: transparent;\n",
              "      border-right-color: var(--fill-color);\n",
              "      border-top-color: var(--fill-color);\n",
              "    }\n",
              "    60% {\n",
              "      border-color: transparent;\n",
              "      border-right-color: var(--fill-color);\n",
              "    }\n",
              "    80% {\n",
              "      border-color: transparent;\n",
              "      border-right-color: var(--fill-color);\n",
              "      border-bottom-color: var(--fill-color);\n",
              "    }\n",
              "    90% {\n",
              "      border-color: transparent;\n",
              "      border-bottom-color: var(--fill-color);\n",
              "    }\n",
              "  }\n",
              "</style>\n",
              "\n",
              "  <script>\n",
              "    async function quickchart(key) {\n",
              "      const quickchartButtonEl =\n",
              "        document.querySelector('#' + key + ' button');\n",
              "      quickchartButtonEl.disabled = true;  // To prevent multiple clicks.\n",
              "      quickchartButtonEl.classList.add('colab-df-spinner');\n",
              "      try {\n",
              "        const charts = await google.colab.kernel.invokeFunction(\n",
              "            'suggestCharts', [key], {});\n",
              "      } catch (error) {\n",
              "        console.error('Error during call to suggestCharts:', error);\n",
              "      }\n",
              "      quickchartButtonEl.classList.remove('colab-df-spinner');\n",
              "      quickchartButtonEl.classList.add('colab-df-quickchart-complete');\n",
              "    }\n",
              "    (() => {\n",
              "      let quickchartButtonEl =\n",
              "        document.querySelector('#df-856ef535-a455-4198-8ec5-50d320183d6c button');\n",
              "      quickchartButtonEl.style.display =\n",
              "        google.colab.kernel.accessAllowed ? 'block' : 'none';\n",
              "    })();\n",
              "  </script>\n",
              "</div>\n",
              "\n",
              "    </div>\n",
              "  </div>\n"
            ],
            "application/vnd.google.colaboratory.intrinsic+json": {
              "type": "dataframe",
              "variable_name": "df_combine_2021"
            }
          },
          "metadata": {},
          "execution_count": 50
        }
      ]
    },
    {
      "cell_type": "code",
      "source": [
        "# prompt: what are the values of DIED\n",
        "\n",
        "df_combine_2021['DIED'].value_counts()\n"
      ],
      "metadata": {
        "id": "jc3D6-g5VIvg",
        "outputId": "c610139d-ceab-46d9-d1b0-ab2993164512",
        "colab": {
          "base_uri": "https://localhost:8080/"
        }
      },
      "execution_count": 51,
      "outputs": [
        {
          "output_type": "execute_result",
          "data": {
            "text/plain": [
              "DIED\n",
              "N    742453\n",
              "Y     10550\n",
              "Name: count, dtype: int64"
            ]
          },
          "metadata": {},
          "execution_count": 51
        }
      ]
    },
    {
      "cell_type": "code",
      "source": [
        "# prompt: top 12 value counts for sysmtoms\n",
        "\n",
        "df_combine_2021['SYMPTOM1' ].value_counts().head(12)\n",
        "\n"
      ],
      "metadata": {
        "colab": {
          "base_uri": "https://localhost:8080/"
        },
        "id": "yRVV4Q8iCib2",
        "outputId": "eea3a5b0-549a-4f50-a577-6580d90d0e51"
      },
      "execution_count": 52,
      "outputs": [
        {
          "output_type": "execute_result",
          "data": {
            "text/plain": [
              "SYMPTOM1\n",
              "Chills                          54702\n",
              "Arthralgia                      41208\n",
              "Dizziness                       30584\n",
              "Fatigue                         24268\n",
              "COVID-19                        23817\n",
              "Asthenia                        21300\n",
              "Headache                        19648\n",
              "Injection site erythema         17188\n",
              "Expired product administered    14671\n",
              "Erythema                        13968\n",
              "Product storage error           10296\n",
              "Rash                             8947\n",
              "Name: count, dtype: int64"
            ]
          },
          "metadata": {},
          "execution_count": 52
        }
      ]
    },
    {
      "cell_type": "code",
      "source": [
        "df_combine_2021.columns"
      ],
      "metadata": {
        "id": "VJW7ufXs9vtS",
        "outputId": "9fe45eb6-2c02-4119-aa95-16e6baa99c23",
        "colab": {
          "base_uri": "https://localhost:8080/"
        }
      },
      "execution_count": 53,
      "outputs": [
        {
          "output_type": "execute_result",
          "data": {
            "text/plain": [
              "Index(['VAERS_ID', 'AGE_YRS', 'SEX', 'DIED', 'L_THREAT', 'ER_VISIT',\n",
              "       'HOSPITAL', 'DISABLE', 'BIRTH_DEFECT', 'VAX_TYPE', 'VAX_MANU',\n",
              "       'VAX_DOSE_SERIES', 'SYMPTOM1', 'SYMPTOM2', 'SYMPTOM3', 'SYMPTOM4',\n",
              "       'SYMPTOM5', 'ALL_SYMPTOMS'],\n",
              "      dtype='object')"
            ]
          },
          "metadata": {},
          "execution_count": 53
        }
      ]
    },
    {
      "cell_type": "code",
      "source": [
        "df_combine_2021.info()\n"
      ],
      "metadata": {
        "id": "GQvSndpPecqv",
        "outputId": "3e36cbeb-3827-4a47-ee67-c06e555679dc",
        "colab": {
          "base_uri": "https://localhost:8080/"
        }
      },
      "execution_count": 54,
      "outputs": [
        {
          "output_type": "stream",
          "name": "stdout",
          "text": [
            "<class 'pandas.core.frame.DataFrame'>\n",
            "Index: 753003 entries, 0 to 1070233\n",
            "Data columns (total 18 columns):\n",
            " #   Column           Non-Null Count   Dtype  \n",
            "---  ------           --------------   -----  \n",
            " 0   VAERS_ID         753003 non-null  int64  \n",
            " 1   AGE_YRS          671996 non-null  float64\n",
            " 2   SEX              753003 non-null  object \n",
            " 3   DIED             753003 non-null  object \n",
            " 4   L_THREAT         11113 non-null   object \n",
            " 5   ER_VISIT         127 non-null     object \n",
            " 6   HOSPITAL         47468 non-null   object \n",
            " 7   DISABLE          11973 non-null   object \n",
            " 8   BIRTH_DEFECT     459 non-null     object \n",
            " 9   VAX_TYPE         753003 non-null  object \n",
            " 10  VAX_MANU         753003 non-null  object \n",
            " 11  VAX_DOSE_SERIES  749278 non-null  object \n",
            " 12  SYMPTOM1         753003 non-null  object \n",
            " 13  SYMPTOM2         590865 non-null  object \n",
            " 14  SYMPTOM3         453978 non-null  object \n",
            " 15  SYMPTOM4         344175 non-null  object \n",
            " 16  SYMPTOM5         253853 non-null  object \n",
            " 17  ALL_SYMPTOMS     753003 non-null  object \n",
            "dtypes: float64(1), int64(1), object(16)\n",
            "memory usage: 109.2+ MB\n"
          ]
        }
      ]
    },
    {
      "cell_type": "code",
      "source": [
        "# prompt: # prompt: drop SYMPTOM2 ,SYMPTOM3, SYMPTOM4, SYMPTOM5,BIRTH_DEFECT, SYMPTOM, ignore errors\n",
        "\n",
        "df_combine_2021.drop(columns=['SYMPTOM2','SYMPTOM3', 'SYMPTOM4', 'SYMPTOM5','BIRTH_DEFECT', 'SYMPTOM'], errors='ignore', inplace=True)\n"
      ],
      "metadata": {
        "id": "KfqMilj89un7"
      },
      "execution_count": 55,
      "outputs": []
    },
    {
      "cell_type": "code",
      "source": [
        "# prompt: count  VAX_TYPE and print by value type\n",
        "\n",
        "df_combine_2021['VAX_TYPE'].value_counts()\n"
      ],
      "metadata": {
        "id": "JGFDDDXmYIt0",
        "outputId": "56426837-5168-4ebd-d499-0ebb2259939b",
        "colab": {
          "base_uri": "https://localhost:8080/"
        }
      },
      "execution_count": 56,
      "outputs": [
        {
          "output_type": "execute_result",
          "data": {
            "text/plain": [
              "VAX_TYPE\n",
              "COVID19    710665\n",
              "VARZOS      12888\n",
              "UNK          6623\n",
              "FLU4         4356\n",
              "HPV9         1475\n",
              "            ...  \n",
              "DTPHEP          1\n",
              "PER             1\n",
              "FLUR3           1\n",
              "HEPATYP         1\n",
              "H5N1            1\n",
              "Name: count, Length: 63, dtype: int64"
            ]
          },
          "metadata": {},
          "execution_count": 56
        }
      ]
    },
    {
      "cell_type": "code",
      "source": [
        "# prompt: keep all row where VAX_TYPE is COVID19\n",
        "\n",
        "df_combine_2021 = df_combine_2021[df_combine_2021['VAX_TYPE'] == 'COVID19']\n"
      ],
      "metadata": {
        "id": "ZRBUf45PY1Em"
      },
      "execution_count": 57,
      "outputs": []
    },
    {
      "cell_type": "code",
      "source": [
        "# prompt: plot symtoms1 top 20\n",
        "\n",
        "import pandas as pd\n",
        "import matplotlib.pyplot as plt\n",
        "\n",
        "# Get the top 20 symptoms\n",
        "top_20_symptoms = df_combine_2021['SYMPTOM1'].value_counts().head(20)\n",
        "\n",
        "# Create a bar chart\n",
        "plt.figure(figsize=(10, 6))\n",
        "top_20_symptoms.plot(kind='bar')\n",
        "\n",
        "# Add title and labels\n",
        "plt.title('Top 20 Symptoms Reported in VAERS for 2021')\n",
        "plt.xlabel('Symptom')\n",
        "plt.ylabel('Number of Reports')\n",
        "\n",
        "# Rotate x-axis labels for readability\n",
        "plt.xticks(rotation=45)\n",
        "\n",
        "# Show the plot\n",
        "plt.show()\n"
      ],
      "metadata": {
        "id": "J2zqdGSLbH4L",
        "outputId": "26974731-19b6-4b55-ad34-38db056990d3",
        "colab": {
          "base_uri": "https://localhost:8080/",
          "height": 729
        }
      },
      "execution_count": 58,
      "outputs": [
        {
          "output_type": "display_data",
          "data": {
            "text/plain": [
              "<Figure size 1000x600 with 1 Axes>"
            ],
            "image/png": "[encoded data removed]"
          },
          "metadata": {}
        }
      ]
    },
    {
      "cell_type": "code",
      "source": [
        "# prompt: how many people DIED by sex\n",
        "\n",
        "died_by_sex = df_combine_2021.groupby('SEX')['DIED'].value_counts()\n",
        "print(died_by_sex)\n"
      ],
      "metadata": {
        "id": "nTYr0FNta1BW",
        "outputId": "ec1e7c9b-ed2d-4ebb-c714-97e8f6c24818",
        "colab": {
          "base_uri": "https://localhost:8080/"
        }
      },
      "execution_count": 59,
      "outputs": [
        {
          "output_type": "stream",
          "name": "stdout",
          "text": [
            "SEX  DIED\n",
            "F    N       468487\n",
            "     Y         4002\n",
            "M    N       206991\n",
            "     Y         5813\n",
            "U    N        24951\n",
            "     Y          421\n",
            "Name: count, dtype: int64\n"
          ]
        }
      ]
    },
    {
      "cell_type": "code",
      "source": [
        "# prompt: count SYMPTOM1\n",
        "\n",
        "countSymtoms1=df_combine_2021['SYMPTOM1'].value_counts().head(20)\n",
        "print(countSymtoms1)\n"
      ],
      "metadata": {
        "id": "RgmjQ0LypYBH",
        "colab": {
          "base_uri": "https://localhost:8080/"
        },
        "outputId": "1595c3af-d769-443c-e2cf-8254706f9716"
      },
      "execution_count": 60,
      "outputs": [
        {
          "output_type": "stream",
          "name": "stdout",
          "text": [
            "SYMPTOM1\n",
            "Chills                          52743\n",
            "Arthralgia                      39643\n",
            "Dizziness                       29830\n",
            "COVID-19                        23633\n",
            "Fatigue                         23451\n",
            "Asthenia                        20590\n",
            "Headache                        19063\n",
            "Injection site erythema         16112\n",
            "Erythema                        12927\n",
            "Expired product administered    12490\n",
            "Product storage error            8896\n",
            "Rash                             8380\n",
            "Chest discomfort                 7298\n",
            "Chest pain                       7248\n",
            "Back pain                        7135\n",
            "Pain in extremity                7127\n",
            "Blood test                       7115\n",
            "Body temperature                 6754\n",
            "Pruritus                         6733\n",
            "Anxiety                          6727\n",
            "Name: count, dtype: int64\n"
          ]
        }
      ]
    },
    {
      "cell_type": "code",
      "source": [
        "# prompt: what us the most common symtom vaccine manu\n",
        "\n",
        "most_common_symptom = df_combine_2021['SYMPTOM1'].mode()[0]\n",
        "print(f\"The most common symptom is: {most_common_symptom}\")\n"
      ],
      "metadata": {
        "id": "bzkVCk_qpYEw",
        "colab": {
          "base_uri": "https://localhost:8080/"
        },
        "outputId": "03fabd9e-eab5-4780-c5bd-fe81834dacbf"
      },
      "execution_count": 61,
      "outputs": [
        {
          "output_type": "stream",
          "name": "stdout",
          "text": [
            "The most common symptom is: Chills\n"
          ]
        }
      ]
    },
    {
      "cell_type": "code",
      "source": [
        "# prompt: how many null values are the dataset df_vaers_vax_2021\n",
        "\n",
        "df_combine_2021.isnull().sum()\n",
        "\n"
      ],
      "metadata": {
        "id": "0LEL-atbpYQL",
        "outputId": "0773a0e3-0ade-436a-d84d-5574738074eb",
        "colab": {
          "base_uri": "https://localhost:8080/"
        }
      },
      "execution_count": 62,
      "outputs": [
        {
          "output_type": "execute_result",
          "data": {
            "text/plain": [
              "VAERS_ID                0\n",
              "AGE_YRS             67319\n",
              "SEX                     0\n",
              "DIED                    0\n",
              "L_THREAT           699925\n",
              "ER_VISIT           710564\n",
              "HOSPITAL           664448\n",
              "DISABLE            699646\n",
              "VAX_TYPE                0\n",
              "VAX_MANU                0\n",
              "VAX_DOSE_SERIES      2682\n",
              "SYMPTOM1                0\n",
              "ALL_SYMPTOMS            0\n",
              "dtype: int64"
            ]
          },
          "metadata": {},
          "execution_count": 62
        }
      ]
    },
    {
      "cell_type": "markdown",
      "source": [
        "Number of VAERS by state"
      ],
      "metadata": {
        "id": "rH_SDIFh8kt6"
      }
    },
    {
      "cell_type": "code",
      "source": [
        "# prompt: drop the following columns SYMPTOM_TEXT, CAGE_MO, RPT_DATE,RECVDATE,, DISABLE,CUR_ILL, PRIOR_VAX, BIRTH_DEFECT, SYMPTOM_TEXT, CAGE_MO, RPT_DATE,RECVDATE,, DISABLE,CUR_ILL, PRIOR_VAX, BIRTH_DEFECT\n",
        "\n",
        "df_combine_2021.drop(columns=['SYMPTOM_TEXT', 'CAGE_MO', 'RPT_DATE','RECVDATE','DISABLE','CUR_ILL', 'PRIOR_VAX', 'BIRTH_DEFECT','SYMPTOM2', 'SYMPTOM3','SYMPTOM4','SYMPTOM5','ALLERGIES'], axis=1, inplace=True, errors='ignore')\n"
      ],
      "metadata": {
        "id": "bL2JNF4epLnc"
      },
      "execution_count": 64,
      "outputs": []
    },
    {
      "cell_type": "code",
      "source": [
        "df_combine_2021['VAX_TYPE'].value_counts(normalize= True) * 100"
      ],
      "metadata": {
        "colab": {
          "base_uri": "https://localhost:8080/"
        },
        "id": "K2_tSdlbEC1x",
        "outputId": "ad6045e7-316f-4c41-dce7-a17ac588c582"
      },
      "execution_count": 65,
      "outputs": [
        {
          "output_type": "execute_result",
          "data": {
            "text/plain": [
              "VAX_TYPE\n",
              "COVID19    100.0\n",
              "Name: proportion, dtype: float64"
            ]
          },
          "metadata": {},
          "execution_count": 65
        }
      ]
    },
    {
      "cell_type": "code",
      "source": [
        "df_combine_2021['VAX_MANU'].value_counts(normalize= True) * 100"
      ],
      "metadata": {
        "colab": {
          "base_uri": "https://localhost:8080/"
        },
        "id": "lNH6WC48EV7Q",
        "outputId": "15e1e34e-d39f-4ab6-ad37-05fd5558ed95"
      },
      "execution_count": 66,
      "outputs": [
        {
          "output_type": "execute_result",
          "data": {
            "text/plain": [
              "VAX_MANU\n",
              "MODERNA                 47.301190\n",
              "PFIZER\\BIONTECH         43.736078\n",
              "JANSSEN                  8.747441\n",
              "UNKNOWN MANUFACTURER     0.215291\n",
              "Name: proportion, dtype: float64"
            ]
          },
          "metadata": {},
          "execution_count": 66
        }
      ]
    },
    {
      "cell_type": "code",
      "source": [
        "df_combine_2021.columns"
      ],
      "metadata": {
        "id": "8hO9LW7Bsf-R",
        "outputId": "c308021c-de42-4cee-8741-40a12d525816",
        "colab": {
          "base_uri": "https://localhost:8080/"
        }
      },
      "execution_count": 67,
      "outputs": [
        {
          "output_type": "execute_result",
          "data": {
            "text/plain": [
              "Index(['VAERS_ID', 'AGE_YRS', 'SEX', 'DIED', 'L_THREAT', 'ER_VISIT',\n",
              "       'HOSPITAL', 'VAX_TYPE', 'VAX_MANU', 'VAX_DOSE_SERIES', 'SYMPTOM1',\n",
              "       'ALL_SYMPTOMS'],\n",
              "      dtype='object')"
            ]
          },
          "metadata": {},
          "execution_count": 67
        }
      ]
    },
    {
      "cell_type": "code",
      "source": [
        "# prompt: give me numeric values vs categorical values\n",
        "\n",
        "import pandas as pd\n",
        "\n",
        "\n",
        "\n",
        "# Get numeric and categorical columns\n",
        "numeric_cols = df_combine_2021.select_dtypes(include=['int64', 'float64']).columns\n",
        "categorical_cols = df_combine_2021.select_dtypes(include=['object']).columns\n",
        "\n",
        "# Print the columns\n",
        "print(\"Numeric columns:\", numeric_cols)\n",
        "print(\"Categorical columns:\", categorical_cols)\n"
      ],
      "metadata": {
        "colab": {
          "base_uri": "https://localhost:8080/"
        },
        "id": "bb7G_SBuJE1P",
        "outputId": "78895e20-1ac3-4930-f52a-f95e89f50857"
      },
      "execution_count": 68,
      "outputs": [
        {
          "output_type": "stream",
          "name": "stdout",
          "text": [
            "Numeric columns: Index(['VAERS_ID', 'AGE_YRS'], dtype='object')\n",
            "Categorical columns: Index(['SEX', 'DIED', 'L_THREAT', 'ER_VISIT', 'HOSPITAL', 'VAX_TYPE',\n",
            "       'VAX_MANU', 'VAX_DOSE_SERIES', 'SYMPTOM1', 'ALL_SYMPTOMS'],\n",
            "      dtype='object')\n"
          ]
        }
      ]
    },
    {
      "cell_type": "code",
      "source": [
        "df_combine_2021['ER_VISIT'].value_counts()"
      ],
      "metadata": {
        "colab": {
          "base_uri": "https://localhost:8080/"
        },
        "id": "Gcs1TZQbKfnj",
        "outputId": "7180aab2-cd81-4317-dd87-c3a93c896b4a"
      },
      "execution_count": 69,
      "outputs": [
        {
          "output_type": "execute_result",
          "data": {
            "text/plain": [
              "ER_VISIT\n",
              "Y    101\n",
              "Name: count, dtype: int64"
            ]
          },
          "metadata": {},
          "execution_count": 69
        }
      ]
    },
    {
      "cell_type": "code",
      "source": [
        "# Died - Replace 'nan' with 'N'\n",
        "df_combine_2021['DIED'] = df_combine_2021['DIED'].replace({np.nan: 'N'})\n",
        "# L_Threat - Replace 'nan' with 'N'\n",
        "df_combine_2021['L_THREAT'] = df_combine_2021['L_THREAT'].replace({np.nan: 'N'})\n",
        "\n",
        "# ER_ED_Visit - Replace 'nan' with 'N'\n",
        "df_combine_2021['ER_VISIT'] = df_combine_2021['ER_VISIT'].replace({np.nan: 'N'})\n",
        "\n",
        "\n",
        "# Hospital - Replace 'nan' with 'N'\n",
        "df_combine_2021['HOSPITAL'] = df_combine_2021['HOSPITAL'].replace({np.nan: 'N'})\n",
        "\n",
        "# Disable - Replace 'nan' with 'N'\n",
        "#df_combine_2021['DISABLE'] = df_combine_2021['DISABLE'].replace({np.nan: 'N'})\n",
        "\n"
      ],
      "metadata": {
        "id": "RB4Si6bkNN2a"
      },
      "execution_count": 70,
      "outputs": []
    },
    {
      "cell_type": "code",
      "source": [
        "# prompt: Can factors like age, gender, vaccine brand, and medical conditions help predict how strongly someone might react to the vaccine?, import  libraries ypu will need\n",
        "\n",
        "import pandas as pd\n",
        "from sklearn.model_selection import train_test_split\n",
        "from sklearn.linear_model import LogisticRegression\n",
        "from sklearn.metrics import accuracy_score\n",
        "\n",
        "# Load the data\n",
        "df = df_combine_2021.copy()\n",
        "\n",
        "# Preprocess the data\n",
        "df.dropna(inplace=True)\n",
        "\n",
        "# Create dummy variables for categorical features\n",
        "df = pd.get_dummies(df, drop_first=True)\n",
        "\n",
        "# Split the data into training and test sets\n",
        "X_train, X_test, y_train, y_test = train_test_split(df_combine_2021.drop('DIED', axis=1), df_combine_2021['DIED'], test_size=0.25, random_state=0)\n",
        "\n",
        "# Train the model\n",
        "model = LogisticRegression()\n",
        "model.fit(X_train, y_train)\n",
        "\n",
        "# Evaluate the model\n",
        "y_pred = model.predict(X_test)\n",
        "accuracy = accuracy_score(y_test, y_pred)\n",
        "print('Accuracy:', accuracy)\n",
        "\n",
        "# Get the coefficients of the model\n",
        "coefficients = model.coef_\n",
        "\n",
        "# Create a dataframe of the coefficients\n",
        "coef_df = pd.DataFrame(coefficients, columns=X_train.columns)\n",
        "\n",
        "# Sort the coefficients by absolute value\n",
        "coef_df = coef_df.abs().sort_values(by=0, ascending=False)\n",
        "\n",
        "# Print the top 10 coefficients\n",
        "print(coef_df.head(10))\n",
        "\n"
      ],
      "metadata": {
        "colab": {
          "base_uri": "https://localhost:8080/",
          "height": 214
        },
        "id": "el6QfqwjLL_x",
        "outputId": "bafce2c0-729e-41dd-a835-f6d8821b1ba2"
      },
      "execution_count": 1,
      "outputs": [
        {
          "output_type": "error",
          "ename": "NameError",
          "evalue": "name 'df_combine_2021' is not defined",
          "traceback": [
            "\u001b[0;31m---------------------------------------------------------------------------\u001b[0m",
            "\u001b[0;31mNameError\u001b[0m                                 Traceback (most recent call last)",
            "\u001b[0;32m<ipython-input-1-4fc94e792388>\u001b[0m in \u001b[0;36m<cell line: 9>\u001b[0;34m()\u001b[0m\n\u001b[1;32m      7\u001b[0m \u001b[0;34m\u001b[0m\u001b[0m\n\u001b[1;32m      8\u001b[0m \u001b[0;31m# Load the data\u001b[0m\u001b[0;34m\u001b[0m\u001b[0;34m\u001b[0m\u001b[0m\n\u001b[0;32m----> 9\u001b[0;31m \u001b[0mdf\u001b[0m \u001b[0;34m=\u001b[0m \u001b[0mdf_combine_2021\u001b[0m\u001b[0;34m.\u001b[0m\u001b[0mcopy\u001b[0m\u001b[0;34m(\u001b[0m\u001b[0;34m)\u001b[0m\u001b[0;34m\u001b[0m\u001b[0;34m\u001b[0m\u001b[0m\n\u001b[0m\u001b[1;32m     10\u001b[0m \u001b[0;34m\u001b[0m\u001b[0m\n\u001b[1;32m     11\u001b[0m \u001b[0;31m# Preprocess the data\u001b[0m\u001b[0;34m\u001b[0m\u001b[0;34m\u001b[0m\u001b[0m\n",
            "\u001b[0;31mNameError\u001b[0m: name 'df_combine_2021' is not defined"
          ]
        }
      ]
    },
    {
      "cell_type": "code",
      "source": [
        "# prompt: Can factors like age, gender, vaccine brand, and medical conditions help predict how strongly someone might react to the vaccine?\n",
        "\n",
        "import pandas as pd\n",
        "\n",
        "# Select the relevant columns\n",
        "df = df[['AGE_YRS', 'SEX', 'VAX_MANU', 'DIED']]\n",
        "\n",
        "# Group the data by age, sex, vaccine brand, and death\n",
        "grouped_data = df.groupby(['AGE_YRS', 'SEX', 'VAX_MANU', 'DIED']).size().unstack()\n",
        "\n",
        "# Calculate the percentage of people who died for each group\n",
        "grouped_data = grouped_data.apply(lambda x: x / x.sum() * 100, axis=1)\n",
        "\n",
        "# Print the results\n",
        "print(grouped_data)\n",
        "\n",
        "# You can use this data to analyze the relationship between age, sex, vaccine brand, and the likelihood of death after vaccination. For example, you could use this data to identify groups of people who are at higher risk of experiencing severe side effects from the vaccine.\n"
      ],
      "metadata": {
        "id": "BArUx_5Mv0CR",
        "outputId": "8a2df921-dff8-4031-a6a8-366499d976d3",
        "colab": {
          "base_uri": "https://localhost:8080/"
        }
      },
      "execution_count": 69,
      "outputs": [
        {
          "output_type": "stream",
          "name": "stdout",
          "text": [
            "DIED                             N   Y\n",
            "AGE_YRS SEX VAX_MANU                  \n",
            "0.08    F   JANSSEN          100.0 NaN\n",
            "            MODERNA          100.0 NaN\n",
            "            PFIZER\\BIONTECH  100.0 NaN\n",
            "        M   MODERNA          100.0 NaN\n",
            "            PFIZER\\BIONTECH  100.0 NaN\n",
            "...                            ...  ..\n",
            "115.00  F   PFIZER\\BIONTECH  100.0 NaN\n",
            "119.00  F   MODERNA          100.0 NaN\n",
            "            PFIZER\\BIONTECH  100.0 NaN\n",
            "        U   MODERNA          100.0 NaN\n",
            "            PFIZER\\BIONTECH  100.0 NaN\n",
            "\n",
            "[1157 rows x 2 columns]\n"
          ]
        }
      ]
    },
    {
      "cell_type": "code",
      "source": [
        "# prompt: Can factors like age, gender, vaccine brand, and medical conditions help predict how strongly someone might react to the vaccine?\n",
        "\n",
        "import pandas as pd\n",
        "\n",
        "# Read the data into a DataFrame\n",
        "\n",
        "df=df_combine_2021.copy()\n",
        "\n",
        "# Select the relevant columns\n",
        "df = df[['AGE_YRS', 'SEX', 'VAX_MANU', 'DIED']]\n",
        "\n",
        "# Group the data by age, sex, vaccine brand, and death\n",
        "grouped_data = df.groupby(['AGE_YRS', 'SEX', 'VAX_MANU', 'DIED']).size().unstack()\n",
        "\n",
        "# Calculate the percentage of people who died for each group\n",
        "grouped_data = grouped_data.apply(lambda x: x / x.sum() * 100, axis=1)\n",
        "\n",
        "# Print the results\n",
        "print(grouped_data)\n"
      ],
      "metadata": {
        "colab": {
          "base_uri": "https://localhost:8080/"
        },
        "id": "TI-cTFokeGxl",
        "outputId": "5ea61300-7f80-459d-d10f-bf3e6c8052cc"
      },
      "execution_count": 82,
      "outputs": [
        {
          "output_type": "stream",
          "name": "stdout",
          "text": [
            "DIED                             N   Y\n",
            "AGE_YRS SEX VAX_MANU                  \n",
            "0.08    F   JANSSEN          100.0 NaN\n",
            "            MODERNA          100.0 NaN\n",
            "            PFIZER\\BIONTECH  100.0 NaN\n",
            "        M   MODERNA          100.0 NaN\n",
            "            PFIZER\\BIONTECH  100.0 NaN\n",
            "...                            ...  ..\n",
            "115.00  F   PFIZER\\BIONTECH  100.0 NaN\n",
            "119.00  F   MODERNA          100.0 NaN\n",
            "            PFIZER\\BIONTECH  100.0 NaN\n",
            "        U   MODERNA          100.0 NaN\n",
            "            PFIZER\\BIONTECH  100.0 NaN\n",
            "\n",
            "[1157 rows x 2 columns]\n"
          ]
        }
      ]
    },
    {
      "cell_type": "code",
      "source": [
        "df_combine_2021.columns"
      ],
      "metadata": {
        "id": "2WZ-SD6El-Z-",
        "outputId": "d27fd5a6-4ff0-40fc-de08-31ab99992383",
        "colab": {
          "base_uri": "https://localhost:8080/"
        }
      },
      "execution_count": 68,
      "outputs": [
        {
          "output_type": "execute_result",
          "data": {
            "text/plain": [
              "Index(['AGE_YRS', 'SEX', 'DIED', 'L_THREAT', 'ER_VISIT', 'HOSPITAL', 'DISABLE',\n",
              "       'BIRTH_DEFECT', 'VAX_TYPE', 'VAX_MANU', 'VAX_NAME', 'SYMPTOM1',\n",
              "       'ALL_SYMPTOMS'],\n",
              "      dtype='object')"
            ]
          },
          "metadata": {},
          "execution_count": 68
        }
      ]
    },
    {
      "cell_type": "code",
      "source": [
        "import pandas as pd\n",
        "import numpy as np\n",
        "from sklearn import preprocessing"
      ],
      "metadata": {
        "id": "4sk5_hE477Tz"
      },
      "execution_count": 71,
      "outputs": []
    },
    {
      "cell_type": "code",
      "source": [
        "cat = []\n",
        "num = []\n",
        "\n",
        "for i in df_combine_2021.columns:\n",
        "    if df_combine_2021[i].dtype==object:\n",
        "        cat.append(i)\n",
        "    else:\n",
        "        num.append(i)\n",
        "\n",
        "print(\"The number of numerical features are:\",len(num))\n",
        "print()\n",
        "print(\"The numerical features are:\\n\\n\",num)\n",
        "print(\"\\n\\n\")\n",
        "print(\"The number of categorical features are:\", len(cat))\n",
        "print()\n",
        "print(\"The categorical features are:\\n\\n\",cat)"
      ],
      "metadata": {
        "colab": {
          "base_uri": "https://localhost:8080/",
          "height": 214
        },
        "id": "KMsTdhzBDB4n",
        "outputId": "58b6426a-57bc-43b4-fe74-51d400e113e1"
      },
      "execution_count": 4,
      "outputs": [
        {
          "output_type": "error",
          "ename": "NameError",
          "evalue": "name 'df_combine_2021' is not defined",
          "traceback": [
            "\u001b[0;31m---------------------------------------------------------------------------\u001b[0m",
            "\u001b[0;31mNameError\u001b[0m                                 Traceback (most recent call last)",
            "\u001b[0;32m<ipython-input-4-c653f2d41c54>\u001b[0m in \u001b[0;36m<cell line: 4>\u001b[0;34m()\u001b[0m\n\u001b[1;32m      2\u001b[0m \u001b[0mnum\u001b[0m \u001b[0;34m=\u001b[0m \u001b[0;34m[\u001b[0m\u001b[0;34m]\u001b[0m\u001b[0;34m\u001b[0m\u001b[0;34m\u001b[0m\u001b[0m\n\u001b[1;32m      3\u001b[0m \u001b[0;34m\u001b[0m\u001b[0m\n\u001b[0;32m----> 4\u001b[0;31m \u001b[0;32mfor\u001b[0m \u001b[0mi\u001b[0m \u001b[0;32min\u001b[0m \u001b[0mdf_combine_2021\u001b[0m\u001b[0;34m.\u001b[0m\u001b[0mcolumns\u001b[0m\u001b[0;34m:\u001b[0m\u001b[0;34m\u001b[0m\u001b[0;34m\u001b[0m\u001b[0m\n\u001b[0m\u001b[1;32m      5\u001b[0m     \u001b[0;32mif\u001b[0m \u001b[0mdf_combine_2021\u001b[0m\u001b[0;34m[\u001b[0m\u001b[0mi\u001b[0m\u001b[0;34m]\u001b[0m\u001b[0;34m.\u001b[0m\u001b[0mdtype\u001b[0m\u001b[0;34m==\u001b[0m\u001b[0mobject\u001b[0m\u001b[0;34m:\u001b[0m\u001b[0;34m\u001b[0m\u001b[0;34m\u001b[0m\u001b[0m\n\u001b[1;32m      6\u001b[0m         \u001b[0mcat\u001b[0m\u001b[0;34m.\u001b[0m\u001b[0mappend\u001b[0m\u001b[0;34m(\u001b[0m\u001b[0mi\u001b[0m\u001b[0;34m)\u001b[0m\u001b[0;34m\u001b[0m\u001b[0;34m\u001b[0m\u001b[0m\n",
            "\u001b[0;31mNameError\u001b[0m: name 'df_combine_2021' is not defined"
          ]
        }
      ]
    },
    {
      "cell_type": "code",
      "source": [
        "df_v1=df_combine_2021.copy()\n",
        "df_v1.loc[((df_v1['DIED'] == 'N') & (df_v1['L_THREAT'] == 'N') & (df_v1['ER_ED_VISIT'] == 'N') & (df_v1['HOSPITAL'] == 'N') & (df_v1['X_STAY'] == 'N') & (df_v1['OFC_VISIT'] == 'N') & (df_v1['DISABLE'] == 'N') & (df_v1['BIRTH_DEFECT'] == 'Y')), 'ADVERSE_EFFECT'] = 'Birth_Defect'\n",
        "\n",
        "df_v1.loc[((df_v1['DIED'] == 'N') & (df_v1['L_THREAT'] == 'N') & (df_v1['ER_ED_VISIT'] == 'N') & (df_v1['HOSPITAL'] == 'N') & (df_v1['X_STAY'] == 'N') & (df_v1['OFC_VISIT'] == 'N') & (df_v1['DISABLE'] == 'Y')), 'ADVERSE_EFFECT'] = 'Disabled'\n",
        "\n",
        "df_v1.loc[((df_v1['DIED'] == 'N') & (df_v1['L_THREAT'] == 'N') & (df_v1['ER_ED_VISIT'] == 'N') & (df_v1['HOSPITAL'] == 'N') & (df_v1['X_STAY'] == 'N') & (df_v1['OFC_VISIT'] == 'Y')), 'ADVERSE_EFFECT'] = 'Clinic_Visit'\n",
        "\n",
        "df_v1.loc[((df_v1['DIED'] == 'N') & (df_v1['L_THREAT'] == 'N') & (df_v1['ER_ED_VISIT'] == 'N') & (df_v1['X_STAY'] == 'N')  & (df_v1['HOSPITAL'] == 'Y')), 'ADVERSE_EFFECT'] = 'Hospitalized'\n",
        "\n",
        "df_v1.loc[((df_v1['DIED'] == 'N') & (df_v1['L_THREAT'] == 'N') & (df_v1['ER_ED_VISIT'] == 'N') & (df_v1['X_STAY'] == 'Y')), 'ADVERSE_EFFECT'] = 'Prolonged_Hospitalization'\n",
        "\n",
        "df_v1.loc[((df_v1['DIED'] == 'N') & (df_v1['L_THREAT'] == 'N') & (df_v1['ER_ED_VISIT'] == 'Y')), 'ADVERSE_EFFECT'] = 'ER_Visit'\n",
        "\n",
        "df_v1.loc[((df_v1['DIED'] == 'N') & (df_v1['L_THREAT'] == 'Y')), 'ADVERSE_EFFECT'] = 'Life_Threat'\n",
        "\n",
        "df_v1.loc[((df_v1['DIED'] == 'Y')), 'ADVERSE_EFFECT'] = 'Died'"
      ],
      "metadata": {
        "colab": {
          "base_uri": "https://localhost:8080/",
          "height": 268
        },
        "id": "MA64cz0atgQ2",
        "outputId": "3fcac675-f007-4344-db6e-48b9bcffd9e5"
      },
      "execution_count": 3,
      "outputs": [
        {
          "output_type": "error",
          "ename": "NameError",
          "evalue": "name 'df_combine_2021' is not defined",
          "traceback": [
            "\u001b[0;31m---------------------------------------------------------------------------\u001b[0m",
            "\u001b[0;31mNameError\u001b[0m                                 Traceback (most recent call last)",
            "\u001b[0;32m<ipython-input-3-fca8f9bf81f7>\u001b[0m in \u001b[0;36m<cell line: 1>\u001b[0;34m()\u001b[0m\n\u001b[0;32m----> 1\u001b[0;31m \u001b[0mdf_v1\u001b[0m\u001b[0;34m=\u001b[0m\u001b[0mdf_combine_2021\u001b[0m\u001b[0;34m.\u001b[0m\u001b[0mcopy\u001b[0m\u001b[0;34m(\u001b[0m\u001b[0;34m)\u001b[0m\u001b[0;34m\u001b[0m\u001b[0;34m\u001b[0m\u001b[0m\n\u001b[0m\u001b[1;32m      2\u001b[0m \u001b[0mdf_v1\u001b[0m\u001b[0;34m.\u001b[0m\u001b[0mloc\u001b[0m\u001b[0;34m[\u001b[0m\u001b[0;34m(\u001b[0m\u001b[0;34m(\u001b[0m\u001b[0mdf_v1\u001b[0m\u001b[0;34m[\u001b[0m\u001b[0;34m'DIED'\u001b[0m\u001b[0;34m]\u001b[0m \u001b[0;34m==\u001b[0m \u001b[0;34m'N'\u001b[0m\u001b[0;34m)\u001b[0m \u001b[0;34m&\u001b[0m \u001b[0;34m(\u001b[0m\u001b[0mdf_v1\u001b[0m\u001b[0;34m[\u001b[0m\u001b[0;34m'L_THREAT'\u001b[0m\u001b[0;34m]\u001b[0m \u001b[0;34m==\u001b[0m \u001b[0;34m'N'\u001b[0m\u001b[0;34m)\u001b[0m \u001b[0;34m&\u001b[0m \u001b[0;34m(\u001b[0m\u001b[0mdf_v1\u001b[0m\u001b[0;34m[\u001b[0m\u001b[0;34m'ER_ED_VISIT'\u001b[0m\u001b[0;34m]\u001b[0m \u001b[0;34m==\u001b[0m \u001b[0;34m'N'\u001b[0m\u001b[0;34m)\u001b[0m \u001b[0;34m&\u001b[0m \u001b[0;34m(\u001b[0m\u001b[0mdf_v1\u001b[0m\u001b[0;34m[\u001b[0m\u001b[0;34m'HOSPITAL'\u001b[0m\u001b[0;34m]\u001b[0m \u001b[0;34m==\u001b[0m \u001b[0;34m'N'\u001b[0m\u001b[0;34m)\u001b[0m \u001b[0;34m&\u001b[0m \u001b[0;34m(\u001b[0m\u001b[0mdf_v1\u001b[0m\u001b[0;34m[\u001b[0m\u001b[0;34m'X_STAY'\u001b[0m\u001b[0;34m]\u001b[0m \u001b[0;34m==\u001b[0m \u001b[0;34m'N'\u001b[0m\u001b[0;34m)\u001b[0m \u001b[0;34m&\u001b[0m \u001b[0;34m(\u001b[0m\u001b[0mdf_v1\u001b[0m\u001b[0;34m[\u001b[0m\u001b[0;34m'OFC_VISIT'\u001b[0m\u001b[0;34m]\u001b[0m \u001b[0;34m==\u001b[0m \u001b[0;34m'N'\u001b[0m\u001b[0;34m)\u001b[0m \u001b[0;34m&\u001b[0m \u001b[0;34m(\u001b[0m\u001b[0mdf_v1\u001b[0m\u001b[0;34m[\u001b[0m\u001b[0;34m'DISABLE'\u001b[0m\u001b[0;34m]\u001b[0m \u001b[0;34m==\u001b[0m \u001b[0;34m'N'\u001b[0m\u001b[0;34m)\u001b[0m \u001b[0;34m&\u001b[0m \u001b[0;34m(\u001b[0m\u001b[0mdf_v1\u001b[0m\u001b[0;34m[\u001b[0m\u001b[0;34m'BIRTH_DEFECT'\u001b[0m\u001b[0;34m]\u001b[0m \u001b[0;34m==\u001b[0m \u001b[0;34m'Y'\u001b[0m\u001b[0;34m)\u001b[0m\u001b[0;34m)\u001b[0m\u001b[0;34m,\u001b[0m \u001b[0;34m'ADVERSE_EFFECT'\u001b[0m\u001b[0;34m]\u001b[0m \u001b[0;34m=\u001b[0m \u001b[0;34m'Birth_Defect'\u001b[0m\u001b[0;34m\u001b[0m\u001b[0;34m\u001b[0m\u001b[0m\n\u001b[1;32m      3\u001b[0m \u001b[0;34m\u001b[0m\u001b[0m\n\u001b[1;32m      4\u001b[0m \u001b[0mdf_v1\u001b[0m\u001b[0;34m.\u001b[0m\u001b[0mloc\u001b[0m\u001b[0;34m[\u001b[0m\u001b[0;34m(\u001b[0m\u001b[0;34m(\u001b[0m\u001b[0mdf_v1\u001b[0m\u001b[0;34m[\u001b[0m\u001b[0;34m'DIED'\u001b[0m\u001b[0;34m]\u001b[0m \u001b[0;34m==\u001b[0m \u001b[0;34m'N'\u001b[0m\u001b[0;34m)\u001b[0m \u001b[0;34m&\u001b[0m \u001b[0;34m(\u001b[0m\u001b[0mdf_v1\u001b[0m\u001b[0;34m[\u001b[0m\u001b[0;34m'L_THREAT'\u001b[0m\u001b[0;34m]\u001b[0m \u001b[0;34m==\u001b[0m \u001b[0;34m'N'\u001b[0m\u001b[0;34m)\u001b[0m \u001b[0;34m&\u001b[0m \u001b[0;34m(\u001b[0m\u001b[0mdf_v1\u001b[0m\u001b[0;34m[\u001b[0m\u001b[0;34m'ER_ED_VISIT'\u001b[0m\u001b[0;34m]\u001b[0m \u001b[0;34m==\u001b[0m \u001b[0;34m'N'\u001b[0m\u001b[0;34m)\u001b[0m \u001b[0;34m&\u001b[0m \u001b[0;34m(\u001b[0m\u001b[0mdf_v1\u001b[0m\u001b[0;34m[\u001b[0m\u001b[0;34m'HOSPITAL'\u001b[0m\u001b[0;34m]\u001b[0m \u001b[0;34m==\u001b[0m \u001b[0;34m'N'\u001b[0m\u001b[0;34m)\u001b[0m \u001b[0;34m&\u001b[0m \u001b[0;34m(\u001b[0m\u001b[0mdf_v1\u001b[0m\u001b[0;34m[\u001b[0m\u001b[0;34m'X_STAY'\u001b[0m\u001b[0;34m]\u001b[0m \u001b[0;34m==\u001b[0m \u001b[0;34m'N'\u001b[0m\u001b[0;34m)\u001b[0m \u001b[0;34m&\u001b[0m \u001b[0;34m(\u001b[0m\u001b[0mdf_v1\u001b[0m\u001b[0;34m[\u001b[0m\u001b[0;34m'OFC_VISIT'\u001b[0m\u001b[0;34m]\u001b[0m \u001b[0;34m==\u001b[0m \u001b[0;34m'N'\u001b[0m\u001b[0;34m)\u001b[0m \u001b[0;34m&\u001b[0m \u001b[0;34m(\u001b[0m\u001b[0mdf_v1\u001b[0m\u001b[0;34m[\u001b[0m\u001b[0;34m'DISABLE'\u001b[0m\u001b[0;34m]\u001b[0m \u001b[0;34m==\u001b[0m \u001b[0;34m'Y'\u001b[0m\u001b[0;34m)\u001b[0m\u001b[0;34m)\u001b[0m\u001b[0;34m,\u001b[0m \u001b[0;34m'ADVERSE_EFFECT'\u001b[0m\u001b[0;34m]\u001b[0m \u001b[0;34m=\u001b[0m \u001b[0;34m'Disabled'\u001b[0m\u001b[0;34m\u001b[0m\u001b[0;34m\u001b[0m\u001b[0m\n\u001b[1;32m      5\u001b[0m \u001b[0;34m\u001b[0m\u001b[0m\n",
            "\u001b[0;31mNameError\u001b[0m: name 'df_combine_2021' is not defined"
          ]
        }
      ]
    },
    {
      "cell_type": "code",
      "source": [
        "df_combine_2021.columns\n",
        "df_combine_2021.head()"
      ],
      "metadata": {
        "colab": {
          "base_uri": "https://localhost:8080/",
          "height": 161
        },
        "id": "tntDs3sxEJf1",
        "outputId": "3763d8bd-c298-4ced-a8be-93fd565eccdd"
      },
      "execution_count": 1,
      "outputs": [
        {
          "output_type": "error",
          "ename": "NameError",
          "evalue": "name 'df_combine_2021' is not defined",
          "traceback": [
            "\u001b[0;31m---------------------------------------------------------------------------\u001b[0m",
            "\u001b[0;31mNameError\u001b[0m                                 Traceback (most recent call last)",
            "\u001b[0;32m<ipython-input-1-fc0edc107e44>\u001b[0m in \u001b[0;36m<cell line: 1>\u001b[0;34m()\u001b[0m\n\u001b[0;32m----> 1\u001b[0;31m \u001b[0mdf_combine_2021\u001b[0m\u001b[0;34m.\u001b[0m\u001b[0mcolumns\u001b[0m\u001b[0;34m\u001b[0m\u001b[0;34m\u001b[0m\u001b[0m\n\u001b[0m\u001b[1;32m      2\u001b[0m \u001b[0mdf_combine_2021\u001b[0m\u001b[0;34m.\u001b[0m\u001b[0mhead\u001b[0m\u001b[0;34m(\u001b[0m\u001b[0;34m)\u001b[0m\u001b[0;34m\u001b[0m\u001b[0;34m\u001b[0m\u001b[0m\n",
            "\u001b[0;31mNameError\u001b[0m: name 'df_combine_2021' is not defined"
          ]
        }
      ]
    }
  ]
}