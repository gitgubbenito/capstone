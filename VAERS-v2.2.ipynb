{
  "nbformat": 4,
  "nbformat_minor": 0,
  "metadata": {
    "colab": {
      "provenance": [],
      "mount_file_id": "https://github.com/gitgubbenito/capstone/blob/main/VAERS-v2.ipynb",
      "authorship_tag": "ABX9TyMNjp+sHXa0GZgivX2DQdCi",
      "include_colab_link": true
    },
    "kernelspec": {
      "name": "python3",
      "display_name": "Python 3"
    },
    "language_info": {
      "name": "python"
    }
  },
  "cells": [
    {
      "cell_type": "markdown",
      "metadata": {
        "id": "view-in-github",
        "colab_type": "text"
      },
      "source": [
        "<a href=\"https://colab.research.google.com/github/gitgubbenito/capstone/blob/main/VAERS-v2.2.ipynb\" target=\"_parent\"><img src=\"https://colab.research.google.com/assets/colab-badge.svg\" alt=\"Open In Colab\"/></a>"
      ]
    },
    {
      "cell_type": "code",
      "execution_count": null,
      "metadata": {
        "id": "vZRx_93KAKbF"
      },
      "outputs": [],
      "source": [
        "##Capstone Project - Vaccine Adverse Event Reporting System"
      ]
    },
    {
      "cell_type": "markdown",
      "source": [
        "Data files can be found at the following location:\n",
        "https://vaers.hhs.gov/data/datasets.html\n",
        "\n",
        "Datasets were to big to be uploaded to github\n",
        "\n",
        "I focus on 2021 datasets"
      ],
      "metadata": {
        "id": "xjcEGqy_nbJ1"
      }
    },
    {
      "cell_type": "code",
      "source": [
        "import pandas as pd\n",
        "import numpy as np\n",
        "import matplotlib.pyplot as plt"
      ],
      "metadata": {
        "id": "V5aZWklDMd7S"
      },
      "execution_count": null,
      "outputs": []
    },
    {
      "cell_type": "code",
      "source": [
        "#pip install chardet"
      ],
      "metadata": {
        "id": "VnkB6stflJnj"
      },
      "execution_count": null,
      "outputs": []
    },
    {
      "cell_type": "code",
      "source": [
        "import chardet\n",
        "with open('/content/drive/MyDrive/capstone/2021VAERSSYMPTOMS.csv', 'rb') as f:\n",
        "    data = f.read()\n",
        "    encoding_result = chardet.detect(data)\n",
        "    encoding = encoding_result['encoding']\n",
        "    print(\"Detected Encoding:\", encoding)"
      ],
      "metadata": {
        "colab": {
          "base_uri": "https://localhost:8080/"
        },
        "id": "JDVyPUo7mdHo",
        "outputId": "e38525cf-3489-4c36-ee34-55bcc50b9786"
      },
      "execution_count": null,
      "outputs": [
        {
          "output_type": "stream",
          "name": "stdout",
          "text": [
            "Detected Encoding: ascii\n"
          ]
        }
      ]
    },
    {
      "cell_type": "markdown",
      "source": [
        "#Things to do\n",
        "- Load all 2021 files - done\n",
        "- Understand Datasets - done\n",
        "- Merge Datasets - done\n",
        "- Data Clean-up - done\n",
        "- Determine the most common sysmtoms by vaccine manu\n",
        "- How many people were disable o die due to the vaccine\n",
        "- Number of VAERS by state\n",
        "- Plot top 20 symtoms\n",
        "# Questions to be answer\n",
        "1.  Do people who experience side effects from the vaccine tend to experience them sooner or later after vaccination?\n",
        "2.  Can factors like age, gender, vaccine brand, and medical conditions help predict how strongly someone might react to the vaccine?\n",
        "3.  Is there a noticeable difference in age between those who have no serious side effects and those who do?\n",
        "4. What are the most common VAERS presented on pacients with COVID-19 vaccine\n",
        "\n",
        "\n",
        "\n",
        "\n"
      ],
      "metadata": {
        "id": "EUB_j2BYZPq_"
      }
    },
    {
      "cell_type": "code",
      "source": [
        "# load data sets.csv\n",
        "df_symptoms_2021 =pd.read_csv('/content/drive/MyDrive/capstone/2021VAERSSYMPTOMS.csv')\n",
        "df_vaers_data_2021 = pd.read_csv('/content/drive/MyDrive/capstone/2021VAERSDATA.csv',encoding=\"Windows-1252\")\n",
        "df_vaers_vax_2021 = pd.read_csv('/content/drive/MyDrive/capstone/2021VAERSVAX.csv',encoding=\"Windows-1252\")\n"
      ],
      "metadata": {
        "id": "igTMmUkr0TMU",
        "colab": {
          "base_uri": "https://localhost:8080/"
        },
        "outputId": "6489b406-e510-4080-976c-0038609402c8"
      },
      "execution_count": null,
      "outputs": [
        {
          "output_type": "stream",
          "name": "stderr",
          "text": [
            "<ipython-input-29-1dccfd9fb363>:3: DtypeWarning: Columns (7,12,15,23) have mixed types. Specify dtype option on import or set low_memory=False.\n",
            "  df_vaers_data_2021 = pd.read_csv('/content/drive/MyDrive/capstone/2021VAERSDATA.csv',encoding=\"Windows-1252\")\n"
          ]
        }
      ]
    },
    {
      "cell_type": "code",
      "source": [
        "# Shape for each dataframe\n",
        "\n",
        "print(\"Shape of df_symptoms_2021:\", df_symptoms_2021.shape)\n",
        "print(\"Shape of df_vaers_data_2021:\", df_vaers_data_2021.shape)\n",
        "print(\"Shape of df_vaers_vax_2021:\", df_vaers_vax_2021.shape)\n"
      ],
      "metadata": {
        "id": "FhwX7WueePyH",
        "outputId": "b4c54dd7-6ece-42cf-8fd0-896fe9ae7996",
        "colab": {
          "base_uri": "https://localhost:8080/"
        }
      },
      "execution_count": null,
      "outputs": [
        {
          "output_type": "stream",
          "name": "stdout",
          "text": [
            "Shape of df_symptoms_2021: (1003896, 11)\n",
            "Shape of df_vaers_data_2021: (753006, 35)\n",
            "Shape of df_vaers_vax_2021: (797081, 8)\n"
          ]
        }
      ]
    },
    {
      "cell_type": "code",
      "source": [
        "df_vaers_vax_2021.isnull().sum()"
      ],
      "metadata": {
        "colab": {
          "base_uri": "https://localhost:8080/"
        },
        "id": "u3pBa-QP6tOI",
        "outputId": "496bcb01-2dd8-4278-9566-8806448ec9e1"
      },
      "execution_count": null,
      "outputs": [
        {
          "output_type": "execute_result",
          "data": {
            "text/plain": [
              "VAERS_ID                0\n",
              "VAX_TYPE                0\n",
              "VAX_MANU                0\n",
              "VAX_LOT            244925\n",
              "VAX_DOSE_SERIES      4169\n",
              "VAX_ROUTE          190149\n",
              "VAX_SITE           220146\n",
              "VAX_NAME                0\n",
              "dtype: int64"
            ]
          },
          "metadata": {},
          "execution_count": 32
        }
      ]
    },
    {
      "cell_type": "code",
      "source": [
        "df_vaers_data_2021.isnull().sum()"
      ],
      "metadata": {
        "colab": {
          "base_uri": "https://localhost:8080/"
        },
        "id": "ZqQG3ZMGvf10",
        "outputId": "24f11cf0-0aac-469a-c90d-207aa6899595"
      },
      "execution_count": null,
      "outputs": [
        {
          "output_type": "execute_result",
          "data": {
            "text/plain": [
              "VAERS_ID             0\n",
              "RECVDATE             0\n",
              "STATE           115887\n",
              "AGE_YRS          81007\n",
              "CAGE_YR         148654\n",
              "CAGE_MO         748705\n",
              "SEX                  0\n",
              "RPT_DATE        752078\n",
              "SYMPTOM_TEXT       577\n",
              "DIED            742456\n",
              "DATEDIED        743627\n",
              "L_THREAT        741891\n",
              "ER_VISIT        752879\n",
              "HOSPITAL        705537\n",
              "HOSPDAYS        721807\n",
              "X_STAY          752628\n",
              "DISABLE         741033\n",
              "RECOVD           73431\n",
              "VAX_DATE         55745\n",
              "ONSET_DATE       65815\n",
              "NUMDAYS          94529\n",
              "LAB_DATA        523797\n",
              "V_ADMINBY            0\n",
              "V_FUNDBY        752009\n",
              "OTHER_MEDS      380890\n",
              "CUR_ILL         544477\n",
              "HISTORY         378107\n",
              "PRIOR_VAX       716552\n",
              "SPLTTYPE        533091\n",
              "FORM_VERS            0\n",
              "TODAYS_DATE       5560\n",
              "BIRTH_DEFECT    752547\n",
              "OFC_VISIT       608478\n",
              "ER_ED_VISIT     662703\n",
              "ALLERGIES       454461\n",
              "dtype: int64"
            ]
          },
          "metadata": {},
          "execution_count": 33
        }
      ]
    },
    {
      "cell_type": "code",
      "source": [
        "# Drop  Columns\n",
        "clean_vaers_data_df = df_vaers_data_2021.drop(columns =['CAGE_YR', 'CAGE_MO', 'RPT_DATE', 'ONSET_DATE','NUMDAYS', 'LAB_DATA', 'SYMPTOM_TEXT',\n",
        "                                                   'V_ADMINBY', 'DATEDIED', 'V_FUNDBY', 'OTHER_MEDS', 'CUR_ILL', 'PRIOR_VAX','VAX_DATE',\n",
        "                                                   'SPLTTYPE', 'FORM_VERS', 'TODAYS_DATE', 'OFC_VISIT', 'HISTORY', 'ER_ED_VISIT', 'ALLERGIES',\n",
        "                                                   'RECVDATE','STATE','HOSPDAYS','X_STAY','RECOVD'])"
      ],
      "metadata": {
        "id": "gjl5n70oeJ-C"
      },
      "execution_count": null,
      "outputs": []
    },
    {
      "cell_type": "code",
      "source": [
        "clean_vaers_data_df.columns"
      ],
      "metadata": {
        "colab": {
          "base_uri": "https://localhost:8080/"
        },
        "id": "Qn4YRGYoehOu",
        "outputId": "fff90963-ccc7-484b-b0e3-e04cb75634cb"
      },
      "execution_count": null,
      "outputs": [
        {
          "output_type": "execute_result",
          "data": {
            "text/plain": [
              "Index(['VAERS_ID', 'AGE_YRS', 'SEX', 'DIED', 'L_THREAT', 'ER_VISIT',\n",
              "       'HOSPITAL', 'DISABLE', 'BIRTH_DEFECT'],\n",
              "      dtype='object')"
            ]
          },
          "metadata": {},
          "execution_count": 55
        }
      ]
    },
    {
      "cell_type": "code",
      "source": [
        "df_symptoms_2021.isnull().sum()"
      ],
      "metadata": {
        "colab": {
          "base_uri": "https://localhost:8080/"
        },
        "id": "DGf-L0DTwaxK",
        "outputId": "6cdd9d23-8d6a-469a-85d5-1d8d63678e54"
      },
      "execution_count": null,
      "outputs": [
        {
          "output_type": "execute_result",
          "data": {
            "text/plain": [
              "VAERS_ID                0\n",
              "SYMPTOM1                0\n",
              "SYMPTOMVERSION1         0\n",
              "SYMPTOM2           225538\n",
              "SYMPTOMVERSION2    225538\n",
              "SYMPTOM3           408255\n",
              "SYMPTOMVERSION3    408255\n",
              "SYMPTOM4           551438\n",
              "SYMPTOMVERSION4    551438\n",
              "SYMPTOM5           665894\n",
              "SYMPTOMVERSION5    665894\n",
              "dtype: int64"
            ]
          },
          "metadata": {},
          "execution_count": 34
        }
      ]
    },
    {
      "cell_type": "markdown",
      "source": [
        "**Note:** I will focus in column: SYMPTOM1"
      ],
      "metadata": {
        "id": "DEvKJANMxB_n"
      }
    },
    {
      "cell_type": "code",
      "source": [
        "df_vaers_vax_2021.info()"
      ],
      "metadata": {
        "colab": {
          "base_uri": "https://localhost:8080/"
        },
        "id": "gNCle-NrWOgF",
        "outputId": "65584e0d-f380-4783-86b8-4c91a5df7a6e"
      },
      "execution_count": null,
      "outputs": [
        {
          "output_type": "stream",
          "name": "stdout",
          "text": [
            "<class 'pandas.core.frame.DataFrame'>\n",
            "RangeIndex: 797081 entries, 0 to 797080\n",
            "Data columns (total 8 columns):\n",
            " #   Column           Non-Null Count   Dtype \n",
            "---  ------           --------------   ----- \n",
            " 0   VAERS_ID         797081 non-null  int64 \n",
            " 1   VAX_TYPE         797081 non-null  object\n",
            " 2   VAX_MANU         797081 non-null  object\n",
            " 3   VAX_LOT          552156 non-null  object\n",
            " 4   VAX_DOSE_SERIES  792912 non-null  object\n",
            " 5   VAX_ROUTE        606932 non-null  object\n",
            " 6   VAX_SITE         576935 non-null  object\n",
            " 7   VAX_NAME         797081 non-null  object\n",
            "dtypes: int64(1), object(7)\n",
            "memory usage: 48.7+ MB\n"
          ]
        }
      ]
    },
    {
      "cell_type": "code",
      "source": [
        "df_symptoms_2021.info()"
      ],
      "metadata": {
        "colab": {
          "base_uri": "https://localhost:8080/"
        },
        "id": "lNm7n5W7v3IZ",
        "outputId": "4cf9046b-7777-45d2-aed0-adacabd65606"
      },
      "execution_count": null,
      "outputs": [
        {
          "output_type": "stream",
          "name": "stdout",
          "text": [
            "<class 'pandas.core.frame.DataFrame'>\n",
            "RangeIndex: 1003896 entries, 0 to 1003895\n",
            "Data columns (total 11 columns):\n",
            " #   Column           Non-Null Count    Dtype  \n",
            "---  ------           --------------    -----  \n",
            " 0   VAERS_ID         1003896 non-null  int64  \n",
            " 1   SYMPTOM1         1003896 non-null  object \n",
            " 2   SYMPTOMVERSION1  1003896 non-null  float64\n",
            " 3   SYMPTOM2         778358 non-null   object \n",
            " 4   SYMPTOMVERSION2  778358 non-null   float64\n",
            " 5   SYMPTOM3         595641 non-null   object \n",
            " 6   SYMPTOMVERSION3  595641 non-null   float64\n",
            " 7   SYMPTOM4         452458 non-null   object \n",
            " 8   SYMPTOMVERSION4  452458 non-null   float64\n",
            " 9   SYMPTOM5         338002 non-null   object \n",
            " 10  SYMPTOMVERSION5  338002 non-null   float64\n",
            "dtypes: float64(5), int64(1), object(5)\n",
            "memory usage: 84.3+ MB\n"
          ]
        }
      ]
    },
    {
      "cell_type": "code",
      "source": [
        "# prompt: how many vaers are by vacine manu\n",
        "\n",
        "df_vaers_vax_2021['VAX_MANU'].value_counts()\n"
      ],
      "metadata": {
        "colab": {
          "base_uri": "https://localhost:8080/"
        },
        "id": "FvsVIHMMwTFL",
        "outputId": "060d89ed-5fba-49f2-e0d8-b9dda1a747c2"
      },
      "execution_count": null,
      "outputs": [
        {
          "output_type": "execute_result",
          "data": {
            "text/plain": [
              "VAX_MANU\n",
              "MODERNA                              349254\n",
              "PFIZER\\BIONTECH                      328949\n",
              "JANSSEN                               62327\n",
              "UNKNOWN MANUFACTURER                  16709\n",
              "GLAXOSMITHKLINE BIOLOGICALS           16291\n",
              "MERCK & CO. INC.                      10490\n",
              "SANOFI PASTEUR                         6888\n",
              "SEQIRUS, INC.                          2155\n",
              "NOVARTIS VACCINES AND DIAGNOSTICS      1474\n",
              "PFIZER\\WYETH                           1306\n",
              "PROTEIN SCIENCES CORPORATION            535\n",
              "DYNAVAX TECHNOLOGIES CORPORATION        247\n",
              "EMERGENT BIOSOLUTIONS                   137\n",
              "BERNA BIOTECH, LTD.                      97\n",
              "MEDIMMUNE VACCINES, INC.                 68\n",
              "TEVA PHARMACEUTICALS                     43\n",
              "MASS. PUB HLTH BIOL LAB                  29\n",
              "PAXVAX                                   25\n",
              "MSP VACCINE COMPANY                      22\n",
              "INTERCELL AG                             17\n",
              "CSL LIMITED                               9\n",
              "SMITHKLINE BEECHAM                        7\n",
              "PASTEUR MERIEUX CONNAUGHT                 1\n",
              "CONNAUGHT LABORATORIES                    1\n",
              "Name: count, dtype: int64"
            ]
          },
          "metadata": {},
          "execution_count": 36
        }
      ]
    },
    {
      "cell_type": "code",
      "source": [
        "# prompt: merge all 3 data frame\n",
        "\n",
        "df_combine_2021 = pd.merge(df_vaers_data_2021, df_vaers_vax_2021, on='VAERS_ID', how='inner')\n",
        "df_combine_2021 = pd.merge(df_combine_2021, df_symptoms_2021, on='VAERS_ID', how='inner')\n"
      ],
      "metadata": {
        "id": "h22Y70aDBrax"
      },
      "execution_count": null,
      "outputs": []
    },
    {
      "cell_type": "code",
      "source": [
        "df_combine_2021.shape"
      ],
      "metadata": {
        "id": "E_GZRLFVEJLG",
        "outputId": "8ee79b54-6efa-4bd4-ba22-4238e5db3d3a",
        "colab": {
          "base_uri": "https://localhost:8080/"
        }
      },
      "execution_count": null,
      "outputs": [
        {
          "output_type": "execute_result",
          "data": {
            "text/plain": [
              "(1070234, 52)"
            ]
          },
          "metadata": {},
          "execution_count": 38
        }
      ]
    },
    {
      "cell_type": "code",
      "source": [
        "df_combine_2021.columns"
      ],
      "metadata": {
        "id": "xd6uLKpGETkD",
        "outputId": "35f2cc37-202b-4b1b-b8d8-a3267b8504d8",
        "colab": {
          "base_uri": "https://localhost:8080/"
        }
      },
      "execution_count": null,
      "outputs": [
        {
          "output_type": "execute_result",
          "data": {
            "text/plain": [
              "Index(['VAERS_ID', 'RECVDATE', 'STATE', 'AGE_YRS', 'CAGE_YR', 'CAGE_MO', 'SEX',\n",
              "       'RPT_DATE', 'SYMPTOM_TEXT', 'DIED', 'DATEDIED', 'L_THREAT', 'ER_VISIT',\n",
              "       'HOSPITAL', 'HOSPDAYS', 'X_STAY', 'DISABLE', 'RECOVD', 'VAX_DATE',\n",
              "       'ONSET_DATE', 'NUMDAYS', 'LAB_DATA', 'V_ADMINBY', 'V_FUNDBY',\n",
              "       'OTHER_MEDS', 'CUR_ILL', 'HISTORY', 'PRIOR_VAX', 'SPLTTYPE',\n",
              "       'FORM_VERS', 'TODAYS_DATE', 'BIRTH_DEFECT', 'OFC_VISIT', 'ER_ED_VISIT',\n",
              "       'ALLERGIES', 'VAX_TYPE', 'VAX_MANU', 'VAX_LOT', 'VAX_DOSE_SERIES',\n",
              "       'VAX_ROUTE', 'VAX_SITE', 'VAX_NAME', 'SYMPTOM1', 'SYMPTOMVERSION1',\n",
              "       'SYMPTOM2', 'SYMPTOMVERSION2', 'SYMPTOM3', 'SYMPTOMVERSION3',\n",
              "       'SYMPTOM4', 'SYMPTOMVERSION4', 'SYMPTOM5', 'SYMPTOMVERSION5'],\n",
              "      dtype='object')"
            ]
          },
          "metadata": {},
          "execution_count": 39
        }
      ]
    },
    {
      "cell_type": "code",
      "source": [
        "# How many people die by vacine manu order by count\n",
        "\n",
        "df_combine_2021.groupby('VAX_MANU')['DIED'].value_counts().sort_values(ascending=False)\n"
      ],
      "metadata": {
        "colab": {
          "base_uri": "https://localhost:8080/"
        },
        "id": "qusGqSgLxDrp",
        "outputId": "b893beb6-4e14-4c34-a604-0d83f155c299"
      },
      "execution_count": null,
      "outputs": [
        {
          "output_type": "execute_result",
          "data": {
            "text/plain": [
              "VAX_MANU                           DIED\n",
              "PFIZER\\BIONTECH                    Y       9646\n",
              "MODERNA                            Y       8160\n",
              "JANSSEN                            Y       1901\n",
              "UNKNOWN MANUFACTURER               Y        374\n",
              "MERCK & CO. INC.                   Y         92\n",
              "GLAXOSMITHKLINE BIOLOGICALS        Y         78\n",
              "SANOFI PASTEUR                     Y         77\n",
              "PFIZER\\WYETH                       Y         39\n",
              "SEQIRUS, INC.                      Y         14\n",
              "PROTEIN SCIENCES CORPORATION       Y          4\n",
              "NOVARTIS VACCINES AND DIAGNOSTICS  Y          3\n",
              "DYNAVAX TECHNOLOGIES CORPORATION   Y          2\n",
              "PAXVAX                             Y          2\n",
              "Name: count, dtype: int64"
            ]
          },
          "metadata": {},
          "execution_count": 40
        }
      ]
    },
    {
      "cell_type": "code",
      "source": [
        "# prompt: how many rows and columns are there for each df\n",
        "\n",
        "print(\"df_symptoms_2021 has\", df_symptoms_2021.shape[0], \"rows and\", df_symptoms_2021.shape[1], \"columns\")\n",
        "print(\"df_vaers_data_2021 has\", df_vaers_data_2021.shape[0], \"rows and\", df_vaers_data_2021.shape[1], \"columns\")\n",
        "print(\"df_vaers_vax_2021 has\", df_vaers_vax_2021.shape[0], \"rows and\", df_vaers_vax_2021.shape[1], \"columns\")\n"
      ],
      "metadata": {
        "colab": {
          "base_uri": "https://localhost:8080/"
        },
        "id": "YVQMrYA27HFH",
        "outputId": "83b53d89-9645-47a4-f503-546dbb1c7a1b"
      },
      "execution_count": null,
      "outputs": [
        {
          "output_type": "stream",
          "name": "stdout",
          "text": [
            "df_symptoms_2021 has 1003896 rows and 11 columns\n",
            "df_vaers_data_2021 has 753006 rows and 35 columns\n",
            "df_vaers_vax_2021 has 797081 rows and 8 columns\n"
          ]
        }
      ]
    },
    {
      "cell_type": "code",
      "source": [
        "df_combine_2021.info()"
      ],
      "metadata": {
        "colab": {
          "base_uri": "https://localhost:8080/"
        },
        "id": "BaTzRqzHzojd",
        "outputId": "fb8baa1f-9f6a-43de-da8c-67bab65c4ca5"
      },
      "execution_count": null,
      "outputs": [
        {
          "output_type": "stream",
          "name": "stdout",
          "text": [
            "<class 'pandas.core.frame.DataFrame'>\n",
            "RangeIndex: 1070234 entries, 0 to 1070233\n",
            "Data columns (total 47 columns):\n",
            " #   Column           Non-Null Count    Dtype  \n",
            "---  ------           --------------    -----  \n",
            " 0   VAERS_ID         1070234 non-null  int64  \n",
            " 1   RECVDATE         1070234 non-null  object \n",
            " 2   STATE            923390 non-null   object \n",
            " 3   AGE_YRS          975545 non-null   float64\n",
            " 4   CAGE_YR          881058 non-null   float64\n",
            " 5   CAGE_MO          8245 non-null     float64\n",
            " 6   SEX              1070234 non-null  object \n",
            " 7   RPT_DATE         1293 non-null     object \n",
            " 8   SYMPTOM_TEXT     1069604 non-null  object \n",
            " 9   DIED             20392 non-null    object \n",
            " 10  DATEDIED         18847 non-null    object \n",
            " 11  L_THREAT         26261 non-null    object \n",
            " 12  ER_VISIT         192 non-null      object \n",
            " 13  HOSPITAL         112784 non-null   object \n",
            " 14  HOSPDAYS         80015 non-null    float64\n",
            " 15  X_STAY           771 non-null      object \n",
            " 16  DISABLE          27298 non-null    object \n",
            " 17  RECOVD           977511 non-null   object \n",
            " 18  VAX_DATE         1003370 non-null  object \n",
            " 19  ONSET_DATE       992979 non-null   object \n",
            " 20  NUMDAYS          952165 non-null   float64\n",
            " 21  LAB_DATA         412647 non-null   object \n",
            " 22  V_ADMINBY        1070234 non-null  object \n",
            " 23  V_FUNDBY         1384 non-null     object \n",
            " 24  OTHER_MEDS       580850 non-null   object \n",
            " 25  CUR_ILL          328374 non-null   object \n",
            " 26  HISTORY          581399 non-null   object \n",
            " 27  PRIOR_VAX        58874 non-null    object \n",
            " 28  SPLTTYPE         288939 non-null   object \n",
            " 29  FORM_VERS        1070234 non-null  int64  \n",
            " 30  TODAYS_DATE      1060970 non-null  object \n",
            " 31  BIRTH_DEFECT     905 non-null      object \n",
            " 32  OFC_VISIT        245337 non-null   object \n",
            " 33  ER_ED_VISIT      173874 non-null   object \n",
            " 34  ALLERGIES        471884 non-null   object \n",
            " 35  VAX_TYPE         1070234 non-null  object \n",
            " 36  VAX_MANU         1070234 non-null  object \n",
            " 37  VAX_LOT          754686 non-null   object \n",
            " 38  VAX_DOSE_SERIES  1064326 non-null  object \n",
            " 39  VAX_ROUTE        827262 non-null   object \n",
            " 40  VAX_SITE         796825 non-null   object \n",
            " 41  VAX_NAME         1070234 non-null  object \n",
            " 42  SYMPTOM1         1070234 non-null  object \n",
            " 43  SYMPTOM2         833036 non-null   object \n",
            " 44  SYMPTOM3         637884 non-null   object \n",
            " 45  SYMPTOM4         486437 non-null   object \n",
            " 46  SYMPTOM5         365460 non-null   object \n",
            "dtypes: float64(5), int64(2), object(40)\n",
            "memory usage: 383.8+ MB\n"
          ]
        }
      ]
    },
    {
      "cell_type": "code",
      "source": [
        "df_combine_2021.head()"
      ],
      "metadata": {
        "colab": {
          "base_uri": "https://localhost:8080/",
          "height": 533
        },
        "id": "VdBuJ7PKNbtB",
        "outputId": "59c88b4b-8515-4e66-bc35-514b2402baa7"
      },
      "execution_count": null,
      "outputs": [
        {
          "output_type": "execute_result",
          "data": {
            "text/plain": [
              "   VAERS_ID    RECVDATE STATE  AGE_YRS  CAGE_YR  CAGE_MO SEX RPT_DATE  \\\n",
              "0    916600  01/01/2021    TX     33.0     33.0      NaN   F      NaN   \n",
              "1    916601  01/01/2021    CA     73.0     73.0      NaN   F      NaN   \n",
              "2    916602  01/01/2021    WA     23.0     23.0      NaN   F      NaN   \n",
              "3    916603  01/01/2021    WA     58.0     58.0      NaN   F      NaN   \n",
              "4    916604  01/01/2021    TX     47.0     47.0      NaN   F      NaN   \n",
              "\n",
              "                                        SYMPTOM_TEXT DIED  ...  \\\n",
              "0  Right side of epiglottis swelled up and hinder...  NaN  ...   \n",
              "1  Approximately 30 min post vaccination administ...  NaN  ...   \n",
              "2  About 15 minutes after receiving the vaccine, ...  NaN  ...   \n",
              "3  extreme fatigue, dizziness,. could not lift my...  NaN  ...   \n",
              "4  Injection site swelling, redness, warm to the ...  NaN  ...   \n",
              "\n",
              "                  SYMPTOM1 SYMPTOMVERSION1                 SYMPTOM2  \\\n",
              "0                Dysphagia            23.1             Epiglottitis   \n",
              "1                  Anxiety            23.1                 Dyspnoea   \n",
              "2         Chest discomfort            23.1                Dysphagia   \n",
              "3                Dizziness            23.1                  Fatigue   \n",
              "4  Injection site erythema            23.1  Injection site pruritus   \n",
              "\n",
              "  SYMPTOMVERSION2                 SYMPTOM3 SYMPTOMVERSION3  \\\n",
              "0            23.1                      NaN             NaN   \n",
              "1            23.1                      NaN             NaN   \n",
              "2            23.1        Pain in extremity            23.1   \n",
              "3            23.1       Mobility decreased            23.1   \n",
              "4            23.1  Injection site swelling            23.1   \n",
              "\n",
              "                SYMPTOM4 SYMPTOMVERSION4 SYMPTOM5 SYMPTOMVERSION5  \n",
              "0                    NaN             NaN      NaN             NaN  \n",
              "1                    NaN             NaN      NaN             NaN  \n",
              "2      Visual impairment            23.1      NaN             NaN  \n",
              "3                    NaN             NaN      NaN             NaN  \n",
              "4  Injection site warmth            23.1      NaN             NaN  \n",
              "\n",
              "[5 rows x 52 columns]"
            ],
            "text/html": [
              "\n",
              "  <div id=\"df-79c68e28-e5ad-4b9a-ae18-f89011959cc7\" class=\"colab-df-container\">\n",
              "    <div>\n",
              "<style scoped>\n",
              "    .dataframe tbody tr th:only-of-type {\n",
              "        vertical-align: middle;\n",
              "    }\n",
              "\n",
              "    .dataframe tbody tr th {\n",
              "        vertical-align: top;\n",
              "    }\n",
              "\n",
              "    .dataframe thead th {\n",
              "        text-align: right;\n",
              "    }\n",
              "</style>\n",
              "<table border=\"1\" class=\"dataframe\">\n",
              "  <thead>\n",
              "    <tr style=\"text-align: right;\">\n",
              "      <th></th>\n",
              "      <th>VAERS_ID</th>\n",
              "      <th>RECVDATE</th>\n",
              "      <th>STATE</th>\n",
              "      <th>AGE_YRS</th>\n",
              "      <th>CAGE_YR</th>\n",
              "      <th>CAGE_MO</th>\n",
              "      <th>SEX</th>\n",
              "      <th>RPT_DATE</th>\n",
              "      <th>SYMPTOM_TEXT</th>\n",
              "      <th>DIED</th>\n",
              "      <th>...</th>\n",
              "      <th>SYMPTOM1</th>\n",
              "      <th>SYMPTOMVERSION1</th>\n",
              "      <th>SYMPTOM2</th>\n",
              "      <th>SYMPTOMVERSION2</th>\n",
              "      <th>SYMPTOM3</th>\n",
              "      <th>SYMPTOMVERSION3</th>\n",
              "      <th>SYMPTOM4</th>\n",
              "      <th>SYMPTOMVERSION4</th>\n",
              "      <th>SYMPTOM5</th>\n",
              "      <th>SYMPTOMVERSION5</th>\n",
              "    </tr>\n",
              "  </thead>\n",
              "  <tbody>\n",
              "    <tr>\n",
              "      <th>0</th>\n",
              "      <td>916600</td>\n",
              "      <td>01/01/2021</td>\n",
              "      <td>TX</td>\n",
              "      <td>33.0</td>\n",
              "      <td>33.0</td>\n",
              "      <td>NaN</td>\n",
              "      <td>F</td>\n",
              "      <td>NaN</td>\n",
              "      <td>Right side of epiglottis swelled up and hinder...</td>\n",
              "      <td>NaN</td>\n",
              "      <td>...</td>\n",
              "      <td>Dysphagia</td>\n",
              "      <td>23.1</td>\n",
              "      <td>Epiglottitis</td>\n",
              "      <td>23.1</td>\n",
              "      <td>NaN</td>\n",
              "      <td>NaN</td>\n",
              "      <td>NaN</td>\n",
              "      <td>NaN</td>\n",
              "      <td>NaN</td>\n",
              "      <td>NaN</td>\n",
              "    </tr>\n",
              "    <tr>\n",
              "      <th>1</th>\n",
              "      <td>916601</td>\n",
              "      <td>01/01/2021</td>\n",
              "      <td>CA</td>\n",
              "      <td>73.0</td>\n",
              "      <td>73.0</td>\n",
              "      <td>NaN</td>\n",
              "      <td>F</td>\n",
              "      <td>NaN</td>\n",
              "      <td>Approximately 30 min post vaccination administ...</td>\n",
              "      <td>NaN</td>\n",
              "      <td>...</td>\n",
              "      <td>Anxiety</td>\n",
              "      <td>23.1</td>\n",
              "      <td>Dyspnoea</td>\n",
              "      <td>23.1</td>\n",
              "      <td>NaN</td>\n",
              "      <td>NaN</td>\n",
              "      <td>NaN</td>\n",
              "      <td>NaN</td>\n",
              "      <td>NaN</td>\n",
              "      <td>NaN</td>\n",
              "    </tr>\n",
              "    <tr>\n",
              "      <th>2</th>\n",
              "      <td>916602</td>\n",
              "      <td>01/01/2021</td>\n",
              "      <td>WA</td>\n",
              "      <td>23.0</td>\n",
              "      <td>23.0</td>\n",
              "      <td>NaN</td>\n",
              "      <td>F</td>\n",
              "      <td>NaN</td>\n",
              "      <td>About 15 minutes after receiving the vaccine, ...</td>\n",
              "      <td>NaN</td>\n",
              "      <td>...</td>\n",
              "      <td>Chest discomfort</td>\n",
              "      <td>23.1</td>\n",
              "      <td>Dysphagia</td>\n",
              "      <td>23.1</td>\n",
              "      <td>Pain in extremity</td>\n",
              "      <td>23.1</td>\n",
              "      <td>Visual impairment</td>\n",
              "      <td>23.1</td>\n",
              "      <td>NaN</td>\n",
              "      <td>NaN</td>\n",
              "    </tr>\n",
              "    <tr>\n",
              "      <th>3</th>\n",
              "      <td>916603</td>\n",
              "      <td>01/01/2021</td>\n",
              "      <td>WA</td>\n",
              "      <td>58.0</td>\n",
              "      <td>58.0</td>\n",
              "      <td>NaN</td>\n",
              "      <td>F</td>\n",
              "      <td>NaN</td>\n",
              "      <td>extreme fatigue, dizziness,. could not lift my...</td>\n",
              "      <td>NaN</td>\n",
              "      <td>...</td>\n",
              "      <td>Dizziness</td>\n",
              "      <td>23.1</td>\n",
              "      <td>Fatigue</td>\n",
              "      <td>23.1</td>\n",
              "      <td>Mobility decreased</td>\n",
              "      <td>23.1</td>\n",
              "      <td>NaN</td>\n",
              "      <td>NaN</td>\n",
              "      <td>NaN</td>\n",
              "      <td>NaN</td>\n",
              "    </tr>\n",
              "    <tr>\n",
              "      <th>4</th>\n",
              "      <td>916604</td>\n",
              "      <td>01/01/2021</td>\n",
              "      <td>TX</td>\n",
              "      <td>47.0</td>\n",
              "      <td>47.0</td>\n",
              "      <td>NaN</td>\n",
              "      <td>F</td>\n",
              "      <td>NaN</td>\n",
              "      <td>Injection site swelling, redness, warm to the ...</td>\n",
              "      <td>NaN</td>\n",
              "      <td>...</td>\n",
              "      <td>Injection site erythema</td>\n",
              "      <td>23.1</td>\n",
              "      <td>Injection site pruritus</td>\n",
              "      <td>23.1</td>\n",
              "      <td>Injection site swelling</td>\n",
              "      <td>23.1</td>\n",
              "      <td>Injection site warmth</td>\n",
              "      <td>23.1</td>\n",
              "      <td>NaN</td>\n",
              "      <td>NaN</td>\n",
              "    </tr>\n",
              "  </tbody>\n",
              "</table>\n",
              "<p>5 rows × 52 columns</p>\n",
              "</div>\n",
              "    <div class=\"colab-df-buttons\">\n",
              "\n",
              "  <div class=\"colab-df-container\">\n",
              "    <button class=\"colab-df-convert\" onclick=\"convertToInteractive('df-79c68e28-e5ad-4b9a-ae18-f89011959cc7')\"\n",
              "            title=\"Convert this dataframe to an interactive table.\"\n",
              "            style=\"display:none;\">\n",
              "\n",
              "  <svg xmlns=\"http://www.w3.org/2000/svg\" height=\"24px\" viewBox=\"0 -960 960 960\">\n",
              "    <path d=\"M120-120v-720h720v720H120Zm60-500h600v-160H180v160Zm220 220h160v-160H400v160Zm0 220h160v-160H400v160ZM180-400h160v-160H180v160Zm440 0h160v-160H620v160ZM180-180h160v-160H180v160Zm440 0h160v-160H620v160Z\"/>\n",
              "  </svg>\n",
              "    </button>\n",
              "\n",
              "  <style>\n",
              "    .colab-df-container {\n",
              "      display:flex;\n",
              "      gap: 12px;\n",
              "    }\n",
              "\n",
              "    .colab-df-convert {\n",
              "      background-color: #E8F0FE;\n",
              "      border: none;\n",
              "      border-radius: 50%;\n",
              "      cursor: pointer;\n",
              "      display: none;\n",
              "      fill: #1967D2;\n",
              "      height: 32px;\n",
              "      padding: 0 0 0 0;\n",
              "      width: 32px;\n",
              "    }\n",
              "\n",
              "    .colab-df-convert:hover {\n",
              "      background-color: #E2EBFA;\n",
              "      box-shadow: 0px 1px 2px rgba(60, 64, 67, 0.3), 0px 1px 3px 1px rgba(60, 64, 67, 0.15);\n",
              "      fill: #174EA6;\n",
              "    }\n",
              "\n",
              "    .colab-df-buttons div {\n",
              "      margin-bottom: 4px;\n",
              "    }\n",
              "\n",
              "    [theme=dark] .colab-df-convert {\n",
              "      background-color: #3B4455;\n",
              "      fill: #D2E3FC;\n",
              "    }\n",
              "\n",
              "    [theme=dark] .colab-df-convert:hover {\n",
              "      background-color: #434B5C;\n",
              "      box-shadow: 0px 1px 3px 1px rgba(0, 0, 0, 0.15);\n",
              "      filter: drop-shadow(0px 1px 2px rgba(0, 0, 0, 0.3));\n",
              "      fill: #FFFFFF;\n",
              "    }\n",
              "  </style>\n",
              "\n",
              "    <script>\n",
              "      const buttonEl =\n",
              "        document.querySelector('#df-79c68e28-e5ad-4b9a-ae18-f89011959cc7 button.colab-df-convert');\n",
              "      buttonEl.style.display =\n",
              "        google.colab.kernel.accessAllowed ? 'block' : 'none';\n",
              "\n",
              "      async function convertToInteractive(key) {\n",
              "        const element = document.querySelector('#df-79c68e28-e5ad-4b9a-ae18-f89011959cc7');\n",
              "        const dataTable =\n",
              "          await google.colab.kernel.invokeFunction('convertToInteractive',\n",
              "                                                    [key], {});\n",
              "        if (!dataTable) return;\n",
              "\n",
              "        const docLinkHtml = 'Like what you see? Visit the ' +\n",
              "          '<a target=\"_blank\" href=https://colab.research.google.com/notebooks/data_table.ipynb>data table notebook</a>'\n",
              "          + ' to learn more about interactive tables.';\n",
              "        element.innerHTML = '';\n",
              "        dataTable['output_type'] = 'display_data';\n",
              "        await google.colab.output.renderOutput(dataTable, element);\n",
              "        const docLink = document.createElement('div');\n",
              "        docLink.innerHTML = docLinkHtml;\n",
              "        element.appendChild(docLink);\n",
              "      }\n",
              "    </script>\n",
              "  </div>\n",
              "\n",
              "\n",
              "<div id=\"df-95821459-ef3b-4127-8ef1-dbfc7fd22f43\">\n",
              "  <button class=\"colab-df-quickchart\" onclick=\"quickchart('df-95821459-ef3b-4127-8ef1-dbfc7fd22f43')\"\n",
              "            title=\"Suggest charts\"\n",
              "            style=\"display:none;\">\n",
              "\n",
              "<svg xmlns=\"http://www.w3.org/2000/svg\" height=\"24px\"viewBox=\"0 0 24 24\"\n",
              "     width=\"24px\">\n",
              "    <g>\n",
              "        <path d=\"M19 3H5c-1.1 0-2 .9-2 2v14c0 1.1.9 2 2 2h14c1.1 0 2-.9 2-2V5c0-1.1-.9-2-2-2zM9 17H7v-7h2v7zm4 0h-2V7h2v10zm4 0h-2v-4h2v4z\"/>\n",
              "    </g>\n",
              "</svg>\n",
              "  </button>\n",
              "\n",
              "<style>\n",
              "  .colab-df-quickchart {\n",
              "      --bg-color: #E8F0FE;\n",
              "      --fill-color: #1967D2;\n",
              "      --hover-bg-color: #E2EBFA;\n",
              "      --hover-fill-color: #174EA6;\n",
              "      --disabled-fill-color: #AAA;\n",
              "      --disabled-bg-color: #DDD;\n",
              "  }\n",
              "\n",
              "  [theme=dark] .colab-df-quickchart {\n",
              "      --bg-color: #3B4455;\n",
              "      --fill-color: #D2E3FC;\n",
              "      --hover-bg-color: #434B5C;\n",
              "      --hover-fill-color: #FFFFFF;\n",
              "      --disabled-bg-color: #3B4455;\n",
              "      --disabled-fill-color: #666;\n",
              "  }\n",
              "\n",
              "  .colab-df-quickchart {\n",
              "    background-color: var(--bg-color);\n",
              "    border: none;\n",
              "    border-radius: 50%;\n",
              "    cursor: pointer;\n",
              "    display: none;\n",
              "    fill: var(--fill-color);\n",
              "    height: 32px;\n",
              "    padding: 0;\n",
              "    width: 32px;\n",
              "  }\n",
              "\n",
              "  .colab-df-quickchart:hover {\n",
              "    background-color: var(--hover-bg-color);\n",
              "    box-shadow: 0 1px 2px rgba(60, 64, 67, 0.3), 0 1px 3px 1px rgba(60, 64, 67, 0.15);\n",
              "    fill: var(--button-hover-fill-color);\n",
              "  }\n",
              "\n",
              "  .colab-df-quickchart-complete:disabled,\n",
              "  .colab-df-quickchart-complete:disabled:hover {\n",
              "    background-color: var(--disabled-bg-color);\n",
              "    fill: var(--disabled-fill-color);\n",
              "    box-shadow: none;\n",
              "  }\n",
              "\n",
              "  .colab-df-spinner {\n",
              "    border: 2px solid var(--fill-color);\n",
              "    border-color: transparent;\n",
              "    border-bottom-color: var(--fill-color);\n",
              "    animation:\n",
              "      spin 1s steps(1) infinite;\n",
              "  }\n",
              "\n",
              "  @keyframes spin {\n",
              "    0% {\n",
              "      border-color: transparent;\n",
              "      border-bottom-color: var(--fill-color);\n",
              "      border-left-color: var(--fill-color);\n",
              "    }\n",
              "    20% {\n",
              "      border-color: transparent;\n",
              "      border-left-color: var(--fill-color);\n",
              "      border-top-color: var(--fill-color);\n",
              "    }\n",
              "    30% {\n",
              "      border-color: transparent;\n",
              "      border-left-color: var(--fill-color);\n",
              "      border-top-color: var(--fill-color);\n",
              "      border-right-color: var(--fill-color);\n",
              "    }\n",
              "    40% {\n",
              "      border-color: transparent;\n",
              "      border-right-color: var(--fill-color);\n",
              "      border-top-color: var(--fill-color);\n",
              "    }\n",
              "    60% {\n",
              "      border-color: transparent;\n",
              "      border-right-color: var(--fill-color);\n",
              "    }\n",
              "    80% {\n",
              "      border-color: transparent;\n",
              "      border-right-color: var(--fill-color);\n",
              "      border-bottom-color: var(--fill-color);\n",
              "    }\n",
              "    90% {\n",
              "      border-color: transparent;\n",
              "      border-bottom-color: var(--fill-color);\n",
              "    }\n",
              "  }\n",
              "</style>\n",
              "\n",
              "  <script>\n",
              "    async function quickchart(key) {\n",
              "      const quickchartButtonEl =\n",
              "        document.querySelector('#' + key + ' button');\n",
              "      quickchartButtonEl.disabled = true;  // To prevent multiple clicks.\n",
              "      quickchartButtonEl.classList.add('colab-df-spinner');\n",
              "      try {\n",
              "        const charts = await google.colab.kernel.invokeFunction(\n",
              "            'suggestCharts', [key], {});\n",
              "      } catch (error) {\n",
              "        console.error('Error during call to suggestCharts:', error);\n",
              "      }\n",
              "      quickchartButtonEl.classList.remove('colab-df-spinner');\n",
              "      quickchartButtonEl.classList.add('colab-df-quickchart-complete');\n",
              "    }\n",
              "    (() => {\n",
              "      let quickchartButtonEl =\n",
              "        document.querySelector('#df-95821459-ef3b-4127-8ef1-dbfc7fd22f43 button');\n",
              "      quickchartButtonEl.style.display =\n",
              "        google.colab.kernel.accessAllowed ? 'block' : 'none';\n",
              "    })();\n",
              "  </script>\n",
              "</div>\n",
              "\n",
              "    </div>\n",
              "  </div>\n"
            ],
            "application/vnd.google.colaboratory.intrinsic+json": {
              "type": "dataframe",
              "variable_name": "df_combine_2021"
            }
          },
          "metadata": {},
          "execution_count": 44
        }
      ]
    },
    {
      "cell_type": "code",
      "source": [
        "df_combine_2021.info()\n"
      ],
      "metadata": {
        "colab": {
          "base_uri": "https://localhost:8080/"
        },
        "id": "r_2UE1sk45YA",
        "outputId": "e97ed05f-090b-43cf-bf32-57e37d492806"
      },
      "execution_count": null,
      "outputs": [
        {
          "output_type": "stream",
          "name": "stdout",
          "text": [
            "<class 'pandas.core.frame.DataFrame'>\n",
            "RangeIndex: 334491 entries, 0 to 334490\n",
            "Data columns (total 52 columns):\n",
            " #   Column           Non-Null Count   Dtype  \n",
            "---  ------           --------------   -----  \n",
            " 0   VAERS_ID         334491 non-null  int64  \n",
            " 1   RECVDATE         334491 non-null  object \n",
            " 2   STATE            285041 non-null  object \n",
            " 3   AGE_YRS          318276 non-null  float64\n",
            " 4   CAGE_YR          302536 non-null  float64\n",
            " 5   CAGE_MO          2625 non-null    float64\n",
            " 6   SEX              334491 non-null  object \n",
            " 7   RPT_DATE         701 non-null     object \n",
            " 8   SYMPTOM_TEXT     334341 non-null  object \n",
            " 9   DIED             4527 non-null    object \n",
            " 10  DATEDIED         4204 non-null    object \n",
            " 11  L_THREAT         5010 non-null    object \n",
            " 12  ER_VISIT         83 non-null      object \n",
            " 13  HOSPITAL         16957 non-null   object \n",
            " 14  HOSPDAYS         12072 non-null   float64\n",
            " 15  X_STAY           183 non-null     object \n",
            " 16  DISABLE          3725 non-null    object \n",
            " 17  RECOVD           307872 non-null  object \n",
            " 18  VAX_DATE         325620 non-null  object \n",
            " 19  ONSET_DATE       324350 non-null  object \n",
            " 20  NUMDAYS          317402 non-null  float64\n",
            " 21  LAB_DATA         112782 non-null  object \n",
            " 22  V_ADMINBY        334491 non-null  object \n",
            " 23  V_FUNDBY         757 non-null     object \n",
            " 24  OTHER_MEDS       205216 non-null  object \n",
            " 25  CUR_ILL          110527 non-null  object \n",
            " 26  HISTORY          192931 non-null  object \n",
            " 27  PRIOR_VAX        22582 non-null   object \n",
            " 28  SPLTTYPE         39039 non-null   object \n",
            " 29  FORM_VERS        334489 non-null  float64\n",
            " 30  TODAYS_DATE      332161 non-null  object \n",
            " 31  BIRTH_DEFECT     163 non-null     object \n",
            " 32  OFC_VISIT        61811 non-null   object \n",
            " 33  ER_ED_VISIT      44249 non-null   object \n",
            " 34  ALLERGIES        179324 non-null  object \n",
            " 35  VAX_TYPE         334491 non-null  object \n",
            " 36  VAX_MANU         334491 non-null  object \n",
            " 37  VAX_LOT          233404 non-null  object \n",
            " 38  VAX_DOSE_SERIES  333390 non-null  object \n",
            " 39  VAX_ROUTE        277424 non-null  object \n",
            " 40  VAX_SITE         276754 non-null  object \n",
            " 41  VAX_NAME         334491 non-null  object \n",
            " 42  SYMPTOM1         334491 non-null  object \n",
            " 43  SYMPTOMVERSION1  334491 non-null  float64\n",
            " 44  SYMPTOM2         268500 non-null  object \n",
            " 45  SYMPTOMVERSION2  268500 non-null  float64\n",
            " 46  SYMPTOM3         210599 non-null  object \n",
            " 47  SYMPTOMVERSION3  210599 non-null  float64\n",
            " 48  SYMPTOM4         157417 non-null  object \n",
            " 49  SYMPTOMVERSION4  157417 non-null  float64\n",
            " 50  SYMPTOM5         112790 non-null  object \n",
            " 51  SYMPTOMVERSION5  112790 non-null  float64\n",
            "dtypes: float64(11), int64(1), object(40)\n",
            "memory usage: 132.7+ MB\n"
          ]
        }
      ]
    },
    {
      "cell_type": "code",
      "source": [
        "# prompt: Determine the top 12 most common sysmtoms by vaccine manu\n",
        "\n",
        "top_12_symptoms = df_combine_2021.groupby('VAX_MANU')['SYMPTOM1'].value_counts().sort_values(ascending=False).head(12)\n",
        "print(top_12_symptoms)\n"
      ],
      "metadata": {
        "colab": {
          "base_uri": "https://localhost:8080/"
        },
        "id": "ZvGf6cY4RXuM",
        "outputId": "15ea4c3a-1b89-4bf2-fcb9-8ecb8784a548"
      },
      "execution_count": null,
      "outputs": [
        {
          "output_type": "stream",
          "name": "stdout",
          "text": [
            "VAX_MANU         SYMPTOM1               \n",
            "MODERNA          Chills                     28733\n",
            "                 Arthralgia                 20233\n",
            "PFIZER\\BIONTECH  Chills                     19162\n",
            "                 Arthralgia                 17683\n",
            "                 COVID-19                   17323\n",
            "                 Dizziness                  16167\n",
            "MODERNA          Injection site erythema    14783\n",
            "                 Fatigue                    13872\n",
            "                 Headache                   12506\n",
            "PFIZER\\BIONTECH  Fatigue                    11969\n",
            "MODERNA          Dizziness                  11868\n",
            "PFIZER\\BIONTECH  Headache                   10987\n",
            "Name: count, dtype: int64\n"
          ]
        }
      ]
    },
    {
      "cell_type": "code",
      "source": [
        "# prompt: how many people die by vacine manu\n",
        "\n",
        "#df_combine_2021.groupby('VAX_MANU')['DIED'].sum()\n",
        "df_combine_2021.groupby('VAX_MANU')['DIED'].value_counts()\n"
      ],
      "metadata": {
        "colab": {
          "base_uri": "https://localhost:8080/"
        },
        "id": "s705b1zFtEyk",
        "outputId": "3561a000-314c-475a-fcad-82542f630284"
      },
      "execution_count": null,
      "outputs": [
        {
          "output_type": "execute_result",
          "data": {
            "text/plain": [
              "VAX_MANU                           DIED\n",
              "DYNAVAX TECHNOLOGIES CORPORATION   Y          1\n",
              "GLAXOSMITHKLINE BIOLOGICALS        Y         20\n",
              "JANSSEN                            Y        117\n",
              "MERCK & CO. INC.                   Y         20\n",
              "MODERNA                            Y       2136\n",
              "NOVARTIS VACCINES AND DIAGNOSTICS  Y          1\n",
              "PFIZER\\BIONTECH                    Y       2090\n",
              "PFIZER\\WYETH                       Y          8\n",
              "PROTEIN SCIENCES CORPORATION       Y          4\n",
              "SANOFI PASTEUR                     Y         19\n",
              "UNKNOWN MANUFACTURER               Y        111\n",
              "Name: count, dtype: int64"
            ]
          },
          "metadata": {},
          "execution_count": 47
        }
      ]
    },
    {
      "cell_type": "code",
      "source": [
        "# prompt: set the index as VAERS_ID\n",
        "\n",
        "df_symptoms = df_combine_2021.set_index('VAERS_ID')\n"
      ],
      "metadata": {
        "id": "ujZ7fczVBufq"
      },
      "execution_count": null,
      "outputs": []
    },
    {
      "cell_type": "code",
      "source": [
        "df_symptoms.head(10)"
      ],
      "metadata": {
        "colab": {
          "base_uri": "https://localhost:8080/",
          "height": 998
        },
        "id": "7FkwYHjc57Kg",
        "outputId": "f3583e72-913d-4c84-b797-c74c38b624b3"
      },
      "execution_count": null,
      "outputs": [
        {
          "output_type": "execute_result",
          "data": {
            "text/plain": [
              "            RECVDATE STATE  AGE_YRS  CAGE_YR  CAGE_MO SEX RPT_DATE  \\\n",
              "VAERS_ID                                                             \n",
              "916600    01/01/2021    TX     33.0     33.0      NaN   F      NaN   \n",
              "916601    01/01/2021    CA     73.0     73.0      NaN   F      NaN   \n",
              "916602    01/01/2021    WA     23.0     23.0      NaN   F      NaN   \n",
              "916603    01/01/2021    WA     58.0     58.0      NaN   F      NaN   \n",
              "916604    01/01/2021    TX     47.0     47.0      NaN   F      NaN   \n",
              "916605    01/01/2021    TX     40.0     40.0      NaN   M      NaN   \n",
              "916605    01/01/2021    TX     40.0     40.0      NaN   M      NaN   \n",
              "916606    01/01/2021    NV     44.0     44.0      NaN   F      NaN   \n",
              "916607    01/01/2021    KS     50.0     50.0      NaN   M      NaN   \n",
              "916608    01/01/2021    OH     33.0     33.0      NaN   M      NaN   \n",
              "\n",
              "                                               SYMPTOM_TEXT DIED DATEDIED  \\\n",
              "VAERS_ID                                                                    \n",
              "916600    Right side of epiglottis swelled up and hinder...  NaN      NaN   \n",
              "916601    Approximately 30 min post vaccination administ...  NaN      NaN   \n",
              "916602    About 15 minutes after receiving the vaccine, ...  NaN      NaN   \n",
              "916603    extreme fatigue, dizziness,. could not lift my...  NaN      NaN   \n",
              "916604    Injection site swelling, redness, warm to the ...  NaN      NaN   \n",
              "916605    Adverse Events: Inflammation in the eye, confu...  NaN      NaN   \n",
              "916605    Adverse Events: Inflammation in the eye, confu...  NaN      NaN   \n",
              "916606    patient called back the next day and stated he...  NaN      NaN   \n",
              "916607    SEVERE chills approximately 13-14 hours after ...  NaN      NaN   \n",
              "916608                        Nasal congestion and diarrhea  NaN      NaN   \n",
              "\n",
              "          ...  VAX_LOT VAX_DOSE_SERIES VAX_ROUTE  VAX_SITE  \\\n",
              "VAERS_ID  ...                                                \n",
              "916600    ...  037K20A               1        IM        LA   \n",
              "916601    ...  025L20A               1        IM        RA   \n",
              "916602    ...   EL1284               1        IM        LA   \n",
              "916603    ...  unknown             UNK       NaN       NaN   \n",
              "916604    ...      NaN               1        IM        LA   \n",
              "916605    ...   276563               1       SYR        LA   \n",
              "916605    ...   276563               1       SYR        LA   \n",
              "916606    ...  011J20A               1        IM        LA   \n",
              "916607    ...      NaN             UNK        IM        LA   \n",
              "916608    ...      NaN               1        IM        LA   \n",
              "\n",
              "                                               VAX_NAME  \\\n",
              "VAERS_ID                                                  \n",
              "916600                      COVID19 (COVID19 (MODERNA))   \n",
              "916601                      COVID19 (COVID19 (MODERNA))   \n",
              "916602              COVID19 (COVID19 (PFIZER-BIONTECH))   \n",
              "916603                      COVID19 (COVID19 (MODERNA))   \n",
              "916604                      COVID19 (COVID19 (MODERNA))   \n",
              "916605    INFLUENZA (SEASONAL) (FLUCELVAX QUADRIVALENT)   \n",
              "916605    INFLUENZA (SEASONAL) (FLUCELVAX QUADRIVALENT)   \n",
              "916606                      COVID19 (COVID19 (MODERNA))   \n",
              "916607                      COVID19 (COVID19 (MODERNA))   \n",
              "916608                      COVID19 (COVID19 (MODERNA))   \n",
              "\n",
              "                         SYMPTOM1                          SYMPTOM2  \\\n",
              "VAERS_ID                                                              \n",
              "916600                  Dysphagia                      Epiglottitis   \n",
              "916601                    Anxiety                          Dyspnoea   \n",
              "916602           Chest discomfort                         Dysphagia   \n",
              "916603                  Dizziness                           Fatigue   \n",
              "916604    Injection site erythema           Injection site pruritus   \n",
              "916605                     Chills                 Confusional state   \n",
              "916605                    Pyrexia  White blood cell count decreased   \n",
              "916606        Pharyngeal swelling                               NaN   \n",
              "916607             Abdominal pain                            Chills   \n",
              "916608                  Diarrhoea                  Nasal congestion   \n",
              "\n",
              "                         SYMPTOM3               SYMPTOM4         SYMPTOM5  \n",
              "VAERS_ID                                                                   \n",
              "916600                        NaN                    NaN              NaN  \n",
              "916601                        NaN                    NaN              NaN  \n",
              "916602          Pain in extremity      Visual impairment              NaN  \n",
              "916603         Mobility decreased                    NaN              NaN  \n",
              "916604    Injection site swelling  Injection site warmth              NaN  \n",
              "916605           Eye inflammation               Headache  Laboratory test  \n",
              "916605                        NaN                    NaN              NaN  \n",
              "916606                        NaN                    NaN              NaN  \n",
              "916607             Sleep disorder                    NaN              NaN  \n",
              "916608                        NaN                    NaN              NaN  \n",
              "\n",
              "[10 rows x 46 columns]"
            ],
            "text/html": [
              "\n",
              "  <div id=\"df-65179824-0d6f-4aa8-b937-f0854c84f765\" class=\"colab-df-container\">\n",
              "    <div>\n",
              "<style scoped>\n",
              "    .dataframe tbody tr th:only-of-type {\n",
              "        vertical-align: middle;\n",
              "    }\n",
              "\n",
              "    .dataframe tbody tr th {\n",
              "        vertical-align: top;\n",
              "    }\n",
              "\n",
              "    .dataframe thead th {\n",
              "        text-align: right;\n",
              "    }\n",
              "</style>\n",
              "<table border=\"1\" class=\"dataframe\">\n",
              "  <thead>\n",
              "    <tr style=\"text-align: right;\">\n",
              "      <th></th>\n",
              "      <th>RECVDATE</th>\n",
              "      <th>STATE</th>\n",
              "      <th>AGE_YRS</th>\n",
              "      <th>CAGE_YR</th>\n",
              "      <th>CAGE_MO</th>\n",
              "      <th>SEX</th>\n",
              "      <th>RPT_DATE</th>\n",
              "      <th>SYMPTOM_TEXT</th>\n",
              "      <th>DIED</th>\n",
              "      <th>DATEDIED</th>\n",
              "      <th>...</th>\n",
              "      <th>VAX_LOT</th>\n",
              "      <th>VAX_DOSE_SERIES</th>\n",
              "      <th>VAX_ROUTE</th>\n",
              "      <th>VAX_SITE</th>\n",
              "      <th>VAX_NAME</th>\n",
              "      <th>SYMPTOM1</th>\n",
              "      <th>SYMPTOM2</th>\n",
              "      <th>SYMPTOM3</th>\n",
              "      <th>SYMPTOM4</th>\n",
              "      <th>SYMPTOM5</th>\n",
              "    </tr>\n",
              "    <tr>\n",
              "      <th>VAERS_ID</th>\n",
              "      <th></th>\n",
              "      <th></th>\n",
              "      <th></th>\n",
              "      <th></th>\n",
              "      <th></th>\n",
              "      <th></th>\n",
              "      <th></th>\n",
              "      <th></th>\n",
              "      <th></th>\n",
              "      <th></th>\n",
              "      <th></th>\n",
              "      <th></th>\n",
              "      <th></th>\n",
              "      <th></th>\n",
              "      <th></th>\n",
              "      <th></th>\n",
              "      <th></th>\n",
              "      <th></th>\n",
              "      <th></th>\n",
              "      <th></th>\n",
              "      <th></th>\n",
              "    </tr>\n",
              "  </thead>\n",
              "  <tbody>\n",
              "    <tr>\n",
              "      <th>916600</th>\n",
              "      <td>01/01/2021</td>\n",
              "      <td>TX</td>\n",
              "      <td>33.0</td>\n",
              "      <td>33.0</td>\n",
              "      <td>NaN</td>\n",
              "      <td>F</td>\n",
              "      <td>NaN</td>\n",
              "      <td>Right side of epiglottis swelled up and hinder...</td>\n",
              "      <td>NaN</td>\n",
              "      <td>NaN</td>\n",
              "      <td>...</td>\n",
              "      <td>037K20A</td>\n",
              "      <td>1</td>\n",
              "      <td>IM</td>\n",
              "      <td>LA</td>\n",
              "      <td>COVID19 (COVID19 (MODERNA))</td>\n",
              "      <td>Dysphagia</td>\n",
              "      <td>Epiglottitis</td>\n",
              "      <td>NaN</td>\n",
              "      <td>NaN</td>\n",
              "      <td>NaN</td>\n",
              "    </tr>\n",
              "    <tr>\n",
              "      <th>916601</th>\n",
              "      <td>01/01/2021</td>\n",
              "      <td>CA</td>\n",
              "      <td>73.0</td>\n",
              "      <td>73.0</td>\n",
              "      <td>NaN</td>\n",
              "      <td>F</td>\n",
              "      <td>NaN</td>\n",
              "      <td>Approximately 30 min post vaccination administ...</td>\n",
              "      <td>NaN</td>\n",
              "      <td>NaN</td>\n",
              "      <td>...</td>\n",
              "      <td>025L20A</td>\n",
              "      <td>1</td>\n",
              "      <td>IM</td>\n",
              "      <td>RA</td>\n",
              "      <td>COVID19 (COVID19 (MODERNA))</td>\n",
              "      <td>Anxiety</td>\n",
              "      <td>Dyspnoea</td>\n",
              "      <td>NaN</td>\n",
              "      <td>NaN</td>\n",
              "      <td>NaN</td>\n",
              "    </tr>\n",
              "    <tr>\n",
              "      <th>916602</th>\n",
              "      <td>01/01/2021</td>\n",
              "      <td>WA</td>\n",
              "      <td>23.0</td>\n",
              "      <td>23.0</td>\n",
              "      <td>NaN</td>\n",
              "      <td>F</td>\n",
              "      <td>NaN</td>\n",
              "      <td>About 15 minutes after receiving the vaccine, ...</td>\n",
              "      <td>NaN</td>\n",
              "      <td>NaN</td>\n",
              "      <td>...</td>\n",
              "      <td>EL1284</td>\n",
              "      <td>1</td>\n",
              "      <td>IM</td>\n",
              "      <td>LA</td>\n",
              "      <td>COVID19 (COVID19 (PFIZER-BIONTECH))</td>\n",
              "      <td>Chest discomfort</td>\n",
              "      <td>Dysphagia</td>\n",
              "      <td>Pain in extremity</td>\n",
              "      <td>Visual impairment</td>\n",
              "      <td>NaN</td>\n",
              "    </tr>\n",
              "    <tr>\n",
              "      <th>916603</th>\n",
              "      <td>01/01/2021</td>\n",
              "      <td>WA</td>\n",
              "      <td>58.0</td>\n",
              "      <td>58.0</td>\n",
              "      <td>NaN</td>\n",
              "      <td>F</td>\n",
              "      <td>NaN</td>\n",
              "      <td>extreme fatigue, dizziness,. could not lift my...</td>\n",
              "      <td>NaN</td>\n",
              "      <td>NaN</td>\n",
              "      <td>...</td>\n",
              "      <td>unknown</td>\n",
              "      <td>UNK</td>\n",
              "      <td>NaN</td>\n",
              "      <td>NaN</td>\n",
              "      <td>COVID19 (COVID19 (MODERNA))</td>\n",
              "      <td>Dizziness</td>\n",
              "      <td>Fatigue</td>\n",
              "      <td>Mobility decreased</td>\n",
              "      <td>NaN</td>\n",
              "      <td>NaN</td>\n",
              "    </tr>\n",
              "    <tr>\n",
              "      <th>916604</th>\n",
              "      <td>01/01/2021</td>\n",
              "      <td>TX</td>\n",
              "      <td>47.0</td>\n",
              "      <td>47.0</td>\n",
              "      <td>NaN</td>\n",
              "      <td>F</td>\n",
              "      <td>NaN</td>\n",
              "      <td>Injection site swelling, redness, warm to the ...</td>\n",
              "      <td>NaN</td>\n",
              "      <td>NaN</td>\n",
              "      <td>...</td>\n",
              "      <td>NaN</td>\n",
              "      <td>1</td>\n",
              "      <td>IM</td>\n",
              "      <td>LA</td>\n",
              "      <td>COVID19 (COVID19 (MODERNA))</td>\n",
              "      <td>Injection site erythema</td>\n",
              "      <td>Injection site pruritus</td>\n",
              "      <td>Injection site swelling</td>\n",
              "      <td>Injection site warmth</td>\n",
              "      <td>NaN</td>\n",
              "    </tr>\n",
              "    <tr>\n",
              "      <th>916605</th>\n",
              "      <td>01/01/2021</td>\n",
              "      <td>TX</td>\n",
              "      <td>40.0</td>\n",
              "      <td>40.0</td>\n",
              "      <td>NaN</td>\n",
              "      <td>M</td>\n",
              "      <td>NaN</td>\n",
              "      <td>Adverse Events: Inflammation in the eye, confu...</td>\n",
              "      <td>NaN</td>\n",
              "      <td>NaN</td>\n",
              "      <td>...</td>\n",
              "      <td>276563</td>\n",
              "      <td>1</td>\n",
              "      <td>SYR</td>\n",
              "      <td>LA</td>\n",
              "      <td>INFLUENZA (SEASONAL) (FLUCELVAX QUADRIVALENT)</td>\n",
              "      <td>Chills</td>\n",
              "      <td>Confusional state</td>\n",
              "      <td>Eye inflammation</td>\n",
              "      <td>Headache</td>\n",
              "      <td>Laboratory test</td>\n",
              "    </tr>\n",
              "    <tr>\n",
              "      <th>916605</th>\n",
              "      <td>01/01/2021</td>\n",
              "      <td>TX</td>\n",
              "      <td>40.0</td>\n",
              "      <td>40.0</td>\n",
              "      <td>NaN</td>\n",
              "      <td>M</td>\n",
              "      <td>NaN</td>\n",
              "      <td>Adverse Events: Inflammation in the eye, confu...</td>\n",
              "      <td>NaN</td>\n",
              "      <td>NaN</td>\n",
              "      <td>...</td>\n",
              "      <td>276563</td>\n",
              "      <td>1</td>\n",
              "      <td>SYR</td>\n",
              "      <td>LA</td>\n",
              "      <td>INFLUENZA (SEASONAL) (FLUCELVAX QUADRIVALENT)</td>\n",
              "      <td>Pyrexia</td>\n",
              "      <td>White blood cell count decreased</td>\n",
              "      <td>NaN</td>\n",
              "      <td>NaN</td>\n",
              "      <td>NaN</td>\n",
              "    </tr>\n",
              "    <tr>\n",
              "      <th>916606</th>\n",
              "      <td>01/01/2021</td>\n",
              "      <td>NV</td>\n",
              "      <td>44.0</td>\n",
              "      <td>44.0</td>\n",
              "      <td>NaN</td>\n",
              "      <td>F</td>\n",
              "      <td>NaN</td>\n",
              "      <td>patient called back the next day and stated he...</td>\n",
              "      <td>NaN</td>\n",
              "      <td>NaN</td>\n",
              "      <td>...</td>\n",
              "      <td>011J20A</td>\n",
              "      <td>1</td>\n",
              "      <td>IM</td>\n",
              "      <td>LA</td>\n",
              "      <td>COVID19 (COVID19 (MODERNA))</td>\n",
              "      <td>Pharyngeal swelling</td>\n",
              "      <td>NaN</td>\n",
              "      <td>NaN</td>\n",
              "      <td>NaN</td>\n",
              "      <td>NaN</td>\n",
              "    </tr>\n",
              "    <tr>\n",
              "      <th>916607</th>\n",
              "      <td>01/01/2021</td>\n",
              "      <td>KS</td>\n",
              "      <td>50.0</td>\n",
              "      <td>50.0</td>\n",
              "      <td>NaN</td>\n",
              "      <td>M</td>\n",
              "      <td>NaN</td>\n",
              "      <td>SEVERE chills approximately 13-14 hours after ...</td>\n",
              "      <td>NaN</td>\n",
              "      <td>NaN</td>\n",
              "      <td>...</td>\n",
              "      <td>NaN</td>\n",
              "      <td>UNK</td>\n",
              "      <td>IM</td>\n",
              "      <td>LA</td>\n",
              "      <td>COVID19 (COVID19 (MODERNA))</td>\n",
              "      <td>Abdominal pain</td>\n",
              "      <td>Chills</td>\n",
              "      <td>Sleep disorder</td>\n",
              "      <td>NaN</td>\n",
              "      <td>NaN</td>\n",
              "    </tr>\n",
              "    <tr>\n",
              "      <th>916608</th>\n",
              "      <td>01/01/2021</td>\n",
              "      <td>OH</td>\n",
              "      <td>33.0</td>\n",
              "      <td>33.0</td>\n",
              "      <td>NaN</td>\n",
              "      <td>M</td>\n",
              "      <td>NaN</td>\n",
              "      <td>Nasal congestion and diarrhea</td>\n",
              "      <td>NaN</td>\n",
              "      <td>NaN</td>\n",
              "      <td>...</td>\n",
              "      <td>NaN</td>\n",
              "      <td>1</td>\n",
              "      <td>IM</td>\n",
              "      <td>LA</td>\n",
              "      <td>COVID19 (COVID19 (MODERNA))</td>\n",
              "      <td>Diarrhoea</td>\n",
              "      <td>Nasal congestion</td>\n",
              "      <td>NaN</td>\n",
              "      <td>NaN</td>\n",
              "      <td>NaN</td>\n",
              "    </tr>\n",
              "  </tbody>\n",
              "</table>\n",
              "<p>10 rows × 46 columns</p>\n",
              "</div>\n",
              "    <div class=\"colab-df-buttons\">\n",
              "\n",
              "  <div class=\"colab-df-container\">\n",
              "    <button class=\"colab-df-convert\" onclick=\"convertToInteractive('df-65179824-0d6f-4aa8-b937-f0854c84f765')\"\n",
              "            title=\"Convert this dataframe to an interactive table.\"\n",
              "            style=\"display:none;\">\n",
              "\n",
              "  <svg xmlns=\"http://www.w3.org/2000/svg\" height=\"24px\" viewBox=\"0 -960 960 960\">\n",
              "    <path d=\"M120-120v-720h720v720H120Zm60-500h600v-160H180v160Zm220 220h160v-160H400v160Zm0 220h160v-160H400v160ZM180-400h160v-160H180v160Zm440 0h160v-160H620v160ZM180-180h160v-160H180v160Zm440 0h160v-160H620v160Z\"/>\n",
              "  </svg>\n",
              "    </button>\n",
              "\n",
              "  <style>\n",
              "    .colab-df-container {\n",
              "      display:flex;\n",
              "      gap: 12px;\n",
              "    }\n",
              "\n",
              "    .colab-df-convert {\n",
              "      background-color: #E8F0FE;\n",
              "      border: none;\n",
              "      border-radius: 50%;\n",
              "      cursor: pointer;\n",
              "      display: none;\n",
              "      fill: #1967D2;\n",
              "      height: 32px;\n",
              "      padding: 0 0 0 0;\n",
              "      width: 32px;\n",
              "    }\n",
              "\n",
              "    .colab-df-convert:hover {\n",
              "      background-color: #E2EBFA;\n",
              "      box-shadow: 0px 1px 2px rgba(60, 64, 67, 0.3), 0px 1px 3px 1px rgba(60, 64, 67, 0.15);\n",
              "      fill: #174EA6;\n",
              "    }\n",
              "\n",
              "    .colab-df-buttons div {\n",
              "      margin-bottom: 4px;\n",
              "    }\n",
              "\n",
              "    [theme=dark] .colab-df-convert {\n",
              "      background-color: #3B4455;\n",
              "      fill: #D2E3FC;\n",
              "    }\n",
              "\n",
              "    [theme=dark] .colab-df-convert:hover {\n",
              "      background-color: #434B5C;\n",
              "      box-shadow: 0px 1px 3px 1px rgba(0, 0, 0, 0.15);\n",
              "      filter: drop-shadow(0px 1px 2px rgba(0, 0, 0, 0.3));\n",
              "      fill: #FFFFFF;\n",
              "    }\n",
              "  </style>\n",
              "\n",
              "    <script>\n",
              "      const buttonEl =\n",
              "        document.querySelector('#df-65179824-0d6f-4aa8-b937-f0854c84f765 button.colab-df-convert');\n",
              "      buttonEl.style.display =\n",
              "        google.colab.kernel.accessAllowed ? 'block' : 'none';\n",
              "\n",
              "      async function convertToInteractive(key) {\n",
              "        const element = document.querySelector('#df-65179824-0d6f-4aa8-b937-f0854c84f765');\n",
              "        const dataTable =\n",
              "          await google.colab.kernel.invokeFunction('convertToInteractive',\n",
              "                                                    [key], {});\n",
              "        if (!dataTable) return;\n",
              "\n",
              "        const docLinkHtml = 'Like what you see? Visit the ' +\n",
              "          '<a target=\"_blank\" href=https://colab.research.google.com/notebooks/data_table.ipynb>data table notebook</a>'\n",
              "          + ' to learn more about interactive tables.';\n",
              "        element.innerHTML = '';\n",
              "        dataTable['output_type'] = 'display_data';\n",
              "        await google.colab.output.renderOutput(dataTable, element);\n",
              "        const docLink = document.createElement('div');\n",
              "        docLink.innerHTML = docLinkHtml;\n",
              "        element.appendChild(docLink);\n",
              "      }\n",
              "    </script>\n",
              "  </div>\n",
              "\n",
              "\n",
              "<div id=\"df-a588d5a5-5d4f-462d-b9d6-cb45daa5a170\">\n",
              "  <button class=\"colab-df-quickchart\" onclick=\"quickchart('df-a588d5a5-5d4f-462d-b9d6-cb45daa5a170')\"\n",
              "            title=\"Suggest charts\"\n",
              "            style=\"display:none;\">\n",
              "\n",
              "<svg xmlns=\"http://www.w3.org/2000/svg\" height=\"24px\"viewBox=\"0 0 24 24\"\n",
              "     width=\"24px\">\n",
              "    <g>\n",
              "        <path d=\"M19 3H5c-1.1 0-2 .9-2 2v14c0 1.1.9 2 2 2h14c1.1 0 2-.9 2-2V5c0-1.1-.9-2-2-2zM9 17H7v-7h2v7zm4 0h-2V7h2v10zm4 0h-2v-4h2v4z\"/>\n",
              "    </g>\n",
              "</svg>\n",
              "  </button>\n",
              "\n",
              "<style>\n",
              "  .colab-df-quickchart {\n",
              "      --bg-color: #E8F0FE;\n",
              "      --fill-color: #1967D2;\n",
              "      --hover-bg-color: #E2EBFA;\n",
              "      --hover-fill-color: #174EA6;\n",
              "      --disabled-fill-color: #AAA;\n",
              "      --disabled-bg-color: #DDD;\n",
              "  }\n",
              "\n",
              "  [theme=dark] .colab-df-quickchart {\n",
              "      --bg-color: #3B4455;\n",
              "      --fill-color: #D2E3FC;\n",
              "      --hover-bg-color: #434B5C;\n",
              "      --hover-fill-color: #FFFFFF;\n",
              "      --disabled-bg-color: #3B4455;\n",
              "      --disabled-fill-color: #666;\n",
              "  }\n",
              "\n",
              "  .colab-df-quickchart {\n",
              "    background-color: var(--bg-color);\n",
              "    border: none;\n",
              "    border-radius: 50%;\n",
              "    cursor: pointer;\n",
              "    display: none;\n",
              "    fill: var(--fill-color);\n",
              "    height: 32px;\n",
              "    padding: 0;\n",
              "    width: 32px;\n",
              "  }\n",
              "\n",
              "  .colab-df-quickchart:hover {\n",
              "    background-color: var(--hover-bg-color);\n",
              "    box-shadow: 0 1px 2px rgba(60, 64, 67, 0.3), 0 1px 3px 1px rgba(60, 64, 67, 0.15);\n",
              "    fill: var(--button-hover-fill-color);\n",
              "  }\n",
              "\n",
              "  .colab-df-quickchart-complete:disabled,\n",
              "  .colab-df-quickchart-complete:disabled:hover {\n",
              "    background-color: var(--disabled-bg-color);\n",
              "    fill: var(--disabled-fill-color);\n",
              "    box-shadow: none;\n",
              "  }\n",
              "\n",
              "  .colab-df-spinner {\n",
              "    border: 2px solid var(--fill-color);\n",
              "    border-color: transparent;\n",
              "    border-bottom-color: var(--fill-color);\n",
              "    animation:\n",
              "      spin 1s steps(1) infinite;\n",
              "  }\n",
              "\n",
              "  @keyframes spin {\n",
              "    0% {\n",
              "      border-color: transparent;\n",
              "      border-bottom-color: var(--fill-color);\n",
              "      border-left-color: var(--fill-color);\n",
              "    }\n",
              "    20% {\n",
              "      border-color: transparent;\n",
              "      border-left-color: var(--fill-color);\n",
              "      border-top-color: var(--fill-color);\n",
              "    }\n",
              "    30% {\n",
              "      border-color: transparent;\n",
              "      border-left-color: var(--fill-color);\n",
              "      border-top-color: var(--fill-color);\n",
              "      border-right-color: var(--fill-color);\n",
              "    }\n",
              "    40% {\n",
              "      border-color: transparent;\n",
              "      border-right-color: var(--fill-color);\n",
              "      border-top-color: var(--fill-color);\n",
              "    }\n",
              "    60% {\n",
              "      border-color: transparent;\n",
              "      border-right-color: var(--fill-color);\n",
              "    }\n",
              "    80% {\n",
              "      border-color: transparent;\n",
              "      border-right-color: var(--fill-color);\n",
              "      border-bottom-color: var(--fill-color);\n",
              "    }\n",
              "    90% {\n",
              "      border-color: transparent;\n",
              "      border-bottom-color: var(--fill-color);\n",
              "    }\n",
              "  }\n",
              "</style>\n",
              "\n",
              "  <script>\n",
              "    async function quickchart(key) {\n",
              "      const quickchartButtonEl =\n",
              "        document.querySelector('#' + key + ' button');\n",
              "      quickchartButtonEl.disabled = true;  // To prevent multiple clicks.\n",
              "      quickchartButtonEl.classList.add('colab-df-spinner');\n",
              "      try {\n",
              "        const charts = await google.colab.kernel.invokeFunction(\n",
              "            'suggestCharts', [key], {});\n",
              "      } catch (error) {\n",
              "        console.error('Error during call to suggestCharts:', error);\n",
              "      }\n",
              "      quickchartButtonEl.classList.remove('colab-df-spinner');\n",
              "      quickchartButtonEl.classList.add('colab-df-quickchart-complete');\n",
              "    }\n",
              "    (() => {\n",
              "      let quickchartButtonEl =\n",
              "        document.querySelector('#df-a588d5a5-5d4f-462d-b9d6-cb45daa5a170 button');\n",
              "      quickchartButtonEl.style.display =\n",
              "        google.colab.kernel.accessAllowed ? 'block' : 'none';\n",
              "    })();\n",
              "  </script>\n",
              "</div>\n",
              "\n",
              "    </div>\n",
              "  </div>\n"
            ],
            "application/vnd.google.colaboratory.intrinsic+json": {
              "type": "dataframe",
              "variable_name": "df_symptoms"
            }
          },
          "metadata": {},
          "execution_count": 48
        }
      ]
    },
    {
      "cell_type": "code",
      "source": [
        "# prompt: what are the values of DIED\n",
        "\n",
        "df_combine_2021['DIED'].value_counts()\n"
      ],
      "metadata": {
        "id": "jc3D6-g5VIvg",
        "outputId": "92846bcd-071a-4c4a-e648-583625e0ce95",
        "colab": {
          "base_uri": "https://localhost:8080/"
        }
      },
      "execution_count": null,
      "outputs": [
        {
          "output_type": "execute_result",
          "data": {
            "text/plain": [
              "DIED\n",
              "Y    20392\n",
              "Name: count, dtype: int64"
            ]
          },
          "metadata": {},
          "execution_count": 51
        }
      ]
    },
    {
      "cell_type": "code",
      "source": [
        "# prompt: top 12 value counts\n",
        "\n",
        "df_symptoms['SYMPTOM1'].value_counts().head(12)\n"
      ],
      "metadata": {
        "colab": {
          "base_uri": "https://localhost:8080/"
        },
        "id": "yRVV4Q8iCib2",
        "outputId": "80c36913-8106-4b6f-e93b-2fb20f294475"
      },
      "execution_count": null,
      "outputs": [
        {
          "output_type": "execute_result",
          "data": {
            "text/plain": [
              "SYMPTOM1\n",
              "Chills                          56844\n",
              "Arthralgia                      43081\n",
              "Dizziness                       32838\n",
              "Fatigue                         29682\n",
              "COVID-19                        29674\n",
              "Headache                        27503\n",
              "Asthenia                        22798\n",
              "Pyrexia                         21639\n",
              "Injection site erythema         18272\n",
              "Pain                            16171\n",
              "Pain in extremity               16082\n",
              "Expired product administered    15008\n",
              "Name: count, dtype: int64"
            ]
          },
          "metadata": {},
          "execution_count": 51
        }
      ]
    },
    {
      "cell_type": "code",
      "source": [
        "df_symptoms['SYMPTOM1'].value_counts().head(12)"
      ],
      "metadata": {
        "colab": {
          "base_uri": "https://localhost:8080/"
        },
        "id": "_adgYFx60Wfs",
        "outputId": "f5b909ca-2ae4-4419-c63c-655e3423f3c0"
      },
      "execution_count": null,
      "outputs": [
        {
          "output_type": "execute_result",
          "data": {
            "text/plain": [
              "SYMPTOM1\n",
              "No adverse event           7112\n",
              "Chills                     6241\n",
              "Injection site erythema    5161\n",
              "Erythema                   4447\n",
              "Arthralgia                 3266\n",
              "Herpes zoster              3026\n",
              "Dizziness                  2620\n",
              "Pyrexia                    2616\n",
              "Injection site pain        2581\n",
              "Fatigue                    2418\n",
              "Asthenia                   2300\n",
              "Headache                   2239\n",
              "Name: count, dtype: int64"
            ]
          },
          "metadata": {},
          "execution_count": 174
        }
      ]
    },
    {
      "cell_type": "code",
      "source": [
        "# prompt: WHAT ARE TOP 10 MOST COMMON VALUE IN SYMPTOM1\n",
        "df_symptoms['SYMPTOM2'].value_counts().head(12)\n"
      ],
      "metadata": {
        "colab": {
          "base_uri": "https://localhost:8080/"
        },
        "id": "GXtWi6QX0zgG",
        "outputId": "c08826d3-c074-4076-a196-2b2b7a43b46d"
      },
      "execution_count": null,
      "outputs": [
        {
          "output_type": "execute_result",
          "data": {
            "text/plain": [
              "SYMPTOM2\n",
              "Product storage error      4849\n",
              "Injection site pain        3723\n",
              "Headache                   3505\n",
              "No adverse event           3231\n",
              "Fatigue                    3102\n",
              "Pain                       2966\n",
              "Pyrexia                    2656\n",
              "Pain in extremity          2617\n",
              "Chills                     2539\n",
              "Injection site erythema    2241\n",
              "Injection site swelling    2006\n",
              "Rash                       1809\n",
              "Name: count, dtype: int64"
            ]
          },
          "metadata": {},
          "execution_count": 175
        }
      ]
    },
    {
      "cell_type": "code",
      "source": [
        "df_symptoms.columns"
      ],
      "metadata": {
        "id": "VJW7ufXs9vtS",
        "outputId": "f369aa30-5ae7-4286-80b6-45eec1bcee48",
        "colab": {
          "base_uri": "https://localhost:8080/"
        }
      },
      "execution_count": null,
      "outputs": [
        {
          "output_type": "execute_result",
          "data": {
            "text/plain": [
              "Index(['VAERS_ID', 'SYMPTOM1', 'SYMPTOM2', 'SYMPTOM3', 'SYMPTOM4', 'SYMPTOM5'], dtype='object')"
            ]
          },
          "metadata": {},
          "execution_count": 98
        }
      ]
    },
    {
      "cell_type": "code",
      "source": [
        "# prompt: combine SYMPTOM1,SYMPTOM2 in one column\n",
        "\n",
        "df_symptoms['SYMPTOMS'] = df_symptoms['SYMPTOM1'].fillna('') + ',' + df_symptoms['SYMPTOM2'].fillna('')\n"
      ],
      "metadata": {
        "id": "_LTY9Z7vZgBU"
      },
      "execution_count": null,
      "outputs": []
    },
    {
      "cell_type": "code",
      "source": [
        "print(df_symptoms.columns)\n",
        "\n"
      ],
      "metadata": {
        "id": "xrCAZ9qwhuON",
        "outputId": "ad36b5c5-5b9b-4eb0-8557-571bfafbf5b4",
        "colab": {
          "base_uri": "https://localhost:8080/"
        }
      },
      "execution_count": null,
      "outputs": [
        {
          "output_type": "stream",
          "name": "stdout",
          "text": [
            "Index(['RECVDATE', 'STATE', 'AGE_YRS', 'CAGE_YR', 'CAGE_MO', 'SEX', 'RPT_DATE',\n",
            "       'SYMPTOM_TEXT', 'DIED', 'DATEDIED', 'L_THREAT', 'ER_VISIT', 'HOSPITAL',\n",
            "       'HOSPDAYS', 'X_STAY', 'DISABLE', 'RECOVD', 'VAX_DATE', 'ONSET_DATE',\n",
            "       'NUMDAYS', 'LAB_DATA', 'V_ADMINBY', 'V_FUNDBY', 'OTHER_MEDS', 'CUR_ILL',\n",
            "       'HISTORY', 'PRIOR_VAX', 'SPLTTYPE', 'FORM_VERS', 'TODAYS_DATE',\n",
            "       'BIRTH_DEFECT', 'OFC_VISIT', 'ER_ED_VISIT', 'ALLERGIES', 'VAX_TYPE',\n",
            "       'VAX_MANU', 'VAX_LOT', 'VAX_DOSE_SERIES', 'VAX_ROUTE', 'VAX_SITE',\n",
            "       'VAX_NAME', 'SYMPTOM1', 'SYMPTOM2', 'SYMPTOM3', 'SYMPTOM4', 'SYMPTOM5',\n",
            "       'SYMPTOM', 'SYMPTOMS'],\n",
            "      dtype='object')\n"
          ]
        }
      ]
    },
    {
      "cell_type": "code",
      "source": [
        "df_symptoms.info()\n"
      ],
      "metadata": {
        "id": "GQvSndpPecqv",
        "outputId": "4c630602-4bbc-4203-b6ff-67e768693253",
        "colab": {
          "base_uri": "https://localhost:8080/"
        }
      },
      "execution_count": null,
      "outputs": [
        {
          "output_type": "stream",
          "name": "stdout",
          "text": [
            "<class 'pandas.core.frame.DataFrame'>\n",
            "Index: 1070234 entries, 916600 to 2594447\n",
            "Data columns (total 48 columns):\n",
            " #   Column           Non-Null Count    Dtype  \n",
            "---  ------           --------------    -----  \n",
            " 0   RECVDATE         1070234 non-null  object \n",
            " 1   STATE            923390 non-null   object \n",
            " 2   AGE_YRS          975545 non-null   float64\n",
            " 3   CAGE_YR          881058 non-null   float64\n",
            " 4   CAGE_MO          8245 non-null     float64\n",
            " 5   SEX              1070234 non-null  object \n",
            " 6   RPT_DATE         1293 non-null     object \n",
            " 7   SYMPTOM_TEXT     1069604 non-null  object \n",
            " 8   DIED             20392 non-null    object \n",
            " 9   DATEDIED         18847 non-null    object \n",
            " 10  L_THREAT         26261 non-null    object \n",
            " 11  ER_VISIT         192 non-null      object \n",
            " 12  HOSPITAL         112784 non-null   object \n",
            " 13  HOSPDAYS         80015 non-null    float64\n",
            " 14  X_STAY           771 non-null      object \n",
            " 15  DISABLE          27298 non-null    object \n",
            " 16  RECOVD           977511 non-null   object \n",
            " 17  VAX_DATE         1003370 non-null  object \n",
            " 18  ONSET_DATE       992979 non-null   object \n",
            " 19  NUMDAYS          952165 non-null   float64\n",
            " 20  LAB_DATA         412647 non-null   object \n",
            " 21  V_ADMINBY        1070234 non-null  object \n",
            " 22  V_FUNDBY         1384 non-null     object \n",
            " 23  OTHER_MEDS       580850 non-null   object \n",
            " 24  CUR_ILL          328374 non-null   object \n",
            " 25  HISTORY          581399 non-null   object \n",
            " 26  PRIOR_VAX        58874 non-null    object \n",
            " 27  SPLTTYPE         288939 non-null   object \n",
            " 28  FORM_VERS        1070234 non-null  int64  \n",
            " 29  TODAYS_DATE      1060970 non-null  object \n",
            " 30  BIRTH_DEFECT     905 non-null      object \n",
            " 31  OFC_VISIT        245337 non-null   object \n",
            " 32  ER_ED_VISIT      173874 non-null   object \n",
            " 33  ALLERGIES        471884 non-null   object \n",
            " 34  VAX_TYPE         1070234 non-null  object \n",
            " 35  VAX_MANU         1070234 non-null  object \n",
            " 36  VAX_LOT          754686 non-null   object \n",
            " 37  VAX_DOSE_SERIES  1064326 non-null  object \n",
            " 38  VAX_ROUTE        827262 non-null   object \n",
            " 39  VAX_SITE         796825 non-null   object \n",
            " 40  VAX_NAME         1070234 non-null  object \n",
            " 41  SYMPTOM1         1070234 non-null  object \n",
            " 42  SYMPTOM2         833036 non-null   object \n",
            " 43  SYMPTOM3         637884 non-null   object \n",
            " 44  SYMPTOM4         486437 non-null   object \n",
            " 45  SYMPTOM5         365460 non-null   object \n",
            " 46  SYMPTOM          1070234 non-null  object \n",
            " 47  SYMPTOMS         1070234 non-null  object \n",
            "dtypes: float64(5), int64(1), object(42)\n",
            "memory usage: 400.1+ MB\n"
          ]
        }
      ]
    },
    {
      "cell_type": "code",
      "source": [
        "# prompt: how many people DIED by sex\n",
        "\n",
        "died_by_sex = df_combine_2021.groupby('SEX')['DIED'].value_counts()\n",
        "print(died_by_sex)\n"
      ],
      "metadata": {
        "id": "nTYr0FNta1BW",
        "outputId": "7cd4c41b-ee82-4c70-8c51-9e517becf483",
        "colab": {
          "base_uri": "https://localhost:8080/"
        }
      },
      "execution_count": null,
      "outputs": [
        {
          "output_type": "stream",
          "name": "stdout",
          "text": [
            "SEX  DIED\n",
            "F    Y        8105\n",
            "M    Y       11743\n",
            "U    Y         544\n",
            "Name: count, dtype: int64\n"
          ]
        }
      ]
    },
    {
      "cell_type": "code",
      "source": [
        "# prompt: count SYMPTOM1\n",
        "\n",
        "countSymtoms1=df_combine_2021['SYMPTOM1'].value_counts().head(10)\n",
        "print(countSymtoms1)\n"
      ],
      "metadata": {
        "id": "RgmjQ0LypYBH",
        "colab": {
          "base_uri": "https://localhost:8080/"
        },
        "outputId": "29ec62b6-8967-4a9c-d69b-1c88c1fa3653"
      },
      "execution_count": null,
      "outputs": [
        {
          "output_type": "stream",
          "name": "stdout",
          "text": [
            "SYMPTOM1\n",
            "Chills                     56844\n",
            "Arthralgia                 43081\n",
            "Dizziness                  32838\n",
            "Fatigue                    29682\n",
            "COVID-19                   29674\n",
            "Headache                   27503\n",
            "Asthenia                   22798\n",
            "Pyrexia                    21639\n",
            "Injection site erythema    18272\n",
            "Pain                       16171\n",
            "Name: count, dtype: int64\n"
          ]
        }
      ]
    },
    {
      "cell_type": "code",
      "source": [
        "# prompt: what us the most common symtom vaccine manu\n",
        "\n",
        "most_common_symptom = df_combine_2021['SYMPTOM1'].mode()[0]\n",
        "print(f\"The most common symptom is: {most_common_symptom}\")\n"
      ],
      "metadata": {
        "id": "bzkVCk_qpYEw",
        "colab": {
          "base_uri": "https://localhost:8080/"
        },
        "outputId": "fae59944-d662-4328-e85c-4a7b20d5a2ef"
      },
      "execution_count": null,
      "outputs": [
        {
          "output_type": "stream",
          "name": "stdout",
          "text": [
            "The most common symptom is: Chills\n"
          ]
        }
      ]
    },
    {
      "cell_type": "code",
      "source": [],
      "metadata": {
        "id": "5hZfd_ywpYI4"
      },
      "execution_count": null,
      "outputs": []
    },
    {
      "cell_type": "code",
      "source": [],
      "metadata": {
        "id": "rR_SvDKlpYMi"
      },
      "execution_count": null,
      "outputs": []
    },
    {
      "cell_type": "code",
      "source": [],
      "metadata": {
        "id": "0LEL-atbpYQL"
      },
      "execution_count": null,
      "outputs": []
    },
    {
      "cell_type": "code",
      "source": [],
      "metadata": {
        "id": "5WtmwVhppYT0"
      },
      "execution_count": null,
      "outputs": []
    }
  ]
}